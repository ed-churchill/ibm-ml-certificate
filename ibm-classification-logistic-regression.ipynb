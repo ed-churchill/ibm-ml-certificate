{
 "cells": [
  {
   "cell_type": "markdown",
   "id": "1f549178",
   "metadata": {
    "papermill": {
     "duration": 0.006706,
     "end_time": "2024-06-02T11:55:42.210915",
     "exception": false,
     "start_time": "2024-06-02T11:55:42.204209",
     "status": "completed"
    },
    "tags": []
   },
   "source": [
    "# Imports"
   ]
  },
  {
   "cell_type": "code",
   "execution_count": 1,
   "id": "4432be2e",
   "metadata": {
    "execution": {
     "iopub.execute_input": "2024-06-02T11:55:42.224967Z",
     "iopub.status.busy": "2024-06-02T11:55:42.224558Z",
     "iopub.status.idle": "2024-06-02T11:55:43.148163Z",
     "shell.execute_reply": "2024-06-02T11:55:43.147167Z"
    },
    "papermill": {
     "duration": 0.934061,
     "end_time": "2024-06-02T11:55:43.151267",
     "exception": false,
     "start_time": "2024-06-02T11:55:42.217206",
     "status": "completed"
    },
    "tags": []
   },
   "outputs": [],
   "source": [
    "import pandas as pd\n",
    "import matplotlib.pyplot as plt"
   ]
  },
  {
   "cell_type": "markdown",
   "id": "715f6b78",
   "metadata": {
    "papermill": {
     "duration": 0.005874,
     "end_time": "2024-06-02T11:55:43.163388",
     "exception": false,
     "start_time": "2024-06-02T11:55:43.157514",
     "status": "completed"
    },
    "tags": []
   },
   "source": [
    "# Read Data"
   ]
  },
  {
   "cell_type": "code",
   "execution_count": 2,
   "id": "64ae6cee",
   "metadata": {
    "execution": {
     "iopub.execute_input": "2024-06-02T11:55:43.177334Z",
     "iopub.status.busy": "2024-06-02T11:55:43.176821Z",
     "iopub.status.idle": "2024-06-02T11:56:38.788869Z",
     "shell.execute_reply": "2024-06-02T11:56:38.787646Z"
    },
    "papermill": {
     "duration": 55.622324,
     "end_time": "2024-06-02T11:56:38.791849",
     "exception": false,
     "start_time": "2024-06-02T11:55:43.169525",
     "status": "completed"
    },
    "tags": []
   },
   "outputs": [],
   "source": [
    "X_train = pd.read_csv(\"/kaggle/input/ibm-classification-feature-selection/X_train_normalized.csv\", index_col=[0])\n",
    "X_test = pd.read_csv(\"/kaggle/input/ibm-classification-feature-selection/X_test_normalized.csv\", index_col=[0])\n",
    "y_train = pd.read_csv(\"/kaggle/input/ibm-classification-feature-selection/y_train.csv\", index_col=[0])\n",
    "y_test = pd.read_csv(\"/kaggle/input/ibm-classification-feature-selection/y_test.csv\", index_col=[0]).reset_index(drop=True)"
   ]
  },
  {
   "cell_type": "code",
   "execution_count": 3,
   "id": "02483e7f",
   "metadata": {
    "execution": {
     "iopub.execute_input": "2024-06-02T11:56:38.806632Z",
     "iopub.status.busy": "2024-06-02T11:56:38.805652Z",
     "iopub.status.idle": "2024-06-02T11:56:38.840226Z",
     "shell.execute_reply": "2024-06-02T11:56:38.839102Z"
    },
    "papermill": {
     "duration": 0.044546,
     "end_time": "2024-06-02T11:56:38.842757",
     "exception": false,
     "start_time": "2024-06-02T11:56:38.798211",
     "status": "completed"
    },
    "tags": []
   },
   "outputs": [
    {
     "data": {
      "text/html": [
       "<div>\n",
       "<style scoped>\n",
       "    .dataframe tbody tr th:only-of-type {\n",
       "        vertical-align: middle;\n",
       "    }\n",
       "\n",
       "    .dataframe tbody tr th {\n",
       "        vertical-align: top;\n",
       "    }\n",
       "\n",
       "    .dataframe thead th {\n",
       "        text-align: right;\n",
       "    }\n",
       "</style>\n",
       "<table border=\"1\" class=\"dataframe\">\n",
       "  <thead>\n",
       "    <tr style=\"text-align: right;\">\n",
       "      <th></th>\n",
       "      <th>Symbol</th>\n",
       "      <th>Volume</th>\n",
       "      <th>Sector_Basic Materials</th>\n",
       "      <th>Sector_Communication Services</th>\n",
       "      <th>Sector_Consumer Cyclical</th>\n",
       "      <th>Sector_Consumer Defensive</th>\n",
       "      <th>Sector_Energy</th>\n",
       "      <th>Sector_Financial Services</th>\n",
       "      <th>Sector_Healthcare</th>\n",
       "      <th>Sector_Industrials</th>\n",
       "      <th>...</th>\n",
       "      <th>Low 60-Day Shifted Differenced</th>\n",
       "      <th>Open 60-Day Shifted Differenced</th>\n",
       "      <th>Volume 26-Day SMA Differenced</th>\n",
       "      <th>Adj Close 7-Day Upper Bollinger Band Differenced</th>\n",
       "      <th>Adj Close 7-Day Lower Bollinger Band Differenced</th>\n",
       "      <th>True Range 26-Day SMA Differenced</th>\n",
       "      <th>Adj Close Differenced</th>\n",
       "      <th>High Differenced</th>\n",
       "      <th>Low Differenced</th>\n",
       "      <th>Open Differenced</th>\n",
       "    </tr>\n",
       "  </thead>\n",
       "  <tbody>\n",
       "    <tr>\n",
       "      <th>0</th>\n",
       "      <td>-1.439324</td>\n",
       "      <td>-0.326871</td>\n",
       "      <td>-0.21136</td>\n",
       "      <td>-0.21136</td>\n",
       "      <td>-0.356345</td>\n",
       "      <td>-0.279992</td>\n",
       "      <td>-0.222173</td>\n",
       "      <td>-0.394553</td>\n",
       "      <td>-0.387284</td>\n",
       "      <td>-0.412467</td>\n",
       "      <td>...</td>\n",
       "      <td>-0.030577</td>\n",
       "      <td>-0.068139</td>\n",
       "      <td>-0.006229</td>\n",
       "      <td>-0.002604</td>\n",
       "      <td>0.005519</td>\n",
       "      <td>0.104504</td>\n",
       "      <td>-0.020330</td>\n",
       "      <td>0.008943</td>\n",
       "      <td>0.015877</td>\n",
       "      <td>0.062622</td>\n",
       "    </tr>\n",
       "    <tr>\n",
       "      <th>1</th>\n",
       "      <td>-1.069061</td>\n",
       "      <td>-0.344648</td>\n",
       "      <td>-0.21136</td>\n",
       "      <td>-0.21136</td>\n",
       "      <td>-0.356345</td>\n",
       "      <td>-0.279992</td>\n",
       "      <td>-0.222173</td>\n",
       "      <td>-0.394553</td>\n",
       "      <td>2.582087</td>\n",
       "      <td>-0.412467</td>\n",
       "      <td>...</td>\n",
       "      <td>0.048578</td>\n",
       "      <td>0.145553</td>\n",
       "      <td>0.020691</td>\n",
       "      <td>0.023690</td>\n",
       "      <td>0.018514</td>\n",
       "      <td>-0.090630</td>\n",
       "      <td>-0.107768</td>\n",
       "      <td>0.032258</td>\n",
       "      <td>0.030478</td>\n",
       "      <td>0.096788</td>\n",
       "    </tr>\n",
       "    <tr>\n",
       "      <th>2</th>\n",
       "      <td>1.641263</td>\n",
       "      <td>-0.295005</td>\n",
       "      <td>-0.21136</td>\n",
       "      <td>-0.21136</td>\n",
       "      <td>-0.356345</td>\n",
       "      <td>-0.279992</td>\n",
       "      <td>-0.222173</td>\n",
       "      <td>-0.394553</td>\n",
       "      <td>-0.387284</td>\n",
       "      <td>-0.412467</td>\n",
       "      <td>...</td>\n",
       "      <td>0.165427</td>\n",
       "      <td>0.216785</td>\n",
       "      <td>0.006646</td>\n",
       "      <td>0.188618</td>\n",
       "      <td>-0.086104</td>\n",
       "      <td>0.105746</td>\n",
       "      <td>0.125379</td>\n",
       "      <td>0.102205</td>\n",
       "      <td>0.158246</td>\n",
       "      <td>0.137784</td>\n",
       "    </tr>\n",
       "    <tr>\n",
       "      <th>3</th>\n",
       "      <td>-0.343346</td>\n",
       "      <td>0.285874</td>\n",
       "      <td>-0.21136</td>\n",
       "      <td>-0.21136</td>\n",
       "      <td>-0.356345</td>\n",
       "      <td>-0.279992</td>\n",
       "      <td>-0.222173</td>\n",
       "      <td>-0.394553</td>\n",
       "      <td>2.582087</td>\n",
       "      <td>-0.412467</td>\n",
       "      <td>...</td>\n",
       "      <td>0.097579</td>\n",
       "      <td>0.010215</td>\n",
       "      <td>-0.006915</td>\n",
       "      <td>0.102354</td>\n",
       "      <td>0.070641</td>\n",
       "      <td>0.091515</td>\n",
       "      <td>0.136523</td>\n",
       "      <td>0.094434</td>\n",
       "      <td>0.004925</td>\n",
       "      <td>0.076288</td>\n",
       "    </tr>\n",
       "    <tr>\n",
       "      <th>4</th>\n",
       "      <td>1.256190</td>\n",
       "      <td>-0.328472</td>\n",
       "      <td>-0.21136</td>\n",
       "      <td>-0.21136</td>\n",
       "      <td>-0.356345</td>\n",
       "      <td>-0.279992</td>\n",
       "      <td>-0.222173</td>\n",
       "      <td>2.534516</td>\n",
       "      <td>-0.387284</td>\n",
       "      <td>-0.412467</td>\n",
       "      <td>...</td>\n",
       "      <td>0.433048</td>\n",
       "      <td>0.448281</td>\n",
       "      <td>0.008337</td>\n",
       "      <td>1.265493</td>\n",
       "      <td>0.427053</td>\n",
       "      <td>-1.099516</td>\n",
       "      <td>0.521058</td>\n",
       "      <td>0.755054</td>\n",
       "      <td>0.866425</td>\n",
       "      <td>0.817676</td>\n",
       "    </tr>\n",
       "  </tbody>\n",
       "</table>\n",
       "<p>5 rows × 124 columns</p>\n",
       "</div>"
      ],
      "text/plain": [
       "     Symbol    Volume  Sector_Basic Materials  Sector_Communication Services  \\\n",
       "0 -1.439324 -0.326871                -0.21136                       -0.21136   \n",
       "1 -1.069061 -0.344648                -0.21136                       -0.21136   \n",
       "2  1.641263 -0.295005                -0.21136                       -0.21136   \n",
       "3 -0.343346  0.285874                -0.21136                       -0.21136   \n",
       "4  1.256190 -0.328472                -0.21136                       -0.21136   \n",
       "\n",
       "   Sector_Consumer Cyclical  Sector_Consumer Defensive  Sector_Energy  \\\n",
       "0                 -0.356345                  -0.279992      -0.222173   \n",
       "1                 -0.356345                  -0.279992      -0.222173   \n",
       "2                 -0.356345                  -0.279992      -0.222173   \n",
       "3                 -0.356345                  -0.279992      -0.222173   \n",
       "4                 -0.356345                  -0.279992      -0.222173   \n",
       "\n",
       "   Sector_Financial Services  Sector_Healthcare  Sector_Industrials  ...  \\\n",
       "0                  -0.394553          -0.387284           -0.412467  ...   \n",
       "1                  -0.394553           2.582087           -0.412467  ...   \n",
       "2                  -0.394553          -0.387284           -0.412467  ...   \n",
       "3                  -0.394553           2.582087           -0.412467  ...   \n",
       "4                   2.534516          -0.387284           -0.412467  ...   \n",
       "\n",
       "   Low 60-Day Shifted Differenced  Open 60-Day Shifted Differenced  \\\n",
       "0                       -0.030577                        -0.068139   \n",
       "1                        0.048578                         0.145553   \n",
       "2                        0.165427                         0.216785   \n",
       "3                        0.097579                         0.010215   \n",
       "4                        0.433048                         0.448281   \n",
       "\n",
       "   Volume 26-Day SMA Differenced  \\\n",
       "0                      -0.006229   \n",
       "1                       0.020691   \n",
       "2                       0.006646   \n",
       "3                      -0.006915   \n",
       "4                       0.008337   \n",
       "\n",
       "   Adj Close 7-Day Upper Bollinger Band Differenced  \\\n",
       "0                                         -0.002604   \n",
       "1                                          0.023690   \n",
       "2                                          0.188618   \n",
       "3                                          0.102354   \n",
       "4                                          1.265493   \n",
       "\n",
       "   Adj Close 7-Day Lower Bollinger Band Differenced  \\\n",
       "0                                          0.005519   \n",
       "1                                          0.018514   \n",
       "2                                         -0.086104   \n",
       "3                                          0.070641   \n",
       "4                                          0.427053   \n",
       "\n",
       "   True Range 26-Day SMA Differenced  Adj Close Differenced  High Differenced  \\\n",
       "0                           0.104504              -0.020330          0.008943   \n",
       "1                          -0.090630              -0.107768          0.032258   \n",
       "2                           0.105746               0.125379          0.102205   \n",
       "3                           0.091515               0.136523          0.094434   \n",
       "4                          -1.099516               0.521058          0.755054   \n",
       "\n",
       "   Low Differenced  Open Differenced  \n",
       "0         0.015877          0.062622  \n",
       "1         0.030478          0.096788  \n",
       "2         0.158246          0.137784  \n",
       "3         0.004925          0.076288  \n",
       "4         0.866425          0.817676  \n",
       "\n",
       "[5 rows x 124 columns]"
      ]
     },
     "execution_count": 3,
     "metadata": {},
     "output_type": "execute_result"
    }
   ],
   "source": [
    "X_train.head(5)"
   ]
  },
  {
   "cell_type": "code",
   "execution_count": 4,
   "id": "08030e67",
   "metadata": {
    "execution": {
     "iopub.execute_input": "2024-06-02T11:56:38.857729Z",
     "iopub.status.busy": "2024-06-02T11:56:38.857330Z",
     "iopub.status.idle": "2024-06-02T11:56:38.884269Z",
     "shell.execute_reply": "2024-06-02T11:56:38.883162Z"
    },
    "papermill": {
     "duration": 0.03719,
     "end_time": "2024-06-02T11:56:38.886572",
     "exception": false,
     "start_time": "2024-06-02T11:56:38.849382",
     "status": "completed"
    },
    "tags": []
   },
   "outputs": [
    {
     "data": {
      "text/html": [
       "<div>\n",
       "<style scoped>\n",
       "    .dataframe tbody tr th:only-of-type {\n",
       "        vertical-align: middle;\n",
       "    }\n",
       "\n",
       "    .dataframe tbody tr th {\n",
       "        vertical-align: top;\n",
       "    }\n",
       "\n",
       "    .dataframe thead th {\n",
       "        text-align: right;\n",
       "    }\n",
       "</style>\n",
       "<table border=\"1\" class=\"dataframe\">\n",
       "  <thead>\n",
       "    <tr style=\"text-align: right;\">\n",
       "      <th></th>\n",
       "      <th>Symbol</th>\n",
       "      <th>Volume</th>\n",
       "      <th>Sector_Basic Materials</th>\n",
       "      <th>Sector_Communication Services</th>\n",
       "      <th>Sector_Consumer Cyclical</th>\n",
       "      <th>Sector_Consumer Defensive</th>\n",
       "      <th>Sector_Energy</th>\n",
       "      <th>Sector_Financial Services</th>\n",
       "      <th>Sector_Healthcare</th>\n",
       "      <th>Sector_Industrials</th>\n",
       "      <th>...</th>\n",
       "      <th>Low 60-Day Shifted Differenced</th>\n",
       "      <th>Open 60-Day Shifted Differenced</th>\n",
       "      <th>Volume 26-Day SMA Differenced</th>\n",
       "      <th>Adj Close 7-Day Upper Bollinger Band Differenced</th>\n",
       "      <th>Adj Close 7-Day Lower Bollinger Band Differenced</th>\n",
       "      <th>True Range 26-Day SMA Differenced</th>\n",
       "      <th>Adj Close Differenced</th>\n",
       "      <th>High Differenced</th>\n",
       "      <th>Low Differenced</th>\n",
       "      <th>Open Differenced</th>\n",
       "    </tr>\n",
       "  </thead>\n",
       "  <tbody>\n",
       "    <tr>\n",
       "      <th>0</th>\n",
       "      <td>-1.054250</td>\n",
       "      <td>-0.283809</td>\n",
       "      <td>-0.21136</td>\n",
       "      <td>-0.21136</td>\n",
       "      <td>-0.356345</td>\n",
       "      <td>-0.279992</td>\n",
       "      <td>-0.222173</td>\n",
       "      <td>-0.394553</td>\n",
       "      <td>-0.387284</td>\n",
       "      <td>2.424439</td>\n",
       "      <td>...</td>\n",
       "      <td>0.067425</td>\n",
       "      <td>-0.381554</td>\n",
       "      <td>0.005334</td>\n",
       "      <td>0.193442</td>\n",
       "      <td>-0.503912</td>\n",
       "      <td>-0.458573</td>\n",
       "      <td>-0.961706</td>\n",
       "      <td>-0.123181</td>\n",
       "      <td>-0.779922</td>\n",
       "      <td>0.216366</td>\n",
       "    </tr>\n",
       "    <tr>\n",
       "      <th>1</th>\n",
       "      <td>0.449017</td>\n",
       "      <td>-0.359859</td>\n",
       "      <td>-0.21136</td>\n",
       "      <td>-0.21136</td>\n",
       "      <td>-0.356345</td>\n",
       "      <td>-0.279992</td>\n",
       "      <td>-0.222173</td>\n",
       "      <td>2.534516</td>\n",
       "      <td>-0.387284</td>\n",
       "      <td>-0.412467</td>\n",
       "      <td>...</td>\n",
       "      <td>0.794898</td>\n",
       "      <td>-0.085951</td>\n",
       "      <td>0.014579</td>\n",
       "      <td>-0.116220</td>\n",
       "      <td>-0.000128</td>\n",
       "      <td>-0.614296</td>\n",
       "      <td>-0.682605</td>\n",
       "      <td>0.832754</td>\n",
       "      <td>-0.079040</td>\n",
       "      <td>1.432648</td>\n",
       "    </tr>\n",
       "    <tr>\n",
       "      <th>2</th>\n",
       "      <td>1.419105</td>\n",
       "      <td>-0.198809</td>\n",
       "      <td>-0.21136</td>\n",
       "      <td>-0.21136</td>\n",
       "      <td>-0.356345</td>\n",
       "      <td>-0.279992</td>\n",
       "      <td>-0.222173</td>\n",
       "      <td>-0.394553</td>\n",
       "      <td>-0.387284</td>\n",
       "      <td>-0.412467</td>\n",
       "      <td>...</td>\n",
       "      <td>1.507302</td>\n",
       "      <td>0.783077</td>\n",
       "      <td>0.128148</td>\n",
       "      <td>0.093043</td>\n",
       "      <td>-1.302666</td>\n",
       "      <td>1.902798</td>\n",
       "      <td>-4.471950</td>\n",
       "      <td>1.435083</td>\n",
       "      <td>-4.328154</td>\n",
       "      <td>1.015831</td>\n",
       "    </tr>\n",
       "    <tr>\n",
       "      <th>3</th>\n",
       "      <td>-1.261598</td>\n",
       "      <td>-0.272044</td>\n",
       "      <td>-0.21136</td>\n",
       "      <td>-0.21136</td>\n",
       "      <td>-0.356345</td>\n",
       "      <td>-0.279992</td>\n",
       "      <td>-0.222173</td>\n",
       "      <td>-0.394553</td>\n",
       "      <td>-0.387284</td>\n",
       "      <td>-0.412467</td>\n",
       "      <td>...</td>\n",
       "      <td>0.809979</td>\n",
       "      <td>-0.417161</td>\n",
       "      <td>0.149796</td>\n",
       "      <td>4.610485</td>\n",
       "      <td>-6.956384</td>\n",
       "      <td>10.022441</td>\n",
       "      <td>-10.617055</td>\n",
       "      <td>-3.111471</td>\n",
       "      <td>-14.261016</td>\n",
       "      <td>-12.872375</td>\n",
       "    </tr>\n",
       "    <tr>\n",
       "      <th>4</th>\n",
       "      <td>-0.128593</td>\n",
       "      <td>-0.255868</td>\n",
       "      <td>-0.21136</td>\n",
       "      <td>-0.21136</td>\n",
       "      <td>2.806268</td>\n",
       "      <td>-0.279992</td>\n",
       "      <td>-0.222173</td>\n",
       "      <td>-0.394553</td>\n",
       "      <td>-0.387284</td>\n",
       "      <td>-0.412467</td>\n",
       "      <td>...</td>\n",
       "      <td>0.150350</td>\n",
       "      <td>-1.781241</td>\n",
       "      <td>0.070288</td>\n",
       "      <td>0.030323</td>\n",
       "      <td>0.063262</td>\n",
       "      <td>0.121352</td>\n",
       "      <td>-0.433286</td>\n",
       "      <td>-0.263072</td>\n",
       "      <td>-0.294412</td>\n",
       "      <td>0.025041</td>\n",
       "    </tr>\n",
       "  </tbody>\n",
       "</table>\n",
       "<p>5 rows × 124 columns</p>\n",
       "</div>"
      ],
      "text/plain": [
       "     Symbol    Volume  Sector_Basic Materials  Sector_Communication Services  \\\n",
       "0 -1.054250 -0.283809                -0.21136                       -0.21136   \n",
       "1  0.449017 -0.359859                -0.21136                       -0.21136   \n",
       "2  1.419105 -0.198809                -0.21136                       -0.21136   \n",
       "3 -1.261598 -0.272044                -0.21136                       -0.21136   \n",
       "4 -0.128593 -0.255868                -0.21136                       -0.21136   \n",
       "\n",
       "   Sector_Consumer Cyclical  Sector_Consumer Defensive  Sector_Energy  \\\n",
       "0                 -0.356345                  -0.279992      -0.222173   \n",
       "1                 -0.356345                  -0.279992      -0.222173   \n",
       "2                 -0.356345                  -0.279992      -0.222173   \n",
       "3                 -0.356345                  -0.279992      -0.222173   \n",
       "4                  2.806268                  -0.279992      -0.222173   \n",
       "\n",
       "   Sector_Financial Services  Sector_Healthcare  Sector_Industrials  ...  \\\n",
       "0                  -0.394553          -0.387284            2.424439  ...   \n",
       "1                   2.534516          -0.387284           -0.412467  ...   \n",
       "2                  -0.394553          -0.387284           -0.412467  ...   \n",
       "3                  -0.394553          -0.387284           -0.412467  ...   \n",
       "4                  -0.394553          -0.387284           -0.412467  ...   \n",
       "\n",
       "   Low 60-Day Shifted Differenced  Open 60-Day Shifted Differenced  \\\n",
       "0                        0.067425                        -0.381554   \n",
       "1                        0.794898                        -0.085951   \n",
       "2                        1.507302                         0.783077   \n",
       "3                        0.809979                        -0.417161   \n",
       "4                        0.150350                        -1.781241   \n",
       "\n",
       "   Volume 26-Day SMA Differenced  \\\n",
       "0                       0.005334   \n",
       "1                       0.014579   \n",
       "2                       0.128148   \n",
       "3                       0.149796   \n",
       "4                       0.070288   \n",
       "\n",
       "   Adj Close 7-Day Upper Bollinger Band Differenced  \\\n",
       "0                                          0.193442   \n",
       "1                                         -0.116220   \n",
       "2                                          0.093043   \n",
       "3                                          4.610485   \n",
       "4                                          0.030323   \n",
       "\n",
       "   Adj Close 7-Day Lower Bollinger Band Differenced  \\\n",
       "0                                         -0.503912   \n",
       "1                                         -0.000128   \n",
       "2                                         -1.302666   \n",
       "3                                         -6.956384   \n",
       "4                                          0.063262   \n",
       "\n",
       "   True Range 26-Day SMA Differenced  Adj Close Differenced  High Differenced  \\\n",
       "0                          -0.458573              -0.961706         -0.123181   \n",
       "1                          -0.614296              -0.682605          0.832754   \n",
       "2                           1.902798              -4.471950          1.435083   \n",
       "3                          10.022441             -10.617055         -3.111471   \n",
       "4                           0.121352              -0.433286         -0.263072   \n",
       "\n",
       "   Low Differenced  Open Differenced  \n",
       "0        -0.779922          0.216366  \n",
       "1        -0.079040          1.432648  \n",
       "2        -4.328154          1.015831  \n",
       "3       -14.261016        -12.872375  \n",
       "4        -0.294412          0.025041  \n",
       "\n",
       "[5 rows x 124 columns]"
      ]
     },
     "execution_count": 4,
     "metadata": {},
     "output_type": "execute_result"
    }
   ],
   "source": [
    "X_test.head(5)"
   ]
  },
  {
   "cell_type": "code",
   "execution_count": 5,
   "id": "e6b0bdd1",
   "metadata": {
    "execution": {
     "iopub.execute_input": "2024-06-02T11:56:38.902794Z",
     "iopub.status.busy": "2024-06-02T11:56:38.902099Z",
     "iopub.status.idle": "2024-06-02T11:56:38.912583Z",
     "shell.execute_reply": "2024-06-02T11:56:38.911282Z"
    },
    "papermill": {
     "duration": 0.021576,
     "end_time": "2024-06-02T11:56:38.915326",
     "exception": false,
     "start_time": "2024-06-02T11:56:38.893750",
     "status": "completed"
    },
    "tags": []
   },
   "outputs": [
    {
     "data": {
      "text/html": [
       "<div>\n",
       "<style scoped>\n",
       "    .dataframe tbody tr th:only-of-type {\n",
       "        vertical-align: middle;\n",
       "    }\n",
       "\n",
       "    .dataframe tbody tr th {\n",
       "        vertical-align: top;\n",
       "    }\n",
       "\n",
       "    .dataframe thead th {\n",
       "        text-align: right;\n",
       "    }\n",
       "</style>\n",
       "<table border=\"1\" class=\"dataframe\">\n",
       "  <thead>\n",
       "    <tr style=\"text-align: right;\">\n",
       "      <th></th>\n",
       "      <th>1-week Forward Return Sign</th>\n",
       "    </tr>\n",
       "  </thead>\n",
       "  <tbody>\n",
       "    <tr>\n",
       "      <th>0</th>\n",
       "      <td>-1.0</td>\n",
       "    </tr>\n",
       "    <tr>\n",
       "      <th>1</th>\n",
       "      <td>-1.0</td>\n",
       "    </tr>\n",
       "    <tr>\n",
       "      <th>2</th>\n",
       "      <td>-1.0</td>\n",
       "    </tr>\n",
       "    <tr>\n",
       "      <th>3</th>\n",
       "      <td>-1.0</td>\n",
       "    </tr>\n",
       "    <tr>\n",
       "      <th>4</th>\n",
       "      <td>1.0</td>\n",
       "    </tr>\n",
       "  </tbody>\n",
       "</table>\n",
       "</div>"
      ],
      "text/plain": [
       "   1-week Forward Return Sign\n",
       "0                        -1.0\n",
       "1                        -1.0\n",
       "2                        -1.0\n",
       "3                        -1.0\n",
       "4                         1.0"
      ]
     },
     "execution_count": 5,
     "metadata": {},
     "output_type": "execute_result"
    }
   ],
   "source": [
    "y_train.head(5)"
   ]
  },
  {
   "cell_type": "code",
   "execution_count": 6,
   "id": "00698f88",
   "metadata": {
    "execution": {
     "iopub.execute_input": "2024-06-02T11:56:38.932323Z",
     "iopub.status.busy": "2024-06-02T11:56:38.931764Z",
     "iopub.status.idle": "2024-06-02T11:56:38.943194Z",
     "shell.execute_reply": "2024-06-02T11:56:38.942025Z"
    },
    "papermill": {
     "duration": 0.023003,
     "end_time": "2024-06-02T11:56:38.945583",
     "exception": false,
     "start_time": "2024-06-02T11:56:38.922580",
     "status": "completed"
    },
    "tags": []
   },
   "outputs": [
    {
     "data": {
      "text/html": [
       "<div>\n",
       "<style scoped>\n",
       "    .dataframe tbody tr th:only-of-type {\n",
       "        vertical-align: middle;\n",
       "    }\n",
       "\n",
       "    .dataframe tbody tr th {\n",
       "        vertical-align: top;\n",
       "    }\n",
       "\n",
       "    .dataframe thead th {\n",
       "        text-align: right;\n",
       "    }\n",
       "</style>\n",
       "<table border=\"1\" class=\"dataframe\">\n",
       "  <thead>\n",
       "    <tr style=\"text-align: right;\">\n",
       "      <th></th>\n",
       "      <th>1-week Forward Return Sign</th>\n",
       "    </tr>\n",
       "  </thead>\n",
       "  <tbody>\n",
       "    <tr>\n",
       "      <th>0</th>\n",
       "      <td>1.0</td>\n",
       "    </tr>\n",
       "    <tr>\n",
       "      <th>1</th>\n",
       "      <td>1.0</td>\n",
       "    </tr>\n",
       "    <tr>\n",
       "      <th>2</th>\n",
       "      <td>1.0</td>\n",
       "    </tr>\n",
       "    <tr>\n",
       "      <th>3</th>\n",
       "      <td>1.0</td>\n",
       "    </tr>\n",
       "    <tr>\n",
       "      <th>4</th>\n",
       "      <td>1.0</td>\n",
       "    </tr>\n",
       "  </tbody>\n",
       "</table>\n",
       "</div>"
      ],
      "text/plain": [
       "   1-week Forward Return Sign\n",
       "0                         1.0\n",
       "1                         1.0\n",
       "2                         1.0\n",
       "3                         1.0\n",
       "4                         1.0"
      ]
     },
     "execution_count": 6,
     "metadata": {},
     "output_type": "execute_result"
    }
   ],
   "source": [
    "y_test.head(5)"
   ]
  },
  {
   "cell_type": "markdown",
   "id": "ef213e65",
   "metadata": {
    "papermill": {
     "duration": 0.007159,
     "end_time": "2024-06-02T11:56:38.960525",
     "exception": false,
     "start_time": "2024-06-02T11:56:38.953366",
     "status": "completed"
    },
    "tags": []
   },
   "source": [
    "# Fit Logistic Regression Model"
   ]
  },
  {
   "cell_type": "markdown",
   "id": "5e46002e",
   "metadata": {
    "papermill": {
     "duration": 0.007264,
     "end_time": "2024-06-02T11:56:38.975212",
     "exception": false,
     "start_time": "2024-06-02T11:56:38.967948",
     "status": "completed"
    },
    "tags": []
   },
   "source": [
    "### Check class imbalance"
   ]
  },
  {
   "cell_type": "code",
   "execution_count": 7,
   "id": "7a36daa4",
   "metadata": {
    "execution": {
     "iopub.execute_input": "2024-06-02T11:56:38.991673Z",
     "iopub.status.busy": "2024-06-02T11:56:38.991218Z",
     "iopub.status.idle": "2024-06-02T11:56:39.410233Z",
     "shell.execute_reply": "2024-06-02T11:56:39.409118Z"
    },
    "papermill": {
     "duration": 0.430442,
     "end_time": "2024-06-02T11:56:39.413043",
     "exception": false,
     "start_time": "2024-06-02T11:56:38.982601",
     "status": "completed"
    },
    "tags": []
   },
   "outputs": [
    {
     "data": {
      "text/plain": [
       "<Axes: title={'center': 'Frequency of each class in the training and test targets'}>"
      ]
     },
     "execution_count": 7,
     "metadata": {},
     "output_type": "execute_result"
    },
    {
     "data": {
      "image/png": "[encoded data removed]",
      "text/plain": [
       "<Figure size 640x480 with 1 Axes>"
      ]
     },
     "metadata": {},
     "output_type": "display_data"
    }
   ],
   "source": [
    "# Examine class imbalance in training and test sets\n",
    "train_classes = y_train.value_counts().sort_index()\n",
    "test_classes = y_test.value_counts().sort_index()\n",
    "class_freq = pd.DataFrame(data=zip(train_classes, test_classes), columns=['Train', 'Test'], index=[-1, 1])\n",
    "class_freq.plot(kind='bar', title='Frequency of each class in the training and test targets')"
   ]
  },
  {
   "cell_type": "markdown",
   "id": "64f21b44",
   "metadata": {
    "papermill": {
     "duration": 0.007961,
     "end_time": "2024-06-02T11:56:39.430368",
     "exception": false,
     "start_time": "2024-06-02T11:56:39.422407",
     "status": "completed"
    },
    "tags": []
   },
   "source": [
    "### Parameter Optimization"
   ]
  },
  {
   "cell_type": "code",
   "execution_count": 8,
   "id": "dd5dd442",
   "metadata": {
    "execution": {
     "iopub.execute_input": "2024-06-02T11:56:39.448734Z",
     "iopub.status.busy": "2024-06-02T11:56:39.448315Z",
     "iopub.status.idle": "2024-06-02T11:56:40.973929Z",
     "shell.execute_reply": "2024-06-02T11:56:40.972395Z"
    },
    "papermill": {
     "duration": 1.53815,
     "end_time": "2024-06-02T11:56:40.976710",
     "exception": false,
     "start_time": "2024-06-02T11:56:39.438560",
     "status": "completed"
    },
    "tags": []
   },
   "outputs": [],
   "source": [
    "# Imports\n",
    "from sklearn.model_selection import TimeSeriesSplit, RandomizedSearchCV\n",
    "from sklearn.linear_model import LogisticRegression\n",
    "\n",
    "# Define parameter grid\n",
    "grid = {\n",
    "    'C': [0.001, 0.01, 0.1],\n",
    "    'penalty': ['l1', 'l2'],\n",
    "    'solver': ['liblinear']\n",
    "}\n",
    "\n",
    "# Create base model\n",
    "lr = LogisticRegression()\n",
    "\n",
    "# Create time series split object to allow for CV without look-ahead bias\n",
    "tscv = TimeSeriesSplit(n_splits=4)"
   ]
  },
  {
   "cell_type": "code",
   "execution_count": 9,
   "id": "16702669",
   "metadata": {
    "execution": {
     "iopub.execute_input": "2024-06-02T11:56:40.995063Z",
     "iopub.status.busy": "2024-06-02T11:56:40.994263Z",
     "iopub.status.idle": "2024-06-02T12:01:46.836561Z",
     "shell.execute_reply": "2024-06-02T12:01:46.834977Z"
    },
    "papermill": {
     "duration": 305.864498,
     "end_time": "2024-06-02T12:01:46.849410",
     "exception": false,
     "start_time": "2024-06-02T11:56:40.984912",
     "status": "completed"
    },
    "tags": []
   },
   "outputs": [
    {
     "name": "stdout",
     "output_type": "stream",
     "text": [
      "Fitting 4 folds for each of 6 candidates, totalling 24 fits\n"
     ]
    },
    {
     "name": "stderr",
     "output_type": "stream",
     "text": [
      "/opt/conda/lib/python3.10/site-packages/sklearn/model_selection/_search.py:305: UserWarning: The total space of parameters 6 is smaller than n_iter=12. Running 6 iterations. For exhaustive searches, use GridSearchCV.\n",
      "  warnings.warn(\n",
      "/opt/conda/lib/python3.10/site-packages/sklearn/utils/validation.py:1143: DataConversionWarning: A column-vector y was passed when a 1d array was expected. Please change the shape of y to (n_samples, ), for example using ravel().\n",
      "  y = column_or_1d(y, warn=True)\n",
      "/opt/conda/lib/python3.10/site-packages/sklearn/utils/validation.py:1143: DataConversionWarning: A column-vector y was passed when a 1d array was expected. Please change the shape of y to (n_samples, ), for example using ravel().\n",
      "  y = column_or_1d(y, warn=True)\n",
      "/opt/conda/lib/python3.10/site-packages/sklearn/utils/validation.py:1143: DataConversionWarning: A column-vector y was passed when a 1d array was expected. Please change the shape of y to (n_samples, ), for example using ravel().\n",
      "  y = column_or_1d(y, warn=True)\n",
      "/opt/conda/lib/python3.10/site-packages/sklearn/utils/validation.py:1143: DataConversionWarning: A column-vector y was passed when a 1d array was expected. Please change the shape of y to (n_samples, ), for example using ravel().\n",
      "  y = column_or_1d(y, warn=True)\n",
      "/opt/conda/lib/python3.10/site-packages/sklearn/utils/validation.py:1143: DataConversionWarning: A column-vector y was passed when a 1d array was expected. Please change the shape of y to (n_samples, ), for example using ravel().\n",
      "  y = column_or_1d(y, warn=True)\n",
      "/opt/conda/lib/python3.10/site-packages/sklearn/utils/validation.py:1143: DataConversionWarning: A column-vector y was passed when a 1d array was expected. Please change the shape of y to (n_samples, ), for example using ravel().\n",
      "  y = column_or_1d(y, warn=True)\n",
      "/opt/conda/lib/python3.10/site-packages/sklearn/utils/validation.py:1143: DataConversionWarning: A column-vector y was passed when a 1d array was expected. Please change the shape of y to (n_samples, ), for example using ravel().\n",
      "  y = column_or_1d(y, warn=True)\n",
      "/opt/conda/lib/python3.10/site-packages/sklearn/utils/validation.py:1143: DataConversionWarning: A column-vector y was passed when a 1d array was expected. Please change the shape of y to (n_samples, ), for example using ravel().\n",
      "  y = column_or_1d(y, warn=True)\n",
      "/opt/conda/lib/python3.10/site-packages/sklearn/utils/validation.py:1143: DataConversionWarning: A column-vector y was passed when a 1d array was expected. Please change the shape of y to (n_samples, ), for example using ravel().\n",
      "  y = column_or_1d(y, warn=True)\n",
      "/opt/conda/lib/python3.10/site-packages/sklearn/utils/validation.py:1143: DataConversionWarning: A column-vector y was passed when a 1d array was expected. Please change the shape of y to (n_samples, ), for example using ravel().\n",
      "  y = column_or_1d(y, warn=True)\n",
      "/opt/conda/lib/python3.10/site-packages/sklearn/utils/validation.py:1143: DataConversionWarning: A column-vector y was passed when a 1d array was expected. Please change the shape of y to (n_samples, ), for example using ravel().\n",
      "  y = column_or_1d(y, warn=True)\n",
      "/opt/conda/lib/python3.10/site-packages/sklearn/utils/validation.py:1143: DataConversionWarning: A column-vector y was passed when a 1d array was expected. Please change the shape of y to (n_samples, ), for example using ravel().\n",
      "  y = column_or_1d(y, warn=True)\n",
      "/opt/conda/lib/python3.10/site-packages/sklearn/utils/validation.py:1143: DataConversionWarning: A column-vector y was passed when a 1d array was expected. Please change the shape of y to (n_samples, ), for example using ravel().\n",
      "  y = column_or_1d(y, warn=True)\n",
      "/opt/conda/lib/python3.10/site-packages/sklearn/utils/validation.py:1143: DataConversionWarning: A column-vector y was passed when a 1d array was expected. Please change the shape of y to (n_samples, ), for example using ravel().\n",
      "  y = column_or_1d(y, warn=True)\n",
      "/opt/conda/lib/python3.10/site-packages/sklearn/utils/validation.py:1143: DataConversionWarning: A column-vector y was passed when a 1d array was expected. Please change the shape of y to (n_samples, ), for example using ravel().\n",
      "  y = column_or_1d(y, warn=True)\n",
      "/opt/conda/lib/python3.10/site-packages/sklearn/utils/validation.py:1143: DataConversionWarning: A column-vector y was passed when a 1d array was expected. Please change the shape of y to (n_samples, ), for example using ravel().\n",
      "  y = column_or_1d(y, warn=True)\n",
      "/opt/conda/lib/python3.10/site-packages/sklearn/utils/validation.py:1143: DataConversionWarning: A column-vector y was passed when a 1d array was expected. Please change the shape of y to (n_samples, ), for example using ravel().\n",
      "  y = column_or_1d(y, warn=True)\n",
      "/opt/conda/lib/python3.10/site-packages/sklearn/utils/validation.py:1143: DataConversionWarning: A column-vector y was passed when a 1d array was expected. Please change the shape of y to (n_samples, ), for example using ravel().\n",
      "  y = column_or_1d(y, warn=True)\n",
      "/opt/conda/lib/python3.10/site-packages/sklearn/utils/validation.py:1143: DataConversionWarning: A column-vector y was passed when a 1d array was expected. Please change the shape of y to (n_samples, ), for example using ravel().\n",
      "  y = column_or_1d(y, warn=True)\n",
      "/opt/conda/lib/python3.10/site-packages/sklearn/utils/validation.py:1143: DataConversionWarning: A column-vector y was passed when a 1d array was expected. Please change the shape of y to (n_samples, ), for example using ravel().\n",
      "  y = column_or_1d(y, warn=True)\n",
      "/opt/conda/lib/python3.10/site-packages/sklearn/utils/validation.py:1143: DataConversionWarning: A column-vector y was passed when a 1d array was expected. Please change the shape of y to (n_samples, ), for example using ravel().\n",
      "  y = column_or_1d(y, warn=True)\n",
      "/opt/conda/lib/python3.10/site-packages/sklearn/utils/validation.py:1143: DataConversionWarning: A column-vector y was passed when a 1d array was expected. Please change the shape of y to (n_samples, ), for example using ravel().\n",
      "  y = column_or_1d(y, warn=True)\n",
      "/opt/conda/lib/python3.10/site-packages/sklearn/utils/validation.py:1143: DataConversionWarning: A column-vector y was passed when a 1d array was expected. Please change the shape of y to (n_samples, ), for example using ravel().\n",
      "  y = column_or_1d(y, warn=True)\n",
      "/opt/conda/lib/python3.10/site-packages/sklearn/utils/validation.py:1143: DataConversionWarning: A column-vector y was passed when a 1d array was expected. Please change the shape of y to (n_samples, ), for example using ravel().\n",
      "  y = column_or_1d(y, warn=True)\n"
     ]
    },
    {
     "data": {
      "text/html": [
       "<style>#sk-container-id-1 {color: black;background-color: white;}#sk-container-id-1 pre{padding: 0;}#sk-container-id-1 div.sk-toggleable {background-color: white;}#sk-container-id-1 label.sk-toggleable__label {cursor: pointer;display: block;width: 100%;margin-bottom: 0;padding: 0.3em;box-sizing: border-box;text-align: center;}#sk-container-id-1 label.sk-toggleable__label-arrow:before {content: \"▸\";float: left;margin-right: 0.25em;color: #696969;}#sk-container-id-1 label.sk-toggleable__label-arrow:hover:before {color: black;}#sk-container-id-1 div.sk-estimator:hover label.sk-toggleable__label-arrow:before {color: black;}#sk-container-id-1 div.sk-toggleable__content {max-height: 0;max-width: 0;overflow: hidden;text-align: left;background-color: #f0f8ff;}#sk-container-id-1 div.sk-toggleable__content pre {margin: 0.2em;color: black;border-radius: 0.25em;background-color: #f0f8ff;}#sk-container-id-1 input.sk-toggleable__control:checked~div.sk-toggleable__content {max-height: 200px;max-width: 100%;overflow: auto;}#sk-container-id-1 input.sk-toggleable__control:checked~label.sk-toggleable__label-arrow:before {content: \"▾\";}#sk-container-id-1 div.sk-estimator input.sk-toggleable__control:checked~label.sk-toggleable__label {background-color: #d4ebff;}#sk-container-id-1 div.sk-label input.sk-toggleable__control:checked~label.sk-toggleable__label {background-color: #d4ebff;}#sk-container-id-1 input.sk-hidden--visually {border: 0;clip: rect(1px 1px 1px 1px);clip: rect(1px, 1px, 1px, 1px);height: 1px;margin: -1px;overflow: hidden;padding: 0;position: absolute;width: 1px;}#sk-container-id-1 div.sk-estimator {font-family: monospace;background-color: #f0f8ff;border: 1px dotted black;border-radius: 0.25em;box-sizing: border-box;margin-bottom: 0.5em;}#sk-container-id-1 div.sk-estimator:hover {background-color: #d4ebff;}#sk-container-id-1 div.sk-parallel-item::after {content: \"\";width: 100%;border-bottom: 1px solid gray;flex-grow: 1;}#sk-container-id-1 div.sk-label:hover label.sk-toggleable__label {background-color: #d4ebff;}#sk-container-id-1 div.sk-serial::before {content: \"\";position: absolute;border-left: 1px solid gray;box-sizing: border-box;top: 0;bottom: 0;left: 50%;z-index: 0;}#sk-container-id-1 div.sk-serial {display: flex;flex-direction: column;align-items: center;background-color: white;padding-right: 0.2em;padding-left: 0.2em;position: relative;}#sk-container-id-1 div.sk-item {position: relative;z-index: 1;}#sk-container-id-1 div.sk-parallel {display: flex;align-items: stretch;justify-content: center;background-color: white;position: relative;}#sk-container-id-1 div.sk-item::before, #sk-container-id-1 div.sk-parallel-item::before {content: \"\";position: absolute;border-left: 1px solid gray;box-sizing: border-box;top: 0;bottom: 0;left: 50%;z-index: -1;}#sk-container-id-1 div.sk-parallel-item {display: flex;flex-direction: column;z-index: 1;position: relative;background-color: white;}#sk-container-id-1 div.sk-parallel-item:first-child::after {align-self: flex-end;width: 50%;}#sk-container-id-1 div.sk-parallel-item:last-child::after {align-self: flex-start;width: 50%;}#sk-container-id-1 div.sk-parallel-item:only-child::after {width: 0;}#sk-container-id-1 div.sk-dashed-wrapped {border: 1px dashed gray;margin: 0 0.4em 0.5em 0.4em;box-sizing: border-box;padding-bottom: 0.4em;background-color: white;}#sk-container-id-1 div.sk-label label {font-family: monospace;font-weight: bold;display: inline-block;line-height: 1.2em;}#sk-container-id-1 div.sk-label-container {text-align: center;}#sk-container-id-1 div.sk-container {/* jupyter's `normalize.less` sets `[hidden] { display: none; }` but bootstrap.min.css set `[hidden] { display: none !important; }` so we also need the `!important` here to be able to override the default hidden behavior on the sphinx rendered scikit-learn.org. See: https://github.com/scikit-learn/scikit-learn/issues/21755 */display: inline-block !important;position: relative;}#sk-container-id-1 div.sk-text-repr-fallback {display: none;}</style><div id=\"sk-container-id-1\" class=\"sk-top-container\"><div class=\"sk-text-repr-fallback\"><pre>RandomizedSearchCV(cv=TimeSeriesSplit(gap=0, max_train_size=None, n_splits=4, test_size=None),\n",
       "                   estimator=LogisticRegression(), n_iter=12, n_jobs=-1,\n",
       "                   param_distributions={&#x27;C&#x27;: [0.001, 0.01, 0.1],\n",
       "                                        &#x27;penalty&#x27;: [&#x27;l1&#x27;, &#x27;l2&#x27;],\n",
       "                                        &#x27;solver&#x27;: [&#x27;liblinear&#x27;]},\n",
       "                   refit=False, scoring=&#x27;accuracy&#x27;, verbose=3)</pre><b>In a Jupyter environment, please rerun this cell to show the HTML representation or trust the notebook. <br />On GitHub, the HTML representation is unable to render, please try loading this page with nbviewer.org.</b></div><div class=\"sk-container\" hidden><div class=\"sk-item sk-dashed-wrapped\"><div class=\"sk-label-container\"><div class=\"sk-label sk-toggleable\"><input class=\"sk-toggleable__control sk-hidden--visually\" id=\"sk-estimator-id-1\" type=\"checkbox\" ><label for=\"sk-estimator-id-1\" class=\"sk-toggleable__label sk-toggleable__label-arrow\">RandomizedSearchCV</label><div class=\"sk-toggleable__content\"><pre>RandomizedSearchCV(cv=TimeSeriesSplit(gap=0, max_train_size=None, n_splits=4, test_size=None),\n",
       "                   estimator=LogisticRegression(), n_iter=12, n_jobs=-1,\n",
       "                   param_distributions={&#x27;C&#x27;: [0.001, 0.01, 0.1],\n",
       "                                        &#x27;penalty&#x27;: [&#x27;l1&#x27;, &#x27;l2&#x27;],\n",
       "                                        &#x27;solver&#x27;: [&#x27;liblinear&#x27;]},\n",
       "                   refit=False, scoring=&#x27;accuracy&#x27;, verbose=3)</pre></div></div></div><div class=\"sk-parallel\"><div class=\"sk-parallel-item\"><div class=\"sk-item\"><div class=\"sk-label-container\"><div class=\"sk-label sk-toggleable\"><input class=\"sk-toggleable__control sk-hidden--visually\" id=\"sk-estimator-id-2\" type=\"checkbox\" ><label for=\"sk-estimator-id-2\" class=\"sk-toggleable__label sk-toggleable__label-arrow\">estimator: LogisticRegression</label><div class=\"sk-toggleable__content\"><pre>LogisticRegression()</pre></div></div></div><div class=\"sk-serial\"><div class=\"sk-item\"><div class=\"sk-estimator sk-toggleable\"><input class=\"sk-toggleable__control sk-hidden--visually\" id=\"sk-estimator-id-3\" type=\"checkbox\" ><label for=\"sk-estimator-id-3\" class=\"sk-toggleable__label sk-toggleable__label-arrow\">LogisticRegression</label><div class=\"sk-toggleable__content\"><pre>LogisticRegression()</pre></div></div></div></div></div></div></div></div></div></div>"
      ],
      "text/plain": [
       "RandomizedSearchCV(cv=TimeSeriesSplit(gap=0, max_train_size=None, n_splits=4, test_size=None),\n",
       "                   estimator=LogisticRegression(), n_iter=12, n_jobs=-1,\n",
       "                   param_distributions={'C': [0.001, 0.01, 0.1],\n",
       "                                        'penalty': ['l1', 'l2'],\n",
       "                                        'solver': ['liblinear']},\n",
       "                   refit=False, scoring='accuracy', verbose=3)"
      ]
     },
     "execution_count": 9,
     "metadata": {},
     "output_type": "execute_result"
    }
   ],
   "source": [
    "# Create random search object\n",
    "random_search = RandomizedSearchCV(\n",
    "    estimator=lr,\n",
    "    param_distributions=grid,\n",
    "    n_iter=12,\n",
    "    cv=tscv,\n",
    "    n_jobs=-1,\n",
    "    scoring='accuracy',\n",
    "    verbose=3,\n",
    "    refit=False\n",
    ")\n",
    "\n",
    "# Fit the grid search to data\n",
    "random_search.fit(X_train, y_train)"
   ]
  },
  {
   "cell_type": "code",
   "execution_count": 10,
   "id": "238c5f78",
   "metadata": {
    "execution": {
     "iopub.execute_input": "2024-06-02T12:01:46.874008Z",
     "iopub.status.busy": "2024-06-02T12:01:46.873545Z",
     "iopub.status.idle": "2024-06-02T12:01:46.885796Z",
     "shell.execute_reply": "2024-06-02T12:01:46.884593Z"
    },
    "papermill": {
     "duration": 0.028092,
     "end_time": "2024-06-02T12:01:46.888442",
     "exception": false,
     "start_time": "2024-06-02T12:01:46.860350",
     "status": "completed"
    },
    "tags": []
   },
   "outputs": [
    {
     "name": "stdout",
     "output_type": "stream",
     "text": [
      "{'mean_fit_time': array([16.3807618 , 37.58068597, 50.65580976, 43.84621483, 87.58999753,\n",
      "       44.48053086]), 'std_fit_time': array([ 6.31510228, 18.33719287, 12.47148208, 14.26176153, 37.5110296 ,\n",
      "        8.40978905]), 'mean_score_time': array([0.06926823, 0.09812433, 0.07107502, 0.07166922, 0.06288916,\n",
      "       0.06931931]), 'std_score_time': array([0.00235578, 0.04157679, 0.00471602, 0.00300819, 0.01035056,\n",
      "       0.01475591]), 'param_solver': masked_array(data=['liblinear', 'liblinear', 'liblinear', 'liblinear',\n",
      "                   'liblinear', 'liblinear'],\n",
      "             mask=[False, False, False, False, False, False],\n",
      "       fill_value='?',\n",
      "            dtype=object), 'param_penalty': masked_array(data=['l1', 'l2', 'l1', 'l2', 'l1', 'l2'],\n",
      "             mask=[False, False, False, False, False, False],\n",
      "       fill_value='?',\n",
      "            dtype=object), 'param_C': masked_array(data=[0.001, 0.001, 0.01, 0.01, 0.1, 0.1],\n",
      "             mask=[False, False, False, False, False, False],\n",
      "       fill_value='?',\n",
      "            dtype=object), 'params': [{'solver': 'liblinear', 'penalty': 'l1', 'C': 0.001}, {'solver': 'liblinear', 'penalty': 'l2', 'C': 0.001}, {'solver': 'liblinear', 'penalty': 'l1', 'C': 0.01}, {'solver': 'liblinear', 'penalty': 'l2', 'C': 0.01}, {'solver': 'liblinear', 'penalty': 'l1', 'C': 0.1}, {'solver': 'liblinear', 'penalty': 'l2', 'C': 0.1}], 'split0_test_score': array([0.49016724, 0.50412367, 0.51219705, 0.51669632, 0.52272961,\n",
      "       0.52069743]), 'split1_test_score': array([0.46686435, 0.48566006, 0.48448187, 0.48361207, 0.48348555,\n",
      "       0.48341438]), 'split2_test_score': array([0.53599019, 0.52305381, 0.52193097, 0.52129048, 0.52116396,\n",
      "       0.52093465]), 'split3_test_score': array([0.58749061, 0.56626735, 0.56866327, 0.56324675, 0.56342071,\n",
      "       0.56280394]), 'mean_test_score': array([0.5201281 , 0.51977622, 0.52181829, 0.5212114 , 0.52269996,\n",
      "       0.5219626 ]), 'std_test_score': array([0.04616274, 0.02992107, 0.03033579, 0.02828901, 0.0282768 ,\n",
      "       0.02809198]), 'rank_test_score': array([5, 6, 3, 4, 1, 2], dtype=int32)}\n",
      "Best params are {'solver': 'liblinear', 'penalty': 'l1', 'C': 0.1}\n",
      "Best accuracy score is 0.5226999565097062\n"
     ]
    }
   ],
   "source": [
    "# Get results of all trained models\n",
    "cv_results = random_search.cv_results_\n",
    "print(cv_results)\n",
    "\n",
    "# Get best params and score\n",
    "best_params = random_search.best_params_\n",
    "best_score = random_search.best_score_\n",
    "print(f\"Best params are {best_params}\")\n",
    "print(f\"Best accuracy score is {best_score}\")\n",
    "\n",
    "# Save best parameters\n",
    "import pickle\n",
    "with open('best_params.pkl', 'wb') as f:\n",
    "    pickle.dump(best_params, f)"
   ]
  },
  {
   "cell_type": "markdown",
   "id": "b7d37ad6",
   "metadata": {
    "papermill": {
     "duration": 0.010652,
     "end_time": "2024-06-02T12:01:46.910154",
     "exception": false,
     "start_time": "2024-06-02T12:01:46.899502",
     "status": "completed"
    },
    "tags": []
   },
   "source": [
    "### Train model"
   ]
  },
  {
   "cell_type": "code",
   "execution_count": 11,
   "id": "8322a0a3",
   "metadata": {
    "execution": {
     "iopub.execute_input": "2024-06-02T12:01:46.933910Z",
     "iopub.status.busy": "2024-06-02T12:01:46.933502Z",
     "iopub.status.idle": "2024-06-02T12:03:09.471510Z",
     "shell.execute_reply": "2024-06-02T12:03:09.470174Z"
    },
    "papermill": {
     "duration": 82.565822,
     "end_time": "2024-06-02T12:03:09.487093",
     "exception": false,
     "start_time": "2024-06-02T12:01:46.921271",
     "status": "completed"
    },
    "tags": []
   },
   "outputs": [
    {
     "name": "stderr",
     "output_type": "stream",
     "text": [
      "/opt/conda/lib/python3.10/site-packages/sklearn/utils/validation.py:1143: DataConversionWarning: A column-vector y was passed when a 1d array was expected. Please change the shape of y to (n_samples, ), for example using ravel().\n",
      "  y = column_or_1d(y, warn=True)\n"
     ]
    },
    {
     "data": {
      "text/plain": [
       "array([[ 2.32458463e-03, -3.31273068e-03, -2.20126832e-02,\n",
       "        -1.31733505e-02, -1.07692590e-02,  0.00000000e+00,\n",
       "        -4.76058729e-02,  8.42662095e-03, -1.43130079e-03,\n",
       "         2.79620081e-03,  5.29512605e-03,  1.28350803e-02,\n",
       "         1.32580593e-02, -4.39929264e-03,  2.18967738e-02,\n",
       "         4.41077789e-02,  5.83979045e-02, -2.82336124e-03,\n",
       "         2.44124543e-02,  1.77991385e-02,  2.71159091e-02,\n",
       "        -2.64756358e-03,  0.00000000e+00, -1.71621432e-02,\n",
       "        -1.10832575e-02, -7.12273320e-03, -2.70185081e-02,\n",
       "        -8.49908557e-03,  1.80612982e-02, -2.61883754e-02,\n",
       "        -3.29995312e-03,  3.50087535e-02, -3.43234306e-02,\n",
       "         6.39814053e-03, -3.39965801e-03, -1.30794338e-02,\n",
       "        -6.13037662e-02, -1.16067913e-01, -1.23545857e-02,\n",
       "        -2.27103082e-02,  5.32777190e-02, -1.36396144e-02,\n",
       "        -3.87734573e-02, -5.49015735e-02,  2.14889940e-02,\n",
       "        -4.70907655e-02, -9.33203383e-03,  2.12640279e-01,\n",
       "         8.79692375e-02,  1.19206274e-02, -1.03295162e-01,\n",
       "         8.84907593e-04, -1.64286898e-01, -8.59225715e-02,\n",
       "         1.88433256e-01,  1.23521432e-02,  1.27082020e-01,\n",
       "         4.20675271e-02, -9.28797631e-02,  5.22217500e-02,\n",
       "         1.44514464e-01,  3.61591146e-02, -3.49198005e-02,\n",
       "        -2.55539932e-01, -9.70194956e-02,  4.84775375e-02,\n",
       "         1.52161543e-02, -3.93353567e-02, -4.28682434e-02,\n",
       "         5.30506629e-02, -4.77732679e-02,  6.79746531e-02,\n",
       "         3.47629195e-03, -4.68071965e-02, -8.81483597e-04,\n",
       "         4.23954033e-03, -2.35425588e-02,  7.41742337e-03,\n",
       "         3.02323210e-02, -5.14804413e-03,  3.19258694e-02,\n",
       "        -9.14386467e-03,  4.75819913e-03, -3.06496805e-02,\n",
       "        -3.20646306e-02,  6.95242544e-03, -2.43170242e-03,\n",
       "         2.32243575e-04,  3.39051514e-03, -2.09234870e-02,\n",
       "         9.71708387e-03,  8.15200000e-03, -9.85803094e-03,\n",
       "         6.87245416e-03, -4.06791455e-03, -1.18164545e-02,\n",
       "         3.22673217e-03, -6.86814004e-04, -7.88982103e-03,\n",
       "         2.23076965e-03, -7.04963284e-03, -2.22507488e-03,\n",
       "        -2.34742200e-03,  2.53299951e-03, -5.71787533e-03,\n",
       "         5.20243969e-03,  1.19660174e-02, -3.77919812e-03,\n",
       "         2.81910464e-03, -4.01447590e-03,  3.59738080e-03,\n",
       "        -2.32743236e-03, -4.65346583e-03,  2.47512310e-03,\n",
       "         6.56819509e-03, -1.04580165e-02,  6.57086177e-03,\n",
       "        -9.03048229e-03, -1.84459166e-03,  1.49123154e-02,\n",
       "         1.75817073e-02, -4.60862217e-02,  1.81925073e-03,\n",
       "         2.26324963e-02]])"
      ]
     },
     "execution_count": 11,
     "metadata": {},
     "output_type": "execute_result"
    }
   ],
   "source": [
    "# Fit model with best params\n",
    "lr = LogisticRegression(**best_params)\n",
    "lr.fit(X_train, y_train)\n",
    "lr.coef_"
   ]
  },
  {
   "cell_type": "code",
   "execution_count": 12,
   "id": "487b4893",
   "metadata": {
    "execution": {
     "iopub.execute_input": "2024-06-02T12:03:09.511943Z",
     "iopub.status.busy": "2024-06-02T12:03:09.511528Z",
     "iopub.status.idle": "2024-06-02T12:03:09.517767Z",
     "shell.execute_reply": "2024-06-02T12:03:09.516458Z"
    },
    "papermill": {
     "duration": 0.021192,
     "end_time": "2024-06-02T12:03:09.520094",
     "exception": false,
     "start_time": "2024-06-02T12:03:09.498902",
     "status": "completed"
    },
    "tags": []
   },
   "outputs": [],
   "source": [
    "# Save model\n",
    "with open('lr_model.pkl', 'wb') as f:\n",
    "    pickle.dump(lr, f)"
   ]
  }
 ],
 "metadata": {
  "kaggle": {
   "accelerator": "none",
   "dataSources": [
    {
     "sourceId": 180456214,
     "sourceType": "kernelVersion"
    }
   ],
   "dockerImageVersionId": 30698,
   "isGpuEnabled": false,
   "isInternetEnabled": true,
   "language": "python",
   "sourceType": "notebook"
  },
  "kernelspec": {
   "display_name": "Python 3",
   "language": "python",
   "name": "python3"
  },
  "language_info": {
   "codemirror_mode": {
    "name": "ipython",
    "version": 3
   },
   "file_extension": ".py",
   "mimetype": "text/x-python",
   "name": "python",
   "nbconvert_exporter": "python",
   "pygments_lexer": "ipython3",
   "version": "3.10.13"
  },
  "papermill": {
   "default_parameters": {},
   "duration": 453.042878,
   "end_time": "2024-06-02T12:03:12.156079",
   "environment_variables": {},
   "exception": null,
   "input_path": "__notebook__.ipynb",
   "output_path": "__notebook__.ipynb",
   "parameters": {},
   "start_time": "2024-06-02T11:55:39.113201",
   "version": "2.5.0"
  }
 },
 "nbformat": 4,
 "nbformat_minor": 5
}
