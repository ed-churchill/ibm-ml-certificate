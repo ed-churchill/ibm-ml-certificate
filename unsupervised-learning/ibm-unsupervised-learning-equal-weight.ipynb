{
 "cells": [
  {
   "cell_type": "markdown",
   "id": "51bdfebd",
   "metadata": {
    "papermill": {
     "duration": 0.003529,
     "end_time": "2024-08-05T17:04:31.131579",
     "exception": false,
     "start_time": "2024-08-05T17:04:31.128050",
     "status": "completed"
    },
    "tags": []
   },
   "source": [
    "# Read Me\n",
    "This notebook implements an extremely simple equal-weighted strategy to construct portfolios with currency pairs. It is a benchmark to compare other techniques such as mean-variance, risk-parity and HRP to. As a quick way of getting an equally weighted dataframe in the correct format, we simply take the dataframe from the output of HRP and replace the weights to be equal."
   ]
  },
  {
   "cell_type": "markdown",
   "id": "5982b33f",
   "metadata": {
    "papermill": {
     "duration": 0.002722,
     "end_time": "2024-08-05T17:04:31.137458",
     "exception": false,
     "start_time": "2024-08-05T17:04:31.134736",
     "status": "completed"
    },
    "tags": []
   },
   "source": [
    "# Imports"
   ]
  },
  {
   "cell_type": "code",
   "execution_count": 1,
   "id": "497d6db2",
   "metadata": {
    "execution": {
     "iopub.execute_input": "2024-08-05T17:04:31.145098Z",
     "iopub.status.busy": "2024-08-05T17:04:31.144636Z",
     "iopub.status.idle": "2024-08-05T17:04:31.933380Z",
     "shell.execute_reply": "2024-08-05T17:04:31.932273Z"
    },
    "papermill": {
     "duration": 0.7957,
     "end_time": "2024-08-05T17:04:31.935994",
     "exception": false,
     "start_time": "2024-08-05T17:04:31.140294",
     "status": "completed"
    },
    "tags": []
   },
   "outputs": [],
   "source": [
    "import pandas as pd"
   ]
  },
  {
   "cell_type": "markdown",
   "id": "25359dc3",
   "metadata": {
    "papermill": {
     "duration": 0.002578,
     "end_time": "2024-08-05T17:04:31.941515",
     "exception": false,
     "start_time": "2024-08-05T17:04:31.938937",
     "status": "completed"
    },
    "tags": []
   },
   "source": [
    "# Get Data"
   ]
  },
  {
   "cell_type": "code",
   "execution_count": 2,
   "id": "3e245ae5",
   "metadata": {
    "execution": {
     "iopub.execute_input": "2024-08-05T17:04:31.949689Z",
     "iopub.status.busy": "2024-08-05T17:04:31.948631Z",
     "iopub.status.idle": "2024-08-05T17:04:32.035375Z",
     "shell.execute_reply": "2024-08-05T17:04:32.034284Z"
    },
    "papermill": {
     "duration": 0.09379,
     "end_time": "2024-08-05T17:04:32.038058",
     "exception": false,
     "start_time": "2024-08-05T17:04:31.944268",
     "status": "completed"
    },
    "tags": []
   },
   "outputs": [],
   "source": [
    "# Read data\n",
    "df = pd.read_csv(\n",
    "    filepath_or_buffer=\"/kaggle/input/ibm-unsupervised-learning-hrp/data.csv\",\n",
    "    parse_dates=['Start', 'End']\n",
    ")\n",
    "df.drop('Unnamed: 0', axis=1, inplace=True)"
   ]
  },
  {
   "cell_type": "code",
   "execution_count": 3,
   "id": "bbc71d40",
   "metadata": {
    "execution": {
     "iopub.execute_input": "2024-08-05T17:04:32.045553Z",
     "iopub.status.busy": "2024-08-05T17:04:32.045162Z",
     "iopub.status.idle": "2024-08-05T17:04:32.061207Z",
     "shell.execute_reply": "2024-08-05T17:04:32.059966Z"
    },
    "papermill": {
     "duration": 0.02242,
     "end_time": "2024-08-05T17:04:32.063520",
     "exception": false,
     "start_time": "2024-08-05T17:04:32.041100",
     "status": "completed"
    },
    "tags": []
   },
   "outputs": [
    {
     "data": {
      "text/html": [
       "<div>\n",
       "<style scoped>\n",
       "    .dataframe tbody tr th:only-of-type {\n",
       "        vertical-align: middle;\n",
       "    }\n",
       "\n",
       "    .dataframe tbody tr th {\n",
       "        vertical-align: top;\n",
       "    }\n",
       "\n",
       "    .dataframe thead th {\n",
       "        text-align: right;\n",
       "    }\n",
       "</style>\n",
       "<table border=\"1\" class=\"dataframe\">\n",
       "  <thead>\n",
       "    <tr style=\"text-align: right;\">\n",
       "      <th></th>\n",
       "      <th>Start</th>\n",
       "      <th>End</th>\n",
       "      <th>Asset</th>\n",
       "      <th>Weight</th>\n",
       "    </tr>\n",
       "  </thead>\n",
       "  <tbody>\n",
       "    <tr>\n",
       "      <th>0</th>\n",
       "      <td>2009-12-23 00:00:00+00:00</td>\n",
       "      <td>2009-12-29 00:00:00+00:00</td>\n",
       "      <td>2</td>\n",
       "      <td>0.043763</td>\n",
       "    </tr>\n",
       "    <tr>\n",
       "      <th>1</th>\n",
       "      <td>2009-12-23 00:00:00+00:00</td>\n",
       "      <td>2009-12-29 00:00:00+00:00</td>\n",
       "      <td>0</td>\n",
       "      <td>0.027802</td>\n",
       "    </tr>\n",
       "    <tr>\n",
       "      <th>2</th>\n",
       "      <td>2009-12-23 00:00:00+00:00</td>\n",
       "      <td>2009-12-29 00:00:00+00:00</td>\n",
       "      <td>13</td>\n",
       "      <td>0.024113</td>\n",
       "    </tr>\n",
       "    <tr>\n",
       "      <th>3</th>\n",
       "      <td>2009-12-23 00:00:00+00:00</td>\n",
       "      <td>2009-12-29 00:00:00+00:00</td>\n",
       "      <td>14</td>\n",
       "      <td>0.029076</td>\n",
       "    </tr>\n",
       "    <tr>\n",
       "      <th>4</th>\n",
       "      <td>2009-12-23 00:00:00+00:00</td>\n",
       "      <td>2009-12-29 00:00:00+00:00</td>\n",
       "      <td>15</td>\n",
       "      <td>0.017023</td>\n",
       "    </tr>\n",
       "  </tbody>\n",
       "</table>\n",
       "</div>"
      ],
      "text/plain": [
       "                       Start                        End  Asset    Weight\n",
       "0  2009-12-23 00:00:00+00:00  2009-12-29 00:00:00+00:00      2  0.043763\n",
       "1  2009-12-23 00:00:00+00:00  2009-12-29 00:00:00+00:00      0  0.027802\n",
       "2  2009-12-23 00:00:00+00:00  2009-12-29 00:00:00+00:00     13  0.024113\n",
       "3  2009-12-23 00:00:00+00:00  2009-12-29 00:00:00+00:00     14  0.029076\n",
       "4  2009-12-23 00:00:00+00:00  2009-12-29 00:00:00+00:00     15  0.017023"
      ]
     },
     "execution_count": 3,
     "metadata": {},
     "output_type": "execute_result"
    }
   ],
   "source": [
    "df.head(5)"
   ]
  },
  {
   "cell_type": "markdown",
   "id": "26406d11",
   "metadata": {
    "papermill": {
     "duration": 0.002756,
     "end_time": "2024-08-05T17:04:32.069400",
     "exception": false,
     "start_time": "2024-08-05T17:04:32.066644",
     "status": "completed"
    },
    "tags": []
   },
   "source": [
    "# Run Strategy"
   ]
  },
  {
   "cell_type": "code",
   "execution_count": 4,
   "id": "dac3887d",
   "metadata": {
    "execution": {
     "iopub.execute_input": "2024-08-05T17:04:32.077673Z",
     "iopub.status.busy": "2024-08-05T17:04:32.076746Z",
     "iopub.status.idle": "2024-08-05T17:04:32.084671Z",
     "shell.execute_reply": "2024-08-05T17:04:32.083832Z"
    },
    "papermill": {
     "duration": 0.014441,
     "end_time": "2024-08-05T17:04:32.087029",
     "exception": false,
     "start_time": "2024-08-05T17:04:32.072588",
     "status": "completed"
    },
    "tags": []
   },
   "outputs": [],
   "source": [
    "# Replace weight column with equal weight\n",
    "num_assets = df['Asset'].nunique()\n",
    "df['Weight'] = 1 / num_assets"
   ]
  },
  {
   "cell_type": "markdown",
   "id": "f01f29ad",
   "metadata": {
    "papermill": {
     "duration": 0.002907,
     "end_time": "2024-08-05T17:04:32.093112",
     "exception": false,
     "start_time": "2024-08-05T17:04:32.090205",
     "status": "completed"
    },
    "tags": []
   },
   "source": [
    "# Write Output"
   ]
  },
  {
   "cell_type": "code",
   "execution_count": 5,
   "id": "6c7e010b",
   "metadata": {
    "execution": {
     "iopub.execute_input": "2024-08-05T17:04:32.100986Z",
     "iopub.status.busy": "2024-08-05T17:04:32.100324Z",
     "iopub.status.idle": "2024-08-05T17:04:32.204738Z",
     "shell.execute_reply": "2024-08-05T17:04:32.203834Z"
    },
    "papermill": {
     "duration": 0.111131,
     "end_time": "2024-08-05T17:04:32.207311",
     "exception": false,
     "start_time": "2024-08-05T17:04:32.096180",
     "status": "completed"
    },
    "tags": []
   },
   "outputs": [],
   "source": [
    "# Write to file\n",
    "df.to_csv(path_or_buf=\"data.csv\")"
   ]
  }
 ],
 "metadata": {
  "kaggle": {
   "accelerator": "none",
   "dataSources": [
    {
     "sourceId": 190602944,
     "sourceType": "kernelVersion"
    }
   ],
   "dockerImageVersionId": 30746,
   "isGpuEnabled": false,
   "isInternetEnabled": true,
   "language": "python",
   "sourceType": "notebook"
  },
  "kernelspec": {
   "display_name": "Python 3",
   "language": "python",
   "name": "python3"
  },
  "language_info": {
   "codemirror_mode": {
    "name": "ipython",
    "version": 3
   },
   "file_extension": ".py",
   "mimetype": "text/x-python",
   "name": "python",
   "nbconvert_exporter": "python",
   "pygments_lexer": "ipython3",
   "version": "3.10.13"
  },
  "papermill": {
   "default_parameters": {},
   "duration": 4.192881,
   "end_time": "2024-08-05T17:04:32.631460",
   "environment_variables": {},
   "exception": null,
   "input_path": "__notebook__.ipynb",
   "output_path": "__notebook__.ipynb",
   "parameters": {},
   "start_time": "2024-08-05T17:04:28.438579",
   "version": "2.5.0"
  }
 },
 "nbformat": 4,
 "nbformat_minor": 5
}
