{
 "cells": [
  {
   "cell_type": "markdown",
   "id": "831faae4",
   "metadata": {
    "papermill": {
     "duration": 0.005239,
     "end_time": "2024-07-11T14:49:42.773614",
     "exception": false,
     "start_time": "2024-07-11T14:49:42.768375",
     "status": "completed"
    },
    "tags": []
   },
   "source": [
    "# Imports"
   ]
  },
  {
   "cell_type": "code",
   "execution_count": 1,
   "id": "eca1ccaa",
   "metadata": {
    "_cell_guid": "b1076dfc-b9ad-4769-8c92-a6c4dae69d19",
    "_uuid": "8f2839f25d086af736a60e9eeb907d3b93b6e0e5",
    "execution": {
     "iopub.execute_input": "2024-07-11T14:49:42.787050Z",
     "iopub.status.busy": "2024-07-11T14:49:42.786447Z",
     "iopub.status.idle": "2024-07-11T14:50:30.940725Z",
     "shell.execute_reply": "2024-07-11T14:50:30.939048Z"
    },
    "papermill": {
     "duration": 48.16424,
     "end_time": "2024-07-11T14:50:30.943743",
     "exception": false,
     "start_time": "2024-07-11T14:49:42.779503",
     "status": "completed"
    },
    "tags": []
   },
   "outputs": [
    {
     "name": "stdout",
     "output_type": "stream",
     "text": [
      "Collecting yfinance\r\n",
      "  Downloading yfinance-0.2.40-py2.py3-none-any.whl.metadata (11 kB)\r\n",
      "Requirement already satisfied: pandas>=1.3.0 in /opt/conda/lib/python3.10/site-packages (from yfinance) (2.2.2)\r\n",
      "Requirement already satisfied: numpy>=1.16.5 in /opt/conda/lib/python3.10/site-packages (from yfinance) (1.26.4)\r\n",
      "Requirement already satisfied: requests>=2.31 in /opt/conda/lib/python3.10/site-packages (from yfinance) (2.32.3)\r\n",
      "Collecting multitasking>=0.0.7 (from yfinance)\r\n",
      "  Downloading multitasking-0.0.11-py3-none-any.whl.metadata (5.5 kB)\r\n",
      "Requirement already satisfied: lxml>=4.9.1 in /opt/conda/lib/python3.10/site-packages (from yfinance) (5.2.2)\r\n",
      "Requirement already satisfied: platformdirs>=2.0.0 in /opt/conda/lib/python3.10/site-packages (from yfinance) (3.11.0)\r\n",
      "Requirement already satisfied: pytz>=2022.5 in /opt/conda/lib/python3.10/site-packages (from yfinance) (2023.3.post1)\r\n",
      "Requirement already satisfied: frozendict>=2.3.4 in /opt/conda/lib/python3.10/site-packages (from yfinance) (2.4.4)\r\n",
      "Collecting peewee>=3.16.2 (from yfinance)\r\n",
      "  Downloading peewee-3.17.6.tar.gz (3.0 MB)\r\n",
      "\u001b[2K     \u001b[90m━━━━━━━━━━━━━━━━━━━━━━━━━━━━━━━━━━━━━━━━\u001b[0m \u001b[32m3.0/3.0 MB\u001b[0m \u001b[31m35.2 MB/s\u001b[0m eta \u001b[36m0:00:00\u001b[0m\r\n",
      "\u001b[?25h  Installing build dependencies ... \u001b[?25l-\b \b\\\b \b|\b \b/\b \b-\b \bdone\r\n",
      "\u001b[?25h  Getting requirements to build wheel ... \u001b[?25l-\b \bdone\r\n",
      "\u001b[?25h  Preparing metadata (pyproject.toml) ... \u001b[?25l-\b \bdone\r\n",
      "\u001b[?25hRequirement already satisfied: beautifulsoup4>=4.11.1 in /opt/conda/lib/python3.10/site-packages (from yfinance) (4.12.2)\r\n",
      "Requirement already satisfied: html5lib>=1.1 in /opt/conda/lib/python3.10/site-packages (from yfinance) (1.1)\r\n",
      "Requirement already satisfied: soupsieve>1.2 in /opt/conda/lib/python3.10/site-packages (from beautifulsoup4>=4.11.1->yfinance) (2.5)\r\n",
      "Requirement already satisfied: six>=1.9 in /opt/conda/lib/python3.10/site-packages (from html5lib>=1.1->yfinance) (1.16.0)\r\n",
      "Requirement already satisfied: webencodings in /opt/conda/lib/python3.10/site-packages (from html5lib>=1.1->yfinance) (0.5.1)\r\n",
      "Requirement already satisfied: python-dateutil>=2.8.2 in /opt/conda/lib/python3.10/site-packages (from pandas>=1.3.0->yfinance) (2.9.0.post0)\r\n",
      "Requirement already satisfied: tzdata>=2022.7 in /opt/conda/lib/python3.10/site-packages (from pandas>=1.3.0->yfinance) (2023.4)\r\n",
      "Requirement already satisfied: charset-normalizer<4,>=2 in /opt/conda/lib/python3.10/site-packages (from requests>=2.31->yfinance) (3.3.2)\r\n",
      "Requirement already satisfied: idna<4,>=2.5 in /opt/conda/lib/python3.10/site-packages (from requests>=2.31->yfinance) (3.6)\r\n",
      "Requirement already satisfied: urllib3<3,>=1.21.1 in /opt/conda/lib/python3.10/site-packages (from requests>=2.31->yfinance) (1.26.18)\r\n",
      "Requirement already satisfied: certifi>=2017.4.17 in /opt/conda/lib/python3.10/site-packages (from requests>=2.31->yfinance) (2024.2.2)\r\n",
      "Downloading yfinance-0.2.40-py2.py3-none-any.whl (73 kB)\r\n",
      "\u001b[2K   \u001b[90m━━━━━━━━━━━━━━━━━━━━━━━━━━━━━━━━━━━━━━━━\u001b[0m \u001b[32m73.5/73.5 kB\u001b[0m \u001b[31m2.9 MB/s\u001b[0m eta \u001b[36m0:00:00\u001b[0m\r\n",
      "\u001b[?25hDownloading multitasking-0.0.11-py3-none-any.whl (8.5 kB)\r\n",
      "Building wheels for collected packages: peewee\r\n",
      "  Building wheel for peewee (pyproject.toml) ... \u001b[?25l-\b \b\\\b \b|\b \b/\b \bdone\r\n",
      "\u001b[?25h  Created wheel for peewee: filename=peewee-3.17.6-cp310-cp310-linux_x86_64.whl size=293634 sha256=7f1685448d1a0130824dc1bbae57ee98911d07b4fae67d2985d8599c6d507940\r\n",
      "  Stored in directory: /root/.cache/pip/wheels/4b/b9/b0/83d6e258e8f963f5ff111a2cd8c483ca59372a86e6a2535212\r\n",
      "Successfully built peewee\r\n",
      "Installing collected packages: peewee, multitasking, yfinance\r\n",
      "Successfully installed multitasking-0.0.11 peewee-3.17.6 yfinance-0.2.40\r\n",
      "Note: you may need to restart the kernel to use updated packages.\n"
     ]
    }
   ],
   "source": [
    "%pip install yfinance"
   ]
  },
  {
   "cell_type": "code",
   "execution_count": 2,
   "id": "16e9bee3",
   "metadata": {
    "execution": {
     "iopub.execute_input": "2024-07-11T14:50:30.962391Z",
     "iopub.status.busy": "2024-07-11T14:50:30.961185Z",
     "iopub.status.idle": "2024-07-11T14:50:32.333591Z",
     "shell.execute_reply": "2024-07-11T14:50:32.332337Z"
    },
    "papermill": {
     "duration": 1.385261,
     "end_time": "2024-07-11T14:50:32.336879",
     "exception": false,
     "start_time": "2024-07-11T14:50:30.951618",
     "status": "completed"
    },
    "tags": []
   },
   "outputs": [],
   "source": [
    "import yfinance as yf\n",
    "import pandas as pd"
   ]
  },
  {
   "cell_type": "markdown",
   "id": "70b13f8a",
   "metadata": {
    "papermill": {
     "duration": 0.007455,
     "end_time": "2024-07-11T14:50:32.352136",
     "exception": false,
     "start_time": "2024-07-11T14:50:32.344681",
     "status": "completed"
    },
    "tags": []
   },
   "source": [
    "# Get Data"
   ]
  },
  {
   "cell_type": "markdown",
   "id": "a9db3891",
   "metadata": {
    "papermill": {
     "duration": 0.007152,
     "end_time": "2024-07-11T14:50:32.366834",
     "exception": false,
     "start_time": "2024-07-11T14:50:32.359682",
     "status": "completed"
    },
    "tags": []
   },
   "source": [
    "Here we get data for various currency pairs. There are conventions with currency pairs that we outline below.\n",
    "\n",
    "A currency pair is a pair XXX/YYY where XXX is the *base currency* and YYY is the *quote currency*. The currency pair tells you how much of the quote currency is needed to get 1 unit of the base currency.\n",
    "\n",
    "A common base currency is USD. For example, if the pair USD/GBP is at 0.81, it means that you require 0.81GBP to purhcase 1USD. \n",
    "\n",
    "* If someone *buys* the currency pair XXX/YYY, they are hoping that the base currency will appreciate against the quote currency (the value of the pair will go up since it would take more of the quote currency to buy 1 unit of the base currency).\n",
    "* If someone *sells* the currency pair XXX/YYY, they are hoping that the base currency will depreciate against the quote currency (the value of the pair will go down since it would take less of the quote currency to buy 1 unit of the base currency).\n",
    "\n",
    "What does it actually mean to 'buy' or 'sell' the pair? It helps to think about physically exchanging currencies with a counerparty (e.g. an airport currency exchange)\n",
    "\n",
    "* If you buy the pair XXX/YYY, you sell your base currency to the counterparty and in return get the quote currency (and the amount of quote currency you get depends on the value of the pair).\n",
    "* If you sell the pair XXX/YYY, you sell your quote currency to the counterparty and in return get the base currency (and the amount of base currency you get depends on the value of the pair)\n",
    "\n",
    "To close the position, you simply enter into the opposite trade (except now the value of the pair has changed). Profit/loss is the difference between the price at which you bought/sold the currency pair initially and the price at which you sold/bought the currency pair when closing. \n",
    "\n",
    "For the purpose of HRP, our base currency will be USD so we will fetch various currency pairs but the base currency is always USD."
   ]
  },
  {
   "cell_type": "markdown",
   "id": "a874749c",
   "metadata": {
    "papermill": {
     "duration": 0.007363,
     "end_time": "2024-07-11T14:50:32.381751",
     "exception": false,
     "start_time": "2024-07-11T14:50:32.374388",
     "status": "completed"
    },
    "tags": []
   },
   "source": [
    "### Download Data"
   ]
  },
  {
   "cell_type": "code",
   "execution_count": 3,
   "id": "08352939",
   "metadata": {
    "execution": {
     "iopub.execute_input": "2024-07-11T14:50:32.399768Z",
     "iopub.status.busy": "2024-07-11T14:50:32.399088Z",
     "iopub.status.idle": "2024-07-11T14:50:32.406825Z",
     "shell.execute_reply": "2024-07-11T14:50:32.405619Z"
    },
    "papermill": {
     "duration": 0.020006,
     "end_time": "2024-07-11T14:50:32.409594",
     "exception": false,
     "start_time": "2024-07-11T14:50:32.389588",
     "status": "completed"
    },
    "tags": []
   },
   "outputs": [],
   "source": [
    "# Get tickers from yahoo finance for currency pairs with USD as base currency\n",
    "tickers = [\n",
    "    'USDAUD=X', # Australian Dollar\n",
    "    'USDBRL=X', # Brazilian Real\n",
    "    'USDCAD=X', # Canadian Dollar\n",
    "    'USDCNY=X', # Chinese Yuan\n",
    "    'USDEUR=X', # Euro\n",
    "    'USDINR=X', # Indian Rupee\n",
    "    'USDIDR=X', # Indonesian Rupiah\n",
    "    'USDJPY=X', # Japanese Yen\n",
    "    'USDMXN=X', # Mexican Peso\n",
    "    'USDZAR=X', # South African Rand\n",
    "    'USDKRW=X', # South Korean Won\n",
    "    'USDGBP=X', # British Pound\n",
    "    'USDCHF=X', # Swiss Franc\n",
    "    'USDSEK=X', # Swedish Krona\n",
    "    'USDNOK=X', # Norwegian Krone\n",
    "    'USDNZD=X', # New Zealand Dollar\n",
    "    'USDCZK=X', # Czech Koruna\n",
    "    'USDHUF=X', # Hungarian Forint\n",
    "    'USDPLN=X', # Polish Zloty\n",
    "]\n",
    "\n",
    "# Define date range\n",
    "start_date = '2006-07-01'\n",
    "end_date = '2019-07-01'"
   ]
  },
  {
   "cell_type": "code",
   "execution_count": 4,
   "id": "470c8fa2",
   "metadata": {
    "execution": {
     "iopub.execute_input": "2024-07-11T14:50:32.427771Z",
     "iopub.status.busy": "2024-07-11T14:50:32.426443Z",
     "iopub.status.idle": "2024-07-11T14:50:35.952692Z",
     "shell.execute_reply": "2024-07-11T14:50:35.950914Z"
    },
    "papermill": {
     "duration": 3.538795,
     "end_time": "2024-07-11T14:50:35.956069",
     "exception": false,
     "start_time": "2024-07-11T14:50:32.417274",
     "status": "completed"
    },
    "tags": []
   },
   "outputs": [],
   "source": [
    "# Dictionary to store data\n",
    "data = {}\n",
    "\n",
    "# Get data for each quote currency\n",
    "for t in tickers:\n",
    "    # Get historical data\n",
    "    yf_ticker = yf.Ticker(t)\n",
    "    ticker_data = yf_ticker.history(start=start_date, end=end_date)\n",
    "    \n",
    "    # Limit to 'Close' column and use quote currency name as column name\n",
    "    data[f\"USD/{t[3:6]}\"] = ticker_data['Close']\n",
    "\n",
    "# Create dataframe from dictionary\n",
    "df = pd.DataFrame(data)"
   ]
  },
  {
   "cell_type": "code",
   "execution_count": 5,
   "id": "de4d1286",
   "metadata": {
    "execution": {
     "iopub.execute_input": "2024-07-11T14:50:35.974962Z",
     "iopub.status.busy": "2024-07-11T14:50:35.974488Z",
     "iopub.status.idle": "2024-07-11T14:50:36.008752Z",
     "shell.execute_reply": "2024-07-11T14:50:36.007366Z"
    },
    "papermill": {
     "duration": 0.047353,
     "end_time": "2024-07-11T14:50:36.011542",
     "exception": false,
     "start_time": "2024-07-11T14:50:35.964189",
     "status": "completed"
    },
    "tags": []
   },
   "outputs": [
    {
     "data": {
      "text/html": [
       "<div>\n",
       "<style scoped>\n",
       "    .dataframe tbody tr th:only-of-type {\n",
       "        vertical-align: middle;\n",
       "    }\n",
       "\n",
       "    .dataframe tbody tr th {\n",
       "        vertical-align: top;\n",
       "    }\n",
       "\n",
       "    .dataframe thead th {\n",
       "        text-align: right;\n",
       "    }\n",
       "</style>\n",
       "<table border=\"1\" class=\"dataframe\">\n",
       "  <thead>\n",
       "    <tr style=\"text-align: right;\">\n",
       "      <th></th>\n",
       "      <th>USD/AUD</th>\n",
       "      <th>USD/BRL</th>\n",
       "      <th>USD/CAD</th>\n",
       "      <th>USD/CNY</th>\n",
       "      <th>USD/EUR</th>\n",
       "      <th>USD/INR</th>\n",
       "      <th>USD/IDR</th>\n",
       "      <th>USD/JPY</th>\n",
       "      <th>USD/MXN</th>\n",
       "      <th>USD/ZAR</th>\n",
       "      <th>USD/KRW</th>\n",
       "      <th>USD/GBP</th>\n",
       "      <th>USD/CHF</th>\n",
       "      <th>USD/SEK</th>\n",
       "      <th>USD/NOK</th>\n",
       "      <th>USD/NZD</th>\n",
       "      <th>USD/CZK</th>\n",
       "      <th>USD/HUF</th>\n",
       "      <th>USD/PLN</th>\n",
       "    </tr>\n",
       "    <tr>\n",
       "      <th>Date</th>\n",
       "      <th></th>\n",
       "      <th></th>\n",
       "      <th></th>\n",
       "      <th></th>\n",
       "      <th></th>\n",
       "      <th></th>\n",
       "      <th></th>\n",
       "      <th></th>\n",
       "      <th></th>\n",
       "      <th></th>\n",
       "      <th></th>\n",
       "      <th></th>\n",
       "      <th></th>\n",
       "      <th></th>\n",
       "      <th></th>\n",
       "      <th></th>\n",
       "      <th></th>\n",
       "      <th></th>\n",
       "      <th></th>\n",
       "    </tr>\n",
       "  </thead>\n",
       "  <tbody>\n",
       "    <tr>\n",
       "      <th>2006-07-03 00:00:00+01:00</th>\n",
       "      <td>1.3463</td>\n",
       "      <td>2.1570</td>\n",
       "      <td>1.1116</td>\n",
       "      <td>7.9902</td>\n",
       "      <td>0.78119</td>\n",
       "      <td>45.939999</td>\n",
       "      <td>9050.0</td>\n",
       "      <td>114.750000</td>\n",
       "      <td>11.0770</td>\n",
       "      <td>7.0050</td>\n",
       "      <td>932.690002</td>\n",
       "      <td>0.54277</td>\n",
       "      <td>1.2243</td>\n",
       "      <td>7.1802</td>\n",
       "      <td>6.2313</td>\n",
       "      <td>1.6477</td>\n",
       "      <td>22.155001</td>\n",
       "      <td>218.910004</td>\n",
       "      <td>3.1313</td>\n",
       "    </tr>\n",
       "    <tr>\n",
       "      <th>2006-07-04 00:00:00+01:00</th>\n",
       "      <td>1.3444</td>\n",
       "      <td>2.1635</td>\n",
       "      <td>1.1087</td>\n",
       "      <td>7.9823</td>\n",
       "      <td>0.78186</td>\n",
       "      <td>45.900002</td>\n",
       "      <td>8964.0</td>\n",
       "      <td>115.095001</td>\n",
       "      <td>11.0535</td>\n",
       "      <td>6.9875</td>\n",
       "      <td>932.950012</td>\n",
       "      <td>0.54201</td>\n",
       "      <td>1.2240</td>\n",
       "      <td>7.1619</td>\n",
       "      <td>6.2274</td>\n",
       "      <td>1.6420</td>\n",
       "      <td>22.211000</td>\n",
       "      <td>217.910004</td>\n",
       "      <td>3.1253</td>\n",
       "    </tr>\n",
       "    <tr>\n",
       "      <th>2006-07-05 00:00:00+01:00</th>\n",
       "      <td>1.3479</td>\n",
       "      <td>2.1885</td>\n",
       "      <td>1.1121</td>\n",
       "      <td>7.9860</td>\n",
       "      <td>0.78530</td>\n",
       "      <td>45.950001</td>\n",
       "      <td>9020.0</td>\n",
       "      <td>115.570000</td>\n",
       "      <td>11.1809</td>\n",
       "      <td>7.2597</td>\n",
       "      <td>940.679993</td>\n",
       "      <td>0.54475</td>\n",
       "      <td>1.2313</td>\n",
       "      <td>7.2121</td>\n",
       "      <td>6.2319</td>\n",
       "      <td>1.6541</td>\n",
       "      <td>22.385000</td>\n",
       "      <td>221.190002</td>\n",
       "      <td>3.1267</td>\n",
       "    </tr>\n",
       "    <tr>\n",
       "      <th>2006-07-06 00:00:00+01:00</th>\n",
       "      <td>1.3410</td>\n",
       "      <td>2.1790</td>\n",
       "      <td>1.1125</td>\n",
       "      <td>7.9860</td>\n",
       "      <td>0.78272</td>\n",
       "      <td>45.939999</td>\n",
       "      <td>9020.0</td>\n",
       "      <td>115.260002</td>\n",
       "      <td>11.0230</td>\n",
       "      <td>7.1117</td>\n",
       "      <td>934.919983</td>\n",
       "      <td>0.54422</td>\n",
       "      <td>1.2286</td>\n",
       "      <td>7.1694</td>\n",
       "      <td>6.2242</td>\n",
       "      <td>1.6532</td>\n",
       "      <td>22.280001</td>\n",
       "      <td>219.320007</td>\n",
       "      <td>3.1449</td>\n",
       "    </tr>\n",
       "    <tr>\n",
       "      <th>2006-07-07 00:00:00+01:00</th>\n",
       "      <td>1.3298</td>\n",
       "      <td>2.1673</td>\n",
       "      <td>1.1114</td>\n",
       "      <td>7.9755</td>\n",
       "      <td>0.77979</td>\n",
       "      <td>45.785000</td>\n",
       "      <td>8965.0</td>\n",
       "      <td>113.959999</td>\n",
       "      <td>10.9820</td>\n",
       "      <td>7.0438</td>\n",
       "      <td>936.820007</td>\n",
       "      <td>0.54013</td>\n",
       "      <td>1.2238</td>\n",
       "      <td>7.1341</td>\n",
       "      <td>6.2195</td>\n",
       "      <td>1.6361</td>\n",
       "      <td>22.200001</td>\n",
       "      <td>218.199997</td>\n",
       "      <td>3.1012</td>\n",
       "    </tr>\n",
       "  </tbody>\n",
       "</table>\n",
       "</div>"
      ],
      "text/plain": [
       "                           USD/AUD  USD/BRL  USD/CAD  USD/CNY  USD/EUR  \\\n",
       "Date                                                                     \n",
       "2006-07-03 00:00:00+01:00   1.3463   2.1570   1.1116   7.9902  0.78119   \n",
       "2006-07-04 00:00:00+01:00   1.3444   2.1635   1.1087   7.9823  0.78186   \n",
       "2006-07-05 00:00:00+01:00   1.3479   2.1885   1.1121   7.9860  0.78530   \n",
       "2006-07-06 00:00:00+01:00   1.3410   2.1790   1.1125   7.9860  0.78272   \n",
       "2006-07-07 00:00:00+01:00   1.3298   2.1673   1.1114   7.9755  0.77979   \n",
       "\n",
       "                             USD/INR  USD/IDR     USD/JPY  USD/MXN  USD/ZAR  \\\n",
       "Date                                                                          \n",
       "2006-07-03 00:00:00+01:00  45.939999   9050.0  114.750000  11.0770   7.0050   \n",
       "2006-07-04 00:00:00+01:00  45.900002   8964.0  115.095001  11.0535   6.9875   \n",
       "2006-07-05 00:00:00+01:00  45.950001   9020.0  115.570000  11.1809   7.2597   \n",
       "2006-07-06 00:00:00+01:00  45.939999   9020.0  115.260002  11.0230   7.1117   \n",
       "2006-07-07 00:00:00+01:00  45.785000   8965.0  113.959999  10.9820   7.0438   \n",
       "\n",
       "                              USD/KRW  USD/GBP  USD/CHF  USD/SEK  USD/NOK  \\\n",
       "Date                                                                        \n",
       "2006-07-03 00:00:00+01:00  932.690002  0.54277   1.2243   7.1802   6.2313   \n",
       "2006-07-04 00:00:00+01:00  932.950012  0.54201   1.2240   7.1619   6.2274   \n",
       "2006-07-05 00:00:00+01:00  940.679993  0.54475   1.2313   7.2121   6.2319   \n",
       "2006-07-06 00:00:00+01:00  934.919983  0.54422   1.2286   7.1694   6.2242   \n",
       "2006-07-07 00:00:00+01:00  936.820007  0.54013   1.2238   7.1341   6.2195   \n",
       "\n",
       "                           USD/NZD    USD/CZK     USD/HUF  USD/PLN  \n",
       "Date                                                                \n",
       "2006-07-03 00:00:00+01:00   1.6477  22.155001  218.910004   3.1313  \n",
       "2006-07-04 00:00:00+01:00   1.6420  22.211000  217.910004   3.1253  \n",
       "2006-07-05 00:00:00+01:00   1.6541  22.385000  221.190002   3.1267  \n",
       "2006-07-06 00:00:00+01:00   1.6532  22.280001  219.320007   3.1449  \n",
       "2006-07-07 00:00:00+01:00   1.6361  22.200001  218.199997   3.1012  "
      ]
     },
     "execution_count": 5,
     "metadata": {},
     "output_type": "execute_result"
    }
   ],
   "source": [
    "# Display the data\n",
    "df.head()"
   ]
  },
  {
   "cell_type": "markdown",
   "id": "6edc3e39",
   "metadata": {
    "papermill": {
     "duration": 0.007762,
     "end_time": "2024-07-11T14:50:36.027451",
     "exception": false,
     "start_time": "2024-07-11T14:50:36.019689",
     "status": "completed"
    },
    "tags": []
   },
   "source": [
    "# Write Output"
   ]
  },
  {
   "cell_type": "code",
   "execution_count": 6,
   "id": "1026ecf9",
   "metadata": {
    "execution": {
     "iopub.execute_input": "2024-07-11T14:50:36.045648Z",
     "iopub.status.busy": "2024-07-11T14:50:36.045219Z",
     "iopub.status.idle": "2024-07-11T14:50:36.245677Z",
     "shell.execute_reply": "2024-07-11T14:50:36.244242Z"
    },
    "papermill": {
     "duration": 0.213667,
     "end_time": "2024-07-11T14:50:36.249207",
     "exception": false,
     "start_time": "2024-07-11T14:50:36.035540",
     "status": "completed"
    },
    "tags": []
   },
   "outputs": [],
   "source": [
    "# Write to file\n",
    "df.to_csv(path_or_buf=\"data.csv\")"
   ]
  }
 ],
 "metadata": {
  "kaggle": {
   "accelerator": "none",
   "dataSources": [],
   "dockerImageVersionId": 30732,
   "isGpuEnabled": false,
   "isInternetEnabled": true,
   "language": "python",
   "sourceType": "notebook"
  },
  "kernelspec": {
   "display_name": "Python 3",
   "language": "python",
   "name": "python3"
  },
  "language_info": {
   "codemirror_mode": {
    "name": "ipython",
    "version": 3
   },
   "file_extension": ".py",
   "mimetype": "text/x-python",
   "name": "python",
   "nbconvert_exporter": "python",
   "pygments_lexer": "ipython3",
   "version": "3.10.13"
  },
  "papermill": {
   "default_parameters": {},
   "duration": 57.843989,
   "end_time": "2024-07-11T14:50:37.082730",
   "environment_variables": {},
   "exception": null,
   "input_path": "__notebook__.ipynb",
   "output_path": "__notebook__.ipynb",
   "parameters": {},
   "start_time": "2024-07-11T14:49:39.238741",
   "version": "2.5.0"
  }
 },
 "nbformat": 4,
 "nbformat_minor": 5
}
