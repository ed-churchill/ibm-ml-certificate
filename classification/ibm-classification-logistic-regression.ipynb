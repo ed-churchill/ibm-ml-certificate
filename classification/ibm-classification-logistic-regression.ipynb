{
 "cells": [
  {
   "cell_type": "markdown",
   "id": "f54f199a",
   "metadata": {
    "papermill": {
     "duration": 0.004916,
     "end_time": "2024-06-02T13:41:34.499821",
     "exception": false,
     "start_time": "2024-06-02T13:41:34.494905",
     "status": "completed"
    },
    "tags": []
   },
   "source": [
    "# Imports"
   ]
  },
  {
   "cell_type": "code",
   "execution_count": 1,
   "id": "4e905267",
   "metadata": {
    "execution": {
     "iopub.execute_input": "2024-06-02T13:41:34.511374Z",
     "iopub.status.busy": "2024-06-02T13:41:34.510920Z",
     "iopub.status.idle": "2024-06-02T13:41:35.472680Z",
     "shell.execute_reply": "2024-06-02T13:41:35.471312Z"
    },
    "papermill": {
     "duration": 0.971001,
     "end_time": "2024-06-02T13:41:35.475542",
     "exception": false,
     "start_time": "2024-06-02T13:41:34.504541",
     "status": "completed"
    },
    "tags": []
   },
   "outputs": [],
   "source": [
    "import pandas as pd\n",
    "import matplotlib.pyplot as plt"
   ]
  },
  {
   "cell_type": "markdown",
   "id": "323f61cc",
   "metadata": {
    "papermill": {
     "duration": 0.004585,
     "end_time": "2024-06-02T13:41:35.485305",
     "exception": false,
     "start_time": "2024-06-02T13:41:35.480720",
     "status": "completed"
    },
    "tags": []
   },
   "source": [
    "# Read Data"
   ]
  },
  {
   "cell_type": "code",
   "execution_count": 2,
   "id": "8ea0a70f",
   "metadata": {
    "execution": {
     "iopub.execute_input": "2024-06-02T13:41:35.496202Z",
     "iopub.status.busy": "2024-06-02T13:41:35.495634Z",
     "iopub.status.idle": "2024-06-02T13:42:18.568556Z",
     "shell.execute_reply": "2024-06-02T13:42:18.567448Z"
    },
    "papermill": {
     "duration": 43.081922,
     "end_time": "2024-06-02T13:42:18.571795",
     "exception": false,
     "start_time": "2024-06-02T13:41:35.489873",
     "status": "completed"
    },
    "tags": []
   },
   "outputs": [],
   "source": [
    "X_train = pd.read_csv(\"/kaggle/input/ibm-classification-feature-selection/X_train_normalized.csv\", index_col=[0])\n",
    "X_test = pd.read_csv(\"/kaggle/input/ibm-classification-feature-selection/X_test_normalized.csv\", index_col=[0])\n",
    "y_train = pd.read_csv(\"/kaggle/input/ibm-classification-feature-selection/y_train.csv\", index_col=[0])\n",
    "y_test = pd.read_csv(\"/kaggle/input/ibm-classification-feature-selection/y_test.csv\", index_col=[0]).reset_index(drop=True)"
   ]
  },
  {
   "cell_type": "code",
   "execution_count": 3,
   "id": "068d207d",
   "metadata": {
    "execution": {
     "iopub.execute_input": "2024-06-02T13:42:18.583321Z",
     "iopub.status.busy": "2024-06-02T13:42:18.582396Z",
     "iopub.status.idle": "2024-06-02T13:42:18.613702Z",
     "shell.execute_reply": "2024-06-02T13:42:18.612476Z"
    },
    "papermill": {
     "duration": 0.039833,
     "end_time": "2024-06-02T13:42:18.616460",
     "exception": false,
     "start_time": "2024-06-02T13:42:18.576627",
     "status": "completed"
    },
    "tags": []
   },
   "outputs": [
    {
     "data": {
      "text/html": [
       "<div>\n",
       "<style scoped>\n",
       "    .dataframe tbody tr th:only-of-type {\n",
       "        vertical-align: middle;\n",
       "    }\n",
       "\n",
       "    .dataframe tbody tr th {\n",
       "        vertical-align: top;\n",
       "    }\n",
       "\n",
       "    .dataframe thead th {\n",
       "        text-align: right;\n",
       "    }\n",
       "</style>\n",
       "<table border=\"1\" class=\"dataframe\">\n",
       "  <thead>\n",
       "    <tr style=\"text-align: right;\">\n",
       "      <th></th>\n",
       "      <th>Symbol</th>\n",
       "      <th>Volume</th>\n",
       "      <th>Sector_Basic Materials</th>\n",
       "      <th>Sector_Communication Services</th>\n",
       "      <th>Sector_Consumer Cyclical</th>\n",
       "      <th>Sector_Consumer Defensive</th>\n",
       "      <th>Sector_Energy</th>\n",
       "      <th>Sector_Financial Services</th>\n",
       "      <th>Sector_Healthcare</th>\n",
       "      <th>Sector_Industrials</th>\n",
       "      <th>...</th>\n",
       "      <th>Adj Close 14-Day std Differenced</th>\n",
       "      <th>Adj Close 26-Day std Differenced</th>\n",
       "      <th>Adj Close 7-Day Upper Bollinger Band Differenced</th>\n",
       "      <th>Distance to Adj Close 7-Day Upper Bollinger Band Differenced</th>\n",
       "      <th>True Range Differenced</th>\n",
       "      <th>True Range 26-Day SMA Differenced</th>\n",
       "      <th>Adj Close Differenced</th>\n",
       "      <th>High Differenced</th>\n",
       "      <th>Low Differenced</th>\n",
       "      <th>Open Differenced</th>\n",
       "    </tr>\n",
       "  </thead>\n",
       "  <tbody>\n",
       "    <tr>\n",
       "      <th>0</th>\n",
       "      <td>-1.439324</td>\n",
       "      <td>-0.326871</td>\n",
       "      <td>-0.21136</td>\n",
       "      <td>-0.21136</td>\n",
       "      <td>-0.356345</td>\n",
       "      <td>-0.279992</td>\n",
       "      <td>-0.222173</td>\n",
       "      <td>-0.394553</td>\n",
       "      <td>-0.387284</td>\n",
       "      <td>-0.412467</td>\n",
       "      <td>...</td>\n",
       "      <td>0.041515</td>\n",
       "      <td>0.037984</td>\n",
       "      <td>-0.002604</td>\n",
       "      <td>-0.016884</td>\n",
       "      <td>-0.066039</td>\n",
       "      <td>0.104504</td>\n",
       "      <td>-0.020330</td>\n",
       "      <td>0.008943</td>\n",
       "      <td>0.015877</td>\n",
       "      <td>0.062622</td>\n",
       "    </tr>\n",
       "    <tr>\n",
       "      <th>1</th>\n",
       "      <td>-1.069061</td>\n",
       "      <td>-0.344648</td>\n",
       "      <td>-0.21136</td>\n",
       "      <td>-0.21136</td>\n",
       "      <td>-0.356345</td>\n",
       "      <td>-0.279992</td>\n",
       "      <td>-0.222173</td>\n",
       "      <td>-0.394553</td>\n",
       "      <td>2.582087</td>\n",
       "      <td>-0.412467</td>\n",
       "      <td>...</td>\n",
       "      <td>-0.410893</td>\n",
       "      <td>-0.015098</td>\n",
       "      <td>0.023690</td>\n",
       "      <td>-0.111938</td>\n",
       "      <td>-0.141182</td>\n",
       "      <td>-0.090630</td>\n",
       "      <td>-0.107768</td>\n",
       "      <td>0.032258</td>\n",
       "      <td>0.030478</td>\n",
       "      <td>0.096788</td>\n",
       "    </tr>\n",
       "    <tr>\n",
       "      <th>2</th>\n",
       "      <td>1.641263</td>\n",
       "      <td>-0.295005</td>\n",
       "      <td>-0.21136</td>\n",
       "      <td>-0.21136</td>\n",
       "      <td>-0.356345</td>\n",
       "      <td>-0.279992</td>\n",
       "      <td>-0.222173</td>\n",
       "      <td>-0.394553</td>\n",
       "      <td>-0.387284</td>\n",
       "      <td>-0.412467</td>\n",
       "      <td>...</td>\n",
       "      <td>0.081853</td>\n",
       "      <td>0.002250</td>\n",
       "      <td>0.188618</td>\n",
       "      <td>0.000862</td>\n",
       "      <td>-0.002066</td>\n",
       "      <td>0.105746</td>\n",
       "      <td>0.125379</td>\n",
       "      <td>0.102205</td>\n",
       "      <td>0.158246</td>\n",
       "      <td>0.137784</td>\n",
       "    </tr>\n",
       "    <tr>\n",
       "      <th>3</th>\n",
       "      <td>-0.343346</td>\n",
       "      <td>0.285874</td>\n",
       "      <td>-0.21136</td>\n",
       "      <td>-0.21136</td>\n",
       "      <td>-0.356345</td>\n",
       "      <td>-0.279992</td>\n",
       "      <td>-0.222173</td>\n",
       "      <td>-0.394553</td>\n",
       "      <td>2.582087</td>\n",
       "      <td>-0.412467</td>\n",
       "      <td>...</td>\n",
       "      <td>0.162828</td>\n",
       "      <td>-0.007191</td>\n",
       "      <td>0.102354</td>\n",
       "      <td>0.062595</td>\n",
       "      <td>0.043600</td>\n",
       "      <td>0.091515</td>\n",
       "      <td>0.136523</td>\n",
       "      <td>0.094434</td>\n",
       "      <td>0.004925</td>\n",
       "      <td>0.076288</td>\n",
       "    </tr>\n",
       "    <tr>\n",
       "      <th>4</th>\n",
       "      <td>1.256190</td>\n",
       "      <td>-0.328472</td>\n",
       "      <td>-0.21136</td>\n",
       "      <td>-0.21136</td>\n",
       "      <td>-0.356345</td>\n",
       "      <td>-0.279992</td>\n",
       "      <td>-0.222173</td>\n",
       "      <td>2.534516</td>\n",
       "      <td>-0.387284</td>\n",
       "      <td>-0.412467</td>\n",
       "      <td>...</td>\n",
       "      <td>1.195841</td>\n",
       "      <td>-0.202535</td>\n",
       "      <td>1.265493</td>\n",
       "      <td>-0.284640</td>\n",
       "      <td>-0.679202</td>\n",
       "      <td>-1.099516</td>\n",
       "      <td>0.521058</td>\n",
       "      <td>0.755054</td>\n",
       "      <td>0.866425</td>\n",
       "      <td>0.817676</td>\n",
       "    </tr>\n",
       "  </tbody>\n",
       "</table>\n",
       "<p>5 rows × 122 columns</p>\n",
       "</div>"
      ],
      "text/plain": [
       "     Symbol    Volume  Sector_Basic Materials  Sector_Communication Services  \\\n",
       "0 -1.439324 -0.326871                -0.21136                       -0.21136   \n",
       "1 -1.069061 -0.344648                -0.21136                       -0.21136   \n",
       "2  1.641263 -0.295005                -0.21136                       -0.21136   \n",
       "3 -0.343346  0.285874                -0.21136                       -0.21136   \n",
       "4  1.256190 -0.328472                -0.21136                       -0.21136   \n",
       "\n",
       "   Sector_Consumer Cyclical  Sector_Consumer Defensive  Sector_Energy  \\\n",
       "0                 -0.356345                  -0.279992      -0.222173   \n",
       "1                 -0.356345                  -0.279992      -0.222173   \n",
       "2                 -0.356345                  -0.279992      -0.222173   \n",
       "3                 -0.356345                  -0.279992      -0.222173   \n",
       "4                 -0.356345                  -0.279992      -0.222173   \n",
       "\n",
       "   Sector_Financial Services  Sector_Healthcare  Sector_Industrials  ...  \\\n",
       "0                  -0.394553          -0.387284           -0.412467  ...   \n",
       "1                  -0.394553           2.582087           -0.412467  ...   \n",
       "2                  -0.394553          -0.387284           -0.412467  ...   \n",
       "3                  -0.394553           2.582087           -0.412467  ...   \n",
       "4                   2.534516          -0.387284           -0.412467  ...   \n",
       "\n",
       "   Adj Close 14-Day std Differenced  Adj Close 26-Day std Differenced  \\\n",
       "0                          0.041515                          0.037984   \n",
       "1                         -0.410893                         -0.015098   \n",
       "2                          0.081853                          0.002250   \n",
       "3                          0.162828                         -0.007191   \n",
       "4                          1.195841                         -0.202535   \n",
       "\n",
       "   Adj Close 7-Day Upper Bollinger Band Differenced  \\\n",
       "0                                         -0.002604   \n",
       "1                                          0.023690   \n",
       "2                                          0.188618   \n",
       "3                                          0.102354   \n",
       "4                                          1.265493   \n",
       "\n",
       "   Distance to Adj Close 7-Day Upper Bollinger Band Differenced  \\\n",
       "0                                          -0.016884              \n",
       "1                                          -0.111938              \n",
       "2                                           0.000862              \n",
       "3                                           0.062595              \n",
       "4                                          -0.284640              \n",
       "\n",
       "   True Range Differenced  True Range 26-Day SMA Differenced  \\\n",
       "0               -0.066039                           0.104504   \n",
       "1               -0.141182                          -0.090630   \n",
       "2               -0.002066                           0.105746   \n",
       "3                0.043600                           0.091515   \n",
       "4               -0.679202                          -1.099516   \n",
       "\n",
       "   Adj Close Differenced  High Differenced  Low Differenced  Open Differenced  \n",
       "0              -0.020330          0.008943         0.015877          0.062622  \n",
       "1              -0.107768          0.032258         0.030478          0.096788  \n",
       "2               0.125379          0.102205         0.158246          0.137784  \n",
       "3               0.136523          0.094434         0.004925          0.076288  \n",
       "4               0.521058          0.755054         0.866425          0.817676  \n",
       "\n",
       "[5 rows x 122 columns]"
      ]
     },
     "execution_count": 3,
     "metadata": {},
     "output_type": "execute_result"
    }
   ],
   "source": [
    "X_train.head(5)"
   ]
  },
  {
   "cell_type": "code",
   "execution_count": 4,
   "id": "3bb53b1d",
   "metadata": {
    "execution": {
     "iopub.execute_input": "2024-06-02T13:42:18.628423Z",
     "iopub.status.busy": "2024-06-02T13:42:18.628014Z",
     "iopub.status.idle": "2024-06-02T13:42:18.651694Z",
     "shell.execute_reply": "2024-06-02T13:42:18.650584Z"
    },
    "papermill": {
     "duration": 0.032508,
     "end_time": "2024-06-02T13:42:18.654045",
     "exception": false,
     "start_time": "2024-06-02T13:42:18.621537",
     "status": "completed"
    },
    "tags": []
   },
   "outputs": [
    {
     "data": {
      "text/html": [
       "<div>\n",
       "<style scoped>\n",
       "    .dataframe tbody tr th:only-of-type {\n",
       "        vertical-align: middle;\n",
       "    }\n",
       "\n",
       "    .dataframe tbody tr th {\n",
       "        vertical-align: top;\n",
       "    }\n",
       "\n",
       "    .dataframe thead th {\n",
       "        text-align: right;\n",
       "    }\n",
       "</style>\n",
       "<table border=\"1\" class=\"dataframe\">\n",
       "  <thead>\n",
       "    <tr style=\"text-align: right;\">\n",
       "      <th></th>\n",
       "      <th>Symbol</th>\n",
       "      <th>Volume</th>\n",
       "      <th>Sector_Basic Materials</th>\n",
       "      <th>Sector_Communication Services</th>\n",
       "      <th>Sector_Consumer Cyclical</th>\n",
       "      <th>Sector_Consumer Defensive</th>\n",
       "      <th>Sector_Energy</th>\n",
       "      <th>Sector_Financial Services</th>\n",
       "      <th>Sector_Healthcare</th>\n",
       "      <th>Sector_Industrials</th>\n",
       "      <th>...</th>\n",
       "      <th>Adj Close 14-Day std Differenced</th>\n",
       "      <th>Adj Close 26-Day std Differenced</th>\n",
       "      <th>Adj Close 7-Day Upper Bollinger Band Differenced</th>\n",
       "      <th>Distance to Adj Close 7-Day Upper Bollinger Band Differenced</th>\n",
       "      <th>True Range Differenced</th>\n",
       "      <th>True Range 26-Day SMA Differenced</th>\n",
       "      <th>Adj Close Differenced</th>\n",
       "      <th>High Differenced</th>\n",
       "      <th>Low Differenced</th>\n",
       "      <th>Open Differenced</th>\n",
       "    </tr>\n",
       "  </thead>\n",
       "  <tbody>\n",
       "    <tr>\n",
       "      <th>0</th>\n",
       "      <td>-1.054250</td>\n",
       "      <td>-0.283809</td>\n",
       "      <td>-0.21136</td>\n",
       "      <td>-0.21136</td>\n",
       "      <td>-0.356345</td>\n",
       "      <td>-0.279992</td>\n",
       "      <td>-0.222173</td>\n",
       "      <td>-0.394553</td>\n",
       "      <td>-0.387284</td>\n",
       "      <td>2.424439</td>\n",
       "      <td>...</td>\n",
       "      <td>0.244619</td>\n",
       "      <td>-0.054833</td>\n",
       "      <td>0.193442</td>\n",
       "      <td>-0.988178</td>\n",
       "      <td>-0.460024</td>\n",
       "      <td>-0.458573</td>\n",
       "      <td>-0.961706</td>\n",
       "      <td>-0.123181</td>\n",
       "      <td>-0.779922</td>\n",
       "      <td>0.216366</td>\n",
       "    </tr>\n",
       "    <tr>\n",
       "      <th>1</th>\n",
       "      <td>0.449017</td>\n",
       "      <td>-0.359859</td>\n",
       "      <td>-0.21136</td>\n",
       "      <td>-0.21136</td>\n",
       "      <td>-0.356345</td>\n",
       "      <td>-0.279992</td>\n",
       "      <td>-0.222173</td>\n",
       "      <td>2.534516</td>\n",
       "      <td>-0.387284</td>\n",
       "      <td>-0.412467</td>\n",
       "      <td>...</td>\n",
       "      <td>-1.623606</td>\n",
       "      <td>-1.598235</td>\n",
       "      <td>-0.116220</td>\n",
       "      <td>-0.549677</td>\n",
       "      <td>-0.673831</td>\n",
       "      <td>-0.614296</td>\n",
       "      <td>-0.682605</td>\n",
       "      <td>0.832754</td>\n",
       "      <td>-0.079040</td>\n",
       "      <td>1.432648</td>\n",
       "    </tr>\n",
       "    <tr>\n",
       "      <th>2</th>\n",
       "      <td>1.419105</td>\n",
       "      <td>-0.198809</td>\n",
       "      <td>-0.21136</td>\n",
       "      <td>-0.21136</td>\n",
       "      <td>-0.356345</td>\n",
       "      <td>-0.279992</td>\n",
       "      <td>-0.222173</td>\n",
       "      <td>-0.394553</td>\n",
       "      <td>-0.387284</td>\n",
       "      <td>-0.412467</td>\n",
       "      <td>...</td>\n",
       "      <td>-4.366291</td>\n",
       "      <td>-2.195166</td>\n",
       "      <td>0.093043</td>\n",
       "      <td>-4.112427</td>\n",
       "      <td>3.947181</td>\n",
       "      <td>1.902798</td>\n",
       "      <td>-4.471950</td>\n",
       "      <td>1.435083</td>\n",
       "      <td>-4.328154</td>\n",
       "      <td>1.015831</td>\n",
       "    </tr>\n",
       "    <tr>\n",
       "      <th>3</th>\n",
       "      <td>-1.261598</td>\n",
       "      <td>-0.272044</td>\n",
       "      <td>-0.21136</td>\n",
       "      <td>-0.21136</td>\n",
       "      <td>-0.356345</td>\n",
       "      <td>-0.279992</td>\n",
       "      <td>-0.222173</td>\n",
       "      <td>-0.394553</td>\n",
       "      <td>-0.387284</td>\n",
       "      <td>-0.412467</td>\n",
       "      <td>...</td>\n",
       "      <td>5.267571</td>\n",
       "      <td>4.461425</td>\n",
       "      <td>4.610485</td>\n",
       "      <td>-12.390394</td>\n",
       "      <td>14.154228</td>\n",
       "      <td>10.022441</td>\n",
       "      <td>-10.617055</td>\n",
       "      <td>-3.111471</td>\n",
       "      <td>-14.261016</td>\n",
       "      <td>-12.872375</td>\n",
       "    </tr>\n",
       "    <tr>\n",
       "      <th>4</th>\n",
       "      <td>-0.128593</td>\n",
       "      <td>-0.255868</td>\n",
       "      <td>-0.21136</td>\n",
       "      <td>-0.21136</td>\n",
       "      <td>2.806268</td>\n",
       "      <td>-0.279992</td>\n",
       "      <td>-0.222173</td>\n",
       "      <td>-0.394553</td>\n",
       "      <td>-0.387284</td>\n",
       "      <td>-0.412467</td>\n",
       "      <td>...</td>\n",
       "      <td>0.039264</td>\n",
       "      <td>0.059860</td>\n",
       "      <td>0.030323</td>\n",
       "      <td>-0.411204</td>\n",
       "      <td>0.082851</td>\n",
       "      <td>0.121352</td>\n",
       "      <td>-0.433286</td>\n",
       "      <td>-0.263072</td>\n",
       "      <td>-0.294412</td>\n",
       "      <td>0.025041</td>\n",
       "    </tr>\n",
       "  </tbody>\n",
       "</table>\n",
       "<p>5 rows × 122 columns</p>\n",
       "</div>"
      ],
      "text/plain": [
       "     Symbol    Volume  Sector_Basic Materials  Sector_Communication Services  \\\n",
       "0 -1.054250 -0.283809                -0.21136                       -0.21136   \n",
       "1  0.449017 -0.359859                -0.21136                       -0.21136   \n",
       "2  1.419105 -0.198809                -0.21136                       -0.21136   \n",
       "3 -1.261598 -0.272044                -0.21136                       -0.21136   \n",
       "4 -0.128593 -0.255868                -0.21136                       -0.21136   \n",
       "\n",
       "   Sector_Consumer Cyclical  Sector_Consumer Defensive  Sector_Energy  \\\n",
       "0                 -0.356345                  -0.279992      -0.222173   \n",
       "1                 -0.356345                  -0.279992      -0.222173   \n",
       "2                 -0.356345                  -0.279992      -0.222173   \n",
       "3                 -0.356345                  -0.279992      -0.222173   \n",
       "4                  2.806268                  -0.279992      -0.222173   \n",
       "\n",
       "   Sector_Financial Services  Sector_Healthcare  Sector_Industrials  ...  \\\n",
       "0                  -0.394553          -0.387284            2.424439  ...   \n",
       "1                   2.534516          -0.387284           -0.412467  ...   \n",
       "2                  -0.394553          -0.387284           -0.412467  ...   \n",
       "3                  -0.394553          -0.387284           -0.412467  ...   \n",
       "4                  -0.394553          -0.387284           -0.412467  ...   \n",
       "\n",
       "   Adj Close 14-Day std Differenced  Adj Close 26-Day std Differenced  \\\n",
       "0                          0.244619                         -0.054833   \n",
       "1                         -1.623606                         -1.598235   \n",
       "2                         -4.366291                         -2.195166   \n",
       "3                          5.267571                          4.461425   \n",
       "4                          0.039264                          0.059860   \n",
       "\n",
       "   Adj Close 7-Day Upper Bollinger Band Differenced  \\\n",
       "0                                          0.193442   \n",
       "1                                         -0.116220   \n",
       "2                                          0.093043   \n",
       "3                                          4.610485   \n",
       "4                                          0.030323   \n",
       "\n",
       "   Distance to Adj Close 7-Day Upper Bollinger Band Differenced  \\\n",
       "0                                          -0.988178              \n",
       "1                                          -0.549677              \n",
       "2                                          -4.112427              \n",
       "3                                         -12.390394              \n",
       "4                                          -0.411204              \n",
       "\n",
       "   True Range Differenced  True Range 26-Day SMA Differenced  \\\n",
       "0               -0.460024                          -0.458573   \n",
       "1               -0.673831                          -0.614296   \n",
       "2                3.947181                           1.902798   \n",
       "3               14.154228                          10.022441   \n",
       "4                0.082851                           0.121352   \n",
       "\n",
       "   Adj Close Differenced  High Differenced  Low Differenced  Open Differenced  \n",
       "0              -0.961706         -0.123181        -0.779922          0.216366  \n",
       "1              -0.682605          0.832754        -0.079040          1.432648  \n",
       "2              -4.471950          1.435083        -4.328154          1.015831  \n",
       "3             -10.617055         -3.111471       -14.261016        -12.872375  \n",
       "4              -0.433286         -0.263072        -0.294412          0.025041  \n",
       "\n",
       "[5 rows x 122 columns]"
      ]
     },
     "execution_count": 4,
     "metadata": {},
     "output_type": "execute_result"
    }
   ],
   "source": [
    "X_test.head(5)"
   ]
  },
  {
   "cell_type": "code",
   "execution_count": 5,
   "id": "6965b282",
   "metadata": {
    "execution": {
     "iopub.execute_input": "2024-06-02T13:42:18.667002Z",
     "iopub.status.busy": "2024-06-02T13:42:18.665980Z",
     "iopub.status.idle": "2024-06-02T13:42:18.677255Z",
     "shell.execute_reply": "2024-06-02T13:42:18.675921Z"
    },
    "papermill": {
     "duration": 0.020349,
     "end_time": "2024-06-02T13:42:18.679813",
     "exception": false,
     "start_time": "2024-06-02T13:42:18.659464",
     "status": "completed"
    },
    "tags": []
   },
   "outputs": [
    {
     "data": {
      "text/html": [
       "<div>\n",
       "<style scoped>\n",
       "    .dataframe tbody tr th:only-of-type {\n",
       "        vertical-align: middle;\n",
       "    }\n",
       "\n",
       "    .dataframe tbody tr th {\n",
       "        vertical-align: top;\n",
       "    }\n",
       "\n",
       "    .dataframe thead th {\n",
       "        text-align: right;\n",
       "    }\n",
       "</style>\n",
       "<table border=\"1\" class=\"dataframe\">\n",
       "  <thead>\n",
       "    <tr style=\"text-align: right;\">\n",
       "      <th></th>\n",
       "      <th>1-week Forward Return Sign</th>\n",
       "    </tr>\n",
       "  </thead>\n",
       "  <tbody>\n",
       "    <tr>\n",
       "      <th>0</th>\n",
       "      <td>0.0</td>\n",
       "    </tr>\n",
       "    <tr>\n",
       "      <th>1</th>\n",
       "      <td>0.0</td>\n",
       "    </tr>\n",
       "    <tr>\n",
       "      <th>2</th>\n",
       "      <td>0.0</td>\n",
       "    </tr>\n",
       "    <tr>\n",
       "      <th>3</th>\n",
       "      <td>0.0</td>\n",
       "    </tr>\n",
       "    <tr>\n",
       "      <th>4</th>\n",
       "      <td>1.0</td>\n",
       "    </tr>\n",
       "  </tbody>\n",
       "</table>\n",
       "</div>"
      ],
      "text/plain": [
       "   1-week Forward Return Sign\n",
       "0                         0.0\n",
       "1                         0.0\n",
       "2                         0.0\n",
       "3                         0.0\n",
       "4                         1.0"
      ]
     },
     "execution_count": 5,
     "metadata": {},
     "output_type": "execute_result"
    }
   ],
   "source": [
    "y_train.head(5)"
   ]
  },
  {
   "cell_type": "code",
   "execution_count": 6,
   "id": "49c51ccb",
   "metadata": {
    "execution": {
     "iopub.execute_input": "2024-06-02T13:42:18.693083Z",
     "iopub.status.busy": "2024-06-02T13:42:18.692663Z",
     "iopub.status.idle": "2024-06-02T13:42:18.703603Z",
     "shell.execute_reply": "2024-06-02T13:42:18.702363Z"
    },
    "papermill": {
     "duration": 0.020531,
     "end_time": "2024-06-02T13:42:18.705940",
     "exception": false,
     "start_time": "2024-06-02T13:42:18.685409",
     "status": "completed"
    },
    "tags": []
   },
   "outputs": [
    {
     "data": {
      "text/html": [
       "<div>\n",
       "<style scoped>\n",
       "    .dataframe tbody tr th:only-of-type {\n",
       "        vertical-align: middle;\n",
       "    }\n",
       "\n",
       "    .dataframe tbody tr th {\n",
       "        vertical-align: top;\n",
       "    }\n",
       "\n",
       "    .dataframe thead th {\n",
       "        text-align: right;\n",
       "    }\n",
       "</style>\n",
       "<table border=\"1\" class=\"dataframe\">\n",
       "  <thead>\n",
       "    <tr style=\"text-align: right;\">\n",
       "      <th></th>\n",
       "      <th>1-week Forward Return Sign</th>\n",
       "    </tr>\n",
       "  </thead>\n",
       "  <tbody>\n",
       "    <tr>\n",
       "      <th>0</th>\n",
       "      <td>1.0</td>\n",
       "    </tr>\n",
       "    <tr>\n",
       "      <th>1</th>\n",
       "      <td>1.0</td>\n",
       "    </tr>\n",
       "    <tr>\n",
       "      <th>2</th>\n",
       "      <td>1.0</td>\n",
       "    </tr>\n",
       "    <tr>\n",
       "      <th>3</th>\n",
       "      <td>1.0</td>\n",
       "    </tr>\n",
       "    <tr>\n",
       "      <th>4</th>\n",
       "      <td>1.0</td>\n",
       "    </tr>\n",
       "  </tbody>\n",
       "</table>\n",
       "</div>"
      ],
      "text/plain": [
       "   1-week Forward Return Sign\n",
       "0                         1.0\n",
       "1                         1.0\n",
       "2                         1.0\n",
       "3                         1.0\n",
       "4                         1.0"
      ]
     },
     "execution_count": 6,
     "metadata": {},
     "output_type": "execute_result"
    }
   ],
   "source": [
    "y_test.head(5)"
   ]
  },
  {
   "cell_type": "markdown",
   "id": "d564e23f",
   "metadata": {
    "papermill": {
     "duration": 0.005543,
     "end_time": "2024-06-02T13:42:18.718426",
     "exception": false,
     "start_time": "2024-06-02T13:42:18.712883",
     "status": "completed"
    },
    "tags": []
   },
   "source": [
    "# Fit Logistic Regression Model"
   ]
  },
  {
   "cell_type": "markdown",
   "id": "5a56235d",
   "metadata": {
    "papermill": {
     "duration": 0.005402,
     "end_time": "2024-06-02T13:42:18.729835",
     "exception": false,
     "start_time": "2024-06-02T13:42:18.724433",
     "status": "completed"
    },
    "tags": []
   },
   "source": [
    "### Check class imbalance"
   ]
  },
  {
   "cell_type": "code",
   "execution_count": 7,
   "id": "06ff75bc",
   "metadata": {
    "execution": {
     "iopub.execute_input": "2024-06-02T13:42:18.743516Z",
     "iopub.status.busy": "2024-06-02T13:42:18.742667Z",
     "iopub.status.idle": "2024-06-02T13:42:19.144375Z",
     "shell.execute_reply": "2024-06-02T13:42:19.143100Z"
    },
    "papermill": {
     "duration": 0.411967,
     "end_time": "2024-06-02T13:42:19.147621",
     "exception": false,
     "start_time": "2024-06-02T13:42:18.735654",
     "status": "completed"
    },
    "tags": []
   },
   "outputs": [
    {
     "data": {
      "text/plain": [
       "<Axes: title={'center': 'Frequency of each class in the training and test targets'}>"
      ]
     },
     "execution_count": 7,
     "metadata": {},
     "output_type": "execute_result"
    },
    {
     "data": {
      "image/png": "[encoded data removed]",
      "text/plain": [
       "<Figure size 640x480 with 1 Axes>"
      ]
     },
     "metadata": {},
     "output_type": "display_data"
    }
   ],
   "source": [
    "# Examine class imbalance in training and test sets\n",
    "train_classes = y_train.value_counts().sort_index()\n",
    "test_classes = y_test.value_counts().sort_index()\n",
    "class_freq = pd.DataFrame(data=zip(train_classes, test_classes), columns=['Train', 'Test'], index=[0, 1])\n",
    "class_freq.plot(kind='bar', title='Frequency of each class in the training and test targets')"
   ]
  },
  {
   "cell_type": "markdown",
   "id": "52c97b1b",
   "metadata": {
    "papermill": {
     "duration": 0.007423,
     "end_time": "2024-06-02T13:42:19.164244",
     "exception": false,
     "start_time": "2024-06-02T13:42:19.156821",
     "status": "completed"
    },
    "tags": []
   },
   "source": [
    "### Parameter Optimization"
   ]
  },
  {
   "cell_type": "code",
   "execution_count": 8,
   "id": "acbaa1e2",
   "metadata": {
    "execution": {
     "iopub.execute_input": "2024-06-02T13:42:19.178256Z",
     "iopub.status.busy": "2024-06-02T13:42:19.177847Z",
     "iopub.status.idle": "2024-06-02T13:42:20.746228Z",
     "shell.execute_reply": "2024-06-02T13:42:20.745083Z"
    },
    "papermill": {
     "duration": 1.578245,
     "end_time": "2024-06-02T13:42:20.748715",
     "exception": false,
     "start_time": "2024-06-02T13:42:19.170470",
     "status": "completed"
    },
    "tags": []
   },
   "outputs": [],
   "source": [
    "# Imports\n",
    "from sklearn.model_selection import TimeSeriesSplit, RandomizedSearchCV\n",
    "from sklearn.linear_model import LogisticRegression\n",
    "\n",
    "# Define parameter grid\n",
    "grid = {\n",
    "    'C': [0.001, 0.01, 0.1],\n",
    "    'penalty': ['l1', 'l2'],\n",
    "    'solver': ['liblinear']\n",
    "}\n",
    "\n",
    "# Create base model\n",
    "lr = LogisticRegression()\n",
    "\n",
    "# Create time series split object to allow for CV without look-ahead bias\n",
    "tscv = TimeSeriesSplit(n_splits=4)"
   ]
  },
  {
   "cell_type": "code",
   "execution_count": 9,
   "id": "f2cb2115",
   "metadata": {
    "execution": {
     "iopub.execute_input": "2024-06-02T13:42:20.763425Z",
     "iopub.status.busy": "2024-06-02T13:42:20.763034Z",
     "iopub.status.idle": "2024-06-02T13:49:23.475329Z",
     "shell.execute_reply": "2024-06-02T13:49:23.469415Z"
    },
    "papermill": {
     "duration": 422.727596,
     "end_time": "2024-06-02T13:49:23.483024",
     "exception": false,
     "start_time": "2024-06-02T13:42:20.755428",
     "status": "completed"
    },
    "tags": []
   },
   "outputs": [
    {
     "name": "stdout",
     "output_type": "stream",
     "text": [
      "Fitting 4 folds for each of 6 candidates, totalling 24 fits\n"
     ]
    },
    {
     "name": "stderr",
     "output_type": "stream",
     "text": [
      "/opt/conda/lib/python3.10/site-packages/sklearn/model_selection/_search.py:305: UserWarning: The total space of parameters 6 is smaller than n_iter=12. Running 6 iterations. For exhaustive searches, use GridSearchCV.\n",
      "  warnings.warn(\n",
      "/opt/conda/lib/python3.10/site-packages/sklearn/utils/validation.py:1143: DataConversionWarning: A column-vector y was passed when a 1d array was expected. Please change the shape of y to (n_samples, ), for example using ravel().\n",
      "  y = column_or_1d(y, warn=True)\n",
      "/opt/conda/lib/python3.10/site-packages/sklearn/utils/validation.py:1143: DataConversionWarning: A column-vector y was passed when a 1d array was expected. Please change the shape of y to (n_samples, ), for example using ravel().\n",
      "  y = column_or_1d(y, warn=True)\n",
      "/opt/conda/lib/python3.10/site-packages/sklearn/utils/validation.py:1143: DataConversionWarning: A column-vector y was passed when a 1d array was expected. Please change the shape of y to (n_samples, ), for example using ravel().\n",
      "  y = column_or_1d(y, warn=True)\n",
      "/opt/conda/lib/python3.10/site-packages/sklearn/utils/validation.py:1143: DataConversionWarning: A column-vector y was passed when a 1d array was expected. Please change the shape of y to (n_samples, ), for example using ravel().\n",
      "  y = column_or_1d(y, warn=True)\n",
      "/opt/conda/lib/python3.10/site-packages/sklearn/utils/validation.py:1143: DataConversionWarning: A column-vector y was passed when a 1d array was expected. Please change the shape of y to (n_samples, ), for example using ravel().\n",
      "  y = column_or_1d(y, warn=True)\n",
      "/opt/conda/lib/python3.10/site-packages/sklearn/utils/validation.py:1143: DataConversionWarning: A column-vector y was passed when a 1d array was expected. Please change the shape of y to (n_samples, ), for example using ravel().\n",
      "  y = column_or_1d(y, warn=True)\n",
      "/opt/conda/lib/python3.10/site-packages/sklearn/utils/validation.py:1143: DataConversionWarning: A column-vector y was passed when a 1d array was expected. Please change the shape of y to (n_samples, ), for example using ravel().\n",
      "  y = column_or_1d(y, warn=True)\n",
      "/opt/conda/lib/python3.10/site-packages/sklearn/utils/validation.py:1143: DataConversionWarning: A column-vector y was passed when a 1d array was expected. Please change the shape of y to (n_samples, ), for example using ravel().\n",
      "  y = column_or_1d(y, warn=True)\n",
      "/opt/conda/lib/python3.10/site-packages/sklearn/utils/validation.py:1143: DataConversionWarning: A column-vector y was passed when a 1d array was expected. Please change the shape of y to (n_samples, ), for example using ravel().\n",
      "  y = column_or_1d(y, warn=True)\n",
      "/opt/conda/lib/python3.10/site-packages/sklearn/utils/validation.py:1143: DataConversionWarning: A column-vector y was passed when a 1d array was expected. Please change the shape of y to (n_samples, ), for example using ravel().\n",
      "  y = column_or_1d(y, warn=True)\n",
      "/opt/conda/lib/python3.10/site-packages/sklearn/utils/validation.py:1143: DataConversionWarning: A column-vector y was passed when a 1d array was expected. Please change the shape of y to (n_samples, ), for example using ravel().\n",
      "  y = column_or_1d(y, warn=True)\n",
      "/opt/conda/lib/python3.10/site-packages/sklearn/utils/validation.py:1143: DataConversionWarning: A column-vector y was passed when a 1d array was expected. Please change the shape of y to (n_samples, ), for example using ravel().\n",
      "  y = column_or_1d(y, warn=True)\n",
      "/opt/conda/lib/python3.10/site-packages/sklearn/utils/validation.py:1143: DataConversionWarning: A column-vector y was passed when a 1d array was expected. Please change the shape of y to (n_samples, ), for example using ravel().\n",
      "  y = column_or_1d(y, warn=True)\n",
      "/opt/conda/lib/python3.10/site-packages/sklearn/utils/validation.py:1143: DataConversionWarning: A column-vector y was passed when a 1d array was expected. Please change the shape of y to (n_samples, ), for example using ravel().\n",
      "  y = column_or_1d(y, warn=True)\n",
      "/opt/conda/lib/python3.10/site-packages/sklearn/utils/validation.py:1143: DataConversionWarning: A column-vector y was passed when a 1d array was expected. Please change the shape of y to (n_samples, ), for example using ravel().\n",
      "  y = column_or_1d(y, warn=True)\n",
      "/opt/conda/lib/python3.10/site-packages/sklearn/utils/validation.py:1143: DataConversionWarning: A column-vector y was passed when a 1d array was expected. Please change the shape of y to (n_samples, ), for example using ravel().\n",
      "  y = column_or_1d(y, warn=True)\n",
      "/opt/conda/lib/python3.10/site-packages/sklearn/utils/validation.py:1143: DataConversionWarning: A column-vector y was passed when a 1d array was expected. Please change the shape of y to (n_samples, ), for example using ravel().\n",
      "  y = column_or_1d(y, warn=True)\n",
      "/opt/conda/lib/python3.10/site-packages/sklearn/utils/validation.py:1143: DataConversionWarning: A column-vector y was passed when a 1d array was expected. Please change the shape of y to (n_samples, ), for example using ravel().\n",
      "  y = column_or_1d(y, warn=True)\n",
      "/opt/conda/lib/python3.10/site-packages/sklearn/utils/validation.py:1143: DataConversionWarning: A column-vector y was passed when a 1d array was expected. Please change the shape of y to (n_samples, ), for example using ravel().\n",
      "  y = column_or_1d(y, warn=True)\n",
      "/opt/conda/lib/python3.10/site-packages/sklearn/utils/validation.py:1143: DataConversionWarning: A column-vector y was passed when a 1d array was expected. Please change the shape of y to (n_samples, ), for example using ravel().\n",
      "  y = column_or_1d(y, warn=True)\n",
      "/opt/conda/lib/python3.10/site-packages/sklearn/utils/validation.py:1143: DataConversionWarning: A column-vector y was passed when a 1d array was expected. Please change the shape of y to (n_samples, ), for example using ravel().\n",
      "  y = column_or_1d(y, warn=True)\n",
      "/opt/conda/lib/python3.10/site-packages/sklearn/utils/validation.py:1143: DataConversionWarning: A column-vector y was passed when a 1d array was expected. Please change the shape of y to (n_samples, ), for example using ravel().\n",
      "  y = column_or_1d(y, warn=True)\n",
      "/opt/conda/lib/python3.10/site-packages/sklearn/utils/validation.py:1143: DataConversionWarning: A column-vector y was passed when a 1d array was expected. Please change the shape of y to (n_samples, ), for example using ravel().\n",
      "  y = column_or_1d(y, warn=True)\n",
      "/opt/conda/lib/python3.10/site-packages/sklearn/utils/validation.py:1143: DataConversionWarning: A column-vector y was passed when a 1d array was expected. Please change the shape of y to (n_samples, ), for example using ravel().\n",
      "  y = column_or_1d(y, warn=True)\n"
     ]
    },
    {
     "data": {
      "text/html": [
       "<style>#sk-container-id-1 {color: black;background-color: white;}#sk-container-id-1 pre{padding: 0;}#sk-container-id-1 div.sk-toggleable {background-color: white;}#sk-container-id-1 label.sk-toggleable__label {cursor: pointer;display: block;width: 100%;margin-bottom: 0;padding: 0.3em;box-sizing: border-box;text-align: center;}#sk-container-id-1 label.sk-toggleable__label-arrow:before {content: \"▸\";float: left;margin-right: 0.25em;color: #696969;}#sk-container-id-1 label.sk-toggleable__label-arrow:hover:before {color: black;}#sk-container-id-1 div.sk-estimator:hover label.sk-toggleable__label-arrow:before {color: black;}#sk-container-id-1 div.sk-toggleable__content {max-height: 0;max-width: 0;overflow: hidden;text-align: left;background-color: #f0f8ff;}#sk-container-id-1 div.sk-toggleable__content pre {margin: 0.2em;color: black;border-radius: 0.25em;background-color: #f0f8ff;}#sk-container-id-1 input.sk-toggleable__control:checked~div.sk-toggleable__content {max-height: 200px;max-width: 100%;overflow: auto;}#sk-container-id-1 input.sk-toggleable__control:checked~label.sk-toggleable__label-arrow:before {content: \"▾\";}#sk-container-id-1 div.sk-estimator input.sk-toggleable__control:checked~label.sk-toggleable__label {background-color: #d4ebff;}#sk-container-id-1 div.sk-label input.sk-toggleable__control:checked~label.sk-toggleable__label {background-color: #d4ebff;}#sk-container-id-1 input.sk-hidden--visually {border: 0;clip: rect(1px 1px 1px 1px);clip: rect(1px, 1px, 1px, 1px);height: 1px;margin: -1px;overflow: hidden;padding: 0;position: absolute;width: 1px;}#sk-container-id-1 div.sk-estimator {font-family: monospace;background-color: #f0f8ff;border: 1px dotted black;border-radius: 0.25em;box-sizing: border-box;margin-bottom: 0.5em;}#sk-container-id-1 div.sk-estimator:hover {background-color: #d4ebff;}#sk-container-id-1 div.sk-parallel-item::after {content: \"\";width: 100%;border-bottom: 1px solid gray;flex-grow: 1;}#sk-container-id-1 div.sk-label:hover label.sk-toggleable__label {background-color: #d4ebff;}#sk-container-id-1 div.sk-serial::before {content: \"\";position: absolute;border-left: 1px solid gray;box-sizing: border-box;top: 0;bottom: 0;left: 50%;z-index: 0;}#sk-container-id-1 div.sk-serial {display: flex;flex-direction: column;align-items: center;background-color: white;padding-right: 0.2em;padding-left: 0.2em;position: relative;}#sk-container-id-1 div.sk-item {position: relative;z-index: 1;}#sk-container-id-1 div.sk-parallel {display: flex;align-items: stretch;justify-content: center;background-color: white;position: relative;}#sk-container-id-1 div.sk-item::before, #sk-container-id-1 div.sk-parallel-item::before {content: \"\";position: absolute;border-left: 1px solid gray;box-sizing: border-box;top: 0;bottom: 0;left: 50%;z-index: -1;}#sk-container-id-1 div.sk-parallel-item {display: flex;flex-direction: column;z-index: 1;position: relative;background-color: white;}#sk-container-id-1 div.sk-parallel-item:first-child::after {align-self: flex-end;width: 50%;}#sk-container-id-1 div.sk-parallel-item:last-child::after {align-self: flex-start;width: 50%;}#sk-container-id-1 div.sk-parallel-item:only-child::after {width: 0;}#sk-container-id-1 div.sk-dashed-wrapped {border: 1px dashed gray;margin: 0 0.4em 0.5em 0.4em;box-sizing: border-box;padding-bottom: 0.4em;background-color: white;}#sk-container-id-1 div.sk-label label {font-family: monospace;font-weight: bold;display: inline-block;line-height: 1.2em;}#sk-container-id-1 div.sk-label-container {text-align: center;}#sk-container-id-1 div.sk-container {/* jupyter's `normalize.less` sets `[hidden] { display: none; }` but bootstrap.min.css set `[hidden] { display: none !important; }` so we also need the `!important` here to be able to override the default hidden behavior on the sphinx rendered scikit-learn.org. See: https://github.com/scikit-learn/scikit-learn/issues/21755 */display: inline-block !important;position: relative;}#sk-container-id-1 div.sk-text-repr-fallback {display: none;}</style><div id=\"sk-container-id-1\" class=\"sk-top-container\"><div class=\"sk-text-repr-fallback\"><pre>RandomizedSearchCV(cv=TimeSeriesSplit(gap=0, max_train_size=None, n_splits=4, test_size=None),\n",
       "                   estimator=LogisticRegression(), n_iter=12, n_jobs=-1,\n",
       "                   param_distributions={&#x27;C&#x27;: [0.001, 0.01, 0.1],\n",
       "                                        &#x27;penalty&#x27;: [&#x27;l1&#x27;, &#x27;l2&#x27;],\n",
       "                                        &#x27;solver&#x27;: [&#x27;liblinear&#x27;]},\n",
       "                   refit=False, scoring=&#x27;accuracy&#x27;, verbose=3)</pre><b>In a Jupyter environment, please rerun this cell to show the HTML representation or trust the notebook. <br />On GitHub, the HTML representation is unable to render, please try loading this page with nbviewer.org.</b></div><div class=\"sk-container\" hidden><div class=\"sk-item sk-dashed-wrapped\"><div class=\"sk-label-container\"><div class=\"sk-label sk-toggleable\"><input class=\"sk-toggleable__control sk-hidden--visually\" id=\"sk-estimator-id-1\" type=\"checkbox\" ><label for=\"sk-estimator-id-1\" class=\"sk-toggleable__label sk-toggleable__label-arrow\">RandomizedSearchCV</label><div class=\"sk-toggleable__content\"><pre>RandomizedSearchCV(cv=TimeSeriesSplit(gap=0, max_train_size=None, n_splits=4, test_size=None),\n",
       "                   estimator=LogisticRegression(), n_iter=12, n_jobs=-1,\n",
       "                   param_distributions={&#x27;C&#x27;: [0.001, 0.01, 0.1],\n",
       "                                        &#x27;penalty&#x27;: [&#x27;l1&#x27;, &#x27;l2&#x27;],\n",
       "                                        &#x27;solver&#x27;: [&#x27;liblinear&#x27;]},\n",
       "                   refit=False, scoring=&#x27;accuracy&#x27;, verbose=3)</pre></div></div></div><div class=\"sk-parallel\"><div class=\"sk-parallel-item\"><div class=\"sk-item\"><div class=\"sk-label-container\"><div class=\"sk-label sk-toggleable\"><input class=\"sk-toggleable__control sk-hidden--visually\" id=\"sk-estimator-id-2\" type=\"checkbox\" ><label for=\"sk-estimator-id-2\" class=\"sk-toggleable__label sk-toggleable__label-arrow\">estimator: LogisticRegression</label><div class=\"sk-toggleable__content\"><pre>LogisticRegression()</pre></div></div></div><div class=\"sk-serial\"><div class=\"sk-item\"><div class=\"sk-estimator sk-toggleable\"><input class=\"sk-toggleable__control sk-hidden--visually\" id=\"sk-estimator-id-3\" type=\"checkbox\" ><label for=\"sk-estimator-id-3\" class=\"sk-toggleable__label sk-toggleable__label-arrow\">LogisticRegression</label><div class=\"sk-toggleable__content\"><pre>LogisticRegression()</pre></div></div></div></div></div></div></div></div></div></div>"
      ],
      "text/plain": [
       "RandomizedSearchCV(cv=TimeSeriesSplit(gap=0, max_train_size=None, n_splits=4, test_size=None),\n",
       "                   estimator=LogisticRegression(), n_iter=12, n_jobs=-1,\n",
       "                   param_distributions={'C': [0.001, 0.01, 0.1],\n",
       "                                        'penalty': ['l1', 'l2'],\n",
       "                                        'solver': ['liblinear']},\n",
       "                   refit=False, scoring='accuracy', verbose=3)"
      ]
     },
     "execution_count": 9,
     "metadata": {},
     "output_type": "execute_result"
    }
   ],
   "source": [
    "# Create random search object\n",
    "random_search = RandomizedSearchCV(\n",
    "    estimator=lr,\n",
    "    param_distributions=grid,\n",
    "    n_iter=12,\n",
    "    cv=tscv,\n",
    "    n_jobs=-1,\n",
    "    scoring='accuracy',\n",
    "    verbose=3,\n",
    "    refit=False\n",
    ")\n",
    "\n",
    "# Fit the grid search to data\n",
    "random_search.fit(X_train, y_train)"
   ]
  },
  {
   "cell_type": "code",
   "execution_count": 10,
   "id": "0f3b4276",
   "metadata": {
    "execution": {
     "iopub.execute_input": "2024-06-02T13:49:23.502319Z",
     "iopub.status.busy": "2024-06-02T13:49:23.501850Z",
     "iopub.status.idle": "2024-06-02T13:49:23.513621Z",
     "shell.execute_reply": "2024-06-02T13:49:23.512531Z"
    },
    "papermill": {
     "duration": 0.025109,
     "end_time": "2024-06-02T13:49:23.516438",
     "exception": false,
     "start_time": "2024-06-02T13:49:23.491329",
     "status": "completed"
    },
    "tags": []
   },
   "outputs": [
    {
     "name": "stdout",
     "output_type": "stream",
     "text": [
      "{'mean_fit_time': array([ 12.90700006,  39.07939386, 109.29665393,  41.74357647,\n",
      "       148.02798957,  49.48800534]), 'std_fit_time': array([ 7.57549454, 15.73503541, 35.55282786, 11.82778137, 55.03290046,\n",
      "        9.61544057]), 'mean_score_time': array([0.08249098, 0.07798523, 0.06885606, 0.07151026, 0.06447333,\n",
      "       0.07395738]), 'std_score_time': array([0.02280576, 0.0040656 , 0.00179385, 0.00265609, 0.00819888,\n",
      "       0.02620054]), 'param_solver': masked_array(data=['liblinear', 'liblinear', 'liblinear', 'liblinear',\n",
      "                   'liblinear', 'liblinear'],\n",
      "             mask=[False, False, False, False, False, False],\n",
      "       fill_value='?',\n",
      "            dtype=object), 'param_penalty': masked_array(data=['l1', 'l2', 'l1', 'l2', 'l1', 'l2'],\n",
      "             mask=[False, False, False, False, False, False],\n",
      "       fill_value='?',\n",
      "            dtype=object), 'param_C': masked_array(data=[0.001, 0.001, 0.01, 0.01, 0.1, 0.1],\n",
      "             mask=[False, False, False, False, False, False],\n",
      "       fill_value='?',\n",
      "            dtype=object), 'params': [{'solver': 'liblinear', 'penalty': 'l1', 'C': 0.001}, {'solver': 'liblinear', 'penalty': 'l2', 'C': 0.001}, {'solver': 'liblinear', 'penalty': 'l1', 'C': 0.01}, {'solver': 'liblinear', 'penalty': 'l2', 'C': 0.01}, {'solver': 'liblinear', 'penalty': 'l1', 'C': 0.1}, {'solver': 'liblinear', 'penalty': 'l2', 'C': 0.1}], 'split0_test_score': array([0.48347764, 0.50672518, 0.48081287, 0.47995888, 0.49053888,\n",
      "       0.49106868]), 'split1_test_score': array([0.49639031, 0.47701736, 0.42887756, 0.42456015, 0.42207725,\n",
      "       0.42210888]), 'split2_test_score': array([0.55280117, 0.5477642 , 0.54755071, 0.5473293 , 0.54731349,\n",
      "       0.54730558]), 'split3_test_score': array([0.58004982, 0.58253272, 0.58182106, 0.58181315, 0.58178152,\n",
      "       0.58185269]), 'mean_test_score': array([0.52817973, 0.52850986, 0.50976555, 0.50841537, 0.51042779,\n",
      "       0.51058396]), 'std_test_score': array([0.03970379, 0.04004762, 0.05916257, 0.06071037, 0.0605254 ,\n",
      "       0.06049048]), 'rank_test_score': array([2, 1, 5, 6, 4, 3], dtype=int32)}\n",
      "Best params are {'solver': 'liblinear', 'penalty': 'l2', 'C': 0.001}\n",
      "Best accuracy score is 0.5285098643893568\n"
     ]
    }
   ],
   "source": [
    "# Get results of all trained models\n",
    "cv_results = random_search.cv_results_\n",
    "print(cv_results)\n",
    "\n",
    "# Get best params and score\n",
    "best_params = random_search.best_params_\n",
    "best_score = random_search.best_score_\n",
    "print(f\"Best params are {best_params}\")\n",
    "print(f\"Best accuracy score is {best_score}\")\n",
    "\n",
    "# Save best parameters\n",
    "import pickle\n",
    "with open('best_params.pkl', 'wb') as f:\n",
    "    pickle.dump(best_params, f)"
   ]
  },
  {
   "cell_type": "markdown",
   "id": "d3d7e145",
   "metadata": {
    "papermill": {
     "duration": 0.008303,
     "end_time": "2024-06-02T13:49:23.537228",
     "exception": false,
     "start_time": "2024-06-02T13:49:23.528925",
     "status": "completed"
    },
    "tags": []
   },
   "source": [
    "### Train model"
   ]
  },
  {
   "cell_type": "code",
   "execution_count": 11,
   "id": "1632590b",
   "metadata": {
    "execution": {
     "iopub.execute_input": "2024-06-02T13:49:23.555746Z",
     "iopub.status.busy": "2024-06-02T13:49:23.555331Z",
     "iopub.status.idle": "2024-06-02T13:50:17.078361Z",
     "shell.execute_reply": "2024-06-02T13:50:17.077213Z"
    },
    "papermill": {
     "duration": 53.543736,
     "end_time": "2024-06-02T13:50:17.089384",
     "exception": false,
     "start_time": "2024-06-02T13:49:23.545648",
     "status": "completed"
    },
    "tags": []
   },
   "outputs": [
    {
     "name": "stderr",
     "output_type": "stream",
     "text": [
      "/opt/conda/lib/python3.10/site-packages/sklearn/utils/validation.py:1143: DataConversionWarning: A column-vector y was passed when a 1d array was expected. Please change the shape of y to (n_samples, ), for example using ravel().\n",
      "  y = column_or_1d(y, warn=True)\n"
     ]
    },
    {
     "data": {
      "text/plain": [
       "array([[ 2.47131747e-03,  4.84244843e-03, -2.89257848e-02,\n",
       "        -1.86137929e-02, -1.96898159e-02, -1.43140026e-02,\n",
       "        -5.23736029e-02, -7.95685096e-03, -1.19331033e-02,\n",
       "        -1.31109448e-02, -1.08782965e-02,  2.13853694e-03,\n",
       "        -4.36711539e-02, -1.80038550e-04,  3.41751961e-02,\n",
       "         5.20768002e-02, -4.07131686e-02,  1.52402990e-02,\n",
       "         1.40183395e-02,  8.81114480e-03,  1.79593231e-02,\n",
       "         4.78911605e-04, -8.62115065e-04, -1.15665599e-02,\n",
       "        -2.78937415e-02, -8.31331092e-03, -2.56629443e-02,\n",
       "        -1.41575833e-02,  2.10635145e-02, -2.88890838e-02,\n",
       "         1.25620728e-03,  2.55035133e-02, -2.52209279e-02,\n",
       "         8.64073833e-03, -9.30653723e-03, -5.68278634e-02,\n",
       "        -1.14916143e-01, -5.56178490e-03, -1.12249494e-02,\n",
       "         5.15651895e-02, -9.03082758e-03, -5.10334667e-02,\n",
       "        -4.86917095e-02,  2.24920867e-02,  3.52354696e-02,\n",
       "         2.32153100e-01, -1.81077776e-02, -9.40185163e-02,\n",
       "        -4.72633334e-03, -8.42462277e-02, -1.56892805e-01,\n",
       "        -7.43264411e-02,  2.10462653e-01,  6.40793481e-02,\n",
       "         1.23172429e-01,  2.98438589e-02, -3.22380403e-02,\n",
       "        -1.66324512e-01,  6.34692654e-02, -7.75492618e-02,\n",
       "         1.23909458e-01,  1.49272944e-02,  7.08929702e-02,\n",
       "        -3.00937569e-01, -8.69997452e-02,  2.28751195e-03,\n",
       "        -7.02710871e-02, -1.11638476e-01,  4.76415760e-02,\n",
       "         3.44438367e-02, -2.98798688e-02, -1.09589449e-02,\n",
       "         9.39021878e-03,  3.05843545e-02, -6.61074649e-03,\n",
       "         3.08976886e-02,  7.37674073e-03, -3.32874227e-02,\n",
       "        -3.32031345e-02,  8.73526788e-04, -1.12396830e-03,\n",
       "         7.89665126e-03,  2.53160108e-03, -1.74687932e-02,\n",
       "         9.17078029e-03,  9.04824869e-03, -7.84043763e-03,\n",
       "         7.21935220e-03, -4.37495473e-03, -1.10803783e-02,\n",
       "         3.57751894e-03, -4.53562821e-04, -8.86602852e-03,\n",
       "         1.68198083e-03, -6.57096613e-03, -3.20424675e-03,\n",
       "        -2.58009199e-03,  3.36990770e-03, -6.82254284e-03,\n",
       "         5.50429990e-03,  1.18802350e-02, -4.34630913e-03,\n",
       "         2.62922815e-03, -4.19124124e-03,  2.84814717e-03,\n",
       "        -1.67872885e-03, -5.46337969e-03,  3.21369586e-03,\n",
       "         7.44593678e-03, -1.02796094e-02,  6.03175646e-03,\n",
       "        -3.25887270e-03,  4.04852749e-03, -4.69381511e-03,\n",
       "        -4.34949531e-03,  9.17841934e-03, -9.38589012e-03,\n",
       "         1.47863618e-02,  7.24851070e-03, -2.76657793e-02,\n",
       "        -5.91180783e-03,  1.92739282e-02]])"
      ]
     },
     "execution_count": 11,
     "metadata": {},
     "output_type": "execute_result"
    }
   ],
   "source": [
    "# Fit model with best params\n",
    "lr = LogisticRegression(**best_params)\n",
    "lr.fit(X_train, y_train)\n",
    "lr.coef_"
   ]
  },
  {
   "cell_type": "code",
   "execution_count": 12,
   "id": "167a2d3e",
   "metadata": {
    "execution": {
     "iopub.execute_input": "2024-06-02T13:50:17.108808Z",
     "iopub.status.busy": "2024-06-02T13:50:17.107898Z",
     "iopub.status.idle": "2024-06-02T13:50:17.114011Z",
     "shell.execute_reply": "2024-06-02T13:50:17.112936Z"
    },
    "papermill": {
     "duration": 0.018709,
     "end_time": "2024-06-02T13:50:17.116725",
     "exception": false,
     "start_time": "2024-06-02T13:50:17.098016",
     "status": "completed"
    },
    "tags": []
   },
   "outputs": [],
   "source": [
    "# Save model\n",
    "with open('lr_model.pkl', 'wb') as f:\n",
    "    pickle.dump(lr, f)"
   ]
  }
 ],
 "metadata": {
  "kaggle": {
   "accelerator": "none",
   "dataSources": [
    {
     "sourceId": 180456214,
     "sourceType": "kernelVersion"
    }
   ],
   "dockerImageVersionId": 30698,
   "isGpuEnabled": false,
   "isInternetEnabled": true,
   "language": "python",
   "sourceType": "notebook"
  },
  "kernelspec": {
   "display_name": "Python 3",
   "language": "python",
   "name": "python3"
  },
  "language_info": {
   "codemirror_mode": {
    "name": "ipython",
    "version": 3
   },
   "file_extension": ".py",
   "mimetype": "text/x-python",
   "name": "python",
   "nbconvert_exporter": "python",
   "pygments_lexer": "ipython3",
   "version": "3.10.13"
  },
  "papermill": {
   "default_parameters": {},
   "duration": 528.206216,
   "end_time": "2024-06-02T13:50:19.749784",
   "environment_variables": {},
   "exception": null,
   "input_path": "__notebook__.ipynb",
   "output_path": "__notebook__.ipynb",
   "parameters": {},
   "start_time": "2024-06-02T13:41:31.543568",
   "version": "2.5.0"
  }
 },
 "nbformat": 4,
 "nbformat_minor": 5
}
