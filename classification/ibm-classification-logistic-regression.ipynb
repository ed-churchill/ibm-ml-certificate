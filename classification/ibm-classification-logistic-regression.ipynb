{
 "cells": [
  {
   "cell_type": "markdown",
   "id": "3c2a8f1f",
   "metadata": {
    "papermill": {
     "duration": 0.00657,
     "end_time": "2024-06-08T11:13:55.024692",
     "exception": false,
     "start_time": "2024-06-08T11:13:55.018122",
     "status": "completed"
    },
    "tags": []
   },
   "source": [
    "# Imports"
   ]
  },
  {
   "cell_type": "code",
   "execution_count": 1,
   "id": "fe80237d",
   "metadata": {
    "execution": {
     "iopub.execute_input": "2024-06-08T11:13:55.039125Z",
     "iopub.status.busy": "2024-06-08T11:13:55.038666Z",
     "iopub.status.idle": "2024-06-08T11:13:55.954704Z",
     "shell.execute_reply": "2024-06-08T11:13:55.953636Z"
    },
    "papermill": {
     "duration": 0.926573,
     "end_time": "2024-06-08T11:13:55.957607",
     "exception": false,
     "start_time": "2024-06-08T11:13:55.031034",
     "status": "completed"
    },
    "tags": []
   },
   "outputs": [],
   "source": [
    "import pandas as pd\n",
    "import matplotlib.pyplot as plt"
   ]
  },
  {
   "cell_type": "markdown",
   "id": "845ccb55",
   "metadata": {
    "papermill": {
     "duration": 0.005796,
     "end_time": "2024-06-08T11:13:55.969598",
     "exception": false,
     "start_time": "2024-06-08T11:13:55.963802",
     "status": "completed"
    },
    "tags": []
   },
   "source": [
    "# Read Data"
   ]
  },
  {
   "cell_type": "code",
   "execution_count": 2,
   "id": "b37afe26",
   "metadata": {
    "execution": {
     "iopub.execute_input": "2024-06-08T11:13:55.983399Z",
     "iopub.status.busy": "2024-06-08T11:13:55.982889Z",
     "iopub.status.idle": "2024-06-08T11:14:37.648353Z",
     "shell.execute_reply": "2024-06-08T11:14:37.647097Z"
    },
    "papermill": {
     "duration": 41.675805,
     "end_time": "2024-06-08T11:14:37.651358",
     "exception": false,
     "start_time": "2024-06-08T11:13:55.975553",
     "status": "completed"
    },
    "tags": []
   },
   "outputs": [],
   "source": [
    "X_train = pd.read_csv(\"/kaggle/input/ibm-classification-feature-selection/X_train_normalized.csv\", index_col=[0])\n",
    "X_test = pd.read_csv(\"/kaggle/input/ibm-classification-feature-selection/X_test_normalized.csv\", index_col=[0])\n",
    "y_train = pd.read_csv(\"/kaggle/input/ibm-classification-feature-selection/y_train.csv\", index_col=[0])\n",
    "y_test = pd.read_csv(\"/kaggle/input/ibm-classification-feature-selection/y_test.csv\", index_col=[0]).reset_index(drop=True)"
   ]
  },
  {
   "cell_type": "code",
   "execution_count": 3,
   "id": "176e252f",
   "metadata": {
    "execution": {
     "iopub.execute_input": "2024-06-08T11:14:37.665611Z",
     "iopub.status.busy": "2024-06-08T11:14:37.665171Z",
     "iopub.status.idle": "2024-06-08T11:14:37.704135Z",
     "shell.execute_reply": "2024-06-08T11:14:37.702613Z"
    },
    "papermill": {
     "duration": 0.04952,
     "end_time": "2024-06-08T11:14:37.707271",
     "exception": false,
     "start_time": "2024-06-08T11:14:37.657751",
     "status": "completed"
    },
    "tags": []
   },
   "outputs": [
    {
     "data": {
      "text/html": [
       "<div>\n",
       "<style scoped>\n",
       "    .dataframe tbody tr th:only-of-type {\n",
       "        vertical-align: middle;\n",
       "    }\n",
       "\n",
       "    .dataframe tbody tr th {\n",
       "        vertical-align: top;\n",
       "    }\n",
       "\n",
       "    .dataframe thead th {\n",
       "        text-align: right;\n",
       "    }\n",
       "</style>\n",
       "<table border=\"1\" class=\"dataframe\">\n",
       "  <thead>\n",
       "    <tr style=\"text-align: right;\">\n",
       "      <th></th>\n",
       "      <th>Volume</th>\n",
       "      <th>Sector_Basic Materials</th>\n",
       "      <th>Sector_Communication Services</th>\n",
       "      <th>Sector_Consumer Cyclical</th>\n",
       "      <th>Sector_Consumer Defensive</th>\n",
       "      <th>Sector_Energy</th>\n",
       "      <th>Sector_Financial Services</th>\n",
       "      <th>Sector_Healthcare</th>\n",
       "      <th>Sector_Industrials</th>\n",
       "      <th>Sector_Real Estate</th>\n",
       "      <th>...</th>\n",
       "      <th>Open 60-Day Shifted Differenced</th>\n",
       "      <th>Adj Close 7-Day Upper Bollinger Band Differenced</th>\n",
       "      <th>True Range Differenced</th>\n",
       "      <th>True Range 26-Day SMA Differenced</th>\n",
       "      <th>Adj Close Differenced</th>\n",
       "      <th>High Differenced</th>\n",
       "      <th>Low Differenced</th>\n",
       "      <th>Open Differenced</th>\n",
       "      <th>Date</th>\n",
       "      <th>Symbol</th>\n",
       "    </tr>\n",
       "  </thead>\n",
       "  <tbody>\n",
       "    <tr>\n",
       "      <th>0</th>\n",
       "      <td>-0.082146</td>\n",
       "      <td>-0.211123</td>\n",
       "      <td>-0.211123</td>\n",
       "      <td>-0.355936</td>\n",
       "      <td>-0.279668</td>\n",
       "      <td>4.506073</td>\n",
       "      <td>-0.394063</td>\n",
       "      <td>-0.386806</td>\n",
       "      <td>-0.411949</td>\n",
       "      <td>-0.256814</td>\n",
       "      <td>...</td>\n",
       "      <td>-0.099365</td>\n",
       "      <td>-0.065462</td>\n",
       "      <td>0.021662</td>\n",
       "      <td>0.207475</td>\n",
       "      <td>-0.143825</td>\n",
       "      <td>0.001395</td>\n",
       "      <td>-0.216950</td>\n",
       "      <td>-0.124697</td>\n",
       "      <td>2014-09-04</td>\n",
       "      <td>14</td>\n",
       "    </tr>\n",
       "    <tr>\n",
       "      <th>1</th>\n",
       "      <td>-0.199298</td>\n",
       "      <td>-0.211123</td>\n",
       "      <td>-0.211123</td>\n",
       "      <td>-0.355936</td>\n",
       "      <td>-0.279668</td>\n",
       "      <td>4.506073</td>\n",
       "      <td>-0.394063</td>\n",
       "      <td>-0.386806</td>\n",
       "      <td>-0.411949</td>\n",
       "      <td>-0.256814</td>\n",
       "      <td>...</td>\n",
       "      <td>0.128093</td>\n",
       "      <td>-0.026616</td>\n",
       "      <td>-0.135444</td>\n",
       "      <td>0.292787</td>\n",
       "      <td>-0.199996</td>\n",
       "      <td>-0.087753</td>\n",
       "      <td>-0.355281</td>\n",
       "      <td>-0.261008</td>\n",
       "      <td>2014-09-04</td>\n",
       "      <td>262</td>\n",
       "    </tr>\n",
       "    <tr>\n",
       "      <th>2</th>\n",
       "      <td>0.256066</td>\n",
       "      <td>-0.211123</td>\n",
       "      <td>-0.211123</td>\n",
       "      <td>-0.355936</td>\n",
       "      <td>-0.279668</td>\n",
       "      <td>-0.221923</td>\n",
       "      <td>-0.394063</td>\n",
       "      <td>-0.386806</td>\n",
       "      <td>-0.411949</td>\n",
       "      <td>-0.256814</td>\n",
       "      <td>...</td>\n",
       "      <td>-0.127797</td>\n",
       "      <td>-0.051266</td>\n",
       "      <td>-0.014738</td>\n",
       "      <td>0.014914</td>\n",
       "      <td>0.041423</td>\n",
       "      <td>-0.083876</td>\n",
       "      <td>-0.089539</td>\n",
       "      <td>-0.100843</td>\n",
       "      <td>2014-09-04</td>\n",
       "      <td>105</td>\n",
       "    </tr>\n",
       "    <tr>\n",
       "      <th>3</th>\n",
       "      <td>0.809517</td>\n",
       "      <td>-0.211123</td>\n",
       "      <td>-0.211123</td>\n",
       "      <td>-0.355936</td>\n",
       "      <td>-0.279668</td>\n",
       "      <td>-0.221923</td>\n",
       "      <td>2.537663</td>\n",
       "      <td>-0.386806</td>\n",
       "      <td>-0.411949</td>\n",
       "      <td>-0.256814</td>\n",
       "      <td>...</td>\n",
       "      <td>0.163632</td>\n",
       "      <td>0.078857</td>\n",
       "      <td>0.052865</td>\n",
       "      <td>0.340484</td>\n",
       "      <td>0.049223</td>\n",
       "      <td>0.117676</td>\n",
       "      <td>0.048791</td>\n",
       "      <td>-0.012241</td>\n",
       "      <td>2014-09-04</td>\n",
       "      <td>395</td>\n",
       "    </tr>\n",
       "    <tr>\n",
       "      <th>4</th>\n",
       "      <td>-0.205682</td>\n",
       "      <td>-0.211123</td>\n",
       "      <td>-0.211123</td>\n",
       "      <td>2.809494</td>\n",
       "      <td>-0.279668</td>\n",
       "      <td>-0.221923</td>\n",
       "      <td>-0.394063</td>\n",
       "      <td>-0.386806</td>\n",
       "      <td>-0.411949</td>\n",
       "      <td>-0.256814</td>\n",
       "      <td>...</td>\n",
       "      <td>0.106768</td>\n",
       "      <td>-0.007671</td>\n",
       "      <td>-0.240677</td>\n",
       "      <td>-0.105232</td>\n",
       "      <td>-0.049846</td>\n",
       "      <td>-0.320311</td>\n",
       "      <td>-0.064057</td>\n",
       "      <td>-0.346203</td>\n",
       "      <td>2014-09-04</td>\n",
       "      <td>202</td>\n",
       "    </tr>\n",
       "  </tbody>\n",
       "</table>\n",
       "<p>5 rows × 113 columns</p>\n",
       "</div>"
      ],
      "text/plain": [
       "     Volume  Sector_Basic Materials  Sector_Communication Services  \\\n",
       "0 -0.082146               -0.211123                      -0.211123   \n",
       "1 -0.199298               -0.211123                      -0.211123   \n",
       "2  0.256066               -0.211123                      -0.211123   \n",
       "3  0.809517               -0.211123                      -0.211123   \n",
       "4 -0.205682               -0.211123                      -0.211123   \n",
       "\n",
       "   Sector_Consumer Cyclical  Sector_Consumer Defensive  Sector_Energy  \\\n",
       "0                 -0.355936                  -0.279668       4.506073   \n",
       "1                 -0.355936                  -0.279668       4.506073   \n",
       "2                 -0.355936                  -0.279668      -0.221923   \n",
       "3                 -0.355936                  -0.279668      -0.221923   \n",
       "4                  2.809494                  -0.279668      -0.221923   \n",
       "\n",
       "   Sector_Financial Services  Sector_Healthcare  Sector_Industrials  \\\n",
       "0                  -0.394063          -0.386806           -0.411949   \n",
       "1                  -0.394063          -0.386806           -0.411949   \n",
       "2                  -0.394063          -0.386806           -0.411949   \n",
       "3                   2.537663          -0.386806           -0.411949   \n",
       "4                  -0.394063          -0.386806           -0.411949   \n",
       "\n",
       "   Sector_Real Estate  ...  Open 60-Day Shifted Differenced  \\\n",
       "0           -0.256814  ...                        -0.099365   \n",
       "1           -0.256814  ...                         0.128093   \n",
       "2           -0.256814  ...                        -0.127797   \n",
       "3           -0.256814  ...                         0.163632   \n",
       "4           -0.256814  ...                         0.106768   \n",
       "\n",
       "   Adj Close 7-Day Upper Bollinger Band Differenced  True Range Differenced  \\\n",
       "0                                         -0.065462                0.021662   \n",
       "1                                         -0.026616               -0.135444   \n",
       "2                                         -0.051266               -0.014738   \n",
       "3                                          0.078857                0.052865   \n",
       "4                                         -0.007671               -0.240677   \n",
       "\n",
       "   True Range 26-Day SMA Differenced  Adj Close Differenced  High Differenced  \\\n",
       "0                           0.207475              -0.143825          0.001395   \n",
       "1                           0.292787              -0.199996         -0.087753   \n",
       "2                           0.014914               0.041423         -0.083876   \n",
       "3                           0.340484               0.049223          0.117676   \n",
       "4                          -0.105232              -0.049846         -0.320311   \n",
       "\n",
       "   Low Differenced  Open Differenced        Date  Symbol  \n",
       "0        -0.216950         -0.124697  2014-09-04      14  \n",
       "1        -0.355281         -0.261008  2014-09-04     262  \n",
       "2        -0.089539         -0.100843  2014-09-04     105  \n",
       "3         0.048791         -0.012241  2014-09-04     395  \n",
       "4        -0.064057         -0.346203  2014-09-04     202  \n",
       "\n",
       "[5 rows x 113 columns]"
      ]
     },
     "execution_count": 3,
     "metadata": {},
     "output_type": "execute_result"
    }
   ],
   "source": [
    "X_train.head(5)"
   ]
  },
  {
   "cell_type": "code",
   "execution_count": 4,
   "id": "b32c873a",
   "metadata": {
    "execution": {
     "iopub.execute_input": "2024-06-08T11:14:37.727410Z",
     "iopub.status.busy": "2024-06-08T11:14:37.726604Z",
     "iopub.status.idle": "2024-06-08T11:14:37.761480Z",
     "shell.execute_reply": "2024-06-08T11:14:37.760188Z"
    },
    "papermill": {
     "duration": 0.046902,
     "end_time": "2024-06-08T11:14:37.763996",
     "exception": false,
     "start_time": "2024-06-08T11:14:37.717094",
     "status": "completed"
    },
    "tags": []
   },
   "outputs": [
    {
     "data": {
      "text/html": [
       "<div>\n",
       "<style scoped>\n",
       "    .dataframe tbody tr th:only-of-type {\n",
       "        vertical-align: middle;\n",
       "    }\n",
       "\n",
       "    .dataframe tbody tr th {\n",
       "        vertical-align: top;\n",
       "    }\n",
       "\n",
       "    .dataframe thead th {\n",
       "        text-align: right;\n",
       "    }\n",
       "</style>\n",
       "<table border=\"1\" class=\"dataframe\">\n",
       "  <thead>\n",
       "    <tr style=\"text-align: right;\">\n",
       "      <th></th>\n",
       "      <th>Volume</th>\n",
       "      <th>Sector_Basic Materials</th>\n",
       "      <th>Sector_Communication Services</th>\n",
       "      <th>Sector_Consumer Cyclical</th>\n",
       "      <th>Sector_Consumer Defensive</th>\n",
       "      <th>Sector_Energy</th>\n",
       "      <th>Sector_Financial Services</th>\n",
       "      <th>Sector_Healthcare</th>\n",
       "      <th>Sector_Industrials</th>\n",
       "      <th>Sector_Real Estate</th>\n",
       "      <th>...</th>\n",
       "      <th>Open 60-Day Shifted Differenced</th>\n",
       "      <th>Adj Close 7-Day Upper Bollinger Band Differenced</th>\n",
       "      <th>True Range Differenced</th>\n",
       "      <th>True Range 26-Day SMA Differenced</th>\n",
       "      <th>Adj Close Differenced</th>\n",
       "      <th>High Differenced</th>\n",
       "      <th>Low Differenced</th>\n",
       "      <th>Open Differenced</th>\n",
       "      <th>Date</th>\n",
       "      <th>Symbol</th>\n",
       "    </tr>\n",
       "  </thead>\n",
       "  <tbody>\n",
       "    <tr>\n",
       "      <th>0</th>\n",
       "      <td>-0.263726</td>\n",
       "      <td>-0.211123</td>\n",
       "      <td>4.736577</td>\n",
       "      <td>-0.355936</td>\n",
       "      <td>-0.279668</td>\n",
       "      <td>-0.221923</td>\n",
       "      <td>-0.394063</td>\n",
       "      <td>-0.386806</td>\n",
       "      <td>-0.411949</td>\n",
       "      <td>-0.256814</td>\n",
       "      <td>...</td>\n",
       "      <td>-0.181107</td>\n",
       "      <td>-0.262042</td>\n",
       "      <td>-0.154274</td>\n",
       "      <td>-1.323139</td>\n",
       "      <td>-0.492231</td>\n",
       "      <td>-0.014108</td>\n",
       "      <td>-0.377124</td>\n",
       "      <td>0.161556</td>\n",
       "      <td>2021-01-04</td>\n",
       "      <td>139</td>\n",
       "    </tr>\n",
       "    <tr>\n",
       "      <th>1</th>\n",
       "      <td>-0.186121</td>\n",
       "      <td>-0.211123</td>\n",
       "      <td>-0.211123</td>\n",
       "      <td>-0.355936</td>\n",
       "      <td>3.575666</td>\n",
       "      <td>-0.221923</td>\n",
       "      <td>-0.394063</td>\n",
       "      <td>-0.386806</td>\n",
       "      <td>-0.411949</td>\n",
       "      <td>-0.256814</td>\n",
       "      <td>...</td>\n",
       "      <td>-0.216647</td>\n",
       "      <td>-0.008371</td>\n",
       "      <td>-0.027088</td>\n",
       "      <td>-0.381858</td>\n",
       "      <td>-0.122099</td>\n",
       "      <td>0.016899</td>\n",
       "      <td>-0.064058</td>\n",
       "      <td>0.035468</td>\n",
       "      <td>2021-01-04</td>\n",
       "      <td>255</td>\n",
       "    </tr>\n",
       "    <tr>\n",
       "      <th>2</th>\n",
       "      <td>-0.309133</td>\n",
       "      <td>-0.211123</td>\n",
       "      <td>-0.211123</td>\n",
       "      <td>-0.355936</td>\n",
       "      <td>-0.279668</td>\n",
       "      <td>-0.221923</td>\n",
       "      <td>2.537663</td>\n",
       "      <td>-0.386806</td>\n",
       "      <td>-0.411949</td>\n",
       "      <td>-0.256814</td>\n",
       "      <td>...</td>\n",
       "      <td>-0.778181</td>\n",
       "      <td>-0.134680</td>\n",
       "      <td>-0.002115</td>\n",
       "      <td>-0.513907</td>\n",
       "      <td>-0.962961</td>\n",
       "      <td>0.303723</td>\n",
       "      <td>-0.621021</td>\n",
       "      <td>0.386469</td>\n",
       "      <td>2021-01-04</td>\n",
       "      <td>378</td>\n",
       "    </tr>\n",
       "    <tr>\n",
       "      <th>3</th>\n",
       "      <td>-0.225167</td>\n",
       "      <td>-0.211123</td>\n",
       "      <td>-0.211123</td>\n",
       "      <td>-0.355936</td>\n",
       "      <td>-0.279668</td>\n",
       "      <td>-0.221923</td>\n",
       "      <td>-0.394063</td>\n",
       "      <td>-0.386806</td>\n",
       "      <td>2.427487</td>\n",
       "      <td>-0.256814</td>\n",
       "      <td>...</td>\n",
       "      <td>0.348439</td>\n",
       "      <td>-0.106183</td>\n",
       "      <td>-0.067764</td>\n",
       "      <td>-0.330715</td>\n",
       "      <td>-0.801156</td>\n",
       "      <td>0.156436</td>\n",
       "      <td>-0.497253</td>\n",
       "      <td>0.076363</td>\n",
       "      <td>2021-01-04</td>\n",
       "      <td>141</td>\n",
       "    </tr>\n",
       "    <tr>\n",
       "      <th>4</th>\n",
       "      <td>0.330085</td>\n",
       "      <td>-0.211123</td>\n",
       "      <td>-0.211123</td>\n",
       "      <td>-0.355936</td>\n",
       "      <td>-0.279668</td>\n",
       "      <td>-0.221923</td>\n",
       "      <td>-0.394063</td>\n",
       "      <td>-0.386806</td>\n",
       "      <td>-0.411949</td>\n",
       "      <td>3.893864</td>\n",
       "      <td>...</td>\n",
       "      <td>-0.056716</td>\n",
       "      <td>-0.115870</td>\n",
       "      <td>0.046599</td>\n",
       "      <td>-0.063529</td>\n",
       "      <td>-0.173969</td>\n",
       "      <td>0.040155</td>\n",
       "      <td>-0.140504</td>\n",
       "      <td>0.015022</td>\n",
       "      <td>2021-01-04</td>\n",
       "      <td>253</td>\n",
       "    </tr>\n",
       "  </tbody>\n",
       "</table>\n",
       "<p>5 rows × 113 columns</p>\n",
       "</div>"
      ],
      "text/plain": [
       "     Volume  Sector_Basic Materials  Sector_Communication Services  \\\n",
       "0 -0.263726               -0.211123                       4.736577   \n",
       "1 -0.186121               -0.211123                      -0.211123   \n",
       "2 -0.309133               -0.211123                      -0.211123   \n",
       "3 -0.225167               -0.211123                      -0.211123   \n",
       "4  0.330085               -0.211123                      -0.211123   \n",
       "\n",
       "   Sector_Consumer Cyclical  Sector_Consumer Defensive  Sector_Energy  \\\n",
       "0                 -0.355936                  -0.279668      -0.221923   \n",
       "1                 -0.355936                   3.575666      -0.221923   \n",
       "2                 -0.355936                  -0.279668      -0.221923   \n",
       "3                 -0.355936                  -0.279668      -0.221923   \n",
       "4                 -0.355936                  -0.279668      -0.221923   \n",
       "\n",
       "   Sector_Financial Services  Sector_Healthcare  Sector_Industrials  \\\n",
       "0                  -0.394063          -0.386806           -0.411949   \n",
       "1                  -0.394063          -0.386806           -0.411949   \n",
       "2                   2.537663          -0.386806           -0.411949   \n",
       "3                  -0.394063          -0.386806            2.427487   \n",
       "4                  -0.394063          -0.386806           -0.411949   \n",
       "\n",
       "   Sector_Real Estate  ...  Open 60-Day Shifted Differenced  \\\n",
       "0           -0.256814  ...                        -0.181107   \n",
       "1           -0.256814  ...                        -0.216647   \n",
       "2           -0.256814  ...                        -0.778181   \n",
       "3           -0.256814  ...                         0.348439   \n",
       "4            3.893864  ...                        -0.056716   \n",
       "\n",
       "   Adj Close 7-Day Upper Bollinger Band Differenced  True Range Differenced  \\\n",
       "0                                         -0.262042               -0.154274   \n",
       "1                                         -0.008371               -0.027088   \n",
       "2                                         -0.134680               -0.002115   \n",
       "3                                         -0.106183               -0.067764   \n",
       "4                                         -0.115870                0.046599   \n",
       "\n",
       "   True Range 26-Day SMA Differenced  Adj Close Differenced  High Differenced  \\\n",
       "0                          -1.323139              -0.492231         -0.014108   \n",
       "1                          -0.381858              -0.122099          0.016899   \n",
       "2                          -0.513907              -0.962961          0.303723   \n",
       "3                          -0.330715              -0.801156          0.156436   \n",
       "4                          -0.063529              -0.173969          0.040155   \n",
       "\n",
       "   Low Differenced  Open Differenced        Date  Symbol  \n",
       "0        -0.377124          0.161556  2021-01-04     139  \n",
       "1        -0.064058          0.035468  2021-01-04     255  \n",
       "2        -0.621021          0.386469  2021-01-04     378  \n",
       "3        -0.497253          0.076363  2021-01-04     141  \n",
       "4        -0.140504          0.015022  2021-01-04     253  \n",
       "\n",
       "[5 rows x 113 columns]"
      ]
     },
     "execution_count": 4,
     "metadata": {},
     "output_type": "execute_result"
    }
   ],
   "source": [
    "X_test.head(5)"
   ]
  },
  {
   "cell_type": "code",
   "execution_count": 5,
   "id": "6fa1d6e3",
   "metadata": {
    "execution": {
     "iopub.execute_input": "2024-06-08T11:14:37.780800Z",
     "iopub.status.busy": "2024-06-08T11:14:37.780298Z",
     "iopub.status.idle": "2024-06-08T11:14:37.794717Z",
     "shell.execute_reply": "2024-06-08T11:14:37.793590Z"
    },
    "papermill": {
     "duration": 0.026088,
     "end_time": "2024-06-08T11:14:37.797613",
     "exception": false,
     "start_time": "2024-06-08T11:14:37.771525",
     "status": "completed"
    },
    "tags": []
   },
   "outputs": [
    {
     "data": {
      "text/html": [
       "<div>\n",
       "<style scoped>\n",
       "    .dataframe tbody tr th:only-of-type {\n",
       "        vertical-align: middle;\n",
       "    }\n",
       "\n",
       "    .dataframe tbody tr th {\n",
       "        vertical-align: top;\n",
       "    }\n",
       "\n",
       "    .dataframe thead th {\n",
       "        text-align: right;\n",
       "    }\n",
       "</style>\n",
       "<table border=\"1\" class=\"dataframe\">\n",
       "  <thead>\n",
       "    <tr style=\"text-align: right;\">\n",
       "      <th></th>\n",
       "      <th>1-week Forward Return Sign</th>\n",
       "    </tr>\n",
       "  </thead>\n",
       "  <tbody>\n",
       "    <tr>\n",
       "      <th>0</th>\n",
       "      <td>0.0</td>\n",
       "    </tr>\n",
       "    <tr>\n",
       "      <th>1</th>\n",
       "      <td>0.0</td>\n",
       "    </tr>\n",
       "    <tr>\n",
       "      <th>2</th>\n",
       "      <td>1.0</td>\n",
       "    </tr>\n",
       "    <tr>\n",
       "      <th>3</th>\n",
       "      <td>0.0</td>\n",
       "    </tr>\n",
       "    <tr>\n",
       "      <th>4</th>\n",
       "      <td>1.0</td>\n",
       "    </tr>\n",
       "  </tbody>\n",
       "</table>\n",
       "</div>"
      ],
      "text/plain": [
       "   1-week Forward Return Sign\n",
       "0                         0.0\n",
       "1                         0.0\n",
       "2                         1.0\n",
       "3                         0.0\n",
       "4                         1.0"
      ]
     },
     "execution_count": 5,
     "metadata": {},
     "output_type": "execute_result"
    }
   ],
   "source": [
    "y_train.head(5)"
   ]
  },
  {
   "cell_type": "code",
   "execution_count": 6,
   "id": "9262ab2e",
   "metadata": {
    "execution": {
     "iopub.execute_input": "2024-06-08T11:14:37.814151Z",
     "iopub.status.busy": "2024-06-08T11:14:37.813758Z",
     "iopub.status.idle": "2024-06-08T11:14:37.824381Z",
     "shell.execute_reply": "2024-06-08T11:14:37.823289Z"
    },
    "papermill": {
     "duration": 0.022224,
     "end_time": "2024-06-08T11:14:37.827419",
     "exception": false,
     "start_time": "2024-06-08T11:14:37.805195",
     "status": "completed"
    },
    "tags": []
   },
   "outputs": [
    {
     "data": {
      "text/html": [
       "<div>\n",
       "<style scoped>\n",
       "    .dataframe tbody tr th:only-of-type {\n",
       "        vertical-align: middle;\n",
       "    }\n",
       "\n",
       "    .dataframe tbody tr th {\n",
       "        vertical-align: top;\n",
       "    }\n",
       "\n",
       "    .dataframe thead th {\n",
       "        text-align: right;\n",
       "    }\n",
       "</style>\n",
       "<table border=\"1\" class=\"dataframe\">\n",
       "  <thead>\n",
       "    <tr style=\"text-align: right;\">\n",
       "      <th></th>\n",
       "      <th>1-week Forward Return Sign</th>\n",
       "    </tr>\n",
       "  </thead>\n",
       "  <tbody>\n",
       "    <tr>\n",
       "      <th>0</th>\n",
       "      <td>1.0</td>\n",
       "    </tr>\n",
       "    <tr>\n",
       "      <th>1</th>\n",
       "      <td>0.0</td>\n",
       "    </tr>\n",
       "    <tr>\n",
       "      <th>2</th>\n",
       "      <td>1.0</td>\n",
       "    </tr>\n",
       "    <tr>\n",
       "      <th>3</th>\n",
       "      <td>1.0</td>\n",
       "    </tr>\n",
       "    <tr>\n",
       "      <th>4</th>\n",
       "      <td>1.0</td>\n",
       "    </tr>\n",
       "  </tbody>\n",
       "</table>\n",
       "</div>"
      ],
      "text/plain": [
       "   1-week Forward Return Sign\n",
       "0                         1.0\n",
       "1                         0.0\n",
       "2                         1.0\n",
       "3                         1.0\n",
       "4                         1.0"
      ]
     },
     "execution_count": 6,
     "metadata": {},
     "output_type": "execute_result"
    }
   ],
   "source": [
    "y_test.head(5)"
   ]
  },
  {
   "cell_type": "markdown",
   "id": "4dc028f8",
   "metadata": {
    "papermill": {
     "duration": 0.008629,
     "end_time": "2024-06-08T11:14:37.846876",
     "exception": false,
     "start_time": "2024-06-08T11:14:37.838247",
     "status": "completed"
    },
    "tags": []
   },
   "source": [
    "# Fit Logistic Regression Model"
   ]
  },
  {
   "cell_type": "markdown",
   "id": "df0f36ab",
   "metadata": {
    "papermill": {
     "duration": 0.007203,
     "end_time": "2024-06-08T11:14:37.861868",
     "exception": false,
     "start_time": "2024-06-08T11:14:37.854665",
     "status": "completed"
    },
    "tags": []
   },
   "source": [
    "### Check class imbalance"
   ]
  },
  {
   "cell_type": "code",
   "execution_count": 7,
   "id": "e6f5b78c",
   "metadata": {
    "execution": {
     "iopub.execute_input": "2024-06-08T11:14:37.879175Z",
     "iopub.status.busy": "2024-06-08T11:14:37.878662Z",
     "iopub.status.idle": "2024-06-08T11:14:38.326235Z",
     "shell.execute_reply": "2024-06-08T11:14:38.324951Z"
    },
    "papermill": {
     "duration": 0.459752,
     "end_time": "2024-06-08T11:14:38.329292",
     "exception": false,
     "start_time": "2024-06-08T11:14:37.869540",
     "status": "completed"
    },
    "tags": []
   },
   "outputs": [
    {
     "data": {
      "text/plain": [
       "<Axes: title={'center': 'Frequency of each class in the training and test targets'}>"
      ]
     },
     "execution_count": 7,
     "metadata": {},
     "output_type": "execute_result"
    },
    {
     "data": {
      "image/png": "[encoded data removed]",
      "text/plain": [
       "<Figure size 640x480 with 1 Axes>"
      ]
     },
     "metadata": {},
     "output_type": "display_data"
    }
   ],
   "source": [
    "# Examine class imbalance in training and test sets\n",
    "train_classes = y_train.value_counts().sort_index()\n",
    "test_classes = y_test.value_counts().sort_index()\n",
    "class_freq = pd.DataFrame(data=zip(train_classes, test_classes), columns=['Train', 'Test'], index=[0, 1])\n",
    "class_freq.plot(kind='bar', title='Frequency of each class in the training and test targets')"
   ]
  },
  {
   "cell_type": "markdown",
   "id": "f3d425a8",
   "metadata": {
    "papermill": {
     "duration": 0.01296,
     "end_time": "2024-06-08T11:14:38.353877",
     "exception": false,
     "start_time": "2024-06-08T11:14:38.340917",
     "status": "completed"
    },
    "tags": []
   },
   "source": [
    "### Parameter Optimization"
   ]
  },
  {
   "cell_type": "code",
   "execution_count": 8,
   "id": "587d72ce",
   "metadata": {
    "execution": {
     "iopub.execute_input": "2024-06-08T11:14:38.379481Z",
     "iopub.status.busy": "2024-06-08T11:14:38.378411Z",
     "iopub.status.idle": "2024-06-08T11:14:39.984953Z",
     "shell.execute_reply": "2024-06-08T11:14:39.983601Z"
    },
    "papermill": {
     "duration": 1.622482,
     "end_time": "2024-06-08T11:14:39.987995",
     "exception": false,
     "start_time": "2024-06-08T11:14:38.365513",
     "status": "completed"
    },
    "tags": []
   },
   "outputs": [],
   "source": [
    "# Imports\n",
    "from sklearn.model_selection import TimeSeriesSplit, RandomizedSearchCV\n",
    "from sklearn.linear_model import LogisticRegression\n",
    "\n",
    "# Define parameter grid\n",
    "grid = {\n",
    "    'C': [0.001, 0.01, 0.1],\n",
    "    'penalty': ['l1', 'l2'],\n",
    "    'solver': ['liblinear']\n",
    "}\n",
    "\n",
    "# Create base model\n",
    "lr = LogisticRegression()\n",
    "\n",
    "# Create time series split object to allow for CV without look-ahead bias\n",
    "tscv = TimeSeriesSplit(n_splits=5)"
   ]
  },
  {
   "cell_type": "code",
   "execution_count": 9,
   "id": "dc63c280",
   "metadata": {
    "execution": {
     "iopub.execute_input": "2024-06-08T11:14:40.006918Z",
     "iopub.status.busy": "2024-06-08T11:14:40.006451Z",
     "iopub.status.idle": "2024-06-08T11:27:22.549518Z",
     "shell.execute_reply": "2024-06-08T11:27:22.548089Z"
    },
    "papermill": {
     "duration": 762.567585,
     "end_time": "2024-06-08T11:27:22.564057",
     "exception": false,
     "start_time": "2024-06-08T11:14:39.996472",
     "status": "completed"
    },
    "tags": []
   },
   "outputs": [
    {
     "name": "stdout",
     "output_type": "stream",
     "text": [
      "Fitting 5 folds for each of 6 candidates, totalling 30 fits\n"
     ]
    },
    {
     "name": "stderr",
     "output_type": "stream",
     "text": [
      "/opt/conda/lib/python3.10/site-packages/sklearn/model_selection/_search.py:305: UserWarning: The total space of parameters 6 is smaller than n_iter=12. Running 6 iterations. For exhaustive searches, use GridSearchCV.\n",
      "  warnings.warn(\n",
      "/opt/conda/lib/python3.10/site-packages/sklearn/utils/validation.py:1143: DataConversionWarning: A column-vector y was passed when a 1d array was expected. Please change the shape of y to (n_samples, ), for example using ravel().\n",
      "  y = column_or_1d(y, warn=True)\n",
      "/opt/conda/lib/python3.10/site-packages/sklearn/utils/validation.py:1143: DataConversionWarning: A column-vector y was passed when a 1d array was expected. Please change the shape of y to (n_samples, ), for example using ravel().\n",
      "  y = column_or_1d(y, warn=True)\n",
      "/opt/conda/lib/python3.10/site-packages/sklearn/utils/validation.py:1143: DataConversionWarning: A column-vector y was passed when a 1d array was expected. Please change the shape of y to (n_samples, ), for example using ravel().\n",
      "  y = column_or_1d(y, warn=True)\n",
      "/opt/conda/lib/python3.10/site-packages/sklearn/utils/validation.py:1143: DataConversionWarning: A column-vector y was passed when a 1d array was expected. Please change the shape of y to (n_samples, ), for example using ravel().\n",
      "  y = column_or_1d(y, warn=True)\n",
      "/opt/conda/lib/python3.10/site-packages/sklearn/utils/validation.py:1143: DataConversionWarning: A column-vector y was passed when a 1d array was expected. Please change the shape of y to (n_samples, ), for example using ravel().\n",
      "  y = column_or_1d(y, warn=True)\n",
      "/opt/conda/lib/python3.10/site-packages/sklearn/utils/validation.py:1143: DataConversionWarning: A column-vector y was passed when a 1d array was expected. Please change the shape of y to (n_samples, ), for example using ravel().\n",
      "  y = column_or_1d(y, warn=True)\n",
      "/opt/conda/lib/python3.10/site-packages/sklearn/utils/validation.py:1143: DataConversionWarning: A column-vector y was passed when a 1d array was expected. Please change the shape of y to (n_samples, ), for example using ravel().\n",
      "  y = column_or_1d(y, warn=True)\n",
      "/opt/conda/lib/python3.10/site-packages/sklearn/utils/validation.py:1143: DataConversionWarning: A column-vector y was passed when a 1d array was expected. Please change the shape of y to (n_samples, ), for example using ravel().\n",
      "  y = column_or_1d(y, warn=True)\n",
      "/opt/conda/lib/python3.10/site-packages/sklearn/utils/validation.py:1143: DataConversionWarning: A column-vector y was passed when a 1d array was expected. Please change the shape of y to (n_samples, ), for example using ravel().\n",
      "  y = column_or_1d(y, warn=True)\n",
      "/opt/conda/lib/python3.10/site-packages/sklearn/utils/validation.py:1143: DataConversionWarning: A column-vector y was passed when a 1d array was expected. Please change the shape of y to (n_samples, ), for example using ravel().\n",
      "  y = column_or_1d(y, warn=True)\n",
      "/opt/conda/lib/python3.10/site-packages/sklearn/utils/validation.py:1143: DataConversionWarning: A column-vector y was passed when a 1d array was expected. Please change the shape of y to (n_samples, ), for example using ravel().\n",
      "  y = column_or_1d(y, warn=True)\n",
      "/opt/conda/lib/python3.10/site-packages/sklearn/utils/validation.py:1143: DataConversionWarning: A column-vector y was passed when a 1d array was expected. Please change the shape of y to (n_samples, ), for example using ravel().\n",
      "  y = column_or_1d(y, warn=True)\n",
      "/opt/conda/lib/python3.10/site-packages/sklearn/utils/validation.py:1143: DataConversionWarning: A column-vector y was passed when a 1d array was expected. Please change the shape of y to (n_samples, ), for example using ravel().\n",
      "  y = column_or_1d(y, warn=True)\n",
      "/opt/conda/lib/python3.10/site-packages/sklearn/utils/validation.py:1143: DataConversionWarning: A column-vector y was passed when a 1d array was expected. Please change the shape of y to (n_samples, ), for example using ravel().\n",
      "  y = column_or_1d(y, warn=True)\n",
      "/opt/conda/lib/python3.10/site-packages/sklearn/utils/validation.py:1143: DataConversionWarning: A column-vector y was passed when a 1d array was expected. Please change the shape of y to (n_samples, ), for example using ravel().\n",
      "  y = column_or_1d(y, warn=True)\n",
      "/opt/conda/lib/python3.10/site-packages/sklearn/utils/validation.py:1143: DataConversionWarning: A column-vector y was passed when a 1d array was expected. Please change the shape of y to (n_samples, ), for example using ravel().\n",
      "  y = column_or_1d(y, warn=True)\n",
      "/opt/conda/lib/python3.10/site-packages/sklearn/utils/validation.py:1143: DataConversionWarning: A column-vector y was passed when a 1d array was expected. Please change the shape of y to (n_samples, ), for example using ravel().\n",
      "  y = column_or_1d(y, warn=True)\n",
      "/opt/conda/lib/python3.10/site-packages/sklearn/utils/validation.py:1143: DataConversionWarning: A column-vector y was passed when a 1d array was expected. Please change the shape of y to (n_samples, ), for example using ravel().\n",
      "  y = column_or_1d(y, warn=True)\n",
      "/opt/conda/lib/python3.10/site-packages/sklearn/utils/validation.py:1143: DataConversionWarning: A column-vector y was passed when a 1d array was expected. Please change the shape of y to (n_samples, ), for example using ravel().\n",
      "  y = column_or_1d(y, warn=True)\n",
      "/opt/conda/lib/python3.10/site-packages/sklearn/utils/validation.py:1143: DataConversionWarning: A column-vector y was passed when a 1d array was expected. Please change the shape of y to (n_samples, ), for example using ravel().\n",
      "  y = column_or_1d(y, warn=True)\n",
      "/opt/conda/lib/python3.10/site-packages/sklearn/utils/validation.py:1143: DataConversionWarning: A column-vector y was passed when a 1d array was expected. Please change the shape of y to (n_samples, ), for example using ravel().\n",
      "  y = column_or_1d(y, warn=True)\n",
      "/opt/conda/lib/python3.10/site-packages/sklearn/utils/validation.py:1143: DataConversionWarning: A column-vector y was passed when a 1d array was expected. Please change the shape of y to (n_samples, ), for example using ravel().\n",
      "  y = column_or_1d(y, warn=True)\n",
      "/opt/conda/lib/python3.10/site-packages/sklearn/utils/validation.py:1143: DataConversionWarning: A column-vector y was passed when a 1d array was expected. Please change the shape of y to (n_samples, ), for example using ravel().\n",
      "  y = column_or_1d(y, warn=True)\n",
      "/opt/conda/lib/python3.10/site-packages/sklearn/utils/validation.py:1143: DataConversionWarning: A column-vector y was passed when a 1d array was expected. Please change the shape of y to (n_samples, ), for example using ravel().\n",
      "  y = column_or_1d(y, warn=True)\n",
      "/opt/conda/lib/python3.10/site-packages/sklearn/utils/validation.py:1143: DataConversionWarning: A column-vector y was passed when a 1d array was expected. Please change the shape of y to (n_samples, ), for example using ravel().\n",
      "  y = column_or_1d(y, warn=True)\n",
      "/opt/conda/lib/python3.10/site-packages/sklearn/utils/validation.py:1143: DataConversionWarning: A column-vector y was passed when a 1d array was expected. Please change the shape of y to (n_samples, ), for example using ravel().\n",
      "  y = column_or_1d(y, warn=True)\n",
      "/opt/conda/lib/python3.10/site-packages/sklearn/utils/validation.py:1143: DataConversionWarning: A column-vector y was passed when a 1d array was expected. Please change the shape of y to (n_samples, ), for example using ravel().\n",
      "  y = column_or_1d(y, warn=True)\n",
      "/opt/conda/lib/python3.10/site-packages/sklearn/utils/validation.py:1143: DataConversionWarning: A column-vector y was passed when a 1d array was expected. Please change the shape of y to (n_samples, ), for example using ravel().\n",
      "  y = column_or_1d(y, warn=True)\n",
      "/opt/conda/lib/python3.10/site-packages/sklearn/utils/validation.py:1143: DataConversionWarning: A column-vector y was passed when a 1d array was expected. Please change the shape of y to (n_samples, ), for example using ravel().\n",
      "  y = column_or_1d(y, warn=True)\n",
      "/opt/conda/lib/python3.10/site-packages/sklearn/utils/validation.py:1143: DataConversionWarning: A column-vector y was passed when a 1d array was expected. Please change the shape of y to (n_samples, ), for example using ravel().\n",
      "  y = column_or_1d(y, warn=True)\n"
     ]
    },
    {
     "data": {
      "text/html": [
       "<style>#sk-container-id-1 {color: black;background-color: white;}#sk-container-id-1 pre{padding: 0;}#sk-container-id-1 div.sk-toggleable {background-color: white;}#sk-container-id-1 label.sk-toggleable__label {cursor: pointer;display: block;width: 100%;margin-bottom: 0;padding: 0.3em;box-sizing: border-box;text-align: center;}#sk-container-id-1 label.sk-toggleable__label-arrow:before {content: \"▸\";float: left;margin-right: 0.25em;color: #696969;}#sk-container-id-1 label.sk-toggleable__label-arrow:hover:before {color: black;}#sk-container-id-1 div.sk-estimator:hover label.sk-toggleable__label-arrow:before {color: black;}#sk-container-id-1 div.sk-toggleable__content {max-height: 0;max-width: 0;overflow: hidden;text-align: left;background-color: #f0f8ff;}#sk-container-id-1 div.sk-toggleable__content pre {margin: 0.2em;color: black;border-radius: 0.25em;background-color: #f0f8ff;}#sk-container-id-1 input.sk-toggleable__control:checked~div.sk-toggleable__content {max-height: 200px;max-width: 100%;overflow: auto;}#sk-container-id-1 input.sk-toggleable__control:checked~label.sk-toggleable__label-arrow:before {content: \"▾\";}#sk-container-id-1 div.sk-estimator input.sk-toggleable__control:checked~label.sk-toggleable__label {background-color: #d4ebff;}#sk-container-id-1 div.sk-label input.sk-toggleable__control:checked~label.sk-toggleable__label {background-color: #d4ebff;}#sk-container-id-1 input.sk-hidden--visually {border: 0;clip: rect(1px 1px 1px 1px);clip: rect(1px, 1px, 1px, 1px);height: 1px;margin: -1px;overflow: hidden;padding: 0;position: absolute;width: 1px;}#sk-container-id-1 div.sk-estimator {font-family: monospace;background-color: #f0f8ff;border: 1px dotted black;border-radius: 0.25em;box-sizing: border-box;margin-bottom: 0.5em;}#sk-container-id-1 div.sk-estimator:hover {background-color: #d4ebff;}#sk-container-id-1 div.sk-parallel-item::after {content: \"\";width: 100%;border-bottom: 1px solid gray;flex-grow: 1;}#sk-container-id-1 div.sk-label:hover label.sk-toggleable__label {background-color: #d4ebff;}#sk-container-id-1 div.sk-serial::before {content: \"\";position: absolute;border-left: 1px solid gray;box-sizing: border-box;top: 0;bottom: 0;left: 50%;z-index: 0;}#sk-container-id-1 div.sk-serial {display: flex;flex-direction: column;align-items: center;background-color: white;padding-right: 0.2em;padding-left: 0.2em;position: relative;}#sk-container-id-1 div.sk-item {position: relative;z-index: 1;}#sk-container-id-1 div.sk-parallel {display: flex;align-items: stretch;justify-content: center;background-color: white;position: relative;}#sk-container-id-1 div.sk-item::before, #sk-container-id-1 div.sk-parallel-item::before {content: \"\";position: absolute;border-left: 1px solid gray;box-sizing: border-box;top: 0;bottom: 0;left: 50%;z-index: -1;}#sk-container-id-1 div.sk-parallel-item {display: flex;flex-direction: column;z-index: 1;position: relative;background-color: white;}#sk-container-id-1 div.sk-parallel-item:first-child::after {align-self: flex-end;width: 50%;}#sk-container-id-1 div.sk-parallel-item:last-child::after {align-self: flex-start;width: 50%;}#sk-container-id-1 div.sk-parallel-item:only-child::after {width: 0;}#sk-container-id-1 div.sk-dashed-wrapped {border: 1px dashed gray;margin: 0 0.4em 0.5em 0.4em;box-sizing: border-box;padding-bottom: 0.4em;background-color: white;}#sk-container-id-1 div.sk-label label {font-family: monospace;font-weight: bold;display: inline-block;line-height: 1.2em;}#sk-container-id-1 div.sk-label-container {text-align: center;}#sk-container-id-1 div.sk-container {/* jupyter's `normalize.less` sets `[hidden] { display: none; }` but bootstrap.min.css set `[hidden] { display: none !important; }` so we also need the `!important` here to be able to override the default hidden behavior on the sphinx rendered scikit-learn.org. See: https://github.com/scikit-learn/scikit-learn/issues/21755 */display: inline-block !important;position: relative;}#sk-container-id-1 div.sk-text-repr-fallback {display: none;}</style><div id=\"sk-container-id-1\" class=\"sk-top-container\"><div class=\"sk-text-repr-fallback\"><pre>RandomizedSearchCV(cv=TimeSeriesSplit(gap=0, max_train_size=None, n_splits=5, test_size=None),\n",
       "                   estimator=LogisticRegression(), n_iter=12, n_jobs=-1,\n",
       "                   param_distributions={&#x27;C&#x27;: [0.001, 0.01, 0.1],\n",
       "                                        &#x27;penalty&#x27;: [&#x27;l1&#x27;, &#x27;l2&#x27;],\n",
       "                                        &#x27;solver&#x27;: [&#x27;liblinear&#x27;]},\n",
       "                   refit=False, scoring=&#x27;accuracy&#x27;, verbose=3)</pre><b>In a Jupyter environment, please rerun this cell to show the HTML representation or trust the notebook. <br />On GitHub, the HTML representation is unable to render, please try loading this page with nbviewer.org.</b></div><div class=\"sk-container\" hidden><div class=\"sk-item sk-dashed-wrapped\"><div class=\"sk-label-container\"><div class=\"sk-label sk-toggleable\"><input class=\"sk-toggleable__control sk-hidden--visually\" id=\"sk-estimator-id-1\" type=\"checkbox\" ><label for=\"sk-estimator-id-1\" class=\"sk-toggleable__label sk-toggleable__label-arrow\">RandomizedSearchCV</label><div class=\"sk-toggleable__content\"><pre>RandomizedSearchCV(cv=TimeSeriesSplit(gap=0, max_train_size=None, n_splits=5, test_size=None),\n",
       "                   estimator=LogisticRegression(), n_iter=12, n_jobs=-1,\n",
       "                   param_distributions={&#x27;C&#x27;: [0.001, 0.01, 0.1],\n",
       "                                        &#x27;penalty&#x27;: [&#x27;l1&#x27;, &#x27;l2&#x27;],\n",
       "                                        &#x27;solver&#x27;: [&#x27;liblinear&#x27;]},\n",
       "                   refit=False, scoring=&#x27;accuracy&#x27;, verbose=3)</pre></div></div></div><div class=\"sk-parallel\"><div class=\"sk-parallel-item\"><div class=\"sk-item\"><div class=\"sk-label-container\"><div class=\"sk-label sk-toggleable\"><input class=\"sk-toggleable__control sk-hidden--visually\" id=\"sk-estimator-id-2\" type=\"checkbox\" ><label for=\"sk-estimator-id-2\" class=\"sk-toggleable__label sk-toggleable__label-arrow\">estimator: LogisticRegression</label><div class=\"sk-toggleable__content\"><pre>LogisticRegression()</pre></div></div></div><div class=\"sk-serial\"><div class=\"sk-item\"><div class=\"sk-estimator sk-toggleable\"><input class=\"sk-toggleable__control sk-hidden--visually\" id=\"sk-estimator-id-3\" type=\"checkbox\" ><label for=\"sk-estimator-id-3\" class=\"sk-toggleable__label sk-toggleable__label-arrow\">LogisticRegression</label><div class=\"sk-toggleable__content\"><pre>LogisticRegression()</pre></div></div></div></div></div></div></div></div></div></div>"
      ],
      "text/plain": [
       "RandomizedSearchCV(cv=TimeSeriesSplit(gap=0, max_train_size=None, n_splits=5, test_size=None),\n",
       "                   estimator=LogisticRegression(), n_iter=12, n_jobs=-1,\n",
       "                   param_distributions={'C': [0.001, 0.01, 0.1],\n",
       "                                        'penalty': ['l1', 'l2'],\n",
       "                                        'solver': ['liblinear']},\n",
       "                   refit=False, scoring='accuracy', verbose=3)"
      ]
     },
     "execution_count": 9,
     "metadata": {},
     "output_type": "execute_result"
    }
   ],
   "source": [
    "# Create random search object\n",
    "random_search = RandomizedSearchCV(\n",
    "    estimator=lr,\n",
    "    param_distributions=grid,\n",
    "    n_iter=12,\n",
    "    cv=tscv,\n",
    "    n_jobs=-1,\n",
    "    scoring='accuracy',\n",
    "    verbose=3,\n",
    "    refit=False\n",
    ")\n",
    "\n",
    "# Fit the grid search to data\n",
    "random_search.fit(X_train.drop(['Date', 'Symbol'], axis=1), y_train)"
   ]
  },
  {
   "cell_type": "code",
   "execution_count": 10,
   "id": "2efd8309",
   "metadata": {
    "execution": {
     "iopub.execute_input": "2024-06-08T11:27:22.590134Z",
     "iopub.status.busy": "2024-06-08T11:27:22.589696Z",
     "iopub.status.idle": "2024-06-08T11:27:22.602503Z",
     "shell.execute_reply": "2024-06-08T11:27:22.601292Z"
    },
    "papermill": {
     "duration": 0.029347,
     "end_time": "2024-06-08T11:27:22.604904",
     "exception": false,
     "start_time": "2024-06-08T11:27:22.575557",
     "status": "completed"
    },
    "tags": []
   },
   "outputs": [
    {
     "name": "stdout",
     "output_type": "stream",
     "text": [
      "{'mean_fit_time': array([ 14.43596787,  32.01284347, 156.84489036,  43.89800258,\n",
      "       269.65866194,  47.13619142]), 'std_fit_time': array([  6.44869814,  13.6186564 ,  68.76512761,  14.52993343,\n",
      "       113.56305342,   7.9958679 ]), 'mean_score_time': array([0.06037803, 0.05773993, 0.05833373, 0.05832076, 0.05387444,\n",
      "       0.05483403]), 'std_score_time': array([0.00289527, 0.00267661, 0.00225209, 0.00089753, 0.00805916,\n",
      "       0.00890583]), 'param_solver': masked_array(data=['liblinear', 'liblinear', 'liblinear', 'liblinear',\n",
      "                   'liblinear', 'liblinear'],\n",
      "             mask=[False, False, False, False, False, False],\n",
      "       fill_value='?',\n",
      "            dtype=object), 'param_penalty': masked_array(data=['l1', 'l2', 'l1', 'l2', 'l1', 'l2'],\n",
      "             mask=[False, False, False, False, False, False],\n",
      "       fill_value='?',\n",
      "            dtype=object), 'param_C': masked_array(data=[0.001, 0.001, 0.01, 0.01, 0.1, 0.1],\n",
      "             mask=[False, False, False, False, False, False],\n",
      "       fill_value='?',\n",
      "            dtype=object), 'params': [{'solver': 'liblinear', 'penalty': 'l1', 'C': 0.001}, {'solver': 'liblinear', 'penalty': 'l2', 'C': 0.001}, {'solver': 'liblinear', 'penalty': 'l1', 'C': 0.01}, {'solver': 'liblinear', 'penalty': 'l2', 'C': 0.01}, {'solver': 'liblinear', 'penalty': 'l1', 'C': 0.1}, {'solver': 'liblinear', 'penalty': 'l2', 'C': 0.1}], 'split0_test_score': array([0.51576536, 0.53134457, 0.51626175, 0.52575056, 0.52560737,\n",
      "       0.52637106]), 'split1_test_score': array([0.50084483, 0.48170493, 0.51146962, 0.49401938, 0.51963152,\n",
      "       0.51973653]), 'split2_test_score': array([0.53073362, 0.53047587, 0.52660016, 0.52340222, 0.5191924 ,\n",
      "       0.51904921]), 'split3_test_score': array([0.55431244, 0.55012171, 0.53962102, 0.53522028, 0.53256646,\n",
      "       0.53233736]), 'split4_test_score': array([0.55016944, 0.55542934, 0.55699489, 0.55937187, 0.5597728 ,\n",
      "       0.56007828]), 'mean_test_score': array([0.53036514, 0.52981528, 0.53018949, 0.52755286, 0.53135411,\n",
      "       0.53151449]), 'std_test_score': array([0.02025054, 0.02602234, 0.01652139, 0.02105331, 0.01501628,\n",
      "       0.01508062]), 'rank_test_score': array([3, 5, 4, 6, 2, 1], dtype=int32)}\n",
      "Best params are {'solver': 'liblinear', 'penalty': 'l2', 'C': 0.1}\n",
      "Best accuracy score is 0.5315144861820438\n"
     ]
    }
   ],
   "source": [
    "# Get results of all trained models\n",
    "cv_results = random_search.cv_results_\n",
    "print(cv_results)\n",
    "\n",
    "# Get best params and score\n",
    "best_params = random_search.best_params_\n",
    "best_score = random_search.best_score_\n",
    "print(f\"Best params are {best_params}\")\n",
    "print(f\"Best accuracy score is {best_score}\")\n",
    "\n",
    "# Save best parameters\n",
    "import pickle\n",
    "with open('best_params.pkl', 'wb') as f:\n",
    "    pickle.dump(best_params, f)"
   ]
  },
  {
   "cell_type": "markdown",
   "id": "553c0df3",
   "metadata": {
    "papermill": {
     "duration": 0.011257,
     "end_time": "2024-06-08T11:27:22.627842",
     "exception": false,
     "start_time": "2024-06-08T11:27:22.616585",
     "status": "completed"
    },
    "tags": []
   },
   "source": [
    "### Train model"
   ]
  },
  {
   "cell_type": "code",
   "execution_count": 11,
   "id": "d8af70f3",
   "metadata": {
    "execution": {
     "iopub.execute_input": "2024-06-08T11:27:22.652892Z",
     "iopub.status.busy": "2024-06-08T11:27:22.652465Z",
     "iopub.status.idle": "2024-06-08T11:28:11.328200Z",
     "shell.execute_reply": "2024-06-08T11:28:11.326955Z"
    },
    "papermill": {
     "duration": 48.70296,
     "end_time": "2024-06-08T11:28:11.342412",
     "exception": false,
     "start_time": "2024-06-08T11:27:22.639452",
     "status": "completed"
    },
    "tags": []
   },
   "outputs": [
    {
     "name": "stderr",
     "output_type": "stream",
     "text": [
      "/opt/conda/lib/python3.10/site-packages/sklearn/utils/validation.py:1143: DataConversionWarning: A column-vector y was passed when a 1d array was expected. Please change the shape of y to (n_samples, ), for example using ravel().\n",
      "  y = column_or_1d(y, warn=True)\n"
     ]
    },
    {
     "data": {
      "text/plain": [
       "array([[ 9.80988835e-03, -2.83442056e-02, -1.85084934e-02,\n",
       "        -1.91266050e-02, -1.57483333e-02, -5.00851551e-02,\n",
       "        -8.99280854e-03, -1.19913330e-02, -1.20950265e-02,\n",
       "        -1.08920699e-02,  3.20821419e-03,  1.86527440e-01,\n",
       "         3.38602636e-02, -8.34956330e-03,  3.54574384e-02,\n",
       "         6.04946570e-02,  1.19892255e-01, -9.47023340e-02,\n",
       "         1.13164741e-02,  7.53055064e-03,  1.56180747e-02,\n",
       "        -4.19709446e-03, -4.81324021e-03, -1.23937228e-02,\n",
       "         1.12543158e-01, -1.14264527e-04, -3.08595185e-02,\n",
       "        -2.91515445e-02, -3.03500360e-02,  5.54513980e-03,\n",
       "         1.83331488e-02, -2.06682883e-02,  1.18117185e-02,\n",
       "        -2.95696030e-02, -1.10257832e-01,  2.18364025e-03,\n",
       "        -3.19866192e-02,  1.39769819e-02, -8.94657483e-03,\n",
       "        -6.18546585e-02,  1.60609680e-02,  1.82819078e-02,\n",
       "         2.28007835e-01,  6.35678608e-02, -2.87480834e-02,\n",
       "        -9.06805025e-02, -1.67919803e-01, -1.04188487e-01,\n",
       "         1.77541387e-01,  6.61429461e-02,  1.43994479e-01,\n",
       "         1.05797120e-02, -5.13605014e-02, -1.90320281e-01,\n",
       "        -8.65550647e-02,  1.07497088e-01, -5.83800473e-03,\n",
       "         1.13348153e-01, -3.38202847e-01, -8.19846732e-02,\n",
       "        -3.79863384e-02,  1.86572529e-02, -8.72496906e-03,\n",
       "        -4.32960282e-02, -3.44774797e-02,  4.99470097e-02,\n",
       "         2.67042831e-01, -4.43440153e-02, -2.74065418e-02,\n",
       "        -3.95450131e-02,  9.02063470e-03,  3.35198092e-02,\n",
       "        -7.17187472e-03,  2.30837091e-02, -1.96004920e-04,\n",
       "        -3.62320424e-02, -4.16782531e-03, -6.21663409e-04,\n",
       "         1.16784962e-02,  6.00514600e-03, -1.56893456e-02,\n",
       "         5.60033061e-03,  1.56599964e-02, -4.32403199e-03,\n",
       "         5.04166370e-03, -3.41313138e-04, -9.85279873e-03,\n",
       "         1.76023010e-03, -6.93991835e-03, -3.26862144e-03,\n",
       "        -2.65007033e-03,  3.06153428e-03, -6.74210412e-03,\n",
       "         5.54548673e-03,  1.20005036e-02, -3.44992429e-03,\n",
       "         1.32637280e-03, -3.02262918e-03,  4.87496980e-03,\n",
       "        -4.14305393e-03, -5.12659474e-03,  4.45657494e-03,\n",
       "         7.54528511e-03, -1.07639661e-02, -4.27979040e-03,\n",
       "        -9.24729564e-03,  1.48305940e-02,  2.73220269e-02,\n",
       "        -2.46720209e-02, -1.38725548e-02,  2.52667160e-02]])"
      ]
     },
     "execution_count": 11,
     "metadata": {},
     "output_type": "execute_result"
    }
   ],
   "source": [
    "# Fit model with best params\n",
    "lr = LogisticRegression(**best_params)\n",
    "lr.fit(X_train.drop(['Date', 'Symbol'], axis=1), y_train)\n",
    "lr.coef_"
   ]
  },
  {
   "cell_type": "code",
   "execution_count": 12,
   "id": "a4f6b4e2",
   "metadata": {
    "execution": {
     "iopub.execute_input": "2024-06-08T11:28:11.368174Z",
     "iopub.status.busy": "2024-06-08T11:28:11.367732Z",
     "iopub.status.idle": "2024-06-08T11:28:11.373753Z",
     "shell.execute_reply": "2024-06-08T11:28:11.372641Z"
    },
    "papermill": {
     "duration": 0.021951,
     "end_time": "2024-06-08T11:28:11.376306",
     "exception": false,
     "start_time": "2024-06-08T11:28:11.354355",
     "status": "completed"
    },
    "tags": []
   },
   "outputs": [],
   "source": [
    "# Save model\n",
    "with open('lr_model.pkl', 'wb') as f:\n",
    "    pickle.dump(lr, f)"
   ]
  }
 ],
 "metadata": {
  "kaggle": {
   "accelerator": "none",
   "dataSources": [
    {
     "sourceId": 181082692,
     "sourceType": "kernelVersion"
    }
   ],
   "dockerImageVersionId": 30698,
   "isGpuEnabled": false,
   "isInternetEnabled": true,
   "language": "python",
   "sourceType": "notebook"
  },
  "kernelspec": {
   "display_name": "Python 3",
   "language": "python",
   "name": "python3"
  },
  "language_info": {
   "codemirror_mode": {
    "name": "ipython",
    "version": 3
   },
   "file_extension": ".py",
   "mimetype": "text/x-python",
   "name": "python",
   "nbconvert_exporter": "python",
   "pygments_lexer": "ipython3",
   "version": "3.10.13"
  },
  "papermill": {
   "default_parameters": {},
   "duration": 862.366847,
   "end_time": "2024-06-08T11:28:14.012375",
   "environment_variables": {},
   "exception": null,
   "input_path": "__notebook__.ipynb",
   "output_path": "__notebook__.ipynb",
   "parameters": {},
   "start_time": "2024-06-08T11:13:51.645528",
   "version": "2.5.0"
  }
 },
 "nbformat": 4,
 "nbformat_minor": 5
}
