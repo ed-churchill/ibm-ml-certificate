{
 "cells": [
  {
   "cell_type": "markdown",
   "id": "40a88e99",
   "metadata": {
    "papermill": {
     "duration": 0.007187,
     "end_time": "2024-06-05T14:32:02.281540",
     "exception": false,
     "start_time": "2024-06-05T14:32:02.274353",
     "status": "completed"
    },
    "tags": []
   },
   "source": [
    "# Imports"
   ]
  },
  {
   "cell_type": "code",
   "execution_count": 1,
   "id": "ac6d39c8",
   "metadata": {
    "_cell_guid": "b1076dfc-b9ad-4769-8c92-a6c4dae69d19",
    "_uuid": "8f2839f25d086af736a60e9eeb907d3b93b6e0e5",
    "execution": {
     "iopub.execute_input": "2024-06-05T14:32:02.297143Z",
     "iopub.status.busy": "2024-06-05T14:32:02.296708Z",
     "iopub.status.idle": "2024-06-05T14:32:17.090564Z",
     "shell.execute_reply": "2024-06-05T14:32:17.089082Z"
    },
    "papermill": {
     "duration": 14.804994,
     "end_time": "2024-06-05T14:32:17.093570",
     "exception": false,
     "start_time": "2024-06-05T14:32:02.288576",
     "status": "completed"
    },
    "tags": []
   },
   "outputs": [
    {
     "name": "stderr",
     "output_type": "stream",
     "text": [
      "2024-06-05 14:32:05.373447: E external/local_xla/xla/stream_executor/cuda/cuda_dnn.cc:9261] Unable to register cuDNN factory: Attempting to register factory for plugin cuDNN when one has already been registered\n",
      "2024-06-05 14:32:05.373602: E external/local_xla/xla/stream_executor/cuda/cuda_fft.cc:607] Unable to register cuFFT factory: Attempting to register factory for plugin cuFFT when one has already been registered\n",
      "2024-06-05 14:32:05.518327: E external/local_xla/xla/stream_executor/cuda/cuda_blas.cc:1515] Unable to register cuBLAS factory: Attempting to register factory for plugin cuBLAS when one has already been registered\n"
     ]
    }
   ],
   "source": [
    "import pandas as pd\n",
    "import numpy as np\n",
    "import tensorflow as tf\n",
    "import math"
   ]
  },
  {
   "cell_type": "markdown",
   "id": "e2402cc0",
   "metadata": {
    "papermill": {
     "duration": 0.006545,
     "end_time": "2024-06-05T14:32:17.107451",
     "exception": false,
     "start_time": "2024-06-05T14:32:17.100906",
     "status": "completed"
    },
    "tags": []
   },
   "source": [
    "# Read Data"
   ]
  },
  {
   "cell_type": "code",
   "execution_count": 2,
   "id": "e40e80cd",
   "metadata": {
    "execution": {
     "iopub.execute_input": "2024-06-05T14:32:17.123117Z",
     "iopub.status.busy": "2024-06-05T14:32:17.122385Z",
     "iopub.status.idle": "2024-06-05T14:33:04.351397Z",
     "shell.execute_reply": "2024-06-05T14:33:04.350318Z"
    },
    "papermill": {
     "duration": 47.239962,
     "end_time": "2024-06-05T14:33:04.354167",
     "exception": false,
     "start_time": "2024-06-05T14:32:17.114205",
     "status": "completed"
    },
    "tags": []
   },
   "outputs": [],
   "source": [
    "X_train = pd.read_csv(\"/kaggle/input/ibm-classification-feature-selection/X_train_normalized.csv\", index_col=[0])\n",
    "X_test = pd.read_csv(\"/kaggle/input/ibm-classification-feature-selection/X_test_normalized.csv\", index_col=[0])\n",
    "y_train = pd.read_csv(\"/kaggle/input/ibm-classification-feature-selection/y_train.csv\", index_col=[0])\n",
    "y_test = pd.read_csv(\"/kaggle/input/ibm-classification-feature-selection/y_test.csv\", index_col=[0]).reset_index(drop=True)"
   ]
  },
  {
   "cell_type": "code",
   "execution_count": 3,
   "id": "217ffd38",
   "metadata": {
    "execution": {
     "iopub.execute_input": "2024-06-05T14:33:04.369266Z",
     "iopub.status.busy": "2024-06-05T14:33:04.368828Z",
     "iopub.status.idle": "2024-06-05T14:33:04.402925Z",
     "shell.execute_reply": "2024-06-05T14:33:04.401802Z"
    },
    "papermill": {
     "duration": 0.044556,
     "end_time": "2024-06-05T14:33:04.405516",
     "exception": false,
     "start_time": "2024-06-05T14:33:04.360960",
     "status": "completed"
    },
    "tags": []
   },
   "outputs": [
    {
     "data": {
      "text/html": [
       "<div>\n",
       "<style scoped>\n",
       "    .dataframe tbody tr th:only-of-type {\n",
       "        vertical-align: middle;\n",
       "    }\n",
       "\n",
       "    .dataframe tbody tr th {\n",
       "        vertical-align: top;\n",
       "    }\n",
       "\n",
       "    .dataframe thead th {\n",
       "        text-align: right;\n",
       "    }\n",
       "</style>\n",
       "<table border=\"1\" class=\"dataframe\">\n",
       "  <thead>\n",
       "    <tr style=\"text-align: right;\">\n",
       "      <th></th>\n",
       "      <th>Symbol</th>\n",
       "      <th>Volume</th>\n",
       "      <th>Sector_Basic Materials</th>\n",
       "      <th>Sector_Communication Services</th>\n",
       "      <th>Sector_Consumer Cyclical</th>\n",
       "      <th>Sector_Consumer Defensive</th>\n",
       "      <th>Sector_Energy</th>\n",
       "      <th>Sector_Financial Services</th>\n",
       "      <th>Sector_Healthcare</th>\n",
       "      <th>Sector_Industrials</th>\n",
       "      <th>...</th>\n",
       "      <th>Adj Close 14-Day std Differenced</th>\n",
       "      <th>Adj Close 26-Day std Differenced</th>\n",
       "      <th>Adj Close 7-Day Upper Bollinger Band Differenced</th>\n",
       "      <th>Distance to Adj Close 7-Day Upper Bollinger Band Differenced</th>\n",
       "      <th>True Range Differenced</th>\n",
       "      <th>True Range 26-Day SMA Differenced</th>\n",
       "      <th>Adj Close Differenced</th>\n",
       "      <th>High Differenced</th>\n",
       "      <th>Low Differenced</th>\n",
       "      <th>Open Differenced</th>\n",
       "    </tr>\n",
       "  </thead>\n",
       "  <tbody>\n",
       "    <tr>\n",
       "      <th>0</th>\n",
       "      <td>-1.439324</td>\n",
       "      <td>-0.326871</td>\n",
       "      <td>-0.21136</td>\n",
       "      <td>-0.21136</td>\n",
       "      <td>-0.356345</td>\n",
       "      <td>-0.279992</td>\n",
       "      <td>-0.222173</td>\n",
       "      <td>-0.394553</td>\n",
       "      <td>-0.387284</td>\n",
       "      <td>-0.412467</td>\n",
       "      <td>...</td>\n",
       "      <td>0.041515</td>\n",
       "      <td>0.037984</td>\n",
       "      <td>-0.002604</td>\n",
       "      <td>-0.016884</td>\n",
       "      <td>-0.066039</td>\n",
       "      <td>0.104504</td>\n",
       "      <td>-0.020330</td>\n",
       "      <td>0.008943</td>\n",
       "      <td>0.015877</td>\n",
       "      <td>0.062622</td>\n",
       "    </tr>\n",
       "    <tr>\n",
       "      <th>1</th>\n",
       "      <td>-1.069061</td>\n",
       "      <td>-0.344648</td>\n",
       "      <td>-0.21136</td>\n",
       "      <td>-0.21136</td>\n",
       "      <td>-0.356345</td>\n",
       "      <td>-0.279992</td>\n",
       "      <td>-0.222173</td>\n",
       "      <td>-0.394553</td>\n",
       "      <td>2.582087</td>\n",
       "      <td>-0.412467</td>\n",
       "      <td>...</td>\n",
       "      <td>-0.410893</td>\n",
       "      <td>-0.015098</td>\n",
       "      <td>0.023690</td>\n",
       "      <td>-0.111938</td>\n",
       "      <td>-0.141182</td>\n",
       "      <td>-0.090630</td>\n",
       "      <td>-0.107768</td>\n",
       "      <td>0.032258</td>\n",
       "      <td>0.030478</td>\n",
       "      <td>0.096788</td>\n",
       "    </tr>\n",
       "    <tr>\n",
       "      <th>2</th>\n",
       "      <td>1.641263</td>\n",
       "      <td>-0.295005</td>\n",
       "      <td>-0.21136</td>\n",
       "      <td>-0.21136</td>\n",
       "      <td>-0.356345</td>\n",
       "      <td>-0.279992</td>\n",
       "      <td>-0.222173</td>\n",
       "      <td>-0.394553</td>\n",
       "      <td>-0.387284</td>\n",
       "      <td>-0.412467</td>\n",
       "      <td>...</td>\n",
       "      <td>0.081853</td>\n",
       "      <td>0.002250</td>\n",
       "      <td>0.188618</td>\n",
       "      <td>0.000862</td>\n",
       "      <td>-0.002066</td>\n",
       "      <td>0.105746</td>\n",
       "      <td>0.125379</td>\n",
       "      <td>0.102205</td>\n",
       "      <td>0.158246</td>\n",
       "      <td>0.137784</td>\n",
       "    </tr>\n",
       "    <tr>\n",
       "      <th>3</th>\n",
       "      <td>-0.343346</td>\n",
       "      <td>0.285874</td>\n",
       "      <td>-0.21136</td>\n",
       "      <td>-0.21136</td>\n",
       "      <td>-0.356345</td>\n",
       "      <td>-0.279992</td>\n",
       "      <td>-0.222173</td>\n",
       "      <td>-0.394553</td>\n",
       "      <td>2.582087</td>\n",
       "      <td>-0.412467</td>\n",
       "      <td>...</td>\n",
       "      <td>0.162828</td>\n",
       "      <td>-0.007191</td>\n",
       "      <td>0.102354</td>\n",
       "      <td>0.062595</td>\n",
       "      <td>0.043600</td>\n",
       "      <td>0.091515</td>\n",
       "      <td>0.136523</td>\n",
       "      <td>0.094434</td>\n",
       "      <td>0.004925</td>\n",
       "      <td>0.076288</td>\n",
       "    </tr>\n",
       "    <tr>\n",
       "      <th>4</th>\n",
       "      <td>1.256190</td>\n",
       "      <td>-0.328472</td>\n",
       "      <td>-0.21136</td>\n",
       "      <td>-0.21136</td>\n",
       "      <td>-0.356345</td>\n",
       "      <td>-0.279992</td>\n",
       "      <td>-0.222173</td>\n",
       "      <td>2.534516</td>\n",
       "      <td>-0.387284</td>\n",
       "      <td>-0.412467</td>\n",
       "      <td>...</td>\n",
       "      <td>1.195841</td>\n",
       "      <td>-0.202535</td>\n",
       "      <td>1.265493</td>\n",
       "      <td>-0.284640</td>\n",
       "      <td>-0.679202</td>\n",
       "      <td>-1.099516</td>\n",
       "      <td>0.521058</td>\n",
       "      <td>0.755054</td>\n",
       "      <td>0.866425</td>\n",
       "      <td>0.817676</td>\n",
       "    </tr>\n",
       "  </tbody>\n",
       "</table>\n",
       "<p>5 rows × 122 columns</p>\n",
       "</div>"
      ],
      "text/plain": [
       "     Symbol    Volume  Sector_Basic Materials  Sector_Communication Services  \\\n",
       "0 -1.439324 -0.326871                -0.21136                       -0.21136   \n",
       "1 -1.069061 -0.344648                -0.21136                       -0.21136   \n",
       "2  1.641263 -0.295005                -0.21136                       -0.21136   \n",
       "3 -0.343346  0.285874                -0.21136                       -0.21136   \n",
       "4  1.256190 -0.328472                -0.21136                       -0.21136   \n",
       "\n",
       "   Sector_Consumer Cyclical  Sector_Consumer Defensive  Sector_Energy  \\\n",
       "0                 -0.356345                  -0.279992      -0.222173   \n",
       "1                 -0.356345                  -0.279992      -0.222173   \n",
       "2                 -0.356345                  -0.279992      -0.222173   \n",
       "3                 -0.356345                  -0.279992      -0.222173   \n",
       "4                 -0.356345                  -0.279992      -0.222173   \n",
       "\n",
       "   Sector_Financial Services  Sector_Healthcare  Sector_Industrials  ...  \\\n",
       "0                  -0.394553          -0.387284           -0.412467  ...   \n",
       "1                  -0.394553           2.582087           -0.412467  ...   \n",
       "2                  -0.394553          -0.387284           -0.412467  ...   \n",
       "3                  -0.394553           2.582087           -0.412467  ...   \n",
       "4                   2.534516          -0.387284           -0.412467  ...   \n",
       "\n",
       "   Adj Close 14-Day std Differenced  Adj Close 26-Day std Differenced  \\\n",
       "0                          0.041515                          0.037984   \n",
       "1                         -0.410893                         -0.015098   \n",
       "2                          0.081853                          0.002250   \n",
       "3                          0.162828                         -0.007191   \n",
       "4                          1.195841                         -0.202535   \n",
       "\n",
       "   Adj Close 7-Day Upper Bollinger Band Differenced  \\\n",
       "0                                         -0.002604   \n",
       "1                                          0.023690   \n",
       "2                                          0.188618   \n",
       "3                                          0.102354   \n",
       "4                                          1.265493   \n",
       "\n",
       "   Distance to Adj Close 7-Day Upper Bollinger Band Differenced  \\\n",
       "0                                          -0.016884              \n",
       "1                                          -0.111938              \n",
       "2                                           0.000862              \n",
       "3                                           0.062595              \n",
       "4                                          -0.284640              \n",
       "\n",
       "   True Range Differenced  True Range 26-Day SMA Differenced  \\\n",
       "0               -0.066039                           0.104504   \n",
       "1               -0.141182                          -0.090630   \n",
       "2               -0.002066                           0.105746   \n",
       "3                0.043600                           0.091515   \n",
       "4               -0.679202                          -1.099516   \n",
       "\n",
       "   Adj Close Differenced  High Differenced  Low Differenced  Open Differenced  \n",
       "0              -0.020330          0.008943         0.015877          0.062622  \n",
       "1              -0.107768          0.032258         0.030478          0.096788  \n",
       "2               0.125379          0.102205         0.158246          0.137784  \n",
       "3               0.136523          0.094434         0.004925          0.076288  \n",
       "4               0.521058          0.755054         0.866425          0.817676  \n",
       "\n",
       "[5 rows x 122 columns]"
      ]
     },
     "execution_count": 3,
     "metadata": {},
     "output_type": "execute_result"
    }
   ],
   "source": [
    "X_train.head(5)"
   ]
  },
  {
   "cell_type": "code",
   "execution_count": 4,
   "id": "a8616dd2",
   "metadata": {
    "execution": {
     "iopub.execute_input": "2024-06-05T14:33:04.422219Z",
     "iopub.status.busy": "2024-06-05T14:33:04.421364Z",
     "iopub.status.idle": "2024-06-05T14:33:04.448546Z",
     "shell.execute_reply": "2024-06-05T14:33:04.447330Z"
    },
    "papermill": {
     "duration": 0.038421,
     "end_time": "2024-06-05T14:33:04.451156",
     "exception": false,
     "start_time": "2024-06-05T14:33:04.412735",
     "status": "completed"
    },
    "tags": []
   },
   "outputs": [
    {
     "data": {
      "text/html": [
       "<div>\n",
       "<style scoped>\n",
       "    .dataframe tbody tr th:only-of-type {\n",
       "        vertical-align: middle;\n",
       "    }\n",
       "\n",
       "    .dataframe tbody tr th {\n",
       "        vertical-align: top;\n",
       "    }\n",
       "\n",
       "    .dataframe thead th {\n",
       "        text-align: right;\n",
       "    }\n",
       "</style>\n",
       "<table border=\"1\" class=\"dataframe\">\n",
       "  <thead>\n",
       "    <tr style=\"text-align: right;\">\n",
       "      <th></th>\n",
       "      <th>Symbol</th>\n",
       "      <th>Volume</th>\n",
       "      <th>Sector_Basic Materials</th>\n",
       "      <th>Sector_Communication Services</th>\n",
       "      <th>Sector_Consumer Cyclical</th>\n",
       "      <th>Sector_Consumer Defensive</th>\n",
       "      <th>Sector_Energy</th>\n",
       "      <th>Sector_Financial Services</th>\n",
       "      <th>Sector_Healthcare</th>\n",
       "      <th>Sector_Industrials</th>\n",
       "      <th>...</th>\n",
       "      <th>Adj Close 14-Day std Differenced</th>\n",
       "      <th>Adj Close 26-Day std Differenced</th>\n",
       "      <th>Adj Close 7-Day Upper Bollinger Band Differenced</th>\n",
       "      <th>Distance to Adj Close 7-Day Upper Bollinger Band Differenced</th>\n",
       "      <th>True Range Differenced</th>\n",
       "      <th>True Range 26-Day SMA Differenced</th>\n",
       "      <th>Adj Close Differenced</th>\n",
       "      <th>High Differenced</th>\n",
       "      <th>Low Differenced</th>\n",
       "      <th>Open Differenced</th>\n",
       "    </tr>\n",
       "  </thead>\n",
       "  <tbody>\n",
       "    <tr>\n",
       "      <th>0</th>\n",
       "      <td>-1.054250</td>\n",
       "      <td>-0.283809</td>\n",
       "      <td>-0.21136</td>\n",
       "      <td>-0.21136</td>\n",
       "      <td>-0.356345</td>\n",
       "      <td>-0.279992</td>\n",
       "      <td>-0.222173</td>\n",
       "      <td>-0.394553</td>\n",
       "      <td>-0.387284</td>\n",
       "      <td>2.424439</td>\n",
       "      <td>...</td>\n",
       "      <td>0.244619</td>\n",
       "      <td>-0.054833</td>\n",
       "      <td>0.193442</td>\n",
       "      <td>-0.988178</td>\n",
       "      <td>-0.460024</td>\n",
       "      <td>-0.458573</td>\n",
       "      <td>-0.961706</td>\n",
       "      <td>-0.123181</td>\n",
       "      <td>-0.779922</td>\n",
       "      <td>0.216366</td>\n",
       "    </tr>\n",
       "    <tr>\n",
       "      <th>1</th>\n",
       "      <td>0.449017</td>\n",
       "      <td>-0.359859</td>\n",
       "      <td>-0.21136</td>\n",
       "      <td>-0.21136</td>\n",
       "      <td>-0.356345</td>\n",
       "      <td>-0.279992</td>\n",
       "      <td>-0.222173</td>\n",
       "      <td>2.534516</td>\n",
       "      <td>-0.387284</td>\n",
       "      <td>-0.412467</td>\n",
       "      <td>...</td>\n",
       "      <td>-1.623606</td>\n",
       "      <td>-1.598235</td>\n",
       "      <td>-0.116220</td>\n",
       "      <td>-0.549677</td>\n",
       "      <td>-0.673831</td>\n",
       "      <td>-0.614296</td>\n",
       "      <td>-0.682605</td>\n",
       "      <td>0.832754</td>\n",
       "      <td>-0.079040</td>\n",
       "      <td>1.432648</td>\n",
       "    </tr>\n",
       "    <tr>\n",
       "      <th>2</th>\n",
       "      <td>1.419105</td>\n",
       "      <td>-0.198809</td>\n",
       "      <td>-0.21136</td>\n",
       "      <td>-0.21136</td>\n",
       "      <td>-0.356345</td>\n",
       "      <td>-0.279992</td>\n",
       "      <td>-0.222173</td>\n",
       "      <td>-0.394553</td>\n",
       "      <td>-0.387284</td>\n",
       "      <td>-0.412467</td>\n",
       "      <td>...</td>\n",
       "      <td>-4.366291</td>\n",
       "      <td>-2.195166</td>\n",
       "      <td>0.093043</td>\n",
       "      <td>-4.112427</td>\n",
       "      <td>3.947181</td>\n",
       "      <td>1.902798</td>\n",
       "      <td>-4.471950</td>\n",
       "      <td>1.435083</td>\n",
       "      <td>-4.328154</td>\n",
       "      <td>1.015831</td>\n",
       "    </tr>\n",
       "    <tr>\n",
       "      <th>3</th>\n",
       "      <td>-1.261598</td>\n",
       "      <td>-0.272044</td>\n",
       "      <td>-0.21136</td>\n",
       "      <td>-0.21136</td>\n",
       "      <td>-0.356345</td>\n",
       "      <td>-0.279992</td>\n",
       "      <td>-0.222173</td>\n",
       "      <td>-0.394553</td>\n",
       "      <td>-0.387284</td>\n",
       "      <td>-0.412467</td>\n",
       "      <td>...</td>\n",
       "      <td>5.267571</td>\n",
       "      <td>4.461425</td>\n",
       "      <td>4.610485</td>\n",
       "      <td>-12.390394</td>\n",
       "      <td>14.154228</td>\n",
       "      <td>10.022441</td>\n",
       "      <td>-10.617055</td>\n",
       "      <td>-3.111471</td>\n",
       "      <td>-14.261016</td>\n",
       "      <td>-12.872375</td>\n",
       "    </tr>\n",
       "    <tr>\n",
       "      <th>4</th>\n",
       "      <td>-0.128593</td>\n",
       "      <td>-0.255868</td>\n",
       "      <td>-0.21136</td>\n",
       "      <td>-0.21136</td>\n",
       "      <td>2.806268</td>\n",
       "      <td>-0.279992</td>\n",
       "      <td>-0.222173</td>\n",
       "      <td>-0.394553</td>\n",
       "      <td>-0.387284</td>\n",
       "      <td>-0.412467</td>\n",
       "      <td>...</td>\n",
       "      <td>0.039264</td>\n",
       "      <td>0.059860</td>\n",
       "      <td>0.030323</td>\n",
       "      <td>-0.411204</td>\n",
       "      <td>0.082851</td>\n",
       "      <td>0.121352</td>\n",
       "      <td>-0.433286</td>\n",
       "      <td>-0.263072</td>\n",
       "      <td>-0.294412</td>\n",
       "      <td>0.025041</td>\n",
       "    </tr>\n",
       "  </tbody>\n",
       "</table>\n",
       "<p>5 rows × 122 columns</p>\n",
       "</div>"
      ],
      "text/plain": [
       "     Symbol    Volume  Sector_Basic Materials  Sector_Communication Services  \\\n",
       "0 -1.054250 -0.283809                -0.21136                       -0.21136   \n",
       "1  0.449017 -0.359859                -0.21136                       -0.21136   \n",
       "2  1.419105 -0.198809                -0.21136                       -0.21136   \n",
       "3 -1.261598 -0.272044                -0.21136                       -0.21136   \n",
       "4 -0.128593 -0.255868                -0.21136                       -0.21136   \n",
       "\n",
       "   Sector_Consumer Cyclical  Sector_Consumer Defensive  Sector_Energy  \\\n",
       "0                 -0.356345                  -0.279992      -0.222173   \n",
       "1                 -0.356345                  -0.279992      -0.222173   \n",
       "2                 -0.356345                  -0.279992      -0.222173   \n",
       "3                 -0.356345                  -0.279992      -0.222173   \n",
       "4                  2.806268                  -0.279992      -0.222173   \n",
       "\n",
       "   Sector_Financial Services  Sector_Healthcare  Sector_Industrials  ...  \\\n",
       "0                  -0.394553          -0.387284            2.424439  ...   \n",
       "1                   2.534516          -0.387284           -0.412467  ...   \n",
       "2                  -0.394553          -0.387284           -0.412467  ...   \n",
       "3                  -0.394553          -0.387284           -0.412467  ...   \n",
       "4                  -0.394553          -0.387284           -0.412467  ...   \n",
       "\n",
       "   Adj Close 14-Day std Differenced  Adj Close 26-Day std Differenced  \\\n",
       "0                          0.244619                         -0.054833   \n",
       "1                         -1.623606                         -1.598235   \n",
       "2                         -4.366291                         -2.195166   \n",
       "3                          5.267571                          4.461425   \n",
       "4                          0.039264                          0.059860   \n",
       "\n",
       "   Adj Close 7-Day Upper Bollinger Band Differenced  \\\n",
       "0                                          0.193442   \n",
       "1                                         -0.116220   \n",
       "2                                          0.093043   \n",
       "3                                          4.610485   \n",
       "4                                          0.030323   \n",
       "\n",
       "   Distance to Adj Close 7-Day Upper Bollinger Band Differenced  \\\n",
       "0                                          -0.988178              \n",
       "1                                          -0.549677              \n",
       "2                                          -4.112427              \n",
       "3                                         -12.390394              \n",
       "4                                          -0.411204              \n",
       "\n",
       "   True Range Differenced  True Range 26-Day SMA Differenced  \\\n",
       "0               -0.460024                          -0.458573   \n",
       "1               -0.673831                          -0.614296   \n",
       "2                3.947181                           1.902798   \n",
       "3               14.154228                          10.022441   \n",
       "4                0.082851                           0.121352   \n",
       "\n",
       "   Adj Close Differenced  High Differenced  Low Differenced  Open Differenced  \n",
       "0              -0.961706         -0.123181        -0.779922          0.216366  \n",
       "1              -0.682605          0.832754        -0.079040          1.432648  \n",
       "2              -4.471950          1.435083        -4.328154          1.015831  \n",
       "3             -10.617055         -3.111471       -14.261016        -12.872375  \n",
       "4              -0.433286         -0.263072        -0.294412          0.025041  \n",
       "\n",
       "[5 rows x 122 columns]"
      ]
     },
     "execution_count": 4,
     "metadata": {},
     "output_type": "execute_result"
    }
   ],
   "source": [
    "X_test.head(5)"
   ]
  },
  {
   "cell_type": "code",
   "execution_count": 5,
   "id": "6177849a",
   "metadata": {
    "execution": {
     "iopub.execute_input": "2024-06-05T14:33:04.468046Z",
     "iopub.status.busy": "2024-06-05T14:33:04.467647Z",
     "iopub.status.idle": "2024-06-05T14:33:04.478897Z",
     "shell.execute_reply": "2024-06-05T14:33:04.477704Z"
    },
    "papermill": {
     "duration": 0.022795,
     "end_time": "2024-06-05T14:33:04.481549",
     "exception": false,
     "start_time": "2024-06-05T14:33:04.458754",
     "status": "completed"
    },
    "tags": []
   },
   "outputs": [
    {
     "data": {
      "text/html": [
       "<div>\n",
       "<style scoped>\n",
       "    .dataframe tbody tr th:only-of-type {\n",
       "        vertical-align: middle;\n",
       "    }\n",
       "\n",
       "    .dataframe tbody tr th {\n",
       "        vertical-align: top;\n",
       "    }\n",
       "\n",
       "    .dataframe thead th {\n",
       "        text-align: right;\n",
       "    }\n",
       "</style>\n",
       "<table border=\"1\" class=\"dataframe\">\n",
       "  <thead>\n",
       "    <tr style=\"text-align: right;\">\n",
       "      <th></th>\n",
       "      <th>1-week Forward Return Sign</th>\n",
       "    </tr>\n",
       "  </thead>\n",
       "  <tbody>\n",
       "    <tr>\n",
       "      <th>0</th>\n",
       "      <td>0.0</td>\n",
       "    </tr>\n",
       "    <tr>\n",
       "      <th>1</th>\n",
       "      <td>0.0</td>\n",
       "    </tr>\n",
       "    <tr>\n",
       "      <th>2</th>\n",
       "      <td>0.0</td>\n",
       "    </tr>\n",
       "    <tr>\n",
       "      <th>3</th>\n",
       "      <td>0.0</td>\n",
       "    </tr>\n",
       "    <tr>\n",
       "      <th>4</th>\n",
       "      <td>1.0</td>\n",
       "    </tr>\n",
       "  </tbody>\n",
       "</table>\n",
       "</div>"
      ],
      "text/plain": [
       "   1-week Forward Return Sign\n",
       "0                         0.0\n",
       "1                         0.0\n",
       "2                         0.0\n",
       "3                         0.0\n",
       "4                         1.0"
      ]
     },
     "execution_count": 5,
     "metadata": {},
     "output_type": "execute_result"
    }
   ],
   "source": [
    "y_train.head(5)"
   ]
  },
  {
   "cell_type": "code",
   "execution_count": 6,
   "id": "d65aa93b",
   "metadata": {
    "execution": {
     "iopub.execute_input": "2024-06-05T14:33:04.499028Z",
     "iopub.status.busy": "2024-06-05T14:33:04.498627Z",
     "iopub.status.idle": "2024-06-05T14:33:04.509461Z",
     "shell.execute_reply": "2024-06-05T14:33:04.508390Z"
    },
    "papermill": {
     "duration": 0.022261,
     "end_time": "2024-06-05T14:33:04.511763",
     "exception": false,
     "start_time": "2024-06-05T14:33:04.489502",
     "status": "completed"
    },
    "tags": []
   },
   "outputs": [
    {
     "data": {
      "text/html": [
       "<div>\n",
       "<style scoped>\n",
       "    .dataframe tbody tr th:only-of-type {\n",
       "        vertical-align: middle;\n",
       "    }\n",
       "\n",
       "    .dataframe tbody tr th {\n",
       "        vertical-align: top;\n",
       "    }\n",
       "\n",
       "    .dataframe thead th {\n",
       "        text-align: right;\n",
       "    }\n",
       "</style>\n",
       "<table border=\"1\" class=\"dataframe\">\n",
       "  <thead>\n",
       "    <tr style=\"text-align: right;\">\n",
       "      <th></th>\n",
       "      <th>1-week Forward Return Sign</th>\n",
       "    </tr>\n",
       "  </thead>\n",
       "  <tbody>\n",
       "    <tr>\n",
       "      <th>0</th>\n",
       "      <td>1.0</td>\n",
       "    </tr>\n",
       "    <tr>\n",
       "      <th>1</th>\n",
       "      <td>1.0</td>\n",
       "    </tr>\n",
       "    <tr>\n",
       "      <th>2</th>\n",
       "      <td>1.0</td>\n",
       "    </tr>\n",
       "    <tr>\n",
       "      <th>3</th>\n",
       "      <td>1.0</td>\n",
       "    </tr>\n",
       "    <tr>\n",
       "      <th>4</th>\n",
       "      <td>1.0</td>\n",
       "    </tr>\n",
       "  </tbody>\n",
       "</table>\n",
       "</div>"
      ],
      "text/plain": [
       "   1-week Forward Return Sign\n",
       "0                         1.0\n",
       "1                         1.0\n",
       "2                         1.0\n",
       "3                         1.0\n",
       "4                         1.0"
      ]
     },
     "execution_count": 6,
     "metadata": {},
     "output_type": "execute_result"
    }
   ],
   "source": [
    "y_test.head(5)"
   ]
  },
  {
   "cell_type": "markdown",
   "id": "02f0a3bb",
   "metadata": {
    "papermill": {
     "duration": 0.007791,
     "end_time": "2024-06-05T14:33:04.527586",
     "exception": false,
     "start_time": "2024-06-05T14:33:04.519795",
     "status": "completed"
    },
    "tags": []
   },
   "source": [
    "# Data Prep\n",
    "\n",
    "LSTMs requires the data to be structured differently to most ML models. The idea is to look at a 'window' of data (e.g. last 5 timesteps) and use it to predict the target at the next timestep. We can roll the window to look at the whole dataset but only looking at one window at a time. \n",
    "\n",
    "To do this, we convert our dataframe to a 3D array X and a 1D array y. The array X has shape (n_samples, window_size, num_features) and the array y simply contains the target for each sample. The structure of the array X is shown below for a window size of 2 (LHS) and the array y is shown on the RHS.\n",
    "\n",
    "Note that when we split into our training and validation sets, we split by time rather than by stock to avoid look-ahead bias.\n",
    "\n",
    "[Stock1Feature1(1), Stock1Feature2(1), ....., Stock1Featuren(1)], [Stock1Feature1(0), Stock1Feature2(0), ....., Stock1Featuren(0)]                                                                             [Stock1Target(2)]\n",
    "\n",
    "[Stock1Feature1(2), Stock1Feature2(2), ....., Stock1Featuren(2)], [Stock1Feature1(1), Stock1Feature2(1), ....., Stock1Featuren(1)]                                                                             [Stock1Target(3)]\n",
    "\n",
    "[Stock1Feature1(3), Stock1Feature2(3), ....., Stock1Featuren(3)], [Stock1Feature1(2), Stock1Feature2(2), ....., Stock1Featuren(2)]                                                                             [Stock1Target(4)]\n",
    "\n",
    "....\n",
    "\n",
    "\n",
    "\n"
   ]
  },
  {
   "cell_type": "code",
   "execution_count": 7,
   "id": "b62176f4",
   "metadata": {
    "execution": {
     "iopub.execute_input": "2024-06-05T14:33:04.545489Z",
     "iopub.status.busy": "2024-06-05T14:33:04.545032Z",
     "iopub.status.idle": "2024-06-05T14:33:05.218146Z",
     "shell.execute_reply": "2024-06-05T14:33:05.216993Z"
    },
    "papermill": {
     "duration": 0.685191,
     "end_time": "2024-06-05T14:33:05.220785",
     "exception": false,
     "start_time": "2024-06-05T14:33:04.535594",
     "status": "completed"
    },
    "tags": []
   },
   "outputs": [
    {
     "data": {
      "text/plain": [
       "((467943, 123), (164384, 123))"
      ]
     },
     "execution_count": 7,
     "metadata": {},
     "output_type": "execute_result"
    }
   ],
   "source": [
    "# Append targets to dataframe for ease\n",
    "df = pd.concat([X_train, y_train], axis=1)\n",
    "\n",
    "# Get the first 1000 occurrences of each symbol for training and the remaining for validation (equivalent to splitting by time but we don't have a time column)\n",
    "train = df.groupby('Symbol').head(1000)\n",
    "val = df.drop(train.index)\n",
    "\n",
    "# Reset indices\n",
    "train.reset_index(inplace=True, drop=True)\n",
    "val.reset_index(inplace=True, drop=True)\n",
    "train.shape, val.shape"
   ]
  },
  {
   "cell_type": "code",
   "execution_count": 8,
   "id": "daf9419e",
   "metadata": {
    "execution": {
     "iopub.execute_input": "2024-06-05T14:33:05.239458Z",
     "iopub.status.busy": "2024-06-05T14:33:05.238950Z",
     "iopub.status.idle": "2024-06-05T14:33:05.247772Z",
     "shell.execute_reply": "2024-06-05T14:33:05.246633Z"
    },
    "papermill": {
     "duration": 0.020915,
     "end_time": "2024-06-05T14:33:05.250089",
     "exception": false,
     "start_time": "2024-06-05T14:33:05.229174",
     "status": "completed"
    },
    "tags": []
   },
   "outputs": [],
   "source": [
    "def prep_data_for_lstm(df, window):\n",
    "    \"\"\"function to put data in the correct format for LSTM. It assumes that the 'Target' is the last column of the dataframe.\"\"\"\n",
    "    \n",
    "    # Get unique stock ids\n",
    "    stock_ids = df['Symbol'].unique()\n",
    "\n",
    "    # Array to store X and y\n",
    "    X = []\n",
    "    y = []\n",
    "    \n",
    "    for s in stock_ids:\n",
    "        stock_data = df[df['Symbol'] == s].to_numpy()\n",
    "\n",
    "        # Loop through each index in the dataframe and get X and y\n",
    "        for i in range(len(stock_data)-window):\n",
    "            # Get values in window and wrap each one in a list\n",
    "            row = stock_data[i: i+window]\n",
    "            X.append(row)\n",
    "\n",
    "            # Get the label (first value after the window)\n",
    "            label = stock_data[i + window][-1]\n",
    "            y.append(label)\n",
    "\n",
    "    return np.array(X), np.array(y)"
   ]
  },
  {
   "cell_type": "code",
   "execution_count": 9,
   "id": "de19d565",
   "metadata": {
    "execution": {
     "iopub.execute_input": "2024-06-05T14:33:05.268432Z",
     "iopub.status.busy": "2024-06-05T14:33:05.268018Z",
     "iopub.status.idle": "2024-06-05T14:33:10.038948Z",
     "shell.execute_reply": "2024-06-05T14:33:10.037859Z"
    },
    "papermill": {
     "duration": 4.783892,
     "end_time": "2024-06-05T14:33:10.042373",
     "exception": false,
     "start_time": "2024-06-05T14:33:05.258481",
     "status": "completed"
    },
    "tags": []
   },
   "outputs": [
    {
     "name": "stdout",
     "output_type": "stream",
     "text": [
      "[[[-1.43932383e+00 -3.26870525e-01 -2.11359937e-01 ...  1.58770652e-02\n",
      "    6.26215242e-02  0.00000000e+00]\n",
      "  [-1.43932383e+00 -2.73341572e-01 -2.11359937e-01 ... -3.15791316e-02\n",
      "   -5.69572700e-02  0.00000000e+00]\n",
      "  [-1.43932383e+00 -2.91855060e-01 -2.11359937e-01 ...  7.06343224e-02\n",
      "    8.31211929e-02  0.00000000e+00]\n",
      "  [-1.43932383e+00 -3.28487324e-01 -2.11359937e-01 ... -1.26490829e-01\n",
      "   -5.35406585e-02  1.00000000e+00]\n",
      "  [-1.43932383e+00 -3.26293639e-01 -2.11359937e-01 ... -2.06275409e-02\n",
      "   -5.01240471e-02  1.00000000e+00]]\n",
      "\n",
      " [[-1.43932383e+00 -2.73341572e-01 -2.11359937e-01 ... -3.15791316e-02\n",
      "   -5.69572700e-02  0.00000000e+00]\n",
      "  [-1.43932383e+00 -2.91855060e-01 -2.11359937e-01 ...  7.06343224e-02\n",
      "    8.31211929e-02  0.00000000e+00]\n",
      "  [-1.43932383e+00 -3.28487324e-01 -2.11359937e-01 ... -1.26490829e-01\n",
      "   -5.35406585e-02  1.00000000e+00]\n",
      "  [-1.43932383e+00 -3.26293639e-01 -2.11359937e-01 ... -2.06275409e-02\n",
      "   -5.01240471e-02  1.00000000e+00]\n",
      "  [-1.43932383e+00 -3.31766466e-01 -2.11359937e-01 ...  1.95275954e-02\n",
      "   -5.35400069e-02  1.00000000e+00]]\n",
      "\n",
      " [[-1.43932383e+00 -2.91855060e-01 -2.11359937e-01 ...  7.06343224e-02\n",
      "    8.31211929e-02  0.00000000e+00]\n",
      "  [-1.43932383e+00 -3.28487324e-01 -2.11359937e-01 ... -1.26490829e-01\n",
      "   -5.35406585e-02  1.00000000e+00]\n",
      "  [-1.43932383e+00 -3.26293639e-01 -2.11359937e-01 ... -2.06275409e-02\n",
      "   -5.01240471e-02  1.00000000e+00]\n",
      "  [-1.43932383e+00 -3.31766466e-01 -2.11359937e-01 ...  1.95275954e-02\n",
      "   -5.35400069e-02  1.00000000e+00]\n",
      "  [-1.43932383e+00 -3.39539247e-01 -2.11359937e-01 ... -1.69770107e-02\n",
      "    2.16228384e-02  1.00000000e+00]]\n",
      "\n",
      " ...\n",
      "\n",
      " [[ 1.54499480e+00  2.23201235e-02 -2.11359937e-01 ... -2.42780711e-02\n",
      "    1.12414720e-03  1.00000000e+00]\n",
      "  [ 1.54499480e+00  9.74508514e-01 -2.11359937e-01 ...  1.22268831e-02\n",
      "    1.03619884e-01  1.00000000e+00]\n",
      "  [ 1.54499480e+00 -1.27556392e-01 -2.11359937e-01 ... -6.02576809e-03\n",
      "   -1.32120441e-01  0.00000000e+00]\n",
      "  [ 1.54499480e+00 -2.99126860e-01 -2.11359937e-01 ... -3.88798439e-02\n",
      "    1.12382138e-03  0.00000000e+00]\n",
      "  [ 1.54499480e+00 -1.76234949e-01 -2.11359937e-01 ... -6.02541996e-03\n",
      "   -2.96247042e-02  0.00000000e+00]]\n",
      "\n",
      " [[ 1.54499480e+00  9.74508514e-01 -2.11359937e-01 ...  1.22268831e-02\n",
      "    1.03619884e-01  1.00000000e+00]\n",
      "  [ 1.54499480e+00 -1.27556392e-01 -2.11359937e-01 ... -6.02576809e-03\n",
      "   -1.32120441e-01  0.00000000e+00]\n",
      "  [ 1.54499480e+00 -2.99126860e-01 -2.11359937e-01 ... -3.88798439e-02\n",
      "    1.12382138e-03  0.00000000e+00]\n",
      "  [ 1.54499480e+00 -1.76234949e-01 -2.11359937e-01 ... -6.02541996e-03\n",
      "   -2.96247042e-02  0.00000000e+00]\n",
      "  [ 1.54499480e+00 -1.10538254e-01 -2.11359937e-01 ...  2.31777775e-02\n",
      "    1.13736557e-02  0.00000000e+00]]\n",
      "\n",
      " [[ 1.54499480e+00 -1.27556392e-01 -2.11359937e-01 ... -6.02576809e-03\n",
      "   -1.32120441e-01  0.00000000e+00]\n",
      "  [ 1.54499480e+00 -2.99126860e-01 -2.11359937e-01 ... -3.88798439e-02\n",
      "    1.12382138e-03  0.00000000e+00]\n",
      "  [ 1.54499480e+00 -1.76234949e-01 -2.11359937e-01 ... -6.02541996e-03\n",
      "   -2.96247042e-02  0.00000000e+00]\n",
      "  [ 1.54499480e+00 -1.10538254e-01 -2.11359937e-01 ...  2.31777775e-02\n",
      "    1.13736557e-02  0.00000000e+00]\n",
      "  [ 1.54499480e+00 -1.63399234e-01 -2.11359937e-01 ... -3.88798439e-02\n",
      "   -1.59585842e-02  0.00000000e+00]]]\n",
      "[1. 1. 1. ... 0. 0. 0.]\n",
      "(465603, 5, 123) (162049, 5, 123)\n",
      "(465603,) (162049,)\n"
     ]
    }
   ],
   "source": [
    "# Window size - use last n samples to predict next sample\n",
    "window = 5\n",
    "\n",
    "# Prep training data for lstm\n",
    "X_train_lstm, y_train_lstm = prep_data_for_lstm(\n",
    "    df=train,\n",
    "    window=window\n",
    ")\n",
    "\n",
    "# Print val data for lstm\n",
    "X_val_lstm, y_val_lstm = prep_data_for_lstm(\n",
    "    df=val,\n",
    "    window=window\n",
    ")\n",
    "print(X_train_lstm)\n",
    "print(y_train_lstm)\n",
    "print(X_train_lstm.shape, X_val_lstm.shape)\n",
    "print(y_train_lstm.shape, y_val_lstm.shape)"
   ]
  },
  {
   "cell_type": "markdown",
   "id": "1c687dc9",
   "metadata": {
    "papermill": {
     "duration": 0.008613,
     "end_time": "2024-06-05T14:33:10.059836",
     "exception": false,
     "start_time": "2024-06-05T14:33:10.051223",
     "status": "completed"
    },
    "tags": []
   },
   "source": [
    "# Fit LSTM\n",
    "An explanation of the model's layers can be seen in the comments in the code."
   ]
  },
  {
   "cell_type": "code",
   "execution_count": 10,
   "id": "00a703fe",
   "metadata": {
    "execution": {
     "iopub.execute_input": "2024-06-05T14:33:10.078847Z",
     "iopub.status.busy": "2024-06-05T14:33:10.078433Z",
     "iopub.status.idle": "2024-06-05T14:33:10.088386Z",
     "shell.execute_reply": "2024-06-05T14:33:10.087240Z"
    },
    "papermill": {
     "duration": 0.022726,
     "end_time": "2024-06-05T14:33:10.091048",
     "exception": false,
     "start_time": "2024-06-05T14:33:10.068322",
     "status": "completed"
    },
    "tags": []
   },
   "outputs": [],
   "source": [
    "from keras.models import Sequential\n",
    "from keras.layers import InputLayer, Dense, LSTM\n",
    "from keras.callbacks import ModelCheckpoint, EarlyStopping\n",
    "from keras.metrics import AUC\n",
    "from keras.optimizers import Adam\n",
    "from keras.regularizers import l2"
   ]
  },
  {
   "cell_type": "code",
   "execution_count": 11,
   "id": "303096cb",
   "metadata": {
    "execution": {
     "iopub.execute_input": "2024-06-05T14:33:10.109915Z",
     "iopub.status.busy": "2024-06-05T14:33:10.109516Z",
     "iopub.status.idle": "2024-06-05T14:33:10.248448Z",
     "shell.execute_reply": "2024-06-05T14:33:10.247344Z"
    },
    "papermill": {
     "duration": 0.151041,
     "end_time": "2024-06-05T14:33:10.250777",
     "exception": false,
     "start_time": "2024-06-05T14:33:10.099736",
     "status": "completed"
    },
    "tags": []
   },
   "outputs": [
    {
     "data": {
      "text/html": [
       "<pre style=\"white-space:pre;overflow-x:auto;line-height:normal;font-family:Menlo,'DejaVu Sans Mono',consolas,'Courier New',monospace\"><span style=\"font-weight: bold\">Model: \"sequential\"</span>\n",
       "</pre>\n"
      ],
      "text/plain": [
       "\u001b[1mModel: \"sequential\"\u001b[0m\n"
      ]
     },
     "metadata": {},
     "output_type": "display_data"
    },
    {
     "data": {
      "text/html": [
       "<pre style=\"white-space:pre;overflow-x:auto;line-height:normal;font-family:Menlo,'DejaVu Sans Mono',consolas,'Courier New',monospace\">┏━━━━━━━━━━━━━━━━━━━━━━━━━━━━━━━━━┳━━━━━━━━━━━━━━━━━━━━━━━━┳━━━━━━━━━━━━━━━┓\n",
       "┃<span style=\"font-weight: bold\"> Layer (type)                    </span>┃<span style=\"font-weight: bold\"> Output Shape           </span>┃<span style=\"font-weight: bold\">       Param # </span>┃\n",
       "┡━━━━━━━━━━━━━━━━━━━━━━━━━━━━━━━━━╇━━━━━━━━━━━━━━━━━━━━━━━━╇━━━━━━━━━━━━━━━┩\n",
       "│ lstm (<span style=\"color: #0087ff; text-decoration-color: #0087ff\">LSTM</span>)                     │ (<span style=\"color: #00d7ff; text-decoration-color: #00d7ff\">None</span>, <span style=\"color: #00af00; text-decoration-color: #00af00\">64</span>)             │        <span style=\"color: #00af00; text-decoration-color: #00af00\">48,128</span> │\n",
       "├─────────────────────────────────┼────────────────────────┼───────────────┤\n",
       "│ dense (<span style=\"color: #0087ff; text-decoration-color: #0087ff\">Dense</span>)                   │ (<span style=\"color: #00d7ff; text-decoration-color: #00d7ff\">None</span>, <span style=\"color: #00af00; text-decoration-color: #00af00\">8</span>)              │           <span style=\"color: #00af00; text-decoration-color: #00af00\">520</span> │\n",
       "├─────────────────────────────────┼────────────────────────┼───────────────┤\n",
       "│ dense_1 (<span style=\"color: #0087ff; text-decoration-color: #0087ff\">Dense</span>)                 │ (<span style=\"color: #00d7ff; text-decoration-color: #00d7ff\">None</span>, <span style=\"color: #00af00; text-decoration-color: #00af00\">1</span>)              │             <span style=\"color: #00af00; text-decoration-color: #00af00\">9</span> │\n",
       "└─────────────────────────────────┴────────────────────────┴───────────────┘\n",
       "</pre>\n"
      ],
      "text/plain": [
       "┏━━━━━━━━━━━━━━━━━━━━━━━━━━━━━━━━━┳━━━━━━━━━━━━━━━━━━━━━━━━┳━━━━━━━━━━━━━━━┓\n",
       "┃\u001b[1m \u001b[0m\u001b[1mLayer (type)                   \u001b[0m\u001b[1m \u001b[0m┃\u001b[1m \u001b[0m\u001b[1mOutput Shape          \u001b[0m\u001b[1m \u001b[0m┃\u001b[1m \u001b[0m\u001b[1m      Param #\u001b[0m\u001b[1m \u001b[0m┃\n",
       "┡━━━━━━━━━━━━━━━━━━━━━━━━━━━━━━━━━╇━━━━━━━━━━━━━━━━━━━━━━━━╇━━━━━━━━━━━━━━━┩\n",
       "│ lstm (\u001b[38;5;33mLSTM\u001b[0m)                     │ (\u001b[38;5;45mNone\u001b[0m, \u001b[38;5;34m64\u001b[0m)             │        \u001b[38;5;34m48,128\u001b[0m │\n",
       "├─────────────────────────────────┼────────────────────────┼───────────────┤\n",
       "│ dense (\u001b[38;5;33mDense\u001b[0m)                   │ (\u001b[38;5;45mNone\u001b[0m, \u001b[38;5;34m8\u001b[0m)              │           \u001b[38;5;34m520\u001b[0m │\n",
       "├─────────────────────────────────┼────────────────────────┼───────────────┤\n",
       "│ dense_1 (\u001b[38;5;33mDense\u001b[0m)                 │ (\u001b[38;5;45mNone\u001b[0m, \u001b[38;5;34m1\u001b[0m)              │             \u001b[38;5;34m9\u001b[0m │\n",
       "└─────────────────────────────────┴────────────────────────┴───────────────┘\n"
      ]
     },
     "metadata": {},
     "output_type": "display_data"
    },
    {
     "data": {
      "text/html": [
       "<pre style=\"white-space:pre;overflow-x:auto;line-height:normal;font-family:Menlo,'DejaVu Sans Mono',consolas,'Courier New',monospace\"><span style=\"font-weight: bold\"> Total params: </span><span style=\"color: #00af00; text-decoration-color: #00af00\">48,657</span> (190.07 KB)\n",
       "</pre>\n"
      ],
      "text/plain": [
       "\u001b[1m Total params: \u001b[0m\u001b[38;5;34m48,657\u001b[0m (190.07 KB)\n"
      ]
     },
     "metadata": {},
     "output_type": "display_data"
    },
    {
     "data": {
      "text/html": [
       "<pre style=\"white-space:pre;overflow-x:auto;line-height:normal;font-family:Menlo,'DejaVu Sans Mono',consolas,'Courier New',monospace\"><span style=\"font-weight: bold\"> Trainable params: </span><span style=\"color: #00af00; text-decoration-color: #00af00\">48,657</span> (190.07 KB)\n",
       "</pre>\n"
      ],
      "text/plain": [
       "\u001b[1m Trainable params: \u001b[0m\u001b[38;5;34m48,657\u001b[0m (190.07 KB)\n"
      ]
     },
     "metadata": {},
     "output_type": "display_data"
    },
    {
     "data": {
      "text/html": [
       "<pre style=\"white-space:pre;overflow-x:auto;line-height:normal;font-family:Menlo,'DejaVu Sans Mono',consolas,'Courier New',monospace\"><span style=\"font-weight: bold\"> Non-trainable params: </span><span style=\"color: #00af00; text-decoration-color: #00af00\">0</span> (0.00 B)\n",
       "</pre>\n"
      ],
      "text/plain": [
       "\u001b[1m Non-trainable params: \u001b[0m\u001b[38;5;34m0\u001b[0m (0.00 B)\n"
      ]
     },
     "metadata": {},
     "output_type": "display_data"
    }
   ],
   "source": [
    "# Initialize sequential model in keras. This is a model that expects a linear stack of layers, meaning that each layer has one input tensor and one output tensor. \n",
    "model = Sequential()\n",
    "\n",
    "# Add input layer. Each input tensor will be an element of X_train_lstm so the tensor will have shape (window, n_features)\n",
    "model.add(InputLayer((window, X_train_lstm.shape[2]))) # Window size and number of variables used to predict\n",
    "\n",
    "# Add LSTM layer. This is a recurrent layer that can learn long-term dependencies in sequences.\n",
    "model.add(\n",
    "    LSTM(\n",
    "        units=64,\n",
    "        dropout=0.2, # Randomly set fraction of non-recurrent LSTM units to 0 at each training time step to reduce relianc on units and prevent overfitting\n",
    "        recurrent_dropout=0.2 # Randomly set fraction of recurrent LSTM units to 0 at each training time step to reduce relianc on units and prevent overfitting\n",
    "    )\n",
    ")\n",
    "\n",
    "# Add hidden layer to take LSTM layer output and transform it to a higher-level feayire space.\n",
    "model.add(\n",
    "    Dense(\n",
    "        units=8, \n",
    "        activation='relu',  # relu activation function adds some non-linearity without being computatinally expensive\n",
    "        kernel_regularizer=l2(0.01) # Add l2 regularization on layer to reduce magnitude of weights reducing overfitting\n",
    "    )\n",
    ")\n",
    "\n",
    "# Add output layer with sigmoid activation function to output a value between 0 and 1 interpreted as probability of postiivre class\n",
    "model.add(Dense(1, 'sigmoid'))\n",
    "\n",
    "# Print summary of model\n",
    "model.summary()"
   ]
  },
  {
   "cell_type": "code",
   "execution_count": 12,
   "id": "9be720e2",
   "metadata": {
    "execution": {
     "iopub.execute_input": "2024-06-05T14:33:10.271385Z",
     "iopub.status.busy": "2024-06-05T14:33:10.270959Z",
     "iopub.status.idle": "2024-06-05T14:33:10.276641Z",
     "shell.execute_reply": "2024-06-05T14:33:10.275581Z"
    },
    "papermill": {
     "duration": 0.018855,
     "end_time": "2024-06-05T14:33:10.279159",
     "exception": false,
     "start_time": "2024-06-05T14:33:10.260304",
     "status": "completed"
    },
    "tags": []
   },
   "outputs": [],
   "source": [
    "# Checpoint for saving model\n",
    "cp1 = ModelCheckpoint(\n",
    "    'lstm_model.keras',\n",
    "    save_best_only=True\n",
    ")\n",
    "\n",
    "# Early stopping rounds checkpint\n",
    "cp2 =  EarlyStopping(monitor='val_loss', patience=5, restore_best_weights=True)"
   ]
  },
  {
   "cell_type": "code",
   "execution_count": 13,
   "id": "ea8ff9d5",
   "metadata": {
    "execution": {
     "iopub.execute_input": "2024-06-05T14:33:10.300574Z",
     "iopub.status.busy": "2024-06-05T14:33:10.299862Z",
     "iopub.status.idle": "2024-06-05T14:33:10.323062Z",
     "shell.execute_reply": "2024-06-05T14:33:10.321960Z"
    },
    "papermill": {
     "duration": 0.037029,
     "end_time": "2024-06-05T14:33:10.325640",
     "exception": false,
     "start_time": "2024-06-05T14:33:10.288611",
     "status": "completed"
    },
    "tags": []
   },
   "outputs": [],
   "source": [
    "# Compile model\n",
    "model.compile(\n",
    "    loss='binary_crossentropy',\n",
    "    optimizer=Adam(learning_rate=0.01),\n",
    "    metrics=[AUC(name='auc')]\n",
    ")"
   ]
  },
  {
   "cell_type": "code",
   "execution_count": 14,
   "id": "c7738297",
   "metadata": {
    "execution": {
     "iopub.execute_input": "2024-06-05T14:33:10.346507Z",
     "iopub.status.busy": "2024-06-05T14:33:10.346049Z",
     "iopub.status.idle": "2024-06-05T14:46:30.215673Z",
     "shell.execute_reply": "2024-06-05T14:46:30.214077Z"
    },
    "papermill": {
     "duration": 799.88364,
     "end_time": "2024-06-05T14:46:30.218832",
     "exception": false,
     "start_time": "2024-06-05T14:33:10.335192",
     "status": "completed"
    },
    "tags": []
   },
   "outputs": [
    {
     "name": "stdout",
     "output_type": "stream",
     "text": [
      "Epoch 1/100\n",
      "\u001b[1m14551/14551\u001b[0m \u001b[32m━━━━━━━━━━━━━━━━━━━━\u001b[0m\u001b[37m\u001b[0m \u001b[1m82s\u001b[0m 5ms/step - auc: 0.7608 - loss: 0.5920 - val_auc: 0.7713 - val_loss: 0.5798\n",
      "Epoch 2/100\n",
      "\u001b[1m14551/14551\u001b[0m \u001b[32m━━━━━━━━━━━━━━━━━━━━\u001b[0m\u001b[37m\u001b[0m \u001b[1m78s\u001b[0m 5ms/step - auc: 0.7884 - loss: 0.5655 - val_auc: 0.7995 - val_loss: 0.5456\n",
      "Epoch 3/100\n",
      "\u001b[1m14551/14551\u001b[0m \u001b[32m━━━━━━━━━━━━━━━━━━━━\u001b[0m\u001b[37m\u001b[0m \u001b[1m78s\u001b[0m 5ms/step - auc: 0.7894 - loss: 0.5622 - val_auc: 0.8059 - val_loss: 0.5383\n",
      "Epoch 4/100\n",
      "\u001b[1m14551/14551\u001b[0m \u001b[32m━━━━━━━━━━━━━━━━━━━━\u001b[0m\u001b[37m\u001b[0m \u001b[1m81s\u001b[0m 6ms/step - auc: 0.7900 - loss: 0.5622 - val_auc: 0.7962 - val_loss: 0.5548\n",
      "Epoch 5/100\n",
      "\u001b[1m14551/14551\u001b[0m \u001b[32m━━━━━━━━━━━━━━━━━━━━\u001b[0m\u001b[37m\u001b[0m \u001b[1m80s\u001b[0m 6ms/step - auc: 0.7914 - loss: 0.5613 - val_auc: 0.8077 - val_loss: 0.5319\n",
      "Epoch 6/100\n",
      "\u001b[1m14551/14551\u001b[0m \u001b[32m━━━━━━━━━━━━━━━━━━━━\u001b[0m\u001b[37m\u001b[0m \u001b[1m80s\u001b[0m 5ms/step - auc: 0.7944 - loss: 0.5578 - val_auc: 0.8056 - val_loss: 0.5366\n",
      "Epoch 7/100\n",
      "\u001b[1m14551/14551\u001b[0m \u001b[32m━━━━━━━━━━━━━━━━━━━━\u001b[0m\u001b[37m\u001b[0m \u001b[1m79s\u001b[0m 5ms/step - auc: 0.7949 - loss: 0.5572 - val_auc: 0.7995 - val_loss: 0.5540\n",
      "Epoch 8/100\n",
      "\u001b[1m14551/14551\u001b[0m \u001b[32m━━━━━━━━━━━━━━━━━━━━\u001b[0m\u001b[37m\u001b[0m \u001b[1m79s\u001b[0m 5ms/step - auc: 0.7947 - loss: 0.5575 - val_auc: 0.7973 - val_loss: 0.5474\n",
      "Epoch 9/100\n",
      "\u001b[1m14551/14551\u001b[0m \u001b[32m━━━━━━━━━━━━━━━━━━━━\u001b[0m\u001b[37m\u001b[0m \u001b[1m82s\u001b[0m 5ms/step - auc: 0.7956 - loss: 0.5565 - val_auc: 0.8007 - val_loss: 0.5433\n",
      "Epoch 10/100\n",
      "\u001b[1m14551/14551\u001b[0m \u001b[32m━━━━━━━━━━━━━━━━━━━━\u001b[0m\u001b[37m\u001b[0m \u001b[1m77s\u001b[0m 5ms/step - auc: 0.7956 - loss: 0.5563 - val_auc: 0.7969 - val_loss: 0.5446\n"
     ]
    },
    {
     "data": {
      "text/plain": [
       "<keras.src.callbacks.history.History at 0x7f3b46333490>"
      ]
     },
     "execution_count": 14,
     "metadata": {},
     "output_type": "execute_result"
    }
   ],
   "source": [
    "# Adjust class weights inversely proportional to class frequencies\n",
    "from sklearn.utils import class_weight\n",
    "class_weights = class_weight.compute_class_weight(\n",
    "    class_weight='balanced', \n",
    "    classes=np.unique(y_train_lstm),\n",
    "    y=y_train_lstm\n",
    ")\n",
    "class_weight_dict = dict(enumerate(class_weights))\n",
    "\n",
    "# Fit model by measiromg AUC against validation set.\n",
    "model.fit(\n",
    "    X_train_lstm,\n",
    "    y_train_lstm,\n",
    "    validation_data=(X_val_lstm, y_val_lstm),\n",
    "    epochs=100, # Number of times to run through the data\n",
    "    callbacks=[cp1, cp2], # At end of every epoch, save the model if loss was lower than before. Also EarlyStoppingRounds\n",
    "    class_weight=class_weight_dict # Handle imbalance of classes\n",
    ")"
   ]
  },
  {
   "cell_type": "code",
   "execution_count": null,
   "id": "c85440bb",
   "metadata": {
    "papermill": {
     "duration": 1.318772,
     "end_time": "2024-06-05T14:46:32.798627",
     "exception": false,
     "start_time": "2024-06-05T14:46:31.479855",
     "status": "completed"
    },
    "tags": []
   },
   "outputs": [],
   "source": []
  }
 ],
 "metadata": {
  "kaggle": {
   "accelerator": "none",
   "dataSources": [
    {
     "sourceId": 181082692,
     "sourceType": "kernelVersion"
    }
   ],
   "dockerImageVersionId": 30715,
   "isGpuEnabled": false,
   "isInternetEnabled": true,
   "language": "python",
   "sourceType": "notebook"
  },
  "kernelspec": {
   "display_name": "Python 3",
   "language": "python",
   "name": "python3"
  },
  "language_info": {
   "codemirror_mode": {
    "name": "ipython",
    "version": 3
   },
   "file_extension": ".py",
   "mimetype": "text/x-python",
   "name": "python",
   "nbconvert_exporter": "python",
   "pygments_lexer": "ipython3",
   "version": "3.10.13"
  },
  "papermill": {
   "default_parameters": {},
   "duration": 876.934745,
   "end_time": "2024-06-05T14:46:36.148345",
   "environment_variables": {},
   "exception": null,
   "input_path": "__notebook__.ipynb",
   "output_path": "__notebook__.ipynb",
   "parameters": {},
   "start_time": "2024-06-05T14:31:59.213600",
   "version": "2.5.0"
  }
 },
 "nbformat": 4,
 "nbformat_minor": 5
}
