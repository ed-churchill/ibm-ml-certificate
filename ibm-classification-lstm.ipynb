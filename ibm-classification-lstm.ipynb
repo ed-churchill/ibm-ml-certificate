{
 "cells": [
  {
   "cell_type": "markdown",
   "id": "11b8d765",
   "metadata": {
    "papermill": {
     "duration": 0.008656,
     "end_time": "2024-06-03T15:15:57.713849",
     "exception": false,
     "start_time": "2024-06-03T15:15:57.705193",
     "status": "completed"
    },
    "tags": []
   },
   "source": [
    "# Imports"
   ]
  },
  {
   "cell_type": "code",
   "execution_count": 1,
   "id": "f5a7b693",
   "metadata": {
    "_cell_guid": "b1076dfc-b9ad-4769-8c92-a6c4dae69d19",
    "_uuid": "8f2839f25d086af736a60e9eeb907d3b93b6e0e5",
    "execution": {
     "iopub.execute_input": "2024-06-03T15:15:57.732039Z",
     "iopub.status.busy": "2024-06-03T15:15:57.731611Z",
     "iopub.status.idle": "2024-06-03T15:15:58.764451Z",
     "shell.execute_reply": "2024-06-03T15:15:58.763042Z"
    },
    "papermill": {
     "duration": 1.045154,
     "end_time": "2024-06-03T15:15:58.767378",
     "exception": false,
     "start_time": "2024-06-03T15:15:57.722224",
     "status": "completed"
    },
    "tags": []
   },
   "outputs": [],
   "source": [
    "import pandas as pd\n",
    "import numpy as np"
   ]
  },
  {
   "cell_type": "markdown",
   "id": "1c884cad",
   "metadata": {
    "papermill": {
     "duration": 0.00774,
     "end_time": "2024-06-03T15:15:58.783524",
     "exception": false,
     "start_time": "2024-06-03T15:15:58.775784",
     "status": "completed"
    },
    "tags": []
   },
   "source": [
    "# Read Data"
   ]
  },
  {
   "cell_type": "code",
   "execution_count": 2,
   "id": "8a9ef47b",
   "metadata": {
    "execution": {
     "iopub.execute_input": "2024-06-03T15:15:58.803843Z",
     "iopub.status.busy": "2024-06-03T15:15:58.803278Z",
     "iopub.status.idle": "2024-06-03T15:16:49.486024Z",
     "shell.execute_reply": "2024-06-03T15:16:49.484726Z"
    },
    "papermill": {
     "duration": 50.695434,
     "end_time": "2024-06-03T15:16:49.489001",
     "exception": false,
     "start_time": "2024-06-03T15:15:58.793567",
     "status": "completed"
    },
    "tags": []
   },
   "outputs": [],
   "source": [
    "X_train = pd.read_csv(\"/kaggle/input/ibm-classification-feature-selection/X_train_normalized.csv\", index_col=[0])\n",
    "X_test = pd.read_csv(\"/kaggle/input/ibm-classification-feature-selection/X_test_normalized.csv\", index_col=[0])\n",
    "y_train = pd.read_csv(\"/kaggle/input/ibm-classification-feature-selection/y_train.csv\", index_col=[0])\n",
    "y_test = pd.read_csv(\"/kaggle/input/ibm-classification-feature-selection/y_test.csv\", index_col=[0]).reset_index(drop=True)"
   ]
  },
  {
   "cell_type": "code",
   "execution_count": 3,
   "id": "818b11fa",
   "metadata": {
    "execution": {
     "iopub.execute_input": "2024-06-03T15:16:49.507329Z",
     "iopub.status.busy": "2024-06-03T15:16:49.506917Z",
     "iopub.status.idle": "2024-06-03T15:16:49.541351Z",
     "shell.execute_reply": "2024-06-03T15:16:49.540127Z"
    },
    "papermill": {
     "duration": 0.046634,
     "end_time": "2024-06-03T15:16:49.543778",
     "exception": false,
     "start_time": "2024-06-03T15:16:49.497144",
     "status": "completed"
    },
    "tags": []
   },
   "outputs": [
    {
     "data": {
      "text/html": [
       "<div>\n",
       "<style scoped>\n",
       "    .dataframe tbody tr th:only-of-type {\n",
       "        vertical-align: middle;\n",
       "    }\n",
       "\n",
       "    .dataframe tbody tr th {\n",
       "        vertical-align: top;\n",
       "    }\n",
       "\n",
       "    .dataframe thead th {\n",
       "        text-align: right;\n",
       "    }\n",
       "</style>\n",
       "<table border=\"1\" class=\"dataframe\">\n",
       "  <thead>\n",
       "    <tr style=\"text-align: right;\">\n",
       "      <th></th>\n",
       "      <th>Symbol</th>\n",
       "      <th>Volume</th>\n",
       "      <th>Sector_Basic Materials</th>\n",
       "      <th>Sector_Communication Services</th>\n",
       "      <th>Sector_Consumer Cyclical</th>\n",
       "      <th>Sector_Consumer Defensive</th>\n",
       "      <th>Sector_Energy</th>\n",
       "      <th>Sector_Financial Services</th>\n",
       "      <th>Sector_Healthcare</th>\n",
       "      <th>Sector_Industrials</th>\n",
       "      <th>...</th>\n",
       "      <th>Adj Close 14-Day std Differenced</th>\n",
       "      <th>Adj Close 26-Day std Differenced</th>\n",
       "      <th>Adj Close 7-Day Upper Bollinger Band Differenced</th>\n",
       "      <th>Distance to Adj Close 7-Day Upper Bollinger Band Differenced</th>\n",
       "      <th>True Range Differenced</th>\n",
       "      <th>True Range 26-Day SMA Differenced</th>\n",
       "      <th>Adj Close Differenced</th>\n",
       "      <th>High Differenced</th>\n",
       "      <th>Low Differenced</th>\n",
       "      <th>Open Differenced</th>\n",
       "    </tr>\n",
       "  </thead>\n",
       "  <tbody>\n",
       "    <tr>\n",
       "      <th>0</th>\n",
       "      <td>-1.439324</td>\n",
       "      <td>-0.326871</td>\n",
       "      <td>-0.21136</td>\n",
       "      <td>-0.21136</td>\n",
       "      <td>-0.356345</td>\n",
       "      <td>-0.279992</td>\n",
       "      <td>-0.222173</td>\n",
       "      <td>-0.394553</td>\n",
       "      <td>-0.387284</td>\n",
       "      <td>-0.412467</td>\n",
       "      <td>...</td>\n",
       "      <td>0.041515</td>\n",
       "      <td>0.037984</td>\n",
       "      <td>-0.002604</td>\n",
       "      <td>-0.016884</td>\n",
       "      <td>-0.066039</td>\n",
       "      <td>0.104504</td>\n",
       "      <td>-0.020330</td>\n",
       "      <td>0.008943</td>\n",
       "      <td>0.015877</td>\n",
       "      <td>0.062622</td>\n",
       "    </tr>\n",
       "    <tr>\n",
       "      <th>1</th>\n",
       "      <td>-1.069061</td>\n",
       "      <td>-0.344648</td>\n",
       "      <td>-0.21136</td>\n",
       "      <td>-0.21136</td>\n",
       "      <td>-0.356345</td>\n",
       "      <td>-0.279992</td>\n",
       "      <td>-0.222173</td>\n",
       "      <td>-0.394553</td>\n",
       "      <td>2.582087</td>\n",
       "      <td>-0.412467</td>\n",
       "      <td>...</td>\n",
       "      <td>-0.410893</td>\n",
       "      <td>-0.015098</td>\n",
       "      <td>0.023690</td>\n",
       "      <td>-0.111938</td>\n",
       "      <td>-0.141182</td>\n",
       "      <td>-0.090630</td>\n",
       "      <td>-0.107768</td>\n",
       "      <td>0.032258</td>\n",
       "      <td>0.030478</td>\n",
       "      <td>0.096788</td>\n",
       "    </tr>\n",
       "    <tr>\n",
       "      <th>2</th>\n",
       "      <td>1.641263</td>\n",
       "      <td>-0.295005</td>\n",
       "      <td>-0.21136</td>\n",
       "      <td>-0.21136</td>\n",
       "      <td>-0.356345</td>\n",
       "      <td>-0.279992</td>\n",
       "      <td>-0.222173</td>\n",
       "      <td>-0.394553</td>\n",
       "      <td>-0.387284</td>\n",
       "      <td>-0.412467</td>\n",
       "      <td>...</td>\n",
       "      <td>0.081853</td>\n",
       "      <td>0.002250</td>\n",
       "      <td>0.188618</td>\n",
       "      <td>0.000862</td>\n",
       "      <td>-0.002066</td>\n",
       "      <td>0.105746</td>\n",
       "      <td>0.125379</td>\n",
       "      <td>0.102205</td>\n",
       "      <td>0.158246</td>\n",
       "      <td>0.137784</td>\n",
       "    </tr>\n",
       "    <tr>\n",
       "      <th>3</th>\n",
       "      <td>-0.343346</td>\n",
       "      <td>0.285874</td>\n",
       "      <td>-0.21136</td>\n",
       "      <td>-0.21136</td>\n",
       "      <td>-0.356345</td>\n",
       "      <td>-0.279992</td>\n",
       "      <td>-0.222173</td>\n",
       "      <td>-0.394553</td>\n",
       "      <td>2.582087</td>\n",
       "      <td>-0.412467</td>\n",
       "      <td>...</td>\n",
       "      <td>0.162828</td>\n",
       "      <td>-0.007191</td>\n",
       "      <td>0.102354</td>\n",
       "      <td>0.062595</td>\n",
       "      <td>0.043600</td>\n",
       "      <td>0.091515</td>\n",
       "      <td>0.136523</td>\n",
       "      <td>0.094434</td>\n",
       "      <td>0.004925</td>\n",
       "      <td>0.076288</td>\n",
       "    </tr>\n",
       "    <tr>\n",
       "      <th>4</th>\n",
       "      <td>1.256190</td>\n",
       "      <td>-0.328472</td>\n",
       "      <td>-0.21136</td>\n",
       "      <td>-0.21136</td>\n",
       "      <td>-0.356345</td>\n",
       "      <td>-0.279992</td>\n",
       "      <td>-0.222173</td>\n",
       "      <td>2.534516</td>\n",
       "      <td>-0.387284</td>\n",
       "      <td>-0.412467</td>\n",
       "      <td>...</td>\n",
       "      <td>1.195841</td>\n",
       "      <td>-0.202535</td>\n",
       "      <td>1.265493</td>\n",
       "      <td>-0.284640</td>\n",
       "      <td>-0.679202</td>\n",
       "      <td>-1.099516</td>\n",
       "      <td>0.521058</td>\n",
       "      <td>0.755054</td>\n",
       "      <td>0.866425</td>\n",
       "      <td>0.817676</td>\n",
       "    </tr>\n",
       "  </tbody>\n",
       "</table>\n",
       "<p>5 rows × 122 columns</p>\n",
       "</div>"
      ],
      "text/plain": [
       "     Symbol    Volume  Sector_Basic Materials  Sector_Communication Services  \\\n",
       "0 -1.439324 -0.326871                -0.21136                       -0.21136   \n",
       "1 -1.069061 -0.344648                -0.21136                       -0.21136   \n",
       "2  1.641263 -0.295005                -0.21136                       -0.21136   \n",
       "3 -0.343346  0.285874                -0.21136                       -0.21136   \n",
       "4  1.256190 -0.328472                -0.21136                       -0.21136   \n",
       "\n",
       "   Sector_Consumer Cyclical  Sector_Consumer Defensive  Sector_Energy  \\\n",
       "0                 -0.356345                  -0.279992      -0.222173   \n",
       "1                 -0.356345                  -0.279992      -0.222173   \n",
       "2                 -0.356345                  -0.279992      -0.222173   \n",
       "3                 -0.356345                  -0.279992      -0.222173   \n",
       "4                 -0.356345                  -0.279992      -0.222173   \n",
       "\n",
       "   Sector_Financial Services  Sector_Healthcare  Sector_Industrials  ...  \\\n",
       "0                  -0.394553          -0.387284           -0.412467  ...   \n",
       "1                  -0.394553           2.582087           -0.412467  ...   \n",
       "2                  -0.394553          -0.387284           -0.412467  ...   \n",
       "3                  -0.394553           2.582087           -0.412467  ...   \n",
       "4                   2.534516          -0.387284           -0.412467  ...   \n",
       "\n",
       "   Adj Close 14-Day std Differenced  Adj Close 26-Day std Differenced  \\\n",
       "0                          0.041515                          0.037984   \n",
       "1                         -0.410893                         -0.015098   \n",
       "2                          0.081853                          0.002250   \n",
       "3                          0.162828                         -0.007191   \n",
       "4                          1.195841                         -0.202535   \n",
       "\n",
       "   Adj Close 7-Day Upper Bollinger Band Differenced  \\\n",
       "0                                         -0.002604   \n",
       "1                                          0.023690   \n",
       "2                                          0.188618   \n",
       "3                                          0.102354   \n",
       "4                                          1.265493   \n",
       "\n",
       "   Distance to Adj Close 7-Day Upper Bollinger Band Differenced  \\\n",
       "0                                          -0.016884              \n",
       "1                                          -0.111938              \n",
       "2                                           0.000862              \n",
       "3                                           0.062595              \n",
       "4                                          -0.284640              \n",
       "\n",
       "   True Range Differenced  True Range 26-Day SMA Differenced  \\\n",
       "0               -0.066039                           0.104504   \n",
       "1               -0.141182                          -0.090630   \n",
       "2               -0.002066                           0.105746   \n",
       "3                0.043600                           0.091515   \n",
       "4               -0.679202                          -1.099516   \n",
       "\n",
       "   Adj Close Differenced  High Differenced  Low Differenced  Open Differenced  \n",
       "0              -0.020330          0.008943         0.015877          0.062622  \n",
       "1              -0.107768          0.032258         0.030478          0.096788  \n",
       "2               0.125379          0.102205         0.158246          0.137784  \n",
       "3               0.136523          0.094434         0.004925          0.076288  \n",
       "4               0.521058          0.755054         0.866425          0.817676  \n",
       "\n",
       "[5 rows x 122 columns]"
      ]
     },
     "execution_count": 3,
     "metadata": {},
     "output_type": "execute_result"
    }
   ],
   "source": [
    "X_train.head(5)"
   ]
  },
  {
   "cell_type": "code",
   "execution_count": 4,
   "id": "9b8ef9fa",
   "metadata": {
    "execution": {
     "iopub.execute_input": "2024-06-03T15:16:49.562685Z",
     "iopub.status.busy": "2024-06-03T15:16:49.562260Z",
     "iopub.status.idle": "2024-06-03T15:16:49.591439Z",
     "shell.execute_reply": "2024-06-03T15:16:49.590193Z"
    },
    "papermill": {
     "duration": 0.041877,
     "end_time": "2024-06-03T15:16:49.594108",
     "exception": false,
     "start_time": "2024-06-03T15:16:49.552231",
     "status": "completed"
    },
    "tags": []
   },
   "outputs": [
    {
     "data": {
      "text/html": [
       "<div>\n",
       "<style scoped>\n",
       "    .dataframe tbody tr th:only-of-type {\n",
       "        vertical-align: middle;\n",
       "    }\n",
       "\n",
       "    .dataframe tbody tr th {\n",
       "        vertical-align: top;\n",
       "    }\n",
       "\n",
       "    .dataframe thead th {\n",
       "        text-align: right;\n",
       "    }\n",
       "</style>\n",
       "<table border=\"1\" class=\"dataframe\">\n",
       "  <thead>\n",
       "    <tr style=\"text-align: right;\">\n",
       "      <th></th>\n",
       "      <th>Symbol</th>\n",
       "      <th>Volume</th>\n",
       "      <th>Sector_Basic Materials</th>\n",
       "      <th>Sector_Communication Services</th>\n",
       "      <th>Sector_Consumer Cyclical</th>\n",
       "      <th>Sector_Consumer Defensive</th>\n",
       "      <th>Sector_Energy</th>\n",
       "      <th>Sector_Financial Services</th>\n",
       "      <th>Sector_Healthcare</th>\n",
       "      <th>Sector_Industrials</th>\n",
       "      <th>...</th>\n",
       "      <th>Adj Close 14-Day std Differenced</th>\n",
       "      <th>Adj Close 26-Day std Differenced</th>\n",
       "      <th>Adj Close 7-Day Upper Bollinger Band Differenced</th>\n",
       "      <th>Distance to Adj Close 7-Day Upper Bollinger Band Differenced</th>\n",
       "      <th>True Range Differenced</th>\n",
       "      <th>True Range 26-Day SMA Differenced</th>\n",
       "      <th>Adj Close Differenced</th>\n",
       "      <th>High Differenced</th>\n",
       "      <th>Low Differenced</th>\n",
       "      <th>Open Differenced</th>\n",
       "    </tr>\n",
       "  </thead>\n",
       "  <tbody>\n",
       "    <tr>\n",
       "      <th>0</th>\n",
       "      <td>-1.054250</td>\n",
       "      <td>-0.283809</td>\n",
       "      <td>-0.21136</td>\n",
       "      <td>-0.21136</td>\n",
       "      <td>-0.356345</td>\n",
       "      <td>-0.279992</td>\n",
       "      <td>-0.222173</td>\n",
       "      <td>-0.394553</td>\n",
       "      <td>-0.387284</td>\n",
       "      <td>2.424439</td>\n",
       "      <td>...</td>\n",
       "      <td>0.244619</td>\n",
       "      <td>-0.054833</td>\n",
       "      <td>0.193442</td>\n",
       "      <td>-0.988178</td>\n",
       "      <td>-0.460024</td>\n",
       "      <td>-0.458573</td>\n",
       "      <td>-0.961706</td>\n",
       "      <td>-0.123181</td>\n",
       "      <td>-0.779922</td>\n",
       "      <td>0.216366</td>\n",
       "    </tr>\n",
       "    <tr>\n",
       "      <th>1</th>\n",
       "      <td>0.449017</td>\n",
       "      <td>-0.359859</td>\n",
       "      <td>-0.21136</td>\n",
       "      <td>-0.21136</td>\n",
       "      <td>-0.356345</td>\n",
       "      <td>-0.279992</td>\n",
       "      <td>-0.222173</td>\n",
       "      <td>2.534516</td>\n",
       "      <td>-0.387284</td>\n",
       "      <td>-0.412467</td>\n",
       "      <td>...</td>\n",
       "      <td>-1.623606</td>\n",
       "      <td>-1.598235</td>\n",
       "      <td>-0.116220</td>\n",
       "      <td>-0.549677</td>\n",
       "      <td>-0.673831</td>\n",
       "      <td>-0.614296</td>\n",
       "      <td>-0.682605</td>\n",
       "      <td>0.832754</td>\n",
       "      <td>-0.079040</td>\n",
       "      <td>1.432648</td>\n",
       "    </tr>\n",
       "    <tr>\n",
       "      <th>2</th>\n",
       "      <td>1.419105</td>\n",
       "      <td>-0.198809</td>\n",
       "      <td>-0.21136</td>\n",
       "      <td>-0.21136</td>\n",
       "      <td>-0.356345</td>\n",
       "      <td>-0.279992</td>\n",
       "      <td>-0.222173</td>\n",
       "      <td>-0.394553</td>\n",
       "      <td>-0.387284</td>\n",
       "      <td>-0.412467</td>\n",
       "      <td>...</td>\n",
       "      <td>-4.366291</td>\n",
       "      <td>-2.195166</td>\n",
       "      <td>0.093043</td>\n",
       "      <td>-4.112427</td>\n",
       "      <td>3.947181</td>\n",
       "      <td>1.902798</td>\n",
       "      <td>-4.471950</td>\n",
       "      <td>1.435083</td>\n",
       "      <td>-4.328154</td>\n",
       "      <td>1.015831</td>\n",
       "    </tr>\n",
       "    <tr>\n",
       "      <th>3</th>\n",
       "      <td>-1.261598</td>\n",
       "      <td>-0.272044</td>\n",
       "      <td>-0.21136</td>\n",
       "      <td>-0.21136</td>\n",
       "      <td>-0.356345</td>\n",
       "      <td>-0.279992</td>\n",
       "      <td>-0.222173</td>\n",
       "      <td>-0.394553</td>\n",
       "      <td>-0.387284</td>\n",
       "      <td>-0.412467</td>\n",
       "      <td>...</td>\n",
       "      <td>5.267571</td>\n",
       "      <td>4.461425</td>\n",
       "      <td>4.610485</td>\n",
       "      <td>-12.390394</td>\n",
       "      <td>14.154228</td>\n",
       "      <td>10.022441</td>\n",
       "      <td>-10.617055</td>\n",
       "      <td>-3.111471</td>\n",
       "      <td>-14.261016</td>\n",
       "      <td>-12.872375</td>\n",
       "    </tr>\n",
       "    <tr>\n",
       "      <th>4</th>\n",
       "      <td>-0.128593</td>\n",
       "      <td>-0.255868</td>\n",
       "      <td>-0.21136</td>\n",
       "      <td>-0.21136</td>\n",
       "      <td>2.806268</td>\n",
       "      <td>-0.279992</td>\n",
       "      <td>-0.222173</td>\n",
       "      <td>-0.394553</td>\n",
       "      <td>-0.387284</td>\n",
       "      <td>-0.412467</td>\n",
       "      <td>...</td>\n",
       "      <td>0.039264</td>\n",
       "      <td>0.059860</td>\n",
       "      <td>0.030323</td>\n",
       "      <td>-0.411204</td>\n",
       "      <td>0.082851</td>\n",
       "      <td>0.121352</td>\n",
       "      <td>-0.433286</td>\n",
       "      <td>-0.263072</td>\n",
       "      <td>-0.294412</td>\n",
       "      <td>0.025041</td>\n",
       "    </tr>\n",
       "  </tbody>\n",
       "</table>\n",
       "<p>5 rows × 122 columns</p>\n",
       "</div>"
      ],
      "text/plain": [
       "     Symbol    Volume  Sector_Basic Materials  Sector_Communication Services  \\\n",
       "0 -1.054250 -0.283809                -0.21136                       -0.21136   \n",
       "1  0.449017 -0.359859                -0.21136                       -0.21136   \n",
       "2  1.419105 -0.198809                -0.21136                       -0.21136   \n",
       "3 -1.261598 -0.272044                -0.21136                       -0.21136   \n",
       "4 -0.128593 -0.255868                -0.21136                       -0.21136   \n",
       "\n",
       "   Sector_Consumer Cyclical  Sector_Consumer Defensive  Sector_Energy  \\\n",
       "0                 -0.356345                  -0.279992      -0.222173   \n",
       "1                 -0.356345                  -0.279992      -0.222173   \n",
       "2                 -0.356345                  -0.279992      -0.222173   \n",
       "3                 -0.356345                  -0.279992      -0.222173   \n",
       "4                  2.806268                  -0.279992      -0.222173   \n",
       "\n",
       "   Sector_Financial Services  Sector_Healthcare  Sector_Industrials  ...  \\\n",
       "0                  -0.394553          -0.387284            2.424439  ...   \n",
       "1                   2.534516          -0.387284           -0.412467  ...   \n",
       "2                  -0.394553          -0.387284           -0.412467  ...   \n",
       "3                  -0.394553          -0.387284           -0.412467  ...   \n",
       "4                  -0.394553          -0.387284           -0.412467  ...   \n",
       "\n",
       "   Adj Close 14-Day std Differenced  Adj Close 26-Day std Differenced  \\\n",
       "0                          0.244619                         -0.054833   \n",
       "1                         -1.623606                         -1.598235   \n",
       "2                         -4.366291                         -2.195166   \n",
       "3                          5.267571                          4.461425   \n",
       "4                          0.039264                          0.059860   \n",
       "\n",
       "   Adj Close 7-Day Upper Bollinger Band Differenced  \\\n",
       "0                                          0.193442   \n",
       "1                                         -0.116220   \n",
       "2                                          0.093043   \n",
       "3                                          4.610485   \n",
       "4                                          0.030323   \n",
       "\n",
       "   Distance to Adj Close 7-Day Upper Bollinger Band Differenced  \\\n",
       "0                                          -0.988178              \n",
       "1                                          -0.549677              \n",
       "2                                          -4.112427              \n",
       "3                                         -12.390394              \n",
       "4                                          -0.411204              \n",
       "\n",
       "   True Range Differenced  True Range 26-Day SMA Differenced  \\\n",
       "0               -0.460024                          -0.458573   \n",
       "1               -0.673831                          -0.614296   \n",
       "2                3.947181                           1.902798   \n",
       "3               14.154228                          10.022441   \n",
       "4                0.082851                           0.121352   \n",
       "\n",
       "   Adj Close Differenced  High Differenced  Low Differenced  Open Differenced  \n",
       "0              -0.961706         -0.123181        -0.779922          0.216366  \n",
       "1              -0.682605          0.832754        -0.079040          1.432648  \n",
       "2              -4.471950          1.435083        -4.328154          1.015831  \n",
       "3             -10.617055         -3.111471       -14.261016        -12.872375  \n",
       "4              -0.433286         -0.263072        -0.294412          0.025041  \n",
       "\n",
       "[5 rows x 122 columns]"
      ]
     },
     "execution_count": 4,
     "metadata": {},
     "output_type": "execute_result"
    }
   ],
   "source": [
    "X_test.head(5)"
   ]
  },
  {
   "cell_type": "code",
   "execution_count": 5,
   "id": "aa03c6dc",
   "metadata": {
    "execution": {
     "iopub.execute_input": "2024-06-03T15:16:49.614260Z",
     "iopub.status.busy": "2024-06-03T15:16:49.613815Z",
     "iopub.status.idle": "2024-06-03T15:16:49.625680Z",
     "shell.execute_reply": "2024-06-03T15:16:49.624374Z"
    },
    "papermill": {
     "duration": 0.025063,
     "end_time": "2024-06-03T15:16:49.628459",
     "exception": false,
     "start_time": "2024-06-03T15:16:49.603396",
     "status": "completed"
    },
    "tags": []
   },
   "outputs": [
    {
     "data": {
      "text/html": [
       "<div>\n",
       "<style scoped>\n",
       "    .dataframe tbody tr th:only-of-type {\n",
       "        vertical-align: middle;\n",
       "    }\n",
       "\n",
       "    .dataframe tbody tr th {\n",
       "        vertical-align: top;\n",
       "    }\n",
       "\n",
       "    .dataframe thead th {\n",
       "        text-align: right;\n",
       "    }\n",
       "</style>\n",
       "<table border=\"1\" class=\"dataframe\">\n",
       "  <thead>\n",
       "    <tr style=\"text-align: right;\">\n",
       "      <th></th>\n",
       "      <th>1-week Forward Return Sign</th>\n",
       "    </tr>\n",
       "  </thead>\n",
       "  <tbody>\n",
       "    <tr>\n",
       "      <th>0</th>\n",
       "      <td>0.0</td>\n",
       "    </tr>\n",
       "    <tr>\n",
       "      <th>1</th>\n",
       "      <td>0.0</td>\n",
       "    </tr>\n",
       "    <tr>\n",
       "      <th>2</th>\n",
       "      <td>0.0</td>\n",
       "    </tr>\n",
       "    <tr>\n",
       "      <th>3</th>\n",
       "      <td>0.0</td>\n",
       "    </tr>\n",
       "    <tr>\n",
       "      <th>4</th>\n",
       "      <td>1.0</td>\n",
       "    </tr>\n",
       "  </tbody>\n",
       "</table>\n",
       "</div>"
      ],
      "text/plain": [
       "   1-week Forward Return Sign\n",
       "0                         0.0\n",
       "1                         0.0\n",
       "2                         0.0\n",
       "3                         0.0\n",
       "4                         1.0"
      ]
     },
     "execution_count": 5,
     "metadata": {},
     "output_type": "execute_result"
    }
   ],
   "source": [
    "y_train.head(5)"
   ]
  },
  {
   "cell_type": "code",
   "execution_count": 6,
   "id": "fdc3a9a1",
   "metadata": {
    "execution": {
     "iopub.execute_input": "2024-06-03T15:16:49.649278Z",
     "iopub.status.busy": "2024-06-03T15:16:49.648865Z",
     "iopub.status.idle": "2024-06-03T15:16:49.660329Z",
     "shell.execute_reply": "2024-06-03T15:16:49.659076Z"
    },
    "papermill": {
     "duration": 0.025258,
     "end_time": "2024-06-03T15:16:49.663048",
     "exception": false,
     "start_time": "2024-06-03T15:16:49.637790",
     "status": "completed"
    },
    "tags": []
   },
   "outputs": [
    {
     "data": {
      "text/html": [
       "<div>\n",
       "<style scoped>\n",
       "    .dataframe tbody tr th:only-of-type {\n",
       "        vertical-align: middle;\n",
       "    }\n",
       "\n",
       "    .dataframe tbody tr th {\n",
       "        vertical-align: top;\n",
       "    }\n",
       "\n",
       "    .dataframe thead th {\n",
       "        text-align: right;\n",
       "    }\n",
       "</style>\n",
       "<table border=\"1\" class=\"dataframe\">\n",
       "  <thead>\n",
       "    <tr style=\"text-align: right;\">\n",
       "      <th></th>\n",
       "      <th>1-week Forward Return Sign</th>\n",
       "    </tr>\n",
       "  </thead>\n",
       "  <tbody>\n",
       "    <tr>\n",
       "      <th>0</th>\n",
       "      <td>1.0</td>\n",
       "    </tr>\n",
       "    <tr>\n",
       "      <th>1</th>\n",
       "      <td>1.0</td>\n",
       "    </tr>\n",
       "    <tr>\n",
       "      <th>2</th>\n",
       "      <td>1.0</td>\n",
       "    </tr>\n",
       "    <tr>\n",
       "      <th>3</th>\n",
       "      <td>1.0</td>\n",
       "    </tr>\n",
       "    <tr>\n",
       "      <th>4</th>\n",
       "      <td>1.0</td>\n",
       "    </tr>\n",
       "  </tbody>\n",
       "</table>\n",
       "</div>"
      ],
      "text/plain": [
       "   1-week Forward Return Sign\n",
       "0                         1.0\n",
       "1                         1.0\n",
       "2                         1.0\n",
       "3                         1.0\n",
       "4                         1.0"
      ]
     },
     "execution_count": 6,
     "metadata": {},
     "output_type": "execute_result"
    }
   ],
   "source": [
    "y_test.head(5)"
   ]
  },
  {
   "cell_type": "markdown",
   "id": "3283253f",
   "metadata": {
    "papermill": {
     "duration": 0.010322,
     "end_time": "2024-06-03T15:16:49.683480",
     "exception": false,
     "start_time": "2024-06-03T15:16:49.673158",
     "status": "completed"
    },
    "tags": []
   },
   "source": [
    "# Data Prep\n",
    "\n",
    "LSTMs requires the data to be structured differently to most ML models\n"
   ]
  },
  {
   "cell_type": "markdown",
   "id": "c89b7cdc",
   "metadata": {
    "papermill": {
     "duration": 0.009277,
     "end_time": "2024-06-03T15:16:49.702619",
     "exception": false,
     "start_time": "2024-06-03T15:16:49.693342",
     "status": "completed"
    },
    "tags": []
   },
   "source": [
    "# Fit LSTM\n",
    "Write explanation of LSTM"
   ]
  },
  {
   "cell_type": "markdown",
   "id": "6ac79485",
   "metadata": {
    "papermill": {
     "duration": 0.009387,
     "end_time": "2024-06-03T15:16:49.721463",
     "exception": false,
     "start_time": "2024-06-03T15:16:49.712076",
     "status": "completed"
    },
    "tags": []
   },
   "source": [
    "# Work my way up!\n",
    "This section of code we will start with a simple 1 feature LSTM for 1 stock. Then we can do multiple features for 1 stock. Finally we can do multiple features for multiple stocks! Be patient! You've got this. Small steps are better that jumping ahead and not understanding."
   ]
  },
  {
   "cell_type": "markdown",
   "id": "44dbadff",
   "metadata": {
    "papermill": {
     "duration": 0.009108,
     "end_time": "2024-06-03T15:16:49.740072",
     "exception": false,
     "start_time": "2024-06-03T15:16:49.730964",
     "status": "completed"
    },
    "tags": []
   },
   "source": [
    "## 1 Stock 1 Feature"
   ]
  },
  {
   "cell_type": "code",
   "execution_count": 7,
   "id": "816ec201",
   "metadata": {
    "execution": {
     "iopub.execute_input": "2024-06-03T15:16:49.762238Z",
     "iopub.status.busy": "2024-06-03T15:16:49.761814Z",
     "iopub.status.idle": "2024-06-03T15:16:49.792481Z",
     "shell.execute_reply": "2024-06-03T15:16:49.791193Z"
    },
    "papermill": {
     "duration": 0.045311,
     "end_time": "2024-06-03T15:16:49.795371",
     "exception": false,
     "start_time": "2024-06-03T15:16:49.750060",
     "status": "completed"
    },
    "tags": []
   },
   "outputs": [
    {
     "data": {
      "text/html": [
       "<div>\n",
       "<style scoped>\n",
       "    .dataframe tbody tr th:only-of-type {\n",
       "        vertical-align: middle;\n",
       "    }\n",
       "\n",
       "    .dataframe tbody tr th {\n",
       "        vertical-align: top;\n",
       "    }\n",
       "\n",
       "    .dataframe thead th {\n",
       "        text-align: right;\n",
       "    }\n",
       "</style>\n",
       "<table border=\"1\" class=\"dataframe\">\n",
       "  <thead>\n",
       "    <tr style=\"text-align: right;\">\n",
       "      <th></th>\n",
       "      <th>Adj Close 7-Day Upper Bollinger Band Differenced</th>\n",
       "    </tr>\n",
       "  </thead>\n",
       "  <tbody>\n",
       "    <tr>\n",
       "      <th>0</th>\n",
       "      <td>-0.002604</td>\n",
       "    </tr>\n",
       "    <tr>\n",
       "      <th>1</th>\n",
       "      <td>0.016938</td>\n",
       "    </tr>\n",
       "    <tr>\n",
       "      <th>2</th>\n",
       "      <td>-0.006843</td>\n",
       "    </tr>\n",
       "    <tr>\n",
       "      <th>3</th>\n",
       "      <td>-0.028533</td>\n",
       "    </tr>\n",
       "    <tr>\n",
       "      <th>4</th>\n",
       "      <td>-0.037744</td>\n",
       "    </tr>\n",
       "    <tr>\n",
       "      <th>...</th>\n",
       "      <td>...</td>\n",
       "    </tr>\n",
       "    <tr>\n",
       "      <th>1347</th>\n",
       "      <td>-0.053359</td>\n",
       "    </tr>\n",
       "    <tr>\n",
       "      <th>1348</th>\n",
       "      <td>-0.053067</td>\n",
       "    </tr>\n",
       "    <tr>\n",
       "      <th>1349</th>\n",
       "      <td>-0.009339</td>\n",
       "    </tr>\n",
       "    <tr>\n",
       "      <th>1350</th>\n",
       "      <td>-0.013484</td>\n",
       "    </tr>\n",
       "    <tr>\n",
       "      <th>1351</th>\n",
       "      <td>0.086754</td>\n",
       "    </tr>\n",
       "  </tbody>\n",
       "</table>\n",
       "<p>1352 rows × 1 columns</p>\n",
       "</div>"
      ],
      "text/plain": [
       "      Adj Close 7-Day Upper Bollinger Band Differenced\n",
       "0                                            -0.002604\n",
       "1                                             0.016938\n",
       "2                                            -0.006843\n",
       "3                                            -0.028533\n",
       "4                                            -0.037744\n",
       "...                                                ...\n",
       "1347                                         -0.053359\n",
       "1348                                         -0.053067\n",
       "1349                                         -0.009339\n",
       "1350                                         -0.013484\n",
       "1351                                          0.086754\n",
       "\n",
       "[1352 rows x 1 columns]"
      ]
     },
     "execution_count": 7,
     "metadata": {},
     "output_type": "execute_result"
    }
   ],
   "source": [
    "# Get singular stock to use\n",
    "stocks = X_train['Symbol'].unique()\n",
    "stock = stocks[0]\n",
    "stock\n",
    "\n",
    "# Create dataframe with singular stock and singular feature (which will be the target)\n",
    "df = X_train[X_train['Symbol'] == stock][['Adj Close 7-Day Upper Bollinger Band Differenced']].reset_index(drop=True)\n",
    "df"
   ]
  },
  {
   "cell_type": "code",
   "execution_count": 8,
   "id": "ed13d07e",
   "metadata": {
    "execution": {
     "iopub.execute_input": "2024-06-03T15:16:49.817105Z",
     "iopub.status.busy": "2024-06-03T15:16:49.816704Z",
     "iopub.status.idle": "2024-06-03T15:16:49.825235Z",
     "shell.execute_reply": "2024-06-03T15:16:49.823934Z"
    },
    "papermill": {
     "duration": 0.022426,
     "end_time": "2024-06-03T15:16:49.827869",
     "exception": false,
     "start_time": "2024-06-03T15:16:49.805443",
     "status": "completed"
    },
    "tags": []
   },
   "outputs": [],
   "source": [
    "# Define lookback (window) period n (given volume at T - 1, T-2 , T-n, predict volume at T)\n",
    "window = 5\n",
    "\n",
    "# CONVERT TO SUPERVISED LEARNING PROBLEM\n",
    "# Data structure is as below. On left we have volume at some times, and our target is on the right (volume at next time)\n",
    "# [[[0], [1], [2], [3], [4], [5]]]    [6]\n",
    "# [[[1], [2], [3], [4], [5], [6]]]    [7]\n",
    "# [[[2], [3], [4], [5], [6], [7]]]    [8]\n",
    "# ........\n",
    "\n",
    "# Note that each volume value is wrapped in its own list. This is because when we get to the multivariate case, we can include more in each list (e.g. volume and price) so they won't just be 1 element lists\n",
    "def df_to_X_y(df, window):\n",
    "    \n",
    "    # Convert dataframe to numpy\n",
    "    df_as_np = df.to_numpy()\n",
    "    \n",
    "    # Array to store X and y\n",
    "    X = []\n",
    "    y = []\n",
    "    \n",
    "    # Loop through each index in the dataframe and get X and y\n",
    "    for i in range(len(df_as_np)-window):\n",
    "        # Get values in window and wrap each one in a list\n",
    "        row = df_as_np[i: i+window]\n",
    "        X.append(row)\n",
    "        \n",
    "        # Get the label (first value after the window)\n",
    "        label = df_as_np[i + window][0]\n",
    "        y.append(label)\n",
    "    \n",
    "    return np.array(X), np.array(y)"
   ]
  },
  {
   "cell_type": "code",
   "execution_count": 9,
   "id": "58ca16ce",
   "metadata": {
    "execution": {
     "iopub.execute_input": "2024-06-03T15:16:49.849385Z",
     "iopub.status.busy": "2024-06-03T15:16:49.848537Z",
     "iopub.status.idle": "2024-06-03T15:16:49.861417Z",
     "shell.execute_reply": "2024-06-03T15:16:49.859199Z"
    },
    "papermill": {
     "duration": 0.026669,
     "end_time": "2024-06-03T15:16:49.864294",
     "exception": false,
     "start_time": "2024-06-03T15:16:49.837625",
     "status": "completed"
    },
    "tags": []
   },
   "outputs": [
    {
     "name": "stdout",
     "output_type": "stream",
     "text": [
      "(1347, 5, 1) (1347,)\n",
      "[[[-0.00260446]\n",
      "  [ 0.0169385 ]\n",
      "  [-0.00684268]\n",
      "  [-0.02853307]\n",
      "  [-0.03774383]]\n",
      "\n",
      " [[ 0.0169385 ]\n",
      "  [-0.00684268]\n",
      "  [-0.02853307]\n",
      "  [-0.03774383]\n",
      "  [-0.06029836]]\n",
      "\n",
      " [[-0.00684268]\n",
      "  [-0.02853307]\n",
      "  [-0.03774383]\n",
      "  [-0.06029836]\n",
      "  [-0.0291746 ]]\n",
      "\n",
      " ...\n",
      "\n",
      " [[-0.41880868]\n",
      "  [-0.15321295]\n",
      "  [-0.06333387]\n",
      "  [-0.05335927]\n",
      "  [-0.05306661]]\n",
      "\n",
      " [[-0.15321295]\n",
      "  [-0.06333387]\n",
      "  [-0.05335927]\n",
      "  [-0.05306661]\n",
      "  [-0.00933891]]\n",
      "\n",
      " [[-0.06333387]\n",
      "  [-0.05335927]\n",
      "  [-0.05306661]\n",
      "  [-0.00933891]\n",
      "  [-0.01348382]]]\n",
      "[-0.06029836 -0.0291746  -0.02900769 ... -0.00933891 -0.01348382\n",
      "  0.08675373]\n"
     ]
    }
   ],
   "source": [
    "X, y = df_to_X_y(df=df, window=window)\n",
    "print(X.shape, y.shape)\n",
    "print(X)\n",
    "print(y)"
   ]
  },
  {
   "cell_type": "code",
   "execution_count": 10,
   "id": "920d809e",
   "metadata": {
    "execution": {
     "iopub.execute_input": "2024-06-03T15:16:49.886283Z",
     "iopub.status.busy": "2024-06-03T15:16:49.885888Z",
     "iopub.status.idle": "2024-06-03T15:16:49.893277Z",
     "shell.execute_reply": "2024-06-03T15:16:49.892173Z"
    },
    "papermill": {
     "duration": 0.021383,
     "end_time": "2024-06-03T15:16:49.896153",
     "exception": false,
     "start_time": "2024-06-03T15:16:49.874770",
     "status": "completed"
    },
    "tags": []
   },
   "outputs": [
    {
     "name": "stdout",
     "output_type": "stream",
     "text": [
      "(900, 5, 1) (900,)\n",
      "(200, 5, 1) (200,)\n",
      "(247, 5, 1) (247,)\n"
     ]
    }
   ],
   "source": [
    "X_train, y_train = X[:900], y[:900]\n",
    "X_val, y_val = X[900:1100], y[900:1100]\n",
    "X_test, y_test = X[1100:], y[1100:]\n",
    "print(X_train.shape, y_train.shape)\n",
    "print(X_val.shape, y_val.shape)\n",
    "print(X_test.shape, y_test.shape)"
   ]
  },
  {
   "cell_type": "code",
   "execution_count": 11,
   "id": "b971a8c1",
   "metadata": {
    "execution": {
     "iopub.execute_input": "2024-06-03T15:16:49.917697Z",
     "iopub.status.busy": "2024-06-03T15:16:49.917251Z",
     "iopub.status.idle": "2024-06-03T15:17:04.780079Z",
     "shell.execute_reply": "2024-06-03T15:17:04.778509Z"
    },
    "papermill": {
     "duration": 14.877164,
     "end_time": "2024-06-03T15:17:04.783167",
     "exception": false,
     "start_time": "2024-06-03T15:16:49.906003",
     "status": "completed"
    },
    "tags": []
   },
   "outputs": [
    {
     "name": "stderr",
     "output_type": "stream",
     "text": [
      "2024-06-03 15:16:52.151449: E external/local_xla/xla/stream_executor/cuda/cuda_dnn.cc:9261] Unable to register cuDNN factory: Attempting to register factory for plugin cuDNN when one has already been registered\n",
      "2024-06-03 15:16:52.151691: E external/local_xla/xla/stream_executor/cuda/cuda_fft.cc:607] Unable to register cuFFT factory: Attempting to register factory for plugin cuFFT when one has already been registered\n",
      "2024-06-03 15:16:52.323232: E external/local_xla/xla/stream_executor/cuda/cuda_blas.cc:1515] Unable to register cuBLAS factory: Attempting to register factory for plugin cuBLAS when one has already been registered\n"
     ]
    }
   ],
   "source": [
    "from tensorflow.keras.models import Sequential\n",
    "from tensorflow.keras.layers import InputLayer, Dense, LSTM\n",
    "from tensorflow.keras.callbacks import ModelCheckpoint # Save best model \n",
    "from tensorflow.keras.losses import MeanSquaredError # Loss function\n",
    "from tensorflow.keras.optimizers import Adam"
   ]
  },
  {
   "cell_type": "code",
   "execution_count": 12,
   "id": "e6f32791",
   "metadata": {
    "execution": {
     "iopub.execute_input": "2024-06-03T15:17:04.815175Z",
     "iopub.status.busy": "2024-06-03T15:17:04.814422Z",
     "iopub.status.idle": "2024-06-03T15:17:04.972504Z",
     "shell.execute_reply": "2024-06-03T15:17:04.971233Z"
    },
    "papermill": {
     "duration": 0.17545,
     "end_time": "2024-06-03T15:17:04.975367",
     "exception": false,
     "start_time": "2024-06-03T15:17:04.799917",
     "status": "completed"
    },
    "tags": []
   },
   "outputs": [
    {
     "data": {
      "text/html": [
       "<pre style=\"white-space:pre;overflow-x:auto;line-height:normal;font-family:Menlo,'DejaVu Sans Mono',consolas,'Courier New',monospace\"><span style=\"font-weight: bold\">Model: \"sequential\"</span>\n",
       "</pre>\n"
      ],
      "text/plain": [
       "\u001b[1mModel: \"sequential\"\u001b[0m\n"
      ]
     },
     "metadata": {},
     "output_type": "display_data"
    },
    {
     "data": {
      "text/html": [
       "<pre style=\"white-space:pre;overflow-x:auto;line-height:normal;font-family:Menlo,'DejaVu Sans Mono',consolas,'Courier New',monospace\">┏━━━━━━━━━━━━━━━━━━━━━━━━━━━━━━━━━┳━━━━━━━━━━━━━━━━━━━━━━━━┳━━━━━━━━━━━━━━━┓\n",
       "┃<span style=\"font-weight: bold\"> Layer (type)                    </span>┃<span style=\"font-weight: bold\"> Output Shape           </span>┃<span style=\"font-weight: bold\">       Param # </span>┃\n",
       "┡━━━━━━━━━━━━━━━━━━━━━━━━━━━━━━━━━╇━━━━━━━━━━━━━━━━━━━━━━━━╇━━━━━━━━━━━━━━━┩\n",
       "│ lstm (<span style=\"color: #0087ff; text-decoration-color: #0087ff\">LSTM</span>)                     │ (<span style=\"color: #00d7ff; text-decoration-color: #00d7ff\">None</span>, <span style=\"color: #00af00; text-decoration-color: #00af00\">64</span>)             │        <span style=\"color: #00af00; text-decoration-color: #00af00\">16,896</span> │\n",
       "├─────────────────────────────────┼────────────────────────┼───────────────┤\n",
       "│ dense (<span style=\"color: #0087ff; text-decoration-color: #0087ff\">Dense</span>)                   │ (<span style=\"color: #00d7ff; text-decoration-color: #00d7ff\">None</span>, <span style=\"color: #00af00; text-decoration-color: #00af00\">8</span>)              │           <span style=\"color: #00af00; text-decoration-color: #00af00\">520</span> │\n",
       "├─────────────────────────────────┼────────────────────────┼───────────────┤\n",
       "│ dense_1 (<span style=\"color: #0087ff; text-decoration-color: #0087ff\">Dense</span>)                 │ (<span style=\"color: #00d7ff; text-decoration-color: #00d7ff\">None</span>, <span style=\"color: #00af00; text-decoration-color: #00af00\">1</span>)              │             <span style=\"color: #00af00; text-decoration-color: #00af00\">9</span> │\n",
       "└─────────────────────────────────┴────────────────────────┴───────────────┘\n",
       "</pre>\n"
      ],
      "text/plain": [
       "┏━━━━━━━━━━━━━━━━━━━━━━━━━━━━━━━━━┳━━━━━━━━━━━━━━━━━━━━━━━━┳━━━━━━━━━━━━━━━┓\n",
       "┃\u001b[1m \u001b[0m\u001b[1mLayer (type)                   \u001b[0m\u001b[1m \u001b[0m┃\u001b[1m \u001b[0m\u001b[1mOutput Shape          \u001b[0m\u001b[1m \u001b[0m┃\u001b[1m \u001b[0m\u001b[1m      Param #\u001b[0m\u001b[1m \u001b[0m┃\n",
       "┡━━━━━━━━━━━━━━━━━━━━━━━━━━━━━━━━━╇━━━━━━━━━━━━━━━━━━━━━━━━╇━━━━━━━━━━━━━━━┩\n",
       "│ lstm (\u001b[38;5;33mLSTM\u001b[0m)                     │ (\u001b[38;5;45mNone\u001b[0m, \u001b[38;5;34m64\u001b[0m)             │        \u001b[38;5;34m16,896\u001b[0m │\n",
       "├─────────────────────────────────┼────────────────────────┼───────────────┤\n",
       "│ dense (\u001b[38;5;33mDense\u001b[0m)                   │ (\u001b[38;5;45mNone\u001b[0m, \u001b[38;5;34m8\u001b[0m)              │           \u001b[38;5;34m520\u001b[0m │\n",
       "├─────────────────────────────────┼────────────────────────┼───────────────┤\n",
       "│ dense_1 (\u001b[38;5;33mDense\u001b[0m)                 │ (\u001b[38;5;45mNone\u001b[0m, \u001b[38;5;34m1\u001b[0m)              │             \u001b[38;5;34m9\u001b[0m │\n",
       "└─────────────────────────────────┴────────────────────────┴───────────────┘\n"
      ]
     },
     "metadata": {},
     "output_type": "display_data"
    },
    {
     "data": {
      "text/html": [
       "<pre style=\"white-space:pre;overflow-x:auto;line-height:normal;font-family:Menlo,'DejaVu Sans Mono',consolas,'Courier New',monospace\"><span style=\"font-weight: bold\"> Total params: </span><span style=\"color: #00af00; text-decoration-color: #00af00\">17,425</span> (68.07 KB)\n",
       "</pre>\n"
      ],
      "text/plain": [
       "\u001b[1m Total params: \u001b[0m\u001b[38;5;34m17,425\u001b[0m (68.07 KB)\n"
      ]
     },
     "metadata": {},
     "output_type": "display_data"
    },
    {
     "data": {
      "text/html": [
       "<pre style=\"white-space:pre;overflow-x:auto;line-height:normal;font-family:Menlo,'DejaVu Sans Mono',consolas,'Courier New',monospace\"><span style=\"font-weight: bold\"> Trainable params: </span><span style=\"color: #00af00; text-decoration-color: #00af00\">17,425</span> (68.07 KB)\n",
       "</pre>\n"
      ],
      "text/plain": [
       "\u001b[1m Trainable params: \u001b[0m\u001b[38;5;34m17,425\u001b[0m (68.07 KB)\n"
      ]
     },
     "metadata": {},
     "output_type": "display_data"
    },
    {
     "data": {
      "text/html": [
       "<pre style=\"white-space:pre;overflow-x:auto;line-height:normal;font-family:Menlo,'DejaVu Sans Mono',consolas,'Courier New',monospace\"><span style=\"font-weight: bold\"> Non-trainable params: </span><span style=\"color: #00af00; text-decoration-color: #00af00\">0</span> (0.00 B)\n",
       "</pre>\n"
      ],
      "text/plain": [
       "\u001b[1m Non-trainable params: \u001b[0m\u001b[38;5;34m0\u001b[0m (0.00 B)\n"
      ]
     },
     "metadata": {},
     "output_type": "display_data"
    }
   ],
   "source": [
    "# Build up layers of network\n",
    "model1 = Sequential()\n",
    "model1.add(\n",
    "    InputLayer((window, 1)) # Each piece of info is a window x 1 vector (containing the volumes in the window)\n",
    ")\n",
    "model1.add(\n",
    "    LSTM(64) # Check what the 64 means. Can use GRU as well as LSTM\n",
    ")\n",
    "model1.add(\n",
    "    Dense(8, 'relu') # Check what this layer is for\n",
    ")\n",
    "model1.add(\n",
    "    Dense(1, 'linear') # Think this is output layer but need to check. I.e. it spits out predicted volume\n",
    ")\n",
    "\n",
    "# Can see the model takes in 5x1 vector, converts it to a 64 elemtns, then 8, then 1 which is our output\n",
    "model1.summary()"
   ]
  },
  {
   "cell_type": "code",
   "execution_count": 13,
   "id": "029bf472",
   "metadata": {
    "execution": {
     "iopub.execute_input": "2024-06-03T15:17:05.000741Z",
     "iopub.status.busy": "2024-06-03T15:17:05.000191Z",
     "iopub.status.idle": "2024-06-03T15:17:05.007410Z",
     "shell.execute_reply": "2024-06-03T15:17:05.006228Z"
    },
    "papermill": {
     "duration": 0.022923,
     "end_time": "2024-06-03T15:17:05.010238",
     "exception": false,
     "start_time": "2024-06-03T15:17:04.987315",
     "status": "completed"
    },
    "tags": []
   },
   "outputs": [],
   "source": [
    "# Save model\n",
    "cp = ModelCheckpoint(\n",
    "    'model1.keras',\n",
    "    save_best_only=True\n",
    ")"
   ]
  },
  {
   "cell_type": "code",
   "execution_count": 14,
   "id": "ecf644e0",
   "metadata": {
    "execution": {
     "iopub.execute_input": "2024-06-03T15:17:05.035079Z",
     "iopub.status.busy": "2024-06-03T15:17:05.034679Z",
     "iopub.status.idle": "2024-06-03T15:17:18.884312Z",
     "shell.execute_reply": "2024-06-03T15:17:18.883182Z"
    },
    "papermill": {
     "duration": 13.864808,
     "end_time": "2024-06-03T15:17:18.886907",
     "exception": false,
     "start_time": "2024-06-03T15:17:05.022099",
     "status": "completed"
    },
    "tags": []
   },
   "outputs": [
    {
     "name": "stdout",
     "output_type": "stream",
     "text": [
      "Epoch 1/50\n",
      "\u001b[1m29/29\u001b[0m \u001b[32m━━━━━━━━━━━━━━━━━━━━\u001b[0m\u001b[37m\u001b[0m \u001b[1m3s\u001b[0m 19ms/step - loss: 0.0108 - mean_squared_error: 0.0108 - val_loss: 0.0103 - val_mean_squared_error: 0.0130\n",
      "Epoch 2/50\n",
      "\u001b[1m29/29\u001b[0m \u001b[32m━━━━━━━━━━━━━━━━━━━━\u001b[0m\u001b[37m\u001b[0m \u001b[1m0s\u001b[0m 7ms/step - loss: 0.0107 - mean_squared_error: 0.0107 - val_loss: 0.0102 - val_mean_squared_error: 0.0127\n",
      "Epoch 3/50\n",
      "\u001b[1m29/29\u001b[0m \u001b[32m━━━━━━━━━━━━━━━━━━━━\u001b[0m\u001b[37m\u001b[0m \u001b[1m0s\u001b[0m 7ms/step - loss: 0.0114 - mean_squared_error: 0.0114 - val_loss: 0.0102 - val_mean_squared_error: 0.0124\n",
      "Epoch 4/50\n",
      "\u001b[1m29/29\u001b[0m \u001b[32m━━━━━━━━━━━━━━━━━━━━\u001b[0m\u001b[37m\u001b[0m \u001b[1m0s\u001b[0m 6ms/step - loss: 0.0115 - mean_squared_error: 0.0114 - val_loss: 0.0101 - val_mean_squared_error: 0.0124\n",
      "Epoch 5/50\n",
      "\u001b[1m29/29\u001b[0m \u001b[32m━━━━━━━━━━━━━━━━━━━━\u001b[0m\u001b[37m\u001b[0m \u001b[1m0s\u001b[0m 7ms/step - loss: 0.0107 - mean_squared_error: 0.0107 - val_loss: 0.0101 - val_mean_squared_error: 0.0123\n",
      "Epoch 6/50\n",
      "\u001b[1m29/29\u001b[0m \u001b[32m━━━━━━━━━━━━━━━━━━━━\u001b[0m\u001b[37m\u001b[0m \u001b[1m0s\u001b[0m 7ms/step - loss: 0.0115 - mean_squared_error: 0.0115 - val_loss: 0.0100 - val_mean_squared_error: 0.0122\n",
      "Epoch 7/50\n",
      "\u001b[1m29/29\u001b[0m \u001b[32m━━━━━━━━━━━━━━━━━━━━\u001b[0m\u001b[37m\u001b[0m \u001b[1m0s\u001b[0m 7ms/step - loss: 0.0104 - mean_squared_error: 0.0104 - val_loss: 0.0100 - val_mean_squared_error: 0.0121\n",
      "Epoch 8/50\n",
      "\u001b[1m29/29\u001b[0m \u001b[32m━━━━━━━━━━━━━━━━━━━━\u001b[0m\u001b[37m\u001b[0m \u001b[1m0s\u001b[0m 6ms/step - loss: 0.0109 - mean_squared_error: 0.0108 - val_loss: 0.0100 - val_mean_squared_error: 0.0120\n",
      "Epoch 9/50\n",
      "\u001b[1m29/29\u001b[0m \u001b[32m━━━━━━━━━━━━━━━━━━━━\u001b[0m\u001b[37m\u001b[0m \u001b[1m0s\u001b[0m 6ms/step - loss: 0.0096 - mean_squared_error: 0.0096 - val_loss: 0.0099 - val_mean_squared_error: 0.0119\n",
      "Epoch 10/50\n",
      "\u001b[1m29/29\u001b[0m \u001b[32m━━━━━━━━━━━━━━━━━━━━\u001b[0m\u001b[37m\u001b[0m \u001b[1m0s\u001b[0m 7ms/step - loss: 0.0102 - mean_squared_error: 0.0102 - val_loss: 0.0099 - val_mean_squared_error: 0.0119\n",
      "Epoch 11/50\n",
      "\u001b[1m29/29\u001b[0m \u001b[32m━━━━━━━━━━━━━━━━━━━━\u001b[0m\u001b[37m\u001b[0m \u001b[1m0s\u001b[0m 6ms/step - loss: 0.0105 - mean_squared_error: 0.0105 - val_loss: 0.0098 - val_mean_squared_error: 0.0118\n",
      "Epoch 12/50\n",
      "\u001b[1m29/29\u001b[0m \u001b[32m━━━━━━━━━━━━━━━━━━━━\u001b[0m\u001b[37m\u001b[0m \u001b[1m0s\u001b[0m 6ms/step - loss: 0.0100 - mean_squared_error: 0.0100 - val_loss: 0.0098 - val_mean_squared_error: 0.0117\n",
      "Epoch 13/50\n",
      "\u001b[1m29/29\u001b[0m \u001b[32m━━━━━━━━━━━━━━━━━━━━\u001b[0m\u001b[37m\u001b[0m \u001b[1m0s\u001b[0m 6ms/step - loss: 0.0115 - mean_squared_error: 0.0115 - val_loss: 0.0097 - val_mean_squared_error: 0.0117\n",
      "Epoch 14/50\n",
      "\u001b[1m29/29\u001b[0m \u001b[32m━━━━━━━━━━━━━━━━━━━━\u001b[0m\u001b[37m\u001b[0m \u001b[1m0s\u001b[0m 7ms/step - loss: 0.0107 - mean_squared_error: 0.0107 - val_loss: 0.0097 - val_mean_squared_error: 0.0116\n",
      "Epoch 15/50\n",
      "\u001b[1m29/29\u001b[0m \u001b[32m━━━━━━━━━━━━━━━━━━━━\u001b[0m\u001b[37m\u001b[0m \u001b[1m0s\u001b[0m 7ms/step - loss: 0.0099 - mean_squared_error: 0.0099 - val_loss: 0.0096 - val_mean_squared_error: 0.0115\n",
      "Epoch 16/50\n",
      "\u001b[1m29/29\u001b[0m \u001b[32m━━━━━━━━━━━━━━━━━━━━\u001b[0m\u001b[37m\u001b[0m \u001b[1m0s\u001b[0m 7ms/step - loss: 0.0104 - mean_squared_error: 0.0103 - val_loss: 0.0096 - val_mean_squared_error: 0.0114\n",
      "Epoch 17/50\n",
      "\u001b[1m29/29\u001b[0m \u001b[32m━━━━━━━━━━━━━━━━━━━━\u001b[0m\u001b[37m\u001b[0m \u001b[1m0s\u001b[0m 7ms/step - loss: 0.0094 - mean_squared_error: 0.0093 - val_loss: 0.0095 - val_mean_squared_error: 0.0114\n",
      "Epoch 18/50\n",
      "\u001b[1m29/29\u001b[0m \u001b[32m━━━━━━━━━━━━━━━━━━━━\u001b[0m\u001b[37m\u001b[0m \u001b[1m0s\u001b[0m 6ms/step - loss: 0.0106 - mean_squared_error: 0.0106 - val_loss: 0.0095 - val_mean_squared_error: 0.0113\n",
      "Epoch 19/50\n",
      "\u001b[1m29/29\u001b[0m \u001b[32m━━━━━━━━━━━━━━━━━━━━\u001b[0m\u001b[37m\u001b[0m \u001b[1m0s\u001b[0m 7ms/step - loss: 0.0112 - mean_squared_error: 0.0112 - val_loss: 0.0095 - val_mean_squared_error: 0.0112\n",
      "Epoch 20/50\n",
      "\u001b[1m29/29\u001b[0m \u001b[32m━━━━━━━━━━━━━━━━━━━━\u001b[0m\u001b[37m\u001b[0m \u001b[1m0s\u001b[0m 7ms/step - loss: 0.0090 - mean_squared_error: 0.0090 - val_loss: 0.0094 - val_mean_squared_error: 0.0111\n",
      "Epoch 21/50\n",
      "\u001b[1m29/29\u001b[0m \u001b[32m━━━━━━━━━━━━━━━━━━━━\u001b[0m\u001b[37m\u001b[0m \u001b[1m0s\u001b[0m 7ms/step - loss: 0.0096 - mean_squared_error: 0.0096 - val_loss: 0.0094 - val_mean_squared_error: 0.0110\n",
      "Epoch 22/50\n",
      "\u001b[1m29/29\u001b[0m \u001b[32m━━━━━━━━━━━━━━━━━━━━\u001b[0m\u001b[37m\u001b[0m \u001b[1m0s\u001b[0m 8ms/step - loss: 0.0102 - mean_squared_error: 0.0102 - val_loss: 0.0093 - val_mean_squared_error: 0.0110\n",
      "Epoch 23/50\n",
      "\u001b[1m29/29\u001b[0m \u001b[32m━━━━━━━━━━━━━━━━━━━━\u001b[0m\u001b[37m\u001b[0m \u001b[1m0s\u001b[0m 9ms/step - loss: 0.0108 - mean_squared_error: 0.0108 - val_loss: 0.0093 - val_mean_squared_error: 0.0109\n",
      "Epoch 24/50\n",
      "\u001b[1m29/29\u001b[0m \u001b[32m━━━━━━━━━━━━━━━━━━━━\u001b[0m\u001b[37m\u001b[0m \u001b[1m0s\u001b[0m 8ms/step - loss: 0.0112 - mean_squared_error: 0.0112 - val_loss: 0.0092 - val_mean_squared_error: 0.0109\n",
      "Epoch 25/50\n",
      "\u001b[1m29/29\u001b[0m \u001b[32m━━━━━━━━━━━━━━━━━━━━\u001b[0m\u001b[37m\u001b[0m \u001b[1m0s\u001b[0m 6ms/step - loss: 0.0095 - mean_squared_error: 0.0095 - val_loss: 0.0092 - val_mean_squared_error: 0.0107\n",
      "Epoch 26/50\n",
      "\u001b[1m29/29\u001b[0m \u001b[32m━━━━━━━━━━━━━━━━━━━━\u001b[0m\u001b[37m\u001b[0m \u001b[1m0s\u001b[0m 7ms/step - loss: 0.0098 - mean_squared_error: 0.0098 - val_loss: 0.0091 - val_mean_squared_error: 0.0107\n",
      "Epoch 27/50\n",
      "\u001b[1m29/29\u001b[0m \u001b[32m━━━━━━━━━━━━━━━━━━━━\u001b[0m\u001b[37m\u001b[0m \u001b[1m0s\u001b[0m 6ms/step - loss: 0.0090 - mean_squared_error: 0.0090 - val_loss: 0.0091 - val_mean_squared_error: 0.0106\n",
      "Epoch 28/50\n",
      "\u001b[1m29/29\u001b[0m \u001b[32m━━━━━━━━━━━━━━━━━━━━\u001b[0m\u001b[37m\u001b[0m \u001b[1m0s\u001b[0m 7ms/step - loss: 0.0091 - mean_squared_error: 0.0091 - val_loss: 0.0090 - val_mean_squared_error: 0.0105\n",
      "Epoch 29/50\n",
      "\u001b[1m29/29\u001b[0m \u001b[32m━━━━━━━━━━━━━━━━━━━━\u001b[0m\u001b[37m\u001b[0m \u001b[1m0s\u001b[0m 7ms/step - loss: 0.0087 - mean_squared_error: 0.0087 - val_loss: 0.0090 - val_mean_squared_error: 0.0104\n",
      "Epoch 30/50\n",
      "\u001b[1m29/29\u001b[0m \u001b[32m━━━━━━━━━━━━━━━━━━━━\u001b[0m\u001b[37m\u001b[0m \u001b[1m0s\u001b[0m 7ms/step - loss: 0.0104 - mean_squared_error: 0.0104 - val_loss: 0.0090 - val_mean_squared_error: 0.0104\n",
      "Epoch 31/50\n",
      "\u001b[1m29/29\u001b[0m \u001b[32m━━━━━━━━━━━━━━━━━━━━\u001b[0m\u001b[37m\u001b[0m \u001b[1m0s\u001b[0m 7ms/step - loss: 0.0094 - mean_squared_error: 0.0094 - val_loss: 0.0089 - val_mean_squared_error: 0.0103\n",
      "Epoch 32/50\n",
      "\u001b[1m29/29\u001b[0m \u001b[32m━━━━━━━━━━━━━━━━━━━━\u001b[0m\u001b[37m\u001b[0m \u001b[1m0s\u001b[0m 7ms/step - loss: 0.0097 - mean_squared_error: 0.0097 - val_loss: 0.0089 - val_mean_squared_error: 0.0103\n",
      "Epoch 33/50\n",
      "\u001b[1m29/29\u001b[0m \u001b[32m━━━━━━━━━━━━━━━━━━━━\u001b[0m\u001b[37m\u001b[0m \u001b[1m0s\u001b[0m 7ms/step - loss: 0.0084 - mean_squared_error: 0.0084 - val_loss: 0.0088 - val_mean_squared_error: 0.0103\n",
      "Epoch 34/50\n",
      "\u001b[1m29/29\u001b[0m \u001b[32m━━━━━━━━━━━━━━━━━━━━\u001b[0m\u001b[37m\u001b[0m \u001b[1m0s\u001b[0m 7ms/step - loss: 0.0105 - mean_squared_error: 0.0104 - val_loss: 0.0088 - val_mean_squared_error: 0.0102\n",
      "Epoch 35/50\n",
      "\u001b[1m29/29\u001b[0m \u001b[32m━━━━━━━━━━━━━━━━━━━━\u001b[0m\u001b[37m\u001b[0m \u001b[1m0s\u001b[0m 6ms/step - loss: 0.0086 - mean_squared_error: 0.0086 - val_loss: 0.0088 - val_mean_squared_error: 0.0101\n",
      "Epoch 36/50\n",
      "\u001b[1m29/29\u001b[0m \u001b[32m━━━━━━━━━━━━━━━━━━━━\u001b[0m\u001b[37m\u001b[0m \u001b[1m0s\u001b[0m 6ms/step - loss: 0.0095 - mean_squared_error: 0.0095 - val_loss: 0.0088 - val_mean_squared_error: 0.0101\n",
      "Epoch 37/50\n",
      "\u001b[1m29/29\u001b[0m \u001b[32m━━━━━━━━━━━━━━━━━━━━\u001b[0m\u001b[37m\u001b[0m \u001b[1m0s\u001b[0m 6ms/step - loss: 0.0091 - mean_squared_error: 0.0091 - val_loss: 0.0088 - val_mean_squared_error: 0.0100\n",
      "Epoch 38/50\n",
      "\u001b[1m29/29\u001b[0m \u001b[32m━━━━━━━━━━━━━━━━━━━━\u001b[0m\u001b[37m\u001b[0m \u001b[1m0s\u001b[0m 6ms/step - loss: 0.0092 - mean_squared_error: 0.0092 - val_loss: 0.0087 - val_mean_squared_error: 0.0100\n",
      "Epoch 39/50\n",
      "\u001b[1m29/29\u001b[0m \u001b[32m━━━━━━━━━━━━━━━━━━━━\u001b[0m\u001b[37m\u001b[0m \u001b[1m0s\u001b[0m 7ms/step - loss: 0.0097 - mean_squared_error: 0.0097 - val_loss: 0.0087 - val_mean_squared_error: 0.0100\n",
      "Epoch 40/50\n",
      "\u001b[1m29/29\u001b[0m \u001b[32m━━━━━━━━━━━━━━━━━━━━\u001b[0m\u001b[37m\u001b[0m \u001b[1m0s\u001b[0m 6ms/step - loss: 0.0085 - mean_squared_error: 0.0085 - val_loss: 0.0087 - val_mean_squared_error: 0.0099\n",
      "Epoch 41/50\n",
      "\u001b[1m29/29\u001b[0m \u001b[32m━━━━━━━━━━━━━━━━━━━━\u001b[0m\u001b[37m\u001b[0m \u001b[1m0s\u001b[0m 6ms/step - loss: 0.0089 - mean_squared_error: 0.0089 - val_loss: 0.0087 - val_mean_squared_error: 0.0099\n",
      "Epoch 42/50\n",
      "\u001b[1m29/29\u001b[0m \u001b[32m━━━━━━━━━━━━━━━━━━━━\u001b[0m\u001b[37m\u001b[0m \u001b[1m0s\u001b[0m 7ms/step - loss: 0.0092 - mean_squared_error: 0.0092 - val_loss: 0.0086 - val_mean_squared_error: 0.0099\n",
      "Epoch 43/50\n",
      "\u001b[1m29/29\u001b[0m \u001b[32m━━━━━━━━━━━━━━━━━━━━\u001b[0m\u001b[37m\u001b[0m \u001b[1m0s\u001b[0m 6ms/step - loss: 0.0087 - mean_squared_error: 0.0087 - val_loss: 0.0087 - val_mean_squared_error: 0.0098\n",
      "Epoch 44/50\n",
      "\u001b[1m29/29\u001b[0m \u001b[32m━━━━━━━━━━━━━━━━━━━━\u001b[0m\u001b[37m\u001b[0m \u001b[1m0s\u001b[0m 6ms/step - loss: 0.0085 - mean_squared_error: 0.0085 - val_loss: 0.0086 - val_mean_squared_error: 0.0098\n",
      "Epoch 45/50\n",
      "\u001b[1m29/29\u001b[0m \u001b[32m━━━━━━━━━━━━━━━━━━━━\u001b[0m\u001b[37m\u001b[0m \u001b[1m0s\u001b[0m 6ms/step - loss: 0.0087 - mean_squared_error: 0.0087 - val_loss: 0.0086 - val_mean_squared_error: 0.0098\n",
      "Epoch 46/50\n",
      "\u001b[1m29/29\u001b[0m \u001b[32m━━━━━━━━━━━━━━━━━━━━\u001b[0m\u001b[37m\u001b[0m \u001b[1m0s\u001b[0m 6ms/step - loss: 0.0085 - mean_squared_error: 0.0085 - val_loss: 0.0086 - val_mean_squared_error: 0.0097\n",
      "Epoch 47/50\n",
      "\u001b[1m29/29\u001b[0m \u001b[32m━━━━━━━━━━━━━━━━━━━━\u001b[0m\u001b[37m\u001b[0m \u001b[1m0s\u001b[0m 7ms/step - loss: 0.0089 - mean_squared_error: 0.0089 - val_loss: 0.0085 - val_mean_squared_error: 0.0097\n",
      "Epoch 48/50\n",
      "\u001b[1m29/29\u001b[0m \u001b[32m━━━━━━━━━━━━━━━━━━━━\u001b[0m\u001b[37m\u001b[0m \u001b[1m0s\u001b[0m 6ms/step - loss: 0.0083 - mean_squared_error: 0.0083 - val_loss: 0.0085 - val_mean_squared_error: 0.0097\n",
      "Epoch 49/50\n",
      "\u001b[1m29/29\u001b[0m \u001b[32m━━━━━━━━━━━━━━━━━━━━\u001b[0m\u001b[37m\u001b[0m \u001b[1m0s\u001b[0m 6ms/step - loss: 0.0079 - mean_squared_error: 0.0079 - val_loss: 0.0085 - val_mean_squared_error: 0.0096\n",
      "Epoch 50/50\n",
      "\u001b[1m29/29\u001b[0m \u001b[32m━━━━━━━━━━━━━━━━━━━━\u001b[0m\u001b[37m\u001b[0m \u001b[1m0s\u001b[0m 7ms/step - loss: 0.0095 - mean_squared_error: 0.0095 - val_loss: 0.0085 - val_mean_squared_error: 0.0096\n"
     ]
    },
    {
     "data": {
      "text/plain": [
       "<keras.src.callbacks.history.History at 0x7b240825ea70>"
      ]
     },
     "execution_count": 14,
     "metadata": {},
     "output_type": "execute_result"
    }
   ],
   "source": [
    "# Compile model\n",
    "model1.compile(\n",
    "    loss=MeanSquaredError(),\n",
    "    optimizer=Adam(learning_rate=0.0001),\n",
    "    metrics=[MeanSquaredError()]\n",
    ")\n",
    "\n",
    "# Fit model with validation set. Notice loss decreasng\n",
    "model1.fit(\n",
    "    X_train,\n",
    "    y_train,\n",
    "    validation_data=(X_val, y_val), # Validation data\n",
    "    epochs=50, # 10 runs through training dataset\n",
    "    callbacks=[cp] # At end of every epoch, save the model if loss was lower than before\n",
    ")"
   ]
  },
  {
   "cell_type": "code",
   "execution_count": 15,
   "id": "5a685978",
   "metadata": {
    "execution": {
     "iopub.execute_input": "2024-06-03T15:17:18.962214Z",
     "iopub.status.busy": "2024-06-03T15:17:18.961766Z",
     "iopub.status.idle": "2024-06-03T15:17:19.087250Z",
     "shell.execute_reply": "2024-06-03T15:17:19.086030Z"
    },
    "papermill": {
     "duration": 0.167333,
     "end_time": "2024-06-03T15:17:19.090021",
     "exception": false,
     "start_time": "2024-06-03T15:17:18.922688",
     "status": "completed"
    },
    "tags": []
   },
   "outputs": [],
   "source": [
    "# Load model back\n",
    "from tensorflow.keras.models import load_model\n",
    "model1 = load_model('/kaggle/working/model1.keras')"
   ]
  },
  {
   "cell_type": "code",
   "execution_count": 16,
   "id": "e1affb36",
   "metadata": {
    "execution": {
     "iopub.execute_input": "2024-06-03T15:17:19.166928Z",
     "iopub.status.busy": "2024-06-03T15:17:19.166495Z",
     "iopub.status.idle": "2024-06-03T15:17:19.621703Z",
     "shell.execute_reply": "2024-06-03T15:17:19.620482Z"
    },
    "papermill": {
     "duration": 0.49769,
     "end_time": "2024-06-03T15:17:19.624521",
     "exception": false,
     "start_time": "2024-06-03T15:17:19.126831",
     "status": "completed"
    },
    "tags": []
   },
   "outputs": [
    {
     "name": "stdout",
     "output_type": "stream",
     "text": [
      "\u001b[1m8/8\u001b[0m \u001b[32m━━━━━━━━━━━━━━━━━━━━\u001b[0m\u001b[37m\u001b[0m \u001b[1m0s\u001b[0m 26ms/step\n"
     ]
    },
    {
     "data": {
      "text/html": [
       "<div>\n",
       "<style scoped>\n",
       "    .dataframe tbody tr th:only-of-type {\n",
       "        vertical-align: middle;\n",
       "    }\n",
       "\n",
       "    .dataframe tbody tr th {\n",
       "        vertical-align: top;\n",
       "    }\n",
       "\n",
       "    .dataframe thead th {\n",
       "        text-align: right;\n",
       "    }\n",
       "</style>\n",
       "<table border=\"1\" class=\"dataframe\">\n",
       "  <thead>\n",
       "    <tr style=\"text-align: right;\">\n",
       "      <th></th>\n",
       "      <th>Test Preds</th>\n",
       "      <th>Actuals</th>\n",
       "    </tr>\n",
       "  </thead>\n",
       "  <tbody>\n",
       "    <tr>\n",
       "      <th>0</th>\n",
       "      <td>0.020500</td>\n",
       "      <td>-0.015227</td>\n",
       "    </tr>\n",
       "    <tr>\n",
       "      <th>1</th>\n",
       "      <td>0.015617</td>\n",
       "      <td>0.186184</td>\n",
       "    </tr>\n",
       "    <tr>\n",
       "      <th>2</th>\n",
       "      <td>0.023592</td>\n",
       "      <td>0.201458</td>\n",
       "    </tr>\n",
       "    <tr>\n",
       "      <th>3</th>\n",
       "      <td>0.023592</td>\n",
       "      <td>0.103540</td>\n",
       "    </tr>\n",
       "    <tr>\n",
       "      <th>4</th>\n",
       "      <td>0.023592</td>\n",
       "      <td>0.159907</td>\n",
       "    </tr>\n",
       "    <tr>\n",
       "      <th>...</th>\n",
       "      <td>...</td>\n",
       "      <td>...</td>\n",
       "    </tr>\n",
       "    <tr>\n",
       "      <th>242</th>\n",
       "      <td>-0.021583</td>\n",
       "      <td>-0.053359</td>\n",
       "    </tr>\n",
       "    <tr>\n",
       "      <th>243</th>\n",
       "      <td>0.021597</td>\n",
       "      <td>-0.053067</td>\n",
       "    </tr>\n",
       "    <tr>\n",
       "      <th>244</th>\n",
       "      <td>0.021342</td>\n",
       "      <td>-0.009339</td>\n",
       "    </tr>\n",
       "    <tr>\n",
       "      <th>245</th>\n",
       "      <td>-0.005578</td>\n",
       "      <td>-0.013484</td>\n",
       "    </tr>\n",
       "    <tr>\n",
       "      <th>246</th>\n",
       "      <td>-0.013404</td>\n",
       "      <td>0.086754</td>\n",
       "    </tr>\n",
       "  </tbody>\n",
       "</table>\n",
       "<p>247 rows × 2 columns</p>\n",
       "</div>"
      ],
      "text/plain": [
       "     Test Preds   Actuals\n",
       "0      0.020500 -0.015227\n",
       "1      0.015617  0.186184\n",
       "2      0.023592  0.201458\n",
       "3      0.023592  0.103540\n",
       "4      0.023592  0.159907\n",
       "..          ...       ...\n",
       "242   -0.021583 -0.053359\n",
       "243    0.021597 -0.053067\n",
       "244    0.021342 -0.009339\n",
       "245   -0.005578 -0.013484\n",
       "246   -0.013404  0.086754\n",
       "\n",
       "[247 rows x 2 columns]"
      ]
     },
     "execution_count": 16,
     "metadata": {},
     "output_type": "execute_result"
    }
   ],
   "source": [
    "# Make preds on training set\n",
    "test_preds = model1.predict(X_test).flatten()\n",
    "\n",
    "# Compare to actuals\n",
    "test_results = pd.DataFrame(\n",
    "    data={\n",
    "        'Test Preds': test_preds,\n",
    "        'Actuals': y_test\n",
    "    }\n",
    ")\n",
    "test_results"
   ]
  },
  {
   "cell_type": "code",
   "execution_count": 17,
   "id": "67d53edc",
   "metadata": {
    "execution": {
     "iopub.execute_input": "2024-06-03T15:17:19.700579Z",
     "iopub.status.busy": "2024-06-03T15:17:19.699937Z",
     "iopub.status.idle": "2024-06-03T15:17:20.019931Z",
     "shell.execute_reply": "2024-06-03T15:17:20.018365Z"
    },
    "papermill": {
     "duration": 0.362398,
     "end_time": "2024-06-03T15:17:20.022879",
     "exception": false,
     "start_time": "2024-06-03T15:17:19.660481",
     "status": "completed"
    },
    "tags": []
   },
   "outputs": [
    {
     "data": {
      "image/png": "[encoded data removed]",
      "text/plain": [
       "<Figure size 640x480 with 1 Axes>"
      ]
     },
     "metadata": {},
     "output_type": "display_data"
    }
   ],
   "source": [
    "# Seems to be a lag - probably due to autoregressive nature\n",
    "import matplotlib.pyplot as plt\n",
    "plt.plot(test_results['Test Preds'][:100], label='Preds')\n",
    "plt.plot(test_results['Actuals'][:100], label='Actual')\n",
    "plt.legend()\n",
    "plt.show()"
   ]
  },
  {
   "cell_type": "markdown",
   "id": "e6b4ace2",
   "metadata": {
    "papermill": {
     "duration": 0.036236,
     "end_time": "2024-06-03T15:17:20.103272",
     "exception": false,
     "start_time": "2024-06-03T15:17:20.067036",
     "status": "completed"
    },
    "tags": []
   },
   "source": [
    "# TODO: 1 STOCK MANY FEATURES AND ACTUAL TARGET"
   ]
  },
  {
   "cell_type": "code",
   "execution_count": null,
   "id": "73ec5b1c",
   "metadata": {
    "papermill": {
     "duration": 0.036111,
     "end_time": "2024-06-03T15:17:20.177651",
     "exception": false,
     "start_time": "2024-06-03T15:17:20.141540",
     "status": "completed"
    },
    "tags": []
   },
   "outputs": [],
   "source": []
  }
 ],
 "metadata": {
  "kaggle": {
   "accelerator": "none",
   "dataSources": [
    {
     "sourceId": 181082692,
     "sourceType": "kernelVersion"
    }
   ],
   "dockerImageVersionId": 30715,
   "isGpuEnabled": false,
   "isInternetEnabled": true,
   "language": "python",
   "sourceType": "notebook"
  },
  "kernelspec": {
   "display_name": "Python 3",
   "language": "python",
   "name": "python3"
  },
  "language_info": {
   "codemirror_mode": {
    "name": "ipython",
    "version": 3
   },
   "file_extension": ".py",
   "mimetype": "text/x-python",
   "name": "python",
   "nbconvert_exporter": "python",
   "pygments_lexer": "ipython3",
   "version": "3.10.13"
  },
  "papermill": {
   "default_parameters": {},
   "duration": 88.249528,
   "end_time": "2024-06-03T15:17:22.702179",
   "environment_variables": {},
   "exception": null,
   "input_path": "__notebook__.ipynb",
   "output_path": "__notebook__.ipynb",
   "parameters": {},
   "start_time": "2024-06-03T15:15:54.452651",
   "version": "2.5.0"
  }
 },
 "nbformat": 4,
 "nbformat_minor": 5
}
