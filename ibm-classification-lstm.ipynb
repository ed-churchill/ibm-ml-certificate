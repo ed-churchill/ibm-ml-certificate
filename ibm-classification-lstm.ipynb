{
 "cells": [
  {
   "cell_type": "markdown",
   "id": "56abc85f",
   "metadata": {
    "papermill": {
     "duration": 0.015344,
     "end_time": "2024-06-05T09:58:14.064331",
     "exception": false,
     "start_time": "2024-06-05T09:58:14.048987",
     "status": "completed"
    },
    "tags": []
   },
   "source": [
    "# Imports"
   ]
  },
  {
   "cell_type": "code",
   "execution_count": 1,
   "id": "b63e94dc",
   "metadata": {
    "_cell_guid": "b1076dfc-b9ad-4769-8c92-a6c4dae69d19",
    "_uuid": "8f2839f25d086af736a60e9eeb907d3b93b6e0e5",
    "execution": {
     "iopub.execute_input": "2024-06-05T09:58:14.097012Z",
     "iopub.status.busy": "2024-06-05T09:58:14.096584Z",
     "iopub.status.idle": "2024-06-05T09:58:14.965378Z",
     "shell.execute_reply": "2024-06-05T09:58:14.964194Z"
    },
    "papermill": {
     "duration": 0.887885,
     "end_time": "2024-06-05T09:58:14.968248",
     "exception": false,
     "start_time": "2024-06-05T09:58:14.080363",
     "status": "completed"
    },
    "tags": []
   },
   "outputs": [],
   "source": [
    "import pandas as pd\n",
    "import numpy as np"
   ]
  },
  {
   "cell_type": "markdown",
   "id": "345e51ab",
   "metadata": {
    "papermill": {
     "duration": 0.014955,
     "end_time": "2024-06-05T09:58:14.998314",
     "exception": false,
     "start_time": "2024-06-05T09:58:14.983359",
     "status": "completed"
    },
    "tags": []
   },
   "source": [
    "# Read Data"
   ]
  },
  {
   "cell_type": "code",
   "execution_count": 2,
   "id": "cf017c03",
   "metadata": {
    "execution": {
     "iopub.execute_input": "2024-06-05T09:58:15.030300Z",
     "iopub.status.busy": "2024-06-05T09:58:15.029721Z",
     "iopub.status.idle": "2024-06-05T09:59:08.838332Z",
     "shell.execute_reply": "2024-06-05T09:59:08.837346Z"
    },
    "papermill": {
     "duration": 53.828068,
     "end_time": "2024-06-05T09:59:08.841401",
     "exception": false,
     "start_time": "2024-06-05T09:58:15.013333",
     "status": "completed"
    },
    "tags": []
   },
   "outputs": [],
   "source": [
    "X_train = pd.read_csv(\"/kaggle/input/ibm-classification-feature-selection/X_train_normalized.csv\", index_col=[0])\n",
    "X_test = pd.read_csv(\"/kaggle/input/ibm-classification-feature-selection/X_test_normalized.csv\", index_col=[0])\n",
    "y_train = pd.read_csv(\"/kaggle/input/ibm-classification-feature-selection/y_train.csv\", index_col=[0])\n",
    "y_test = pd.read_csv(\"/kaggle/input/ibm-classification-feature-selection/y_test.csv\", index_col=[0]).reset_index(drop=True)"
   ]
  },
  {
   "cell_type": "code",
   "execution_count": 3,
   "id": "67807a14",
   "metadata": {
    "execution": {
     "iopub.execute_input": "2024-06-05T09:59:08.874412Z",
     "iopub.status.busy": "2024-06-05T09:59:08.874013Z",
     "iopub.status.idle": "2024-06-05T09:59:08.909400Z",
     "shell.execute_reply": "2024-06-05T09:59:08.908242Z"
    },
    "papermill": {
     "duration": 0.055438,
     "end_time": "2024-06-05T09:59:08.912377",
     "exception": false,
     "start_time": "2024-06-05T09:59:08.856939",
     "status": "completed"
    },
    "tags": []
   },
   "outputs": [
    {
     "data": {
      "text/html": [
       "<div>\n",
       "<style scoped>\n",
       "    .dataframe tbody tr th:only-of-type {\n",
       "        vertical-align: middle;\n",
       "    }\n",
       "\n",
       "    .dataframe tbody tr th {\n",
       "        vertical-align: top;\n",
       "    }\n",
       "\n",
       "    .dataframe thead th {\n",
       "        text-align: right;\n",
       "    }\n",
       "</style>\n",
       "<table border=\"1\" class=\"dataframe\">\n",
       "  <thead>\n",
       "    <tr style=\"text-align: right;\">\n",
       "      <th></th>\n",
       "      <th>Symbol</th>\n",
       "      <th>Volume</th>\n",
       "      <th>Sector_Basic Materials</th>\n",
       "      <th>Sector_Communication Services</th>\n",
       "      <th>Sector_Consumer Cyclical</th>\n",
       "      <th>Sector_Consumer Defensive</th>\n",
       "      <th>Sector_Energy</th>\n",
       "      <th>Sector_Financial Services</th>\n",
       "      <th>Sector_Healthcare</th>\n",
       "      <th>Sector_Industrials</th>\n",
       "      <th>...</th>\n",
       "      <th>Adj Close 14-Day std Differenced</th>\n",
       "      <th>Adj Close 26-Day std Differenced</th>\n",
       "      <th>Adj Close 7-Day Upper Bollinger Band Differenced</th>\n",
       "      <th>Distance to Adj Close 7-Day Upper Bollinger Band Differenced</th>\n",
       "      <th>True Range Differenced</th>\n",
       "      <th>True Range 26-Day SMA Differenced</th>\n",
       "      <th>Adj Close Differenced</th>\n",
       "      <th>High Differenced</th>\n",
       "      <th>Low Differenced</th>\n",
       "      <th>Open Differenced</th>\n",
       "    </tr>\n",
       "  </thead>\n",
       "  <tbody>\n",
       "    <tr>\n",
       "      <th>0</th>\n",
       "      <td>-1.439324</td>\n",
       "      <td>-0.326871</td>\n",
       "      <td>-0.21136</td>\n",
       "      <td>-0.21136</td>\n",
       "      <td>-0.356345</td>\n",
       "      <td>-0.279992</td>\n",
       "      <td>-0.222173</td>\n",
       "      <td>-0.394553</td>\n",
       "      <td>-0.387284</td>\n",
       "      <td>-0.412467</td>\n",
       "      <td>...</td>\n",
       "      <td>0.041515</td>\n",
       "      <td>0.037984</td>\n",
       "      <td>-0.002604</td>\n",
       "      <td>-0.016884</td>\n",
       "      <td>-0.066039</td>\n",
       "      <td>0.104504</td>\n",
       "      <td>-0.020330</td>\n",
       "      <td>0.008943</td>\n",
       "      <td>0.015877</td>\n",
       "      <td>0.062622</td>\n",
       "    </tr>\n",
       "    <tr>\n",
       "      <th>1</th>\n",
       "      <td>-1.069061</td>\n",
       "      <td>-0.344648</td>\n",
       "      <td>-0.21136</td>\n",
       "      <td>-0.21136</td>\n",
       "      <td>-0.356345</td>\n",
       "      <td>-0.279992</td>\n",
       "      <td>-0.222173</td>\n",
       "      <td>-0.394553</td>\n",
       "      <td>2.582087</td>\n",
       "      <td>-0.412467</td>\n",
       "      <td>...</td>\n",
       "      <td>-0.410893</td>\n",
       "      <td>-0.015098</td>\n",
       "      <td>0.023690</td>\n",
       "      <td>-0.111938</td>\n",
       "      <td>-0.141182</td>\n",
       "      <td>-0.090630</td>\n",
       "      <td>-0.107768</td>\n",
       "      <td>0.032258</td>\n",
       "      <td>0.030478</td>\n",
       "      <td>0.096788</td>\n",
       "    </tr>\n",
       "    <tr>\n",
       "      <th>2</th>\n",
       "      <td>1.641263</td>\n",
       "      <td>-0.295005</td>\n",
       "      <td>-0.21136</td>\n",
       "      <td>-0.21136</td>\n",
       "      <td>-0.356345</td>\n",
       "      <td>-0.279992</td>\n",
       "      <td>-0.222173</td>\n",
       "      <td>-0.394553</td>\n",
       "      <td>-0.387284</td>\n",
       "      <td>-0.412467</td>\n",
       "      <td>...</td>\n",
       "      <td>0.081853</td>\n",
       "      <td>0.002250</td>\n",
       "      <td>0.188618</td>\n",
       "      <td>0.000862</td>\n",
       "      <td>-0.002066</td>\n",
       "      <td>0.105746</td>\n",
       "      <td>0.125379</td>\n",
       "      <td>0.102205</td>\n",
       "      <td>0.158246</td>\n",
       "      <td>0.137784</td>\n",
       "    </tr>\n",
       "    <tr>\n",
       "      <th>3</th>\n",
       "      <td>-0.343346</td>\n",
       "      <td>0.285874</td>\n",
       "      <td>-0.21136</td>\n",
       "      <td>-0.21136</td>\n",
       "      <td>-0.356345</td>\n",
       "      <td>-0.279992</td>\n",
       "      <td>-0.222173</td>\n",
       "      <td>-0.394553</td>\n",
       "      <td>2.582087</td>\n",
       "      <td>-0.412467</td>\n",
       "      <td>...</td>\n",
       "      <td>0.162828</td>\n",
       "      <td>-0.007191</td>\n",
       "      <td>0.102354</td>\n",
       "      <td>0.062595</td>\n",
       "      <td>0.043600</td>\n",
       "      <td>0.091515</td>\n",
       "      <td>0.136523</td>\n",
       "      <td>0.094434</td>\n",
       "      <td>0.004925</td>\n",
       "      <td>0.076288</td>\n",
       "    </tr>\n",
       "    <tr>\n",
       "      <th>4</th>\n",
       "      <td>1.256190</td>\n",
       "      <td>-0.328472</td>\n",
       "      <td>-0.21136</td>\n",
       "      <td>-0.21136</td>\n",
       "      <td>-0.356345</td>\n",
       "      <td>-0.279992</td>\n",
       "      <td>-0.222173</td>\n",
       "      <td>2.534516</td>\n",
       "      <td>-0.387284</td>\n",
       "      <td>-0.412467</td>\n",
       "      <td>...</td>\n",
       "      <td>1.195841</td>\n",
       "      <td>-0.202535</td>\n",
       "      <td>1.265493</td>\n",
       "      <td>-0.284640</td>\n",
       "      <td>-0.679202</td>\n",
       "      <td>-1.099516</td>\n",
       "      <td>0.521058</td>\n",
       "      <td>0.755054</td>\n",
       "      <td>0.866425</td>\n",
       "      <td>0.817676</td>\n",
       "    </tr>\n",
       "  </tbody>\n",
       "</table>\n",
       "<p>5 rows × 122 columns</p>\n",
       "</div>"
      ],
      "text/plain": [
       "     Symbol    Volume  Sector_Basic Materials  Sector_Communication Services  \\\n",
       "0 -1.439324 -0.326871                -0.21136                       -0.21136   \n",
       "1 -1.069061 -0.344648                -0.21136                       -0.21136   \n",
       "2  1.641263 -0.295005                -0.21136                       -0.21136   \n",
       "3 -0.343346  0.285874                -0.21136                       -0.21136   \n",
       "4  1.256190 -0.328472                -0.21136                       -0.21136   \n",
       "\n",
       "   Sector_Consumer Cyclical  Sector_Consumer Defensive  Sector_Energy  \\\n",
       "0                 -0.356345                  -0.279992      -0.222173   \n",
       "1                 -0.356345                  -0.279992      -0.222173   \n",
       "2                 -0.356345                  -0.279992      -0.222173   \n",
       "3                 -0.356345                  -0.279992      -0.222173   \n",
       "4                 -0.356345                  -0.279992      -0.222173   \n",
       "\n",
       "   Sector_Financial Services  Sector_Healthcare  Sector_Industrials  ...  \\\n",
       "0                  -0.394553          -0.387284           -0.412467  ...   \n",
       "1                  -0.394553           2.582087           -0.412467  ...   \n",
       "2                  -0.394553          -0.387284           -0.412467  ...   \n",
       "3                  -0.394553           2.582087           -0.412467  ...   \n",
       "4                   2.534516          -0.387284           -0.412467  ...   \n",
       "\n",
       "   Adj Close 14-Day std Differenced  Adj Close 26-Day std Differenced  \\\n",
       "0                          0.041515                          0.037984   \n",
       "1                         -0.410893                         -0.015098   \n",
       "2                          0.081853                          0.002250   \n",
       "3                          0.162828                         -0.007191   \n",
       "4                          1.195841                         -0.202535   \n",
       "\n",
       "   Adj Close 7-Day Upper Bollinger Band Differenced  \\\n",
       "0                                         -0.002604   \n",
       "1                                          0.023690   \n",
       "2                                          0.188618   \n",
       "3                                          0.102354   \n",
       "4                                          1.265493   \n",
       "\n",
       "   Distance to Adj Close 7-Day Upper Bollinger Band Differenced  \\\n",
       "0                                          -0.016884              \n",
       "1                                          -0.111938              \n",
       "2                                           0.000862              \n",
       "3                                           0.062595              \n",
       "4                                          -0.284640              \n",
       "\n",
       "   True Range Differenced  True Range 26-Day SMA Differenced  \\\n",
       "0               -0.066039                           0.104504   \n",
       "1               -0.141182                          -0.090630   \n",
       "2               -0.002066                           0.105746   \n",
       "3                0.043600                           0.091515   \n",
       "4               -0.679202                          -1.099516   \n",
       "\n",
       "   Adj Close Differenced  High Differenced  Low Differenced  Open Differenced  \n",
       "0              -0.020330          0.008943         0.015877          0.062622  \n",
       "1              -0.107768          0.032258         0.030478          0.096788  \n",
       "2               0.125379          0.102205         0.158246          0.137784  \n",
       "3               0.136523          0.094434         0.004925          0.076288  \n",
       "4               0.521058          0.755054         0.866425          0.817676  \n",
       "\n",
       "[5 rows x 122 columns]"
      ]
     },
     "execution_count": 3,
     "metadata": {},
     "output_type": "execute_result"
    }
   ],
   "source": [
    "X_train.head(5)"
   ]
  },
  {
   "cell_type": "code",
   "execution_count": 4,
   "id": "b45e4a62",
   "metadata": {
    "execution": {
     "iopub.execute_input": "2024-06-05T09:59:08.945210Z",
     "iopub.status.busy": "2024-06-05T09:59:08.944781Z",
     "iopub.status.idle": "2024-06-05T09:59:08.975169Z",
     "shell.execute_reply": "2024-06-05T09:59:08.974020Z"
    },
    "papermill": {
     "duration": 0.050067,
     "end_time": "2024-06-05T09:59:08.977901",
     "exception": false,
     "start_time": "2024-06-05T09:59:08.927834",
     "status": "completed"
    },
    "tags": []
   },
   "outputs": [
    {
     "data": {
      "text/html": [
       "<div>\n",
       "<style scoped>\n",
       "    .dataframe tbody tr th:only-of-type {\n",
       "        vertical-align: middle;\n",
       "    }\n",
       "\n",
       "    .dataframe tbody tr th {\n",
       "        vertical-align: top;\n",
       "    }\n",
       "\n",
       "    .dataframe thead th {\n",
       "        text-align: right;\n",
       "    }\n",
       "</style>\n",
       "<table border=\"1\" class=\"dataframe\">\n",
       "  <thead>\n",
       "    <tr style=\"text-align: right;\">\n",
       "      <th></th>\n",
       "      <th>Symbol</th>\n",
       "      <th>Volume</th>\n",
       "      <th>Sector_Basic Materials</th>\n",
       "      <th>Sector_Communication Services</th>\n",
       "      <th>Sector_Consumer Cyclical</th>\n",
       "      <th>Sector_Consumer Defensive</th>\n",
       "      <th>Sector_Energy</th>\n",
       "      <th>Sector_Financial Services</th>\n",
       "      <th>Sector_Healthcare</th>\n",
       "      <th>Sector_Industrials</th>\n",
       "      <th>...</th>\n",
       "      <th>Adj Close 14-Day std Differenced</th>\n",
       "      <th>Adj Close 26-Day std Differenced</th>\n",
       "      <th>Adj Close 7-Day Upper Bollinger Band Differenced</th>\n",
       "      <th>Distance to Adj Close 7-Day Upper Bollinger Band Differenced</th>\n",
       "      <th>True Range Differenced</th>\n",
       "      <th>True Range 26-Day SMA Differenced</th>\n",
       "      <th>Adj Close Differenced</th>\n",
       "      <th>High Differenced</th>\n",
       "      <th>Low Differenced</th>\n",
       "      <th>Open Differenced</th>\n",
       "    </tr>\n",
       "  </thead>\n",
       "  <tbody>\n",
       "    <tr>\n",
       "      <th>0</th>\n",
       "      <td>-1.054250</td>\n",
       "      <td>-0.283809</td>\n",
       "      <td>-0.21136</td>\n",
       "      <td>-0.21136</td>\n",
       "      <td>-0.356345</td>\n",
       "      <td>-0.279992</td>\n",
       "      <td>-0.222173</td>\n",
       "      <td>-0.394553</td>\n",
       "      <td>-0.387284</td>\n",
       "      <td>2.424439</td>\n",
       "      <td>...</td>\n",
       "      <td>0.244619</td>\n",
       "      <td>-0.054833</td>\n",
       "      <td>0.193442</td>\n",
       "      <td>-0.988178</td>\n",
       "      <td>-0.460024</td>\n",
       "      <td>-0.458573</td>\n",
       "      <td>-0.961706</td>\n",
       "      <td>-0.123181</td>\n",
       "      <td>-0.779922</td>\n",
       "      <td>0.216366</td>\n",
       "    </tr>\n",
       "    <tr>\n",
       "      <th>1</th>\n",
       "      <td>0.449017</td>\n",
       "      <td>-0.359859</td>\n",
       "      <td>-0.21136</td>\n",
       "      <td>-0.21136</td>\n",
       "      <td>-0.356345</td>\n",
       "      <td>-0.279992</td>\n",
       "      <td>-0.222173</td>\n",
       "      <td>2.534516</td>\n",
       "      <td>-0.387284</td>\n",
       "      <td>-0.412467</td>\n",
       "      <td>...</td>\n",
       "      <td>-1.623606</td>\n",
       "      <td>-1.598235</td>\n",
       "      <td>-0.116220</td>\n",
       "      <td>-0.549677</td>\n",
       "      <td>-0.673831</td>\n",
       "      <td>-0.614296</td>\n",
       "      <td>-0.682605</td>\n",
       "      <td>0.832754</td>\n",
       "      <td>-0.079040</td>\n",
       "      <td>1.432648</td>\n",
       "    </tr>\n",
       "    <tr>\n",
       "      <th>2</th>\n",
       "      <td>1.419105</td>\n",
       "      <td>-0.198809</td>\n",
       "      <td>-0.21136</td>\n",
       "      <td>-0.21136</td>\n",
       "      <td>-0.356345</td>\n",
       "      <td>-0.279992</td>\n",
       "      <td>-0.222173</td>\n",
       "      <td>-0.394553</td>\n",
       "      <td>-0.387284</td>\n",
       "      <td>-0.412467</td>\n",
       "      <td>...</td>\n",
       "      <td>-4.366291</td>\n",
       "      <td>-2.195166</td>\n",
       "      <td>0.093043</td>\n",
       "      <td>-4.112427</td>\n",
       "      <td>3.947181</td>\n",
       "      <td>1.902798</td>\n",
       "      <td>-4.471950</td>\n",
       "      <td>1.435083</td>\n",
       "      <td>-4.328154</td>\n",
       "      <td>1.015831</td>\n",
       "    </tr>\n",
       "    <tr>\n",
       "      <th>3</th>\n",
       "      <td>-1.261598</td>\n",
       "      <td>-0.272044</td>\n",
       "      <td>-0.21136</td>\n",
       "      <td>-0.21136</td>\n",
       "      <td>-0.356345</td>\n",
       "      <td>-0.279992</td>\n",
       "      <td>-0.222173</td>\n",
       "      <td>-0.394553</td>\n",
       "      <td>-0.387284</td>\n",
       "      <td>-0.412467</td>\n",
       "      <td>...</td>\n",
       "      <td>5.267571</td>\n",
       "      <td>4.461425</td>\n",
       "      <td>4.610485</td>\n",
       "      <td>-12.390394</td>\n",
       "      <td>14.154228</td>\n",
       "      <td>10.022441</td>\n",
       "      <td>-10.617055</td>\n",
       "      <td>-3.111471</td>\n",
       "      <td>-14.261016</td>\n",
       "      <td>-12.872375</td>\n",
       "    </tr>\n",
       "    <tr>\n",
       "      <th>4</th>\n",
       "      <td>-0.128593</td>\n",
       "      <td>-0.255868</td>\n",
       "      <td>-0.21136</td>\n",
       "      <td>-0.21136</td>\n",
       "      <td>2.806268</td>\n",
       "      <td>-0.279992</td>\n",
       "      <td>-0.222173</td>\n",
       "      <td>-0.394553</td>\n",
       "      <td>-0.387284</td>\n",
       "      <td>-0.412467</td>\n",
       "      <td>...</td>\n",
       "      <td>0.039264</td>\n",
       "      <td>0.059860</td>\n",
       "      <td>0.030323</td>\n",
       "      <td>-0.411204</td>\n",
       "      <td>0.082851</td>\n",
       "      <td>0.121352</td>\n",
       "      <td>-0.433286</td>\n",
       "      <td>-0.263072</td>\n",
       "      <td>-0.294412</td>\n",
       "      <td>0.025041</td>\n",
       "    </tr>\n",
       "  </tbody>\n",
       "</table>\n",
       "<p>5 rows × 122 columns</p>\n",
       "</div>"
      ],
      "text/plain": [
       "     Symbol    Volume  Sector_Basic Materials  Sector_Communication Services  \\\n",
       "0 -1.054250 -0.283809                -0.21136                       -0.21136   \n",
       "1  0.449017 -0.359859                -0.21136                       -0.21136   \n",
       "2  1.419105 -0.198809                -0.21136                       -0.21136   \n",
       "3 -1.261598 -0.272044                -0.21136                       -0.21136   \n",
       "4 -0.128593 -0.255868                -0.21136                       -0.21136   \n",
       "\n",
       "   Sector_Consumer Cyclical  Sector_Consumer Defensive  Sector_Energy  \\\n",
       "0                 -0.356345                  -0.279992      -0.222173   \n",
       "1                 -0.356345                  -0.279992      -0.222173   \n",
       "2                 -0.356345                  -0.279992      -0.222173   \n",
       "3                 -0.356345                  -0.279992      -0.222173   \n",
       "4                  2.806268                  -0.279992      -0.222173   \n",
       "\n",
       "   Sector_Financial Services  Sector_Healthcare  Sector_Industrials  ...  \\\n",
       "0                  -0.394553          -0.387284            2.424439  ...   \n",
       "1                   2.534516          -0.387284           -0.412467  ...   \n",
       "2                  -0.394553          -0.387284           -0.412467  ...   \n",
       "3                  -0.394553          -0.387284           -0.412467  ...   \n",
       "4                  -0.394553          -0.387284           -0.412467  ...   \n",
       "\n",
       "   Adj Close 14-Day std Differenced  Adj Close 26-Day std Differenced  \\\n",
       "0                          0.244619                         -0.054833   \n",
       "1                         -1.623606                         -1.598235   \n",
       "2                         -4.366291                         -2.195166   \n",
       "3                          5.267571                          4.461425   \n",
       "4                          0.039264                          0.059860   \n",
       "\n",
       "   Adj Close 7-Day Upper Bollinger Band Differenced  \\\n",
       "0                                          0.193442   \n",
       "1                                         -0.116220   \n",
       "2                                          0.093043   \n",
       "3                                          4.610485   \n",
       "4                                          0.030323   \n",
       "\n",
       "   Distance to Adj Close 7-Day Upper Bollinger Band Differenced  \\\n",
       "0                                          -0.988178              \n",
       "1                                          -0.549677              \n",
       "2                                          -4.112427              \n",
       "3                                         -12.390394              \n",
       "4                                          -0.411204              \n",
       "\n",
       "   True Range Differenced  True Range 26-Day SMA Differenced  \\\n",
       "0               -0.460024                          -0.458573   \n",
       "1               -0.673831                          -0.614296   \n",
       "2                3.947181                           1.902798   \n",
       "3               14.154228                          10.022441   \n",
       "4                0.082851                           0.121352   \n",
       "\n",
       "   Adj Close Differenced  High Differenced  Low Differenced  Open Differenced  \n",
       "0              -0.961706         -0.123181        -0.779922          0.216366  \n",
       "1              -0.682605          0.832754        -0.079040          1.432648  \n",
       "2              -4.471950          1.435083        -4.328154          1.015831  \n",
       "3             -10.617055         -3.111471       -14.261016        -12.872375  \n",
       "4              -0.433286         -0.263072        -0.294412          0.025041  \n",
       "\n",
       "[5 rows x 122 columns]"
      ]
     },
     "execution_count": 4,
     "metadata": {},
     "output_type": "execute_result"
    }
   ],
   "source": [
    "X_test.head(5)"
   ]
  },
  {
   "cell_type": "code",
   "execution_count": 5,
   "id": "63bccbcd",
   "metadata": {
    "execution": {
     "iopub.execute_input": "2024-06-05T09:59:09.012164Z",
     "iopub.status.busy": "2024-06-05T09:59:09.011224Z",
     "iopub.status.idle": "2024-06-05T09:59:09.022776Z",
     "shell.execute_reply": "2024-06-05T09:59:09.021672Z"
    },
    "papermill": {
     "duration": 0.031231,
     "end_time": "2024-06-05T09:59:09.025200",
     "exception": false,
     "start_time": "2024-06-05T09:59:08.993969",
     "status": "completed"
    },
    "tags": []
   },
   "outputs": [
    {
     "data": {
      "text/html": [
       "<div>\n",
       "<style scoped>\n",
       "    .dataframe tbody tr th:only-of-type {\n",
       "        vertical-align: middle;\n",
       "    }\n",
       "\n",
       "    .dataframe tbody tr th {\n",
       "        vertical-align: top;\n",
       "    }\n",
       "\n",
       "    .dataframe thead th {\n",
       "        text-align: right;\n",
       "    }\n",
       "</style>\n",
       "<table border=\"1\" class=\"dataframe\">\n",
       "  <thead>\n",
       "    <tr style=\"text-align: right;\">\n",
       "      <th></th>\n",
       "      <th>1-week Forward Return Sign</th>\n",
       "    </tr>\n",
       "  </thead>\n",
       "  <tbody>\n",
       "    <tr>\n",
       "      <th>0</th>\n",
       "      <td>0.0</td>\n",
       "    </tr>\n",
       "    <tr>\n",
       "      <th>1</th>\n",
       "      <td>0.0</td>\n",
       "    </tr>\n",
       "    <tr>\n",
       "      <th>2</th>\n",
       "      <td>0.0</td>\n",
       "    </tr>\n",
       "    <tr>\n",
       "      <th>3</th>\n",
       "      <td>0.0</td>\n",
       "    </tr>\n",
       "    <tr>\n",
       "      <th>4</th>\n",
       "      <td>1.0</td>\n",
       "    </tr>\n",
       "  </tbody>\n",
       "</table>\n",
       "</div>"
      ],
      "text/plain": [
       "   1-week Forward Return Sign\n",
       "0                         0.0\n",
       "1                         0.0\n",
       "2                         0.0\n",
       "3                         0.0\n",
       "4                         1.0"
      ]
     },
     "execution_count": 5,
     "metadata": {},
     "output_type": "execute_result"
    }
   ],
   "source": [
    "y_train.head(5)"
   ]
  },
  {
   "cell_type": "code",
   "execution_count": 6,
   "id": "5e6beceb",
   "metadata": {
    "execution": {
     "iopub.execute_input": "2024-06-05T09:59:09.060062Z",
     "iopub.status.busy": "2024-06-05T09:59:09.059605Z",
     "iopub.status.idle": "2024-06-05T09:59:09.070685Z",
     "shell.execute_reply": "2024-06-05T09:59:09.069625Z"
    },
    "papermill": {
     "duration": 0.031279,
     "end_time": "2024-06-05T09:59:09.073187",
     "exception": false,
     "start_time": "2024-06-05T09:59:09.041908",
     "status": "completed"
    },
    "tags": []
   },
   "outputs": [
    {
     "data": {
      "text/html": [
       "<div>\n",
       "<style scoped>\n",
       "    .dataframe tbody tr th:only-of-type {\n",
       "        vertical-align: middle;\n",
       "    }\n",
       "\n",
       "    .dataframe tbody tr th {\n",
       "        vertical-align: top;\n",
       "    }\n",
       "\n",
       "    .dataframe thead th {\n",
       "        text-align: right;\n",
       "    }\n",
       "</style>\n",
       "<table border=\"1\" class=\"dataframe\">\n",
       "  <thead>\n",
       "    <tr style=\"text-align: right;\">\n",
       "      <th></th>\n",
       "      <th>1-week Forward Return Sign</th>\n",
       "    </tr>\n",
       "  </thead>\n",
       "  <tbody>\n",
       "    <tr>\n",
       "      <th>0</th>\n",
       "      <td>1.0</td>\n",
       "    </tr>\n",
       "    <tr>\n",
       "      <th>1</th>\n",
       "      <td>1.0</td>\n",
       "    </tr>\n",
       "    <tr>\n",
       "      <th>2</th>\n",
       "      <td>1.0</td>\n",
       "    </tr>\n",
       "    <tr>\n",
       "      <th>3</th>\n",
       "      <td>1.0</td>\n",
       "    </tr>\n",
       "    <tr>\n",
       "      <th>4</th>\n",
       "      <td>1.0</td>\n",
       "    </tr>\n",
       "  </tbody>\n",
       "</table>\n",
       "</div>"
      ],
      "text/plain": [
       "   1-week Forward Return Sign\n",
       "0                         1.0\n",
       "1                         1.0\n",
       "2                         1.0\n",
       "3                         1.0\n",
       "4                         1.0"
      ]
     },
     "execution_count": 6,
     "metadata": {},
     "output_type": "execute_result"
    }
   ],
   "source": [
    "y_test.head(5)"
   ]
  },
  {
   "cell_type": "markdown",
   "id": "a867ab7c",
   "metadata": {
    "papermill": {
     "duration": 0.016576,
     "end_time": "2024-06-05T09:59:09.106139",
     "exception": false,
     "start_time": "2024-06-05T09:59:09.089563",
     "status": "completed"
    },
    "tags": []
   },
   "source": [
    "# Data Prep\n",
    "\n",
    "LSTMs requires the data to be structured differently to most ML models\n"
   ]
  },
  {
   "cell_type": "markdown",
   "id": "8f811cea",
   "metadata": {
    "papermill": {
     "duration": 0.016024,
     "end_time": "2024-06-05T09:59:09.138612",
     "exception": false,
     "start_time": "2024-06-05T09:59:09.122588",
     "status": "completed"
    },
    "tags": []
   },
   "source": [
    "# Fit LSTM\n",
    "Write explanation of LSTM"
   ]
  },
  {
   "cell_type": "markdown",
   "id": "89f6522c",
   "metadata": {
    "papermill": {
     "duration": 0.016551,
     "end_time": "2024-06-05T09:59:09.171340",
     "exception": false,
     "start_time": "2024-06-05T09:59:09.154789",
     "status": "completed"
    },
    "tags": []
   },
   "source": [
    "# Work my way up!\n",
    "This section of code we will start with a simple 1 feature LSTM for 1 stock. Then we can do multiple features for 1 stock. Finally we can do multiple features for multiple stocks! Be patient! You've got this. Small steps are better that jumping ahead and not understanding."
   ]
  },
  {
   "cell_type": "markdown",
   "id": "d4a6e51d",
   "metadata": {
    "papermill": {
     "duration": 0.016302,
     "end_time": "2024-06-05T09:59:09.204685",
     "exception": false,
     "start_time": "2024-06-05T09:59:09.188383",
     "status": "completed"
    },
    "tags": []
   },
   "source": [
    "## 1 Stock 1 Feature"
   ]
  },
  {
   "cell_type": "code",
   "execution_count": 7,
   "id": "7c3c3bb8",
   "metadata": {
    "execution": {
     "iopub.execute_input": "2024-06-05T09:59:09.239386Z",
     "iopub.status.busy": "2024-06-05T09:59:09.238976Z",
     "iopub.status.idle": "2024-06-05T09:59:09.243973Z",
     "shell.execute_reply": "2024-06-05T09:59:09.242803Z"
    },
    "papermill": {
     "duration": 0.025035,
     "end_time": "2024-06-05T09:59:09.246319",
     "exception": false,
     "start_time": "2024-06-05T09:59:09.221284",
     "status": "completed"
    },
    "tags": []
   },
   "outputs": [],
   "source": [
    "# # Get singular stock to use\n",
    "# stocks = X_train['Symbol'].unique()\n",
    "# stock = stocks[0]\n",
    "# stock\n",
    "\n",
    "# # Create dataframe with singular stock and singular feature (which will be the target)\n",
    "# df = X_train[X_train['Symbol'] == stock][['Adj Close 7-Day Upper Bollinger Band Differenced']].reset_index(drop=True)\n",
    "# df"
   ]
  },
  {
   "cell_type": "code",
   "execution_count": 8,
   "id": "42655718",
   "metadata": {
    "execution": {
     "iopub.execute_input": "2024-06-05T09:59:09.281401Z",
     "iopub.status.busy": "2024-06-05T09:59:09.280440Z",
     "iopub.status.idle": "2024-06-05T09:59:09.286821Z",
     "shell.execute_reply": "2024-06-05T09:59:09.285675Z"
    },
    "papermill": {
     "duration": 0.026534,
     "end_time": "2024-06-05T09:59:09.289243",
     "exception": false,
     "start_time": "2024-06-05T09:59:09.262709",
     "status": "completed"
    },
    "tags": []
   },
   "outputs": [],
   "source": [
    "# # Define lookback (window) period n (given volume at T - 1, T-2 , T-n, predict volume at T)\n",
    "# window = 5\n",
    "\n",
    "# # CONVERT TO SUPERVISED LEARNING PROBLEM\n",
    "# # Data structure is as below. On left we have volume at some times, and our target is on the right (volume at next time)\n",
    "# # [[[0], [1], [2], [3], [4], [5]]]    [6]\n",
    "# # [[[1], [2], [3], [4], [5], [6]]]    [7]\n",
    "# # [[[2], [3], [4], [5], [6], [7]]]    [8]\n",
    "# # ........\n",
    "\n",
    "# # Note that each volume value is wrapped in its own list. This is because when we get to the multivariate case, we can include more in each list (e.g. volume and price) so they won't just be 1 element lists\n",
    "# def df_to_X_y(df, window):\n",
    "    \n",
    "#     # Convert dataframe to numpy\n",
    "#     df_as_np = df.to_numpy()\n",
    "    \n",
    "#     # Array to store X and y\n",
    "#     X = []\n",
    "#     y = []\n",
    "    \n",
    "#     # Loop through each index in the dataframe and get X and y\n",
    "#     for i in range(len(df_as_np)-window):\n",
    "#         # Get values in window and wrap each one in a list\n",
    "#         row = df_as_np[i: i+window]\n",
    "#         X.append(row)\n",
    "        \n",
    "#         # Get the label (first value after the window)\n",
    "#         label = df_as_np[i + window][0]\n",
    "#         y.append(label)\n",
    "    \n",
    "#     return np.array(X), np.array(y)"
   ]
  },
  {
   "cell_type": "code",
   "execution_count": 9,
   "id": "5ec056a1",
   "metadata": {
    "execution": {
     "iopub.execute_input": "2024-06-05T09:59:09.324342Z",
     "iopub.status.busy": "2024-06-05T09:59:09.323933Z",
     "iopub.status.idle": "2024-06-05T09:59:09.328944Z",
     "shell.execute_reply": "2024-06-05T09:59:09.327891Z"
    },
    "papermill": {
     "duration": 0.025566,
     "end_time": "2024-06-05T09:59:09.331469",
     "exception": false,
     "start_time": "2024-06-05T09:59:09.305903",
     "status": "completed"
    },
    "tags": []
   },
   "outputs": [],
   "source": [
    "# X, y = df_to_X_y(df=df, window=window)\n",
    "# print(X.shape, y.shape)\n",
    "# print(X)\n",
    "# print(y)"
   ]
  },
  {
   "cell_type": "code",
   "execution_count": 10,
   "id": "f9ac418b",
   "metadata": {
    "execution": {
     "iopub.execute_input": "2024-06-05T09:59:09.366249Z",
     "iopub.status.busy": "2024-06-05T09:59:09.365791Z",
     "iopub.status.idle": "2024-06-05T09:59:09.370900Z",
     "shell.execute_reply": "2024-06-05T09:59:09.369742Z"
    },
    "papermill": {
     "duration": 0.025287,
     "end_time": "2024-06-05T09:59:09.373243",
     "exception": false,
     "start_time": "2024-06-05T09:59:09.347956",
     "status": "completed"
    },
    "tags": []
   },
   "outputs": [],
   "source": [
    "# X_train, y_train = X[:900], y[:900]\n",
    "# X_val, y_val = X[900:1100], y[900:1100]\n",
    "# X_test, y_test = X[1100:], y[1100:]\n",
    "# print(X_train.shape, y_train.shape)\n",
    "# print(X_val.shape, y_val.shape)\n",
    "# print(X_test.shape, y_test.shape)"
   ]
  },
  {
   "cell_type": "code",
   "execution_count": 11,
   "id": "b4190063",
   "metadata": {
    "execution": {
     "iopub.execute_input": "2024-06-05T09:59:09.407655Z",
     "iopub.status.busy": "2024-06-05T09:59:09.407292Z",
     "iopub.status.idle": "2024-06-05T09:59:09.412319Z",
     "shell.execute_reply": "2024-06-05T09:59:09.410996Z"
    },
    "papermill": {
     "duration": 0.025147,
     "end_time": "2024-06-05T09:59:09.414797",
     "exception": false,
     "start_time": "2024-06-05T09:59:09.389650",
     "status": "completed"
    },
    "tags": []
   },
   "outputs": [],
   "source": [
    "# from tensorflow.keras.models import Sequential\n",
    "# from tensorflow.keras.layers import InputLayer, Dense, LSTM\n",
    "# from tensorflow.keras.callbacks import ModelCheckpoint # Save best model \n",
    "# from tensorflow.keras.losses import MeanSquaredError # Loss function\n",
    "# from tensorflow.keras.optimizers import Adam"
   ]
  },
  {
   "cell_type": "code",
   "execution_count": 12,
   "id": "8bf5c24c",
   "metadata": {
    "execution": {
     "iopub.execute_input": "2024-06-05T09:59:09.449280Z",
     "iopub.status.busy": "2024-06-05T09:59:09.448826Z",
     "iopub.status.idle": "2024-06-05T09:59:09.454299Z",
     "shell.execute_reply": "2024-06-05T09:59:09.453185Z"
    },
    "papermill": {
     "duration": 0.025392,
     "end_time": "2024-06-05T09:59:09.456684",
     "exception": false,
     "start_time": "2024-06-05T09:59:09.431292",
     "status": "completed"
    },
    "tags": []
   },
   "outputs": [],
   "source": [
    "# # Build up layers of network\n",
    "# model1 = Sequential()\n",
    "# model1.add(\n",
    "#     InputLayer((window, 1)) # Each piece of info is a window x 1 vector (containing the volumes in the window)\n",
    "# )\n",
    "# model1.add(\n",
    "#     LSTM(64) # Check what the 64 means. Can use GRU as well as LSTM\n",
    "# )\n",
    "# model1.add(\n",
    "#     Dense(8, 'relu') # Check what this layer is for\n",
    "# )\n",
    "# model1.add(\n",
    "#     Dense(1, 'linear') # Think this is output layer but need to check. I.e. it spits out predicted volume\n",
    "# )\n",
    "\n",
    "# # Can see the model takes in 5x1 vector, converts it to a 64 elemtns, then 8, then 1 which is our output\n",
    "# model1.summary()"
   ]
  },
  {
   "cell_type": "code",
   "execution_count": 13,
   "id": "5c11ac06",
   "metadata": {
    "execution": {
     "iopub.execute_input": "2024-06-05T09:59:09.491817Z",
     "iopub.status.busy": "2024-06-05T09:59:09.490826Z",
     "iopub.status.idle": "2024-06-05T09:59:09.495754Z",
     "shell.execute_reply": "2024-06-05T09:59:09.494678Z"
    },
    "papermill": {
     "duration": 0.0251,
     "end_time": "2024-06-05T09:59:09.498174",
     "exception": false,
     "start_time": "2024-06-05T09:59:09.473074",
     "status": "completed"
    },
    "tags": []
   },
   "outputs": [],
   "source": [
    "# # Save model\n",
    "# cp = ModelCheckpoint(\n",
    "#     'model1.keras',\n",
    "#     save_best_only=True\n",
    "# )"
   ]
  },
  {
   "cell_type": "code",
   "execution_count": 14,
   "id": "798d9613",
   "metadata": {
    "execution": {
     "iopub.execute_input": "2024-06-05T09:59:09.533897Z",
     "iopub.status.busy": "2024-06-05T09:59:09.533466Z",
     "iopub.status.idle": "2024-06-05T09:59:09.539295Z",
     "shell.execute_reply": "2024-06-05T09:59:09.537932Z"
    },
    "papermill": {
     "duration": 0.026586,
     "end_time": "2024-06-05T09:59:09.541777",
     "exception": false,
     "start_time": "2024-06-05T09:59:09.515191",
     "status": "completed"
    },
    "tags": []
   },
   "outputs": [],
   "source": [
    "# # Compile model\n",
    "# model1.compile(\n",
    "#     loss=MeanSquaredError(),\n",
    "#     optimizer=Adam(learning_rate=0.0001),\n",
    "#     metrics=[MeanSquaredError()]\n",
    "# )\n",
    "\n",
    "# # Fit model with validation set. Notice loss decreasng\n",
    "# model1.fit(\n",
    "#     X_train,\n",
    "#     y_train,\n",
    "#     validation_data=(X_val, y_val), # Validation data\n",
    "#     epochs=50, # runs through training dataset\n",
    "#     callbacks=[cp] # At end of every epoch, save the model if loss was lower than before\n",
    "# )"
   ]
  },
  {
   "cell_type": "code",
   "execution_count": 15,
   "id": "853542bd",
   "metadata": {
    "execution": {
     "iopub.execute_input": "2024-06-05T09:59:09.576514Z",
     "iopub.status.busy": "2024-06-05T09:59:09.576123Z",
     "iopub.status.idle": "2024-06-05T09:59:09.581214Z",
     "shell.execute_reply": "2024-06-05T09:59:09.580128Z"
    },
    "papermill": {
     "duration": 0.025175,
     "end_time": "2024-06-05T09:59:09.583507",
     "exception": false,
     "start_time": "2024-06-05T09:59:09.558332",
     "status": "completed"
    },
    "tags": []
   },
   "outputs": [],
   "source": [
    "# # Load model back\n",
    "# from tensorflow.keras.models import load_model\n",
    "# model1 = load_model('/kaggle/working/model1.keras')"
   ]
  },
  {
   "cell_type": "code",
   "execution_count": 16,
   "id": "da27584b",
   "metadata": {
    "execution": {
     "iopub.execute_input": "2024-06-05T09:59:09.618686Z",
     "iopub.status.busy": "2024-06-05T09:59:09.617770Z",
     "iopub.status.idle": "2024-06-05T09:59:09.623059Z",
     "shell.execute_reply": "2024-06-05T09:59:09.621859Z"
    },
    "papermill": {
     "duration": 0.025482,
     "end_time": "2024-06-05T09:59:09.625508",
     "exception": false,
     "start_time": "2024-06-05T09:59:09.600026",
     "status": "completed"
    },
    "tags": []
   },
   "outputs": [],
   "source": [
    "# # Make preds on training set\n",
    "# test_preds = model1.predict(X_test).flatten()\n",
    "\n",
    "# # Compare to actuals\n",
    "# test_results = pd.DataFrame(\n",
    "#     data={\n",
    "#         'Test Preds': test_preds,\n",
    "#         'Actuals': y_test\n",
    "#     }\n",
    "# )\n",
    "# test_results"
   ]
  },
  {
   "cell_type": "code",
   "execution_count": 17,
   "id": "644f540e",
   "metadata": {
    "execution": {
     "iopub.execute_input": "2024-06-05T09:59:09.660419Z",
     "iopub.status.busy": "2024-06-05T09:59:09.659391Z",
     "iopub.status.idle": "2024-06-05T09:59:09.664665Z",
     "shell.execute_reply": "2024-06-05T09:59:09.663558Z"
    },
    "papermill": {
     "duration": 0.025506,
     "end_time": "2024-06-05T09:59:09.667312",
     "exception": false,
     "start_time": "2024-06-05T09:59:09.641806",
     "status": "completed"
    },
    "tags": []
   },
   "outputs": [],
   "source": [
    "# # Seems to be a lag - probably due to autoregressive nature\n",
    "# import matplotlib.pyplot as plt\n",
    "# plt.plot(test_results['Test Preds'][:100], label='Preds')\n",
    "# plt.plot(test_results['Actuals'][:100], label='Actual')\n",
    "# plt.legend()\n",
    "# plt.show()"
   ]
  },
  {
   "cell_type": "markdown",
   "id": "11137b01",
   "metadata": {
    "papermill": {
     "duration": 0.016349,
     "end_time": "2024-06-05T09:59:09.771041",
     "exception": false,
     "start_time": "2024-06-05T09:59:09.754692",
     "status": "completed"
    },
    "tags": []
   },
   "source": [
    "# TODO: 1 STOCK MANY FEATURES AND ACTUAL TARGET"
   ]
  },
  {
   "cell_type": "code",
   "execution_count": 18,
   "id": "777bed3f",
   "metadata": {
    "execution": {
     "iopub.execute_input": "2024-06-05T09:59:09.806048Z",
     "iopub.status.busy": "2024-06-05T09:59:09.805629Z",
     "iopub.status.idle": "2024-06-05T09:59:09.811217Z",
     "shell.execute_reply": "2024-06-05T09:59:09.809949Z"
    },
    "papermill": {
     "duration": 0.026354,
     "end_time": "2024-06-05T09:59:09.813916",
     "exception": false,
     "start_time": "2024-06-05T09:59:09.787562",
     "status": "completed"
    },
    "tags": []
   },
   "outputs": [],
   "source": [
    "# from tensorflow.keras.models import load_model\n",
    "# import matplotlib.pyplot as plt\n",
    "# from tensorflow.keras.models import Sequential\n",
    "# from tensorflow.keras.layers import InputLayer, Dense, LSTM\n",
    "# from tensorflow.keras.callbacks import ModelCheckpoint # Save best model \n",
    "# from tensorflow.keras.losses import MeanSquaredError # Loss function\n",
    "# from tensorflow.keras.optimizers import Adam\n",
    "# from sklearn.metrics import accuracy_score"
   ]
  },
  {
   "cell_type": "code",
   "execution_count": 19,
   "id": "85506ada",
   "metadata": {
    "execution": {
     "iopub.execute_input": "2024-06-05T09:59:09.860899Z",
     "iopub.status.busy": "2024-06-05T09:59:09.860288Z",
     "iopub.status.idle": "2024-06-05T09:59:09.866340Z",
     "shell.execute_reply": "2024-06-05T09:59:09.864990Z"
    },
    "papermill": {
     "duration": 0.036745,
     "end_time": "2024-06-05T09:59:09.871382",
     "exception": false,
     "start_time": "2024-06-05T09:59:09.834637",
     "status": "completed"
    },
    "tags": []
   },
   "outputs": [],
   "source": [
    "# from sklearn.metrics import mean_squared_error as mse\n",
    "\n",
    "# def plot_predictions(model, X, y, start=0, end=100):\n",
    "#     \"\"\"Function to plot predictions vs actuals, trimmed to start and end indices\"\"\"\n",
    "    \n",
    "#     preds = model.predict(X).flatten()\n",
    "#     df = pd.DataFrame(data={\n",
    "#         'Predictions': preds,\n",
    "#         'Actuals': y\n",
    "#     })\n",
    "    \n",
    "#     plt.plot(df['Predictions'][start:end], label='Preds')\n",
    "#     plt.plot(df['Actuals'][start:end], label='Actuals')\n",
    "#     plt.legend()\n",
    "#     plt.show()\n",
    "    \n",
    "#     return df"
   ]
  },
  {
   "cell_type": "code",
   "execution_count": 20,
   "id": "e33d9d4c",
   "metadata": {
    "execution": {
     "iopub.execute_input": "2024-06-05T09:59:09.913355Z",
     "iopub.status.busy": "2024-06-05T09:59:09.912148Z",
     "iopub.status.idle": "2024-06-05T09:59:09.917390Z",
     "shell.execute_reply": "2024-06-05T09:59:09.916381Z"
    },
    "papermill": {
     "duration": 0.026175,
     "end_time": "2024-06-05T09:59:09.920047",
     "exception": false,
     "start_time": "2024-06-05T09:59:09.893872",
     "status": "completed"
    },
    "tags": []
   },
   "outputs": [],
   "source": [
    "# # Get singular stock to use\n",
    "# stocks = X_train['Symbol'].unique()\n",
    "# stock = stocks[0]\n",
    "\n",
    "# # Create dataframe with singular stock and singular feature (which will be the target)\n",
    "# df = X_train[X_train['Symbol'] == stock]\n",
    "# df['Target'] = y_train.iloc[df.index]\n",
    "# df"
   ]
  },
  {
   "cell_type": "code",
   "execution_count": 21,
   "id": "2783a323",
   "metadata": {
    "execution": {
     "iopub.execute_input": "2024-06-05T09:59:09.955012Z",
     "iopub.status.busy": "2024-06-05T09:59:09.954566Z",
     "iopub.status.idle": "2024-06-05T09:59:09.960724Z",
     "shell.execute_reply": "2024-06-05T09:59:09.959605Z"
    },
    "papermill": {
     "duration": 0.026396,
     "end_time": "2024-06-05T09:59:09.963128",
     "exception": false,
     "start_time": "2024-06-05T09:59:09.936732",
     "status": "completed"
    },
    "tags": []
   },
   "outputs": [],
   "source": [
    "# #x and y represent different columns here and t is the target. 2 columne xample but can extend\n",
    "\n",
    "# # # [[[x0, y0], [x1 y1], [x2 y2], [x3 y3], [x4 y4], [x5 y5]]]    [x6]\n",
    "# # # [[[x1, y1], [x2 y2], [x3 y3], [x4 y4], [x5 y5], [x6 y6]]]    [x7]\n",
    "\n",
    "# # Note that each volume value is wrapped in its own list. This is because when we get to the multivariate case, we can include more in each list (e.g. volume and price) so they won't just be 1 element lists\n",
    "# def df_to_X_y(df, window):\n",
    "    \n",
    "#     # Convert dataframe to numpy\n",
    "#     df_as_np = df.to_numpy()\n",
    "    \n",
    "#     # Array to store X and y\n",
    "#     X = []\n",
    "#     y = []\n",
    "    \n",
    "#     # Loop through each index in the dataframe and get X and y\n",
    "#     for i in range(len(df_as_np)-window):\n",
    "#         # Get values in window and wrap each one in a list\n",
    "#         row = df_as_np[i: i+window]\n",
    "#         X.append(row)\n",
    "        \n",
    "#         # Get the label (first value after the window)\n",
    "#         label = df_as_np[i + window][-1]\n",
    "#         y.append(label)\n",
    "    \n",
    "#     return np.array(X), np.array(y)"
   ]
  },
  {
   "cell_type": "code",
   "execution_count": 22,
   "id": "e039fd17",
   "metadata": {
    "execution": {
     "iopub.execute_input": "2024-06-05T09:59:09.999665Z",
     "iopub.status.busy": "2024-06-05T09:59:09.999244Z",
     "iopub.status.idle": "2024-06-05T09:59:10.004080Z",
     "shell.execute_reply": "2024-06-05T09:59:10.003000Z"
    },
    "papermill": {
     "duration": 0.025686,
     "end_time": "2024-06-05T09:59:10.006785",
     "exception": false,
     "start_time": "2024-06-05T09:59:09.981099",
     "status": "completed"
    },
    "tags": []
   },
   "outputs": [],
   "source": [
    "# X, y = df_to_X_y(df=df, window=6)\n",
    "# print(X.shape, y.shape)\n",
    "# print(X)\n",
    "# print(y)"
   ]
  },
  {
   "cell_type": "code",
   "execution_count": 23,
   "id": "6d689886",
   "metadata": {
    "execution": {
     "iopub.execute_input": "2024-06-05T09:59:10.042725Z",
     "iopub.status.busy": "2024-06-05T09:59:10.041662Z",
     "iopub.status.idle": "2024-06-05T09:59:10.047173Z",
     "shell.execute_reply": "2024-06-05T09:59:10.045882Z"
    },
    "papermill": {
     "duration": 0.026319,
     "end_time": "2024-06-05T09:59:10.049826",
     "exception": false,
     "start_time": "2024-06-05T09:59:10.023507",
     "status": "completed"
    },
    "tags": []
   },
   "outputs": [],
   "source": [
    "# X_train, y_train = X[:900], y[:900]\n",
    "# X_val, y_val = X[900:1100], y[900:1100]\n",
    "# X_test, y_test = X[1100:], y[1100:]\n",
    "# print(X_train.shape, y_train.shape)\n",
    "# print(X_val.shape, y_val.shape)\n",
    "# print(X_test.shape, y_test.shape)"
   ]
  },
  {
   "cell_type": "code",
   "execution_count": 24,
   "id": "b0a66310",
   "metadata": {
    "execution": {
     "iopub.execute_input": "2024-06-05T09:59:10.085248Z",
     "iopub.status.busy": "2024-06-05T09:59:10.084802Z",
     "iopub.status.idle": "2024-06-05T09:59:10.090061Z",
     "shell.execute_reply": "2024-06-05T09:59:10.088861Z"
    },
    "papermill": {
     "duration": 0.026204,
     "end_time": "2024-06-05T09:59:10.092778",
     "exception": false,
     "start_time": "2024-06-05T09:59:10.066574",
     "status": "completed"
    },
    "tags": []
   },
   "outputs": [],
   "source": [
    "# model = Sequential()\n",
    "# model.add(InputLayer((window, X.shape[2]))) # Window size and number of variables used to predict\n",
    "# model.add(LSTM(64))\n",
    "# model.add(Dense(8, 'relu'))\n",
    "# model.add(Dense(1, 'sigmoid')) # Use sigmoid activation function to output probability of positive class\n",
    "# model.summary()"
   ]
  },
  {
   "cell_type": "code",
   "execution_count": 25,
   "id": "afd869ba",
   "metadata": {
    "execution": {
     "iopub.execute_input": "2024-06-05T09:59:10.128531Z",
     "iopub.status.busy": "2024-06-05T09:59:10.128092Z",
     "iopub.status.idle": "2024-06-05T09:59:10.133145Z",
     "shell.execute_reply": "2024-06-05T09:59:10.131949Z"
    },
    "papermill": {
     "duration": 0.025499,
     "end_time": "2024-06-05T09:59:10.135570",
     "exception": false,
     "start_time": "2024-06-05T09:59:10.110071",
     "status": "completed"
    },
    "tags": []
   },
   "outputs": [],
   "source": [
    "# # Save model\n",
    "# cp = ModelCheckpoint(\n",
    "#     'model1.keras',\n",
    "#     save_best_only=True\n",
    "# )"
   ]
  },
  {
   "cell_type": "code",
   "execution_count": 26,
   "id": "b329b838",
   "metadata": {
    "execution": {
     "iopub.execute_input": "2024-06-05T09:59:10.170561Z",
     "iopub.status.busy": "2024-06-05T09:59:10.170113Z",
     "iopub.status.idle": "2024-06-05T09:59:10.175554Z",
     "shell.execute_reply": "2024-06-05T09:59:10.174402Z"
    },
    "papermill": {
     "duration": 0.026013,
     "end_time": "2024-06-05T09:59:10.178146",
     "exception": false,
     "start_time": "2024-06-05T09:59:10.152133",
     "status": "completed"
    },
    "tags": []
   },
   "outputs": [],
   "source": [
    "# # Compile model\n",
    "# model.compile(\n",
    "#     loss='binary_crossentropy',\n",
    "#     optimizer=Adam(learning_rate=0.0001),\n",
    "#     metrics=['accuracy']\n",
    "# )\n",
    "\n",
    "# # Fit model with validation set. Notice loss decreasng\n",
    "# model.fit(\n",
    "#     X_train,\n",
    "#     y_train,\n",
    "#     validation_data=(X_val, y_val), # Validation data\n",
    "#     epochs=100, # runs through training dataset\n",
    "#     callbacks=[cp] # At end of every epoch, save the model if loss was lower than before\n",
    "# )"
   ]
  },
  {
   "cell_type": "code",
   "execution_count": 27,
   "id": "3604f296",
   "metadata": {
    "execution": {
     "iopub.execute_input": "2024-06-05T09:59:10.214134Z",
     "iopub.status.busy": "2024-06-05T09:59:10.213682Z",
     "iopub.status.idle": "2024-06-05T09:59:10.218589Z",
     "shell.execute_reply": "2024-06-05T09:59:10.217465Z"
    },
    "papermill": {
     "duration": 0.025664,
     "end_time": "2024-06-05T09:59:10.221277",
     "exception": false,
     "start_time": "2024-06-05T09:59:10.195613",
     "status": "completed"
    },
    "tags": []
   },
   "outputs": [],
   "source": [
    "# results = plot_predictions(model, X_test, y_test, start=0, end=1000)"
   ]
  },
  {
   "cell_type": "code",
   "execution_count": 28,
   "id": "08664c78",
   "metadata": {
    "execution": {
     "iopub.execute_input": "2024-06-05T09:59:10.256054Z",
     "iopub.status.busy": "2024-06-05T09:59:10.255622Z",
     "iopub.status.idle": "2024-06-05T09:59:10.260504Z",
     "shell.execute_reply": "2024-06-05T09:59:10.259444Z"
    },
    "papermill": {
     "duration": 0.025254,
     "end_time": "2024-06-05T09:59:10.263037",
     "exception": false,
     "start_time": "2024-06-05T09:59:10.237783",
     "status": "completed"
    },
    "tags": []
   },
   "outputs": [],
   "source": [
    "# class_predictions = np.where(results['Predictions'] >= 0.5, 1, 0)\n",
    "# class_predictions"
   ]
  },
  {
   "cell_type": "code",
   "execution_count": 29,
   "id": "85eb125d",
   "metadata": {
    "execution": {
     "iopub.execute_input": "2024-06-05T09:59:10.297915Z",
     "iopub.status.busy": "2024-06-05T09:59:10.297463Z",
     "iopub.status.idle": "2024-06-05T09:59:10.303013Z",
     "shell.execute_reply": "2024-06-05T09:59:10.301873Z"
    },
    "papermill": {
     "duration": 0.025665,
     "end_time": "2024-06-05T09:59:10.305306",
     "exception": false,
     "start_time": "2024-06-05T09:59:10.279641",
     "status": "completed"
    },
    "tags": []
   },
   "outputs": [],
   "source": [
    "# accuracy_score(class_predictions, y_test)"
   ]
  },
  {
   "cell_type": "markdown",
   "id": "43c49a2c",
   "metadata": {
    "papermill": {
     "duration": 0.016774,
     "end_time": "2024-06-05T09:59:10.338557",
     "exception": false,
     "start_time": "2024-06-05T09:59:10.321783",
     "status": "completed"
    },
    "tags": []
   },
   "source": [
    "# Whole model"
   ]
  },
  {
   "cell_type": "code",
   "execution_count": 30,
   "id": "4c0bcad6",
   "metadata": {
    "execution": {
     "iopub.execute_input": "2024-06-05T09:59:10.373409Z",
     "iopub.status.busy": "2024-06-05T09:59:10.372998Z",
     "iopub.status.idle": "2024-06-05T09:59:25.444814Z",
     "shell.execute_reply": "2024-06-05T09:59:25.443608Z"
    },
    "papermill": {
     "duration": 15.092915,
     "end_time": "2024-06-05T09:59:25.447905",
     "exception": false,
     "start_time": "2024-06-05T09:59:10.354990",
     "status": "completed"
    },
    "tags": []
   },
   "outputs": [
    {
     "name": "stderr",
     "output_type": "stream",
     "text": [
      "2024-06-05 09:59:12.389243: E external/local_xla/xla/stream_executor/cuda/cuda_dnn.cc:9261] Unable to register cuDNN factory: Attempting to register factory for plugin cuDNN when one has already been registered\n",
      "2024-06-05 09:59:12.389385: E external/local_xla/xla/stream_executor/cuda/cuda_fft.cc:607] Unable to register cuFFT factory: Attempting to register factory for plugin cuFFT when one has already been registered\n",
      "2024-06-05 09:59:12.537401: E external/local_xla/xla/stream_executor/cuda/cuda_blas.cc:1515] Unable to register cuBLAS factory: Attempting to register factory for plugin cuBLAS when one has already been registered\n"
     ]
    }
   ],
   "source": [
    "from tensorflow.keras.models import load_model\n",
    "import matplotlib.pyplot as plt\n",
    "from tensorflow.keras.models import Sequential\n",
    "from tensorflow.keras.layers import InputLayer, Dense, LSTM\n",
    "from tensorflow.keras.callbacks import ModelCheckpoint # Save best model \n",
    "from tensorflow.keras.losses import MeanSquaredError # Loss function\n",
    "from tensorflow.keras.optimizers import Adam\n",
    "from sklearn.metrics import accuracy_score"
   ]
  },
  {
   "cell_type": "code",
   "execution_count": 31,
   "id": "6cf0f60a",
   "metadata": {
    "execution": {
     "iopub.execute_input": "2024-06-05T09:59:25.483704Z",
     "iopub.status.busy": "2024-06-05T09:59:25.482978Z",
     "iopub.status.idle": "2024-06-05T09:59:25.553948Z",
     "shell.execute_reply": "2024-06-05T09:59:25.552630Z"
    },
    "papermill": {
     "duration": 0.093232,
     "end_time": "2024-06-05T09:59:25.558365",
     "exception": false,
     "start_time": "2024-06-05T09:59:25.465133",
     "status": "completed"
    },
    "tags": []
   },
   "outputs": [
    {
     "name": "stderr",
     "output_type": "stream",
     "text": [
      "/tmp/ipykernel_18/1461915257.py:6: SettingWithCopyWarning: \n",
      "A value is trying to be set on a copy of a slice from a DataFrame.\n",
      "Try using .loc[row_indexer,col_indexer] = value instead\n",
      "\n",
      "See the caveats in the documentation: https://pandas.pydata.org/pandas-docs/stable/user_guide/indexing.html#returning-a-view-versus-a-copy\n",
      "  df['Target'] = y_train.iloc[df.index]\n"
     ]
    },
    {
     "data": {
      "text/html": [
       "<div>\n",
       "<style scoped>\n",
       "    .dataframe tbody tr th:only-of-type {\n",
       "        vertical-align: middle;\n",
       "    }\n",
       "\n",
       "    .dataframe tbody tr th {\n",
       "        vertical-align: top;\n",
       "    }\n",
       "\n",
       "    .dataframe thead th {\n",
       "        text-align: right;\n",
       "    }\n",
       "</style>\n",
       "<table border=\"1\" class=\"dataframe\">\n",
       "  <thead>\n",
       "    <tr style=\"text-align: right;\">\n",
       "      <th></th>\n",
       "      <th>Symbol</th>\n",
       "      <th>Volume</th>\n",
       "      <th>Sector_Basic Materials</th>\n",
       "      <th>Sector_Communication Services</th>\n",
       "      <th>Sector_Consumer Cyclical</th>\n",
       "      <th>Sector_Consumer Defensive</th>\n",
       "      <th>Sector_Energy</th>\n",
       "      <th>Sector_Financial Services</th>\n",
       "      <th>Sector_Healthcare</th>\n",
       "      <th>Sector_Industrials</th>\n",
       "      <th>...</th>\n",
       "      <th>Adj Close 26-Day std Differenced</th>\n",
       "      <th>Adj Close 7-Day Upper Bollinger Band Differenced</th>\n",
       "      <th>Distance to Adj Close 7-Day Upper Bollinger Band Differenced</th>\n",
       "      <th>True Range Differenced</th>\n",
       "      <th>True Range 26-Day SMA Differenced</th>\n",
       "      <th>Adj Close Differenced</th>\n",
       "      <th>High Differenced</th>\n",
       "      <th>Low Differenced</th>\n",
       "      <th>Open Differenced</th>\n",
       "      <th>Target</th>\n",
       "    </tr>\n",
       "  </thead>\n",
       "  <tbody>\n",
       "    <tr>\n",
       "      <th>0</th>\n",
       "      <td>-1.439324</td>\n",
       "      <td>-0.326871</td>\n",
       "      <td>-0.21136</td>\n",
       "      <td>-0.21136</td>\n",
       "      <td>-0.356345</td>\n",
       "      <td>-0.279992</td>\n",
       "      <td>-0.222173</td>\n",
       "      <td>-0.394553</td>\n",
       "      <td>-0.387284</td>\n",
       "      <td>-0.412467</td>\n",
       "      <td>...</td>\n",
       "      <td>0.037984</td>\n",
       "      <td>-0.002604</td>\n",
       "      <td>-0.016884</td>\n",
       "      <td>-0.066039</td>\n",
       "      <td>0.104504</td>\n",
       "      <td>-0.020330</td>\n",
       "      <td>0.008943</td>\n",
       "      <td>0.015877</td>\n",
       "      <td>0.062622</td>\n",
       "      <td>0.0</td>\n",
       "    </tr>\n",
       "    <tr>\n",
       "      <th>1</th>\n",
       "      <td>-1.069061</td>\n",
       "      <td>-0.344648</td>\n",
       "      <td>-0.21136</td>\n",
       "      <td>-0.21136</td>\n",
       "      <td>-0.356345</td>\n",
       "      <td>-0.279992</td>\n",
       "      <td>-0.222173</td>\n",
       "      <td>-0.394553</td>\n",
       "      <td>2.582087</td>\n",
       "      <td>-0.412467</td>\n",
       "      <td>...</td>\n",
       "      <td>-0.015098</td>\n",
       "      <td>0.023690</td>\n",
       "      <td>-0.111938</td>\n",
       "      <td>-0.141182</td>\n",
       "      <td>-0.090630</td>\n",
       "      <td>-0.107768</td>\n",
       "      <td>0.032258</td>\n",
       "      <td>0.030478</td>\n",
       "      <td>0.096788</td>\n",
       "      <td>0.0</td>\n",
       "    </tr>\n",
       "    <tr>\n",
       "      <th>2</th>\n",
       "      <td>-1.439324</td>\n",
       "      <td>-0.273342</td>\n",
       "      <td>-0.21136</td>\n",
       "      <td>-0.21136</td>\n",
       "      <td>-0.356345</td>\n",
       "      <td>-0.279992</td>\n",
       "      <td>-0.222173</td>\n",
       "      <td>-0.394553</td>\n",
       "      <td>-0.387284</td>\n",
       "      <td>-0.412467</td>\n",
       "      <td>...</td>\n",
       "      <td>0.057310</td>\n",
       "      <td>0.016938</td>\n",
       "      <td>0.003940</td>\n",
       "      <td>0.059465</td>\n",
       "      <td>0.127922</td>\n",
       "      <td>0.015518</td>\n",
       "      <td>0.040031</td>\n",
       "      <td>-0.031579</td>\n",
       "      <td>-0.056957</td>\n",
       "      <td>0.0</td>\n",
       "    </tr>\n",
       "    <tr>\n",
       "      <th>3</th>\n",
       "      <td>-1.069061</td>\n",
       "      <td>-0.329429</td>\n",
       "      <td>-0.21136</td>\n",
       "      <td>-0.21136</td>\n",
       "      <td>-0.356345</td>\n",
       "      <td>-0.279992</td>\n",
       "      <td>-0.222173</td>\n",
       "      <td>-0.394553</td>\n",
       "      <td>2.582087</td>\n",
       "      <td>-0.412467</td>\n",
       "      <td>...</td>\n",
       "      <td>0.030137</td>\n",
       "      <td>-0.092896</td>\n",
       "      <td>-0.101819</td>\n",
       "      <td>-0.091555</td>\n",
       "      <td>-0.057697</td>\n",
       "      <td>-0.173522</td>\n",
       "      <td>-0.212556</td>\n",
       "      <td>-0.162994</td>\n",
       "      <td>-0.176536</td>\n",
       "      <td>0.0</td>\n",
       "    </tr>\n",
       "    <tr>\n",
       "      <th>4</th>\n",
       "      <td>-1.069061</td>\n",
       "      <td>-0.331880</td>\n",
       "      <td>-0.21136</td>\n",
       "      <td>-0.21136</td>\n",
       "      <td>-0.356345</td>\n",
       "      <td>-0.279992</td>\n",
       "      <td>-0.222173</td>\n",
       "      <td>-0.394553</td>\n",
       "      <td>2.582087</td>\n",
       "      <td>-0.412467</td>\n",
       "      <td>...</td>\n",
       "      <td>0.029730</td>\n",
       "      <td>-0.067218</td>\n",
       "      <td>0.014688</td>\n",
       "      <td>0.129289</td>\n",
       "      <td>0.009635</td>\n",
       "      <td>-0.028152</td>\n",
       "      <td>-0.053232</td>\n",
       "      <td>-0.060783</td>\n",
       "      <td>-0.060374</td>\n",
       "      <td>0.0</td>\n",
       "    </tr>\n",
       "    <tr>\n",
       "      <th>...</th>\n",
       "      <td>...</td>\n",
       "      <td>...</td>\n",
       "      <td>...</td>\n",
       "      <td>...</td>\n",
       "      <td>...</td>\n",
       "      <td>...</td>\n",
       "      <td>...</td>\n",
       "      <td>...</td>\n",
       "      <td>...</td>\n",
       "      <td>...</td>\n",
       "      <td>...</td>\n",
       "      <td>...</td>\n",
       "      <td>...</td>\n",
       "      <td>...</td>\n",
       "      <td>...</td>\n",
       "      <td>...</td>\n",
       "      <td>...</td>\n",
       "      <td>...</td>\n",
       "      <td>...</td>\n",
       "      <td>...</td>\n",
       "      <td>...</td>\n",
       "    </tr>\n",
       "    <tr>\n",
       "      <th>2699</th>\n",
       "      <td>-1.069061</td>\n",
       "      <td>-0.357848</td>\n",
       "      <td>-0.21136</td>\n",
       "      <td>-0.21136</td>\n",
       "      <td>-0.356345</td>\n",
       "      <td>-0.279992</td>\n",
       "      <td>-0.222173</td>\n",
       "      <td>-0.394553</td>\n",
       "      <td>2.582087</td>\n",
       "      <td>-0.412467</td>\n",
       "      <td>...</td>\n",
       "      <td>0.043552</td>\n",
       "      <td>0.024773</td>\n",
       "      <td>-0.069545</td>\n",
       "      <td>-0.026101</td>\n",
       "      <td>-0.597600</td>\n",
       "      <td>-0.060321</td>\n",
       "      <td>-0.154266</td>\n",
       "      <td>-0.108238</td>\n",
       "      <td>-0.115036</td>\n",
       "      <td>1.0</td>\n",
       "    </tr>\n",
       "    <tr>\n",
       "      <th>2700</th>\n",
       "      <td>-1.069061</td>\n",
       "      <td>-0.364937</td>\n",
       "      <td>-0.21136</td>\n",
       "      <td>-0.21136</td>\n",
       "      <td>-0.356345</td>\n",
       "      <td>-0.279992</td>\n",
       "      <td>-0.222173</td>\n",
       "      <td>-0.394553</td>\n",
       "      <td>2.582087</td>\n",
       "      <td>-0.412467</td>\n",
       "      <td>...</td>\n",
       "      <td>-0.202243</td>\n",
       "      <td>-0.335152</td>\n",
       "      <td>0.059003</td>\n",
       "      <td>-0.029220</td>\n",
       "      <td>-0.029539</td>\n",
       "      <td>-0.156054</td>\n",
       "      <td>-0.095979</td>\n",
       "      <td>-0.126492</td>\n",
       "      <td>-0.087708</td>\n",
       "      <td>1.0</td>\n",
       "    </tr>\n",
       "    <tr>\n",
       "      <th>2701</th>\n",
       "      <td>-1.439324</td>\n",
       "      <td>-0.284393</td>\n",
       "      <td>-0.21136</td>\n",
       "      <td>-0.21136</td>\n",
       "      <td>-0.356345</td>\n",
       "      <td>-0.279992</td>\n",
       "      <td>-0.222173</td>\n",
       "      <td>-0.394553</td>\n",
       "      <td>-0.387284</td>\n",
       "      <td>-0.412467</td>\n",
       "      <td>...</td>\n",
       "      <td>-0.158954</td>\n",
       "      <td>-0.013484</td>\n",
       "      <td>-0.010807</td>\n",
       "      <td>-0.032029</td>\n",
       "      <td>-0.176300</td>\n",
       "      <td>-0.020808</td>\n",
       "      <td>-0.006600</td>\n",
       "      <td>-0.035230</td>\n",
       "      <td>-0.050125</td>\n",
       "      <td>0.0</td>\n",
       "    </tr>\n",
       "    <tr>\n",
       "      <th>2702</th>\n",
       "      <td>-1.439324</td>\n",
       "      <td>-0.258783</td>\n",
       "      <td>-0.21136</td>\n",
       "      <td>-0.21136</td>\n",
       "      <td>-0.356345</td>\n",
       "      <td>-0.279992</td>\n",
       "      <td>-0.222173</td>\n",
       "      <td>-0.394553</td>\n",
       "      <td>-0.387284</td>\n",
       "      <td>-0.412467</td>\n",
       "      <td>...</td>\n",
       "      <td>-0.051393</td>\n",
       "      <td>0.086754</td>\n",
       "      <td>0.033963</td>\n",
       "      <td>0.123213</td>\n",
       "      <td>0.042141</td>\n",
       "      <td>0.094670</td>\n",
       "      <td>0.106092</td>\n",
       "      <td>0.059683</td>\n",
       "      <td>0.035290</td>\n",
       "      <td>0.0</td>\n",
       "    </tr>\n",
       "    <tr>\n",
       "      <th>2703</th>\n",
       "      <td>-1.069061</td>\n",
       "      <td>-0.356147</td>\n",
       "      <td>-0.21136</td>\n",
       "      <td>-0.21136</td>\n",
       "      <td>-0.356345</td>\n",
       "      <td>-0.279992</td>\n",
       "      <td>-0.222173</td>\n",
       "      <td>-0.394553</td>\n",
       "      <td>2.582087</td>\n",
       "      <td>-0.412467</td>\n",
       "      <td>...</td>\n",
       "      <td>-0.195913</td>\n",
       "      <td>-0.213931</td>\n",
       "      <td>0.253437</td>\n",
       "      <td>0.226484</td>\n",
       "      <td>0.128296</td>\n",
       "      <td>0.138248</td>\n",
       "      <td>0.067233</td>\n",
       "      <td>0.063333</td>\n",
       "      <td>-0.169702</td>\n",
       "      <td>1.0</td>\n",
       "    </tr>\n",
       "  </tbody>\n",
       "</table>\n",
       "<p>2704 rows × 123 columns</p>\n",
       "</div>"
      ],
      "text/plain": [
       "        Symbol    Volume  Sector_Basic Materials  \\\n",
       "0    -1.439324 -0.326871                -0.21136   \n",
       "1    -1.069061 -0.344648                -0.21136   \n",
       "2    -1.439324 -0.273342                -0.21136   \n",
       "3    -1.069061 -0.329429                -0.21136   \n",
       "4    -1.069061 -0.331880                -0.21136   \n",
       "...        ...       ...                     ...   \n",
       "2699 -1.069061 -0.357848                -0.21136   \n",
       "2700 -1.069061 -0.364937                -0.21136   \n",
       "2701 -1.439324 -0.284393                -0.21136   \n",
       "2702 -1.439324 -0.258783                -0.21136   \n",
       "2703 -1.069061 -0.356147                -0.21136   \n",
       "\n",
       "      Sector_Communication Services  Sector_Consumer Cyclical  \\\n",
       "0                          -0.21136                 -0.356345   \n",
       "1                          -0.21136                 -0.356345   \n",
       "2                          -0.21136                 -0.356345   \n",
       "3                          -0.21136                 -0.356345   \n",
       "4                          -0.21136                 -0.356345   \n",
       "...                             ...                       ...   \n",
       "2699                       -0.21136                 -0.356345   \n",
       "2700                       -0.21136                 -0.356345   \n",
       "2701                       -0.21136                 -0.356345   \n",
       "2702                       -0.21136                 -0.356345   \n",
       "2703                       -0.21136                 -0.356345   \n",
       "\n",
       "      Sector_Consumer Defensive  Sector_Energy  Sector_Financial Services  \\\n",
       "0                     -0.279992      -0.222173                  -0.394553   \n",
       "1                     -0.279992      -0.222173                  -0.394553   \n",
       "2                     -0.279992      -0.222173                  -0.394553   \n",
       "3                     -0.279992      -0.222173                  -0.394553   \n",
       "4                     -0.279992      -0.222173                  -0.394553   \n",
       "...                         ...            ...                        ...   \n",
       "2699                  -0.279992      -0.222173                  -0.394553   \n",
       "2700                  -0.279992      -0.222173                  -0.394553   \n",
       "2701                  -0.279992      -0.222173                  -0.394553   \n",
       "2702                  -0.279992      -0.222173                  -0.394553   \n",
       "2703                  -0.279992      -0.222173                  -0.394553   \n",
       "\n",
       "      Sector_Healthcare  Sector_Industrials  ...  \\\n",
       "0             -0.387284           -0.412467  ...   \n",
       "1              2.582087           -0.412467  ...   \n",
       "2             -0.387284           -0.412467  ...   \n",
       "3              2.582087           -0.412467  ...   \n",
       "4              2.582087           -0.412467  ...   \n",
       "...                 ...                 ...  ...   \n",
       "2699           2.582087           -0.412467  ...   \n",
       "2700           2.582087           -0.412467  ...   \n",
       "2701          -0.387284           -0.412467  ...   \n",
       "2702          -0.387284           -0.412467  ...   \n",
       "2703           2.582087           -0.412467  ...   \n",
       "\n",
       "      Adj Close 26-Day std Differenced  \\\n",
       "0                             0.037984   \n",
       "1                            -0.015098   \n",
       "2                             0.057310   \n",
       "3                             0.030137   \n",
       "4                             0.029730   \n",
       "...                                ...   \n",
       "2699                          0.043552   \n",
       "2700                         -0.202243   \n",
       "2701                         -0.158954   \n",
       "2702                         -0.051393   \n",
       "2703                         -0.195913   \n",
       "\n",
       "      Adj Close 7-Day Upper Bollinger Band Differenced  \\\n",
       "0                                            -0.002604   \n",
       "1                                             0.023690   \n",
       "2                                             0.016938   \n",
       "3                                            -0.092896   \n",
       "4                                            -0.067218   \n",
       "...                                                ...   \n",
       "2699                                          0.024773   \n",
       "2700                                         -0.335152   \n",
       "2701                                         -0.013484   \n",
       "2702                                          0.086754   \n",
       "2703                                         -0.213931   \n",
       "\n",
       "      Distance to Adj Close 7-Day Upper Bollinger Band Differenced  \\\n",
       "0                                             -0.016884              \n",
       "1                                             -0.111938              \n",
       "2                                              0.003940              \n",
       "3                                             -0.101819              \n",
       "4                                              0.014688              \n",
       "...                                                 ...              \n",
       "2699                                          -0.069545              \n",
       "2700                                           0.059003              \n",
       "2701                                          -0.010807              \n",
       "2702                                           0.033963              \n",
       "2703                                           0.253437              \n",
       "\n",
       "      True Range Differenced  True Range 26-Day SMA Differenced  \\\n",
       "0                  -0.066039                           0.104504   \n",
       "1                  -0.141182                          -0.090630   \n",
       "2                   0.059465                           0.127922   \n",
       "3                  -0.091555                          -0.057697   \n",
       "4                   0.129289                           0.009635   \n",
       "...                      ...                                ...   \n",
       "2699               -0.026101                          -0.597600   \n",
       "2700               -0.029220                          -0.029539   \n",
       "2701               -0.032029                          -0.176300   \n",
       "2702                0.123213                           0.042141   \n",
       "2703                0.226484                           0.128296   \n",
       "\n",
       "      Adj Close Differenced  High Differenced  Low Differenced  \\\n",
       "0                 -0.020330          0.008943         0.015877   \n",
       "1                 -0.107768          0.032258         0.030478   \n",
       "2                  0.015518          0.040031        -0.031579   \n",
       "3                 -0.173522         -0.212556        -0.162994   \n",
       "4                 -0.028152         -0.053232        -0.060783   \n",
       "...                     ...               ...              ...   \n",
       "2699              -0.060321         -0.154266        -0.108238   \n",
       "2700              -0.156054         -0.095979        -0.126492   \n",
       "2701              -0.020808         -0.006600        -0.035230   \n",
       "2702               0.094670          0.106092         0.059683   \n",
       "2703               0.138248          0.067233         0.063333   \n",
       "\n",
       "      Open Differenced  Target  \n",
       "0             0.062622     0.0  \n",
       "1             0.096788     0.0  \n",
       "2            -0.056957     0.0  \n",
       "3            -0.176536     0.0  \n",
       "4            -0.060374     0.0  \n",
       "...                ...     ...  \n",
       "2699         -0.115036     1.0  \n",
       "2700         -0.087708     1.0  \n",
       "2701         -0.050125     0.0  \n",
       "2702          0.035290     0.0  \n",
       "2703         -0.169702     1.0  \n",
       "\n",
       "[2704 rows x 123 columns]"
      ]
     },
     "execution_count": 31,
     "metadata": {},
     "output_type": "execute_result"
    }
   ],
   "source": [
    "# Get singular stock to use\n",
    "stocks = X_train['Symbol'].unique()\n",
    "\n",
    "# Create dataframe with multiple stocks\n",
    "df = X_train[X_train['Symbol'].isin(stocks[0:2])]\n",
    "df['Target'] = y_train.iloc[df.index]\n",
    "df = df.reset_index(drop=True)\n",
    "df"
   ]
  },
  {
   "cell_type": "code",
   "execution_count": 32,
   "id": "dec91fd6",
   "metadata": {
    "execution": {
     "iopub.execute_input": "2024-06-05T09:59:25.595643Z",
     "iopub.status.busy": "2024-06-05T09:59:25.595208Z",
     "iopub.status.idle": "2024-06-05T09:59:25.603635Z",
     "shell.execute_reply": "2024-06-05T09:59:25.602527Z"
    },
    "papermill": {
     "duration": 0.030353,
     "end_time": "2024-06-05T09:59:25.606173",
     "exception": false,
     "start_time": "2024-06-05T09:59:25.575820",
     "status": "completed"
    },
    "tags": []
   },
   "outputs": [],
   "source": [
    "def df_to_X_y(df, window):\n",
    "\n",
    "    # Convert dataframe to numpy\n",
    "    df_as_np = df.to_numpy()\n",
    "\n",
    "    # Get unique stock ids\n",
    "    stock_ids = df['Symbol'].unique()\n",
    "\n",
    "    # Array to store X and y\n",
    "    X = []\n",
    "    y = []\n",
    "\n",
    "    # Loop through each stock\n",
    "    for stock_id in stock_ids:\n",
    "        # Get data for this stock\n",
    "        stock_data = df_as_np[df['Symbol'] == stock_id]\n",
    "\n",
    "        # Loop through each index in the stock data and get X and y\n",
    "        for i in range(len(stock_data)-window):\n",
    "            # Get values in window\n",
    "            row = stock_data[i: i+window]\n",
    "            X.append(row)\n",
    "\n",
    "            # Get the label (first value after the window)\n",
    "            label = stock_data[i + window][-1]\n",
    "            y.append(label)\n",
    "\n",
    "    return np.array(X), np.array(y)"
   ]
  },
  {
   "cell_type": "code",
   "execution_count": 33,
   "id": "53ce5a2b",
   "metadata": {
    "execution": {
     "iopub.execute_input": "2024-06-05T09:59:25.642686Z",
     "iopub.status.busy": "2024-06-05T09:59:25.642313Z",
     "iopub.status.idle": "2024-06-05T09:59:25.666981Z",
     "shell.execute_reply": "2024-06-05T09:59:25.665635Z"
    },
    "papermill": {
     "duration": 0.046255,
     "end_time": "2024-06-05T09:59:25.669803",
     "exception": false,
     "start_time": "2024-06-05T09:59:25.623548",
     "status": "completed"
    },
    "tags": []
   },
   "outputs": [
    {
     "name": "stdout",
     "output_type": "stream",
     "text": [
      "(2694, 5, 123) (2694,)\n",
      "[[[-1.43932383 -0.32687053 -0.21135994 ...  0.01587707  0.06262152\n",
      "    0.        ]\n",
      "  [-1.43932383 -0.27334157 -0.21135994 ... -0.03157913 -0.05695727\n",
      "    0.        ]\n",
      "  [-1.43932383 -0.29185506 -0.21135994 ...  0.07063432  0.08312119\n",
      "    0.        ]\n",
      "  [-1.43932383 -0.32848732 -0.21135994 ... -0.12649083 -0.05354066\n",
      "    1.        ]\n",
      "  [-1.43932383 -0.32629364 -0.21135994 ... -0.02062754 -0.05012405\n",
      "    1.        ]]\n",
      "\n",
      " [[-1.43932383 -0.27334157 -0.21135994 ... -0.03157913 -0.05695727\n",
      "    0.        ]\n",
      "  [-1.43932383 -0.29185506 -0.21135994 ...  0.07063432  0.08312119\n",
      "    0.        ]\n",
      "  [-1.43932383 -0.32848732 -0.21135994 ... -0.12649083 -0.05354066\n",
      "    1.        ]\n",
      "  [-1.43932383 -0.32629364 -0.21135994 ... -0.02062754 -0.05012405\n",
      "    1.        ]\n",
      "  [-1.43932383 -0.33176647 -0.21135994 ...  0.0195276  -0.05354001\n",
      "    1.        ]]\n",
      "\n",
      " [[-1.43932383 -0.29185506 -0.21135994 ...  0.07063432  0.08312119\n",
      "    0.        ]\n",
      "  [-1.43932383 -0.32848732 -0.21135994 ... -0.12649083 -0.05354066\n",
      "    1.        ]\n",
      "  [-1.43932383 -0.32629364 -0.21135994 ... -0.02062754 -0.05012405\n",
      "    1.        ]\n",
      "  [-1.43932383 -0.33176647 -0.21135994 ...  0.0195276  -0.05354001\n",
      "    1.        ]\n",
      "  [-1.43932383 -0.33953925 -0.21135994 ... -0.01697701  0.02162284\n",
      "    1.        ]]\n",
      "\n",
      " ...\n",
      "\n",
      " [[-1.06906097 -0.3499232  -0.21135994 ...  0.08523505 -0.09795726\n",
      "    1.        ]\n",
      "  [-1.06906097 -0.32320426 -0.21135994 ...  0.27505984  0.45552467\n",
      "    1.        ]\n",
      "  [-1.06906097 -0.36118006 -0.21135994 ...  0.31886342  0.21636578\n",
      "    0.        ]\n",
      "  [-1.06906097 -0.37453953 -0.21135994 ...  0.11078807  0.15828534\n",
      "    1.        ]\n",
      "  [-1.06906097 -0.35963917 -0.21135994 ...  0.02317813  0.04553651\n",
      "    0.        ]]\n",
      "\n",
      " [[-1.06906097 -0.32320426 -0.21135994 ...  0.27505984  0.45552467\n",
      "    1.        ]\n",
      "  [-1.06906097 -0.36118006 -0.21135994 ...  0.31886342  0.21636578\n",
      "    0.        ]\n",
      "  [-1.06906097 -0.37453953 -0.21135994 ...  0.11078807  0.15828534\n",
      "    1.        ]\n",
      "  [-1.06906097 -0.35963917 -0.21135994 ...  0.02317813  0.04553651\n",
      "    0.        ]\n",
      "  [-1.06906097 -0.35784779 -0.21135994 ... -0.10823818 -0.11503575\n",
      "    1.        ]]\n",
      "\n",
      " [[-1.06906097 -0.36118006 -0.21135994 ...  0.31886342  0.21636578\n",
      "    0.        ]\n",
      "  [-1.06906097 -0.37453953 -0.21135994 ...  0.11078807  0.15828534\n",
      "    1.        ]\n",
      "  [-1.06906097 -0.35963917 -0.21135994 ...  0.02317813  0.04553651\n",
      "    0.        ]\n",
      "  [-1.06906097 -0.35784779 -0.21135994 ... -0.10823818 -0.11503575\n",
      "    1.        ]\n",
      "  [-1.06906097 -0.36493741 -0.21135994 ... -0.12649153 -0.08770808\n",
      "    1.        ]]]\n",
      "[1. 1. 1. ... 1. 1. 1.]\n"
     ]
    }
   ],
   "source": [
    "window=5\n",
    "X, y = df_to_X_y(df=df, window=window)\n",
    "print(X.shape, y.shape)\n",
    "print(X)\n",
    "print(y)"
   ]
  },
  {
   "cell_type": "code",
   "execution_count": 34,
   "id": "507d7435",
   "metadata": {
    "execution": {
     "iopub.execute_input": "2024-06-05T09:59:25.707296Z",
     "iopub.status.busy": "2024-06-05T09:59:25.706424Z",
     "iopub.status.idle": "2024-06-05T09:59:25.714304Z",
     "shell.execute_reply": "2024-06-05T09:59:25.713152Z"
    },
    "papermill": {
     "duration": 0.029276,
     "end_time": "2024-06-05T09:59:25.716898",
     "exception": false,
     "start_time": "2024-06-05T09:59:25.687622",
     "status": "completed"
    },
    "tags": []
   },
   "outputs": [
    {
     "name": "stdout",
     "output_type": "stream",
     "text": [
      "(1500, 5, 123) (1500,)\n",
      "(500, 5, 123) (500,)\n",
      "(694, 5, 123) (694,)\n"
     ]
    }
   ],
   "source": [
    "X_train, y_train = X[:1500], y[:1500]\n",
    "X_val, y_val = X[1500:2000], y[1500:2000]\n",
    "X_test, y_test = X[2000:], y[2000:]\n",
    "print(X_train.shape, y_train.shape)\n",
    "print(X_val.shape, y_val.shape)\n",
    "print(X_test.shape, y_test.shape)"
   ]
  },
  {
   "cell_type": "code",
   "execution_count": 35,
   "id": "029d05c6",
   "metadata": {
    "execution": {
     "iopub.execute_input": "2024-06-05T09:59:25.754348Z",
     "iopub.status.busy": "2024-06-05T09:59:25.753930Z",
     "iopub.status.idle": "2024-06-05T09:59:25.897042Z",
     "shell.execute_reply": "2024-06-05T09:59:25.895890Z"
    },
    "papermill": {
     "duration": 0.164837,
     "end_time": "2024-06-05T09:59:25.899547",
     "exception": false,
     "start_time": "2024-06-05T09:59:25.734710",
     "status": "completed"
    },
    "tags": []
   },
   "outputs": [
    {
     "data": {
      "text/html": [
       "<pre style=\"white-space:pre;overflow-x:auto;line-height:normal;font-family:Menlo,'DejaVu Sans Mono',consolas,'Courier New',monospace\"><span style=\"font-weight: bold\">Model: \"sequential\"</span>\n",
       "</pre>\n"
      ],
      "text/plain": [
       "\u001b[1mModel: \"sequential\"\u001b[0m\n"
      ]
     },
     "metadata": {},
     "output_type": "display_data"
    },
    {
     "data": {
      "text/html": [
       "<pre style=\"white-space:pre;overflow-x:auto;line-height:normal;font-family:Menlo,'DejaVu Sans Mono',consolas,'Courier New',monospace\">┏━━━━━━━━━━━━━━━━━━━━━━━━━━━━━━━━━┳━━━━━━━━━━━━━━━━━━━━━━━━┳━━━━━━━━━━━━━━━┓\n",
       "┃<span style=\"font-weight: bold\"> Layer (type)                    </span>┃<span style=\"font-weight: bold\"> Output Shape           </span>┃<span style=\"font-weight: bold\">       Param # </span>┃\n",
       "┡━━━━━━━━━━━━━━━━━━━━━━━━━━━━━━━━━╇━━━━━━━━━━━━━━━━━━━━━━━━╇━━━━━━━━━━━━━━━┩\n",
       "│ lstm (<span style=\"color: #0087ff; text-decoration-color: #0087ff\">LSTM</span>)                     │ (<span style=\"color: #00d7ff; text-decoration-color: #00d7ff\">None</span>, <span style=\"color: #00af00; text-decoration-color: #00af00\">64</span>)             │        <span style=\"color: #00af00; text-decoration-color: #00af00\">48,128</span> │\n",
       "├─────────────────────────────────┼────────────────────────┼───────────────┤\n",
       "│ dense (<span style=\"color: #0087ff; text-decoration-color: #0087ff\">Dense</span>)                   │ (<span style=\"color: #00d7ff; text-decoration-color: #00d7ff\">None</span>, <span style=\"color: #00af00; text-decoration-color: #00af00\">8</span>)              │           <span style=\"color: #00af00; text-decoration-color: #00af00\">520</span> │\n",
       "├─────────────────────────────────┼────────────────────────┼───────────────┤\n",
       "│ dense_1 (<span style=\"color: #0087ff; text-decoration-color: #0087ff\">Dense</span>)                 │ (<span style=\"color: #00d7ff; text-decoration-color: #00d7ff\">None</span>, <span style=\"color: #00af00; text-decoration-color: #00af00\">1</span>)              │             <span style=\"color: #00af00; text-decoration-color: #00af00\">9</span> │\n",
       "└─────────────────────────────────┴────────────────────────┴───────────────┘\n",
       "</pre>\n"
      ],
      "text/plain": [
       "┏━━━━━━━━━━━━━━━━━━━━━━━━━━━━━━━━━┳━━━━━━━━━━━━━━━━━━━━━━━━┳━━━━━━━━━━━━━━━┓\n",
       "┃\u001b[1m \u001b[0m\u001b[1mLayer (type)                   \u001b[0m\u001b[1m \u001b[0m┃\u001b[1m \u001b[0m\u001b[1mOutput Shape          \u001b[0m\u001b[1m \u001b[0m┃\u001b[1m \u001b[0m\u001b[1m      Param #\u001b[0m\u001b[1m \u001b[0m┃\n",
       "┡━━━━━━━━━━━━━━━━━━━━━━━━━━━━━━━━━╇━━━━━━━━━━━━━━━━━━━━━━━━╇━━━━━━━━━━━━━━━┩\n",
       "│ lstm (\u001b[38;5;33mLSTM\u001b[0m)                     │ (\u001b[38;5;45mNone\u001b[0m, \u001b[38;5;34m64\u001b[0m)             │        \u001b[38;5;34m48,128\u001b[0m │\n",
       "├─────────────────────────────────┼────────────────────────┼───────────────┤\n",
       "│ dense (\u001b[38;5;33mDense\u001b[0m)                   │ (\u001b[38;5;45mNone\u001b[0m, \u001b[38;5;34m8\u001b[0m)              │           \u001b[38;5;34m520\u001b[0m │\n",
       "├─────────────────────────────────┼────────────────────────┼───────────────┤\n",
       "│ dense_1 (\u001b[38;5;33mDense\u001b[0m)                 │ (\u001b[38;5;45mNone\u001b[0m, \u001b[38;5;34m1\u001b[0m)              │             \u001b[38;5;34m9\u001b[0m │\n",
       "└─────────────────────────────────┴────────────────────────┴───────────────┘\n"
      ]
     },
     "metadata": {},
     "output_type": "display_data"
    },
    {
     "data": {
      "text/html": [
       "<pre style=\"white-space:pre;overflow-x:auto;line-height:normal;font-family:Menlo,'DejaVu Sans Mono',consolas,'Courier New',monospace\"><span style=\"font-weight: bold\"> Total params: </span><span style=\"color: #00af00; text-decoration-color: #00af00\">48,657</span> (190.07 KB)\n",
       "</pre>\n"
      ],
      "text/plain": [
       "\u001b[1m Total params: \u001b[0m\u001b[38;5;34m48,657\u001b[0m (190.07 KB)\n"
      ]
     },
     "metadata": {},
     "output_type": "display_data"
    },
    {
     "data": {
      "text/html": [
       "<pre style=\"white-space:pre;overflow-x:auto;line-height:normal;font-family:Menlo,'DejaVu Sans Mono',consolas,'Courier New',monospace\"><span style=\"font-weight: bold\"> Trainable params: </span><span style=\"color: #00af00; text-decoration-color: #00af00\">48,657</span> (190.07 KB)\n",
       "</pre>\n"
      ],
      "text/plain": [
       "\u001b[1m Trainable params: \u001b[0m\u001b[38;5;34m48,657\u001b[0m (190.07 KB)\n"
      ]
     },
     "metadata": {},
     "output_type": "display_data"
    },
    {
     "data": {
      "text/html": [
       "<pre style=\"white-space:pre;overflow-x:auto;line-height:normal;font-family:Menlo,'DejaVu Sans Mono',consolas,'Courier New',monospace\"><span style=\"font-weight: bold\"> Non-trainable params: </span><span style=\"color: #00af00; text-decoration-color: #00af00\">0</span> (0.00 B)\n",
       "</pre>\n"
      ],
      "text/plain": [
       "\u001b[1m Non-trainable params: \u001b[0m\u001b[38;5;34m0\u001b[0m (0.00 B)\n"
      ]
     },
     "metadata": {},
     "output_type": "display_data"
    }
   ],
   "source": [
    "model = Sequential()\n",
    "model.add(InputLayer((window, X.shape[2]))) # Window size and number of variables used to predict\n",
    "model.add(LSTM(64))\n",
    "model.add(Dense(8, 'relu'))\n",
    "model.add(Dense(1, 'sigmoid')) # Use sigmoid activation function to output probability of positive class\n",
    "model.summary()"
   ]
  },
  {
   "cell_type": "code",
   "execution_count": 36,
   "id": "0cd7b321",
   "metadata": {
    "execution": {
     "iopub.execute_input": "2024-06-05T09:59:25.940906Z",
     "iopub.status.busy": "2024-06-05T09:59:25.939830Z",
     "iopub.status.idle": "2024-06-05T09:59:25.945722Z",
     "shell.execute_reply": "2024-06-05T09:59:25.944335Z"
    },
    "papermill": {
     "duration": 0.029149,
     "end_time": "2024-06-05T09:59:25.948317",
     "exception": false,
     "start_time": "2024-06-05T09:59:25.919168",
     "status": "completed"
    },
    "tags": []
   },
   "outputs": [],
   "source": [
    "# Save model\n",
    "cp = ModelCheckpoint(\n",
    "    'model1.keras',\n",
    "    save_best_only=True\n",
    ")"
   ]
  },
  {
   "cell_type": "code",
   "execution_count": 37,
   "id": "0b7414fa",
   "metadata": {
    "execution": {
     "iopub.execute_input": "2024-06-05T09:59:25.988532Z",
     "iopub.status.busy": "2024-06-05T09:59:25.987728Z",
     "iopub.status.idle": "2024-06-05T09:59:58.908922Z",
     "shell.execute_reply": "2024-06-05T09:59:58.907521Z"
    },
    "papermill": {
     "duration": 32.944199,
     "end_time": "2024-06-05T09:59:58.911666",
     "exception": false,
     "start_time": "2024-06-05T09:59:25.967467",
     "status": "completed"
    },
    "tags": []
   },
   "outputs": [
    {
     "name": "stdout",
     "output_type": "stream",
     "text": [
      "Epoch 1/100\n",
      "\u001b[1m47/47\u001b[0m \u001b[32m━━━━━━━━━━━━━━━━━━━━\u001b[0m\u001b[37m\u001b[0m \u001b[1m3s\u001b[0m 14ms/step - accuracy: 0.5762 - loss: 0.6854 - val_accuracy: 0.5340 - val_loss: 0.6980\n",
      "Epoch 2/100\n",
      "\u001b[1m47/47\u001b[0m \u001b[32m━━━━━━━━━━━━━━━━━━━━\u001b[0m\u001b[37m\u001b[0m \u001b[1m0s\u001b[0m 6ms/step - accuracy: 0.5670 - loss: 0.6788 - val_accuracy: 0.5320 - val_loss: 0.6977\n",
      "Epoch 3/100\n",
      "\u001b[1m47/47\u001b[0m \u001b[32m━━━━━━━━━━━━━━━━━━━━\u001b[0m\u001b[37m\u001b[0m \u001b[1m0s\u001b[0m 6ms/step - accuracy: 0.5686 - loss: 0.6743 - val_accuracy: 0.5340 - val_loss: 0.6985\n",
      "Epoch 4/100\n",
      "\u001b[1m47/47\u001b[0m \u001b[32m━━━━━━━━━━━━━━━━━━━━\u001b[0m\u001b[37m\u001b[0m \u001b[1m0s\u001b[0m 6ms/step - accuracy: 0.5664 - loss: 0.6666 - val_accuracy: 0.5320 - val_loss: 0.6987\n",
      "Epoch 5/100\n",
      "\u001b[1m47/47\u001b[0m \u001b[32m━━━━━━━━━━━━━━━━━━━━\u001b[0m\u001b[37m\u001b[0m \u001b[1m0s\u001b[0m 6ms/step - accuracy: 0.5764 - loss: 0.6641 - val_accuracy: 0.5340 - val_loss: 0.6986\n",
      "Epoch 6/100\n",
      "\u001b[1m47/47\u001b[0m \u001b[32m━━━━━━━━━━━━━━━━━━━━\u001b[0m\u001b[37m\u001b[0m \u001b[1m0s\u001b[0m 6ms/step - accuracy: 0.5697 - loss: 0.6561 - val_accuracy: 0.5360 - val_loss: 0.7003\n",
      "Epoch 7/100\n",
      "\u001b[1m47/47\u001b[0m \u001b[32m━━━━━━━━━━━━━━━━━━━━\u001b[0m\u001b[37m\u001b[0m \u001b[1m0s\u001b[0m 6ms/step - accuracy: 0.5788 - loss: 0.6488 - val_accuracy: 0.5360 - val_loss: 0.7017\n",
      "Epoch 8/100\n",
      "\u001b[1m47/47\u001b[0m \u001b[32m━━━━━━━━━━━━━━━━━━━━\u001b[0m\u001b[37m\u001b[0m \u001b[1m0s\u001b[0m 6ms/step - accuracy: 0.6166 - loss: 0.6381 - val_accuracy: 0.5360 - val_loss: 0.7030\n",
      "Epoch 9/100\n",
      "\u001b[1m47/47\u001b[0m \u001b[32m━━━━━━━━━━━━━━━━━━━━\u001b[0m\u001b[37m\u001b[0m \u001b[1m0s\u001b[0m 6ms/step - accuracy: 0.6128 - loss: 0.6284 - val_accuracy: 0.5360 - val_loss: 0.7041\n",
      "Epoch 10/100\n",
      "\u001b[1m47/47\u001b[0m \u001b[32m━━━━━━━━━━━━━━━━━━━━\u001b[0m\u001b[37m\u001b[0m \u001b[1m0s\u001b[0m 6ms/step - accuracy: 0.6192 - loss: 0.6350 - val_accuracy: 0.5340 - val_loss: 0.7061\n",
      "Epoch 11/100\n",
      "\u001b[1m47/47\u001b[0m \u001b[32m━━━━━━━━━━━━━━━━━━━━\u001b[0m\u001b[37m\u001b[0m \u001b[1m0s\u001b[0m 6ms/step - accuracy: 0.6341 - loss: 0.6220 - val_accuracy: 0.5340 - val_loss: 0.7081\n",
      "Epoch 12/100\n",
      "\u001b[1m47/47\u001b[0m \u001b[32m━━━━━━━━━━━━━━━━━━━━\u001b[0m\u001b[37m\u001b[0m \u001b[1m0s\u001b[0m 6ms/step - accuracy: 0.6223 - loss: 0.6177 - val_accuracy: 0.5340 - val_loss: 0.7120\n",
      "Epoch 13/100\n",
      "\u001b[1m47/47\u001b[0m \u001b[32m━━━━━━━━━━━━━━━━━━━━\u001b[0m\u001b[37m\u001b[0m \u001b[1m0s\u001b[0m 6ms/step - accuracy: 0.6536 - loss: 0.6086 - val_accuracy: 0.5320 - val_loss: 0.7138\n",
      "Epoch 14/100\n",
      "\u001b[1m47/47\u001b[0m \u001b[32m━━━━━━━━━━━━━━━━━━━━\u001b[0m\u001b[37m\u001b[0m \u001b[1m0s\u001b[0m 6ms/step - accuracy: 0.6604 - loss: 0.6027 - val_accuracy: 0.5320 - val_loss: 0.7177\n",
      "Epoch 15/100\n",
      "\u001b[1m47/47\u001b[0m \u001b[32m━━━━━━━━━━━━━━━━━━━━\u001b[0m\u001b[37m\u001b[0m \u001b[1m0s\u001b[0m 6ms/step - accuracy: 0.6757 - loss: 0.5805 - val_accuracy: 0.5320 - val_loss: 0.7183\n",
      "Epoch 16/100\n",
      "\u001b[1m47/47\u001b[0m \u001b[32m━━━━━━━━━━━━━━━━━━━━\u001b[0m\u001b[37m\u001b[0m \u001b[1m0s\u001b[0m 5ms/step - accuracy: 0.7210 - loss: 0.5824 - val_accuracy: 0.5320 - val_loss: 0.7220\n",
      "Epoch 17/100\n",
      "\u001b[1m47/47\u001b[0m \u001b[32m━━━━━━━━━━━━━━━━━━━━\u001b[0m\u001b[37m\u001b[0m \u001b[1m0s\u001b[0m 6ms/step - accuracy: 0.7163 - loss: 0.5735 - val_accuracy: 0.5320 - val_loss: 0.7235\n",
      "Epoch 18/100\n",
      "\u001b[1m47/47\u001b[0m \u001b[32m━━━━━━━━━━━━━━━━━━━━\u001b[0m\u001b[37m\u001b[0m \u001b[1m0s\u001b[0m 6ms/step - accuracy: 0.7356 - loss: 0.5657 - val_accuracy: 0.5320 - val_loss: 0.7270\n",
      "Epoch 19/100\n",
      "\u001b[1m47/47\u001b[0m \u001b[32m━━━━━━━━━━━━━━━━━━━━\u001b[0m\u001b[37m\u001b[0m \u001b[1m0s\u001b[0m 6ms/step - accuracy: 0.7355 - loss: 0.5671 - val_accuracy: 0.5320 - val_loss: 0.7300\n",
      "Epoch 20/100\n",
      "\u001b[1m47/47\u001b[0m \u001b[32m━━━━━━━━━━━━━━━━━━━━\u001b[0m\u001b[37m\u001b[0m \u001b[1m0s\u001b[0m 6ms/step - accuracy: 0.7675 - loss: 0.5519 - val_accuracy: 0.5340 - val_loss: 0.7330\n",
      "Epoch 21/100\n",
      "\u001b[1m47/47\u001b[0m \u001b[32m━━━━━━━━━━━━━━━━━━━━\u001b[0m\u001b[37m\u001b[0m \u001b[1m1s\u001b[0m 6ms/step - accuracy: 0.7523 - loss: 0.5457 - val_accuracy: 0.5360 - val_loss: 0.7378\n",
      "Epoch 22/100\n",
      "\u001b[1m47/47\u001b[0m \u001b[32m━━━━━━━━━━━━━━━━━━━━\u001b[0m\u001b[37m\u001b[0m \u001b[1m0s\u001b[0m 6ms/step - accuracy: 0.7782 - loss: 0.5340 - val_accuracy: 0.5340 - val_loss: 0.7424\n",
      "Epoch 23/100\n",
      "\u001b[1m47/47\u001b[0m \u001b[32m━━━━━━━━━━━━━━━━━━━━\u001b[0m\u001b[37m\u001b[0m \u001b[1m0s\u001b[0m 7ms/step - accuracy: 0.7811 - loss: 0.5307 - val_accuracy: 0.5340 - val_loss: 0.7461\n",
      "Epoch 24/100\n",
      "\u001b[1m47/47\u001b[0m \u001b[32m━━━━━━━━━━━━━━━━━━━━\u001b[0m\u001b[37m\u001b[0m \u001b[1m0s\u001b[0m 6ms/step - accuracy: 0.7830 - loss: 0.5171 - val_accuracy: 0.5380 - val_loss: 0.7492\n",
      "Epoch 25/100\n",
      "\u001b[1m47/47\u001b[0m \u001b[32m━━━━━━━━━━━━━━━━━━━━\u001b[0m\u001b[37m\u001b[0m \u001b[1m0s\u001b[0m 6ms/step - accuracy: 0.7813 - loss: 0.5199 - val_accuracy: 0.5380 - val_loss: 0.7518\n",
      "Epoch 26/100\n",
      "\u001b[1m47/47\u001b[0m \u001b[32m━━━━━━━━━━━━━━━━━━━━\u001b[0m\u001b[37m\u001b[0m \u001b[1m0s\u001b[0m 6ms/step - accuracy: 0.7962 - loss: 0.5091 - val_accuracy: 0.5380 - val_loss: 0.7570\n",
      "Epoch 27/100\n",
      "\u001b[1m47/47\u001b[0m \u001b[32m━━━━━━━━━━━━━━━━━━━━\u001b[0m\u001b[37m\u001b[0m \u001b[1m0s\u001b[0m 6ms/step - accuracy: 0.7981 - loss: 0.4884 - val_accuracy: 0.5400 - val_loss: 0.7587\n",
      "Epoch 28/100\n",
      "\u001b[1m47/47\u001b[0m \u001b[32m━━━━━━━━━━━━━━━━━━━━\u001b[0m\u001b[37m\u001b[0m \u001b[1m0s\u001b[0m 6ms/step - accuracy: 0.8161 - loss: 0.4844 - val_accuracy: 0.5400 - val_loss: 0.7641\n",
      "Epoch 29/100\n",
      "\u001b[1m47/47\u001b[0m \u001b[32m━━━━━━━━━━━━━━━━━━━━\u001b[0m\u001b[37m\u001b[0m \u001b[1m0s\u001b[0m 6ms/step - accuracy: 0.7997 - loss: 0.4902 - val_accuracy: 0.5420 - val_loss: 0.7687\n",
      "Epoch 30/100\n",
      "\u001b[1m47/47\u001b[0m \u001b[32m━━━━━━━━━━━━━━━━━━━━\u001b[0m\u001b[37m\u001b[0m \u001b[1m0s\u001b[0m 6ms/step - accuracy: 0.8058 - loss: 0.4757 - val_accuracy: 0.5420 - val_loss: 0.7749\n",
      "Epoch 31/100\n",
      "\u001b[1m47/47\u001b[0m \u001b[32m━━━━━━━━━━━━━━━━━━━━\u001b[0m\u001b[37m\u001b[0m \u001b[1m0s\u001b[0m 6ms/step - accuracy: 0.8186 - loss: 0.4698 - val_accuracy: 0.5480 - val_loss: 0.7709\n",
      "Epoch 32/100\n",
      "\u001b[1m47/47\u001b[0m \u001b[32m━━━━━━━━━━━━━━━━━━━━\u001b[0m\u001b[37m\u001b[0m \u001b[1m0s\u001b[0m 6ms/step - accuracy: 0.8194 - loss: 0.4563 - val_accuracy: 0.5460 - val_loss: 0.7803\n",
      "Epoch 33/100\n",
      "\u001b[1m47/47\u001b[0m \u001b[32m━━━━━━━━━━━━━━━━━━━━\u001b[0m\u001b[37m\u001b[0m \u001b[1m0s\u001b[0m 6ms/step - accuracy: 0.8380 - loss: 0.4446 - val_accuracy: 0.5520 - val_loss: 0.7817\n",
      "Epoch 34/100\n",
      "\u001b[1m47/47\u001b[0m \u001b[32m━━━━━━━━━━━━━━━━━━━━\u001b[0m\u001b[37m\u001b[0m \u001b[1m0s\u001b[0m 6ms/step - accuracy: 0.8173 - loss: 0.4519 - val_accuracy: 0.5620 - val_loss: 0.7865\n",
      "Epoch 35/100\n",
      "\u001b[1m47/47\u001b[0m \u001b[32m━━━━━━━━━━━━━━━━━━━━\u001b[0m\u001b[37m\u001b[0m \u001b[1m0s\u001b[0m 5ms/step - accuracy: 0.8268 - loss: 0.4404 - val_accuracy: 0.5600 - val_loss: 0.7858\n",
      "Epoch 36/100\n",
      "\u001b[1m47/47\u001b[0m \u001b[32m━━━━━━━━━━━━━━━━━━━━\u001b[0m\u001b[37m\u001b[0m \u001b[1m0s\u001b[0m 6ms/step - accuracy: 0.8189 - loss: 0.4415 - val_accuracy: 0.5620 - val_loss: 0.7901\n",
      "Epoch 37/100\n",
      "\u001b[1m47/47\u001b[0m \u001b[32m━━━━━━━━━━━━━━━━━━━━\u001b[0m\u001b[37m\u001b[0m \u001b[1m0s\u001b[0m 6ms/step - accuracy: 0.8271 - loss: 0.4319 - val_accuracy: 0.5580 - val_loss: 0.7981\n",
      "Epoch 38/100\n",
      "\u001b[1m47/47\u001b[0m \u001b[32m━━━━━━━━━━━━━━━━━━━━\u001b[0m\u001b[37m\u001b[0m \u001b[1m0s\u001b[0m 6ms/step - accuracy: 0.8391 - loss: 0.4317 - val_accuracy: 0.5660 - val_loss: 0.7928\n",
      "Epoch 39/100\n",
      "\u001b[1m47/47\u001b[0m \u001b[32m━━━━━━━━━━━━━━━━━━━━\u001b[0m\u001b[37m\u001b[0m \u001b[1m0s\u001b[0m 6ms/step - accuracy: 0.8398 - loss: 0.4313 - val_accuracy: 0.5620 - val_loss: 0.8098\n",
      "Epoch 40/100\n",
      "\u001b[1m47/47\u001b[0m \u001b[32m━━━━━━━━━━━━━━━━━━━━\u001b[0m\u001b[37m\u001b[0m \u001b[1m0s\u001b[0m 6ms/step - accuracy: 0.8353 - loss: 0.4224 - val_accuracy: 0.5680 - val_loss: 0.8097\n",
      "Epoch 41/100\n",
      "\u001b[1m47/47\u001b[0m \u001b[32m━━━━━━━━━━━━━━━━━━━━\u001b[0m\u001b[37m\u001b[0m \u001b[1m0s\u001b[0m 6ms/step - accuracy: 0.8429 - loss: 0.4054 - val_accuracy: 0.5720 - val_loss: 0.8072\n",
      "Epoch 42/100\n",
      "\u001b[1m47/47\u001b[0m \u001b[32m━━━━━━━━━━━━━━━━━━━━\u001b[0m\u001b[37m\u001b[0m \u001b[1m0s\u001b[0m 6ms/step - accuracy: 0.8376 - loss: 0.4017 - val_accuracy: 0.5780 - val_loss: 0.8130\n",
      "Epoch 43/100\n",
      "\u001b[1m47/47\u001b[0m \u001b[32m━━━━━━━━━━━━━━━━━━━━\u001b[0m\u001b[37m\u001b[0m \u001b[1m0s\u001b[0m 6ms/step - accuracy: 0.8363 - loss: 0.3993 - val_accuracy: 0.5760 - val_loss: 0.8211\n",
      "Epoch 44/100\n",
      "\u001b[1m47/47\u001b[0m \u001b[32m━━━━━━━━━━━━━━━━━━━━\u001b[0m\u001b[37m\u001b[0m \u001b[1m0s\u001b[0m 6ms/step - accuracy: 0.8612 - loss: 0.3785 - val_accuracy: 0.5780 - val_loss: 0.8230\n",
      "Epoch 45/100\n",
      "\u001b[1m47/47\u001b[0m \u001b[32m━━━━━━━━━━━━━━━━━━━━\u001b[0m\u001b[37m\u001b[0m \u001b[1m0s\u001b[0m 6ms/step - accuracy: 0.8470 - loss: 0.3853 - val_accuracy: 0.5760 - val_loss: 0.8331\n",
      "Epoch 46/100\n",
      "\u001b[1m47/47\u001b[0m \u001b[32m━━━━━━━━━━━━━━━━━━━━\u001b[0m\u001b[37m\u001b[0m \u001b[1m0s\u001b[0m 6ms/step - accuracy: 0.8542 - loss: 0.3745 - val_accuracy: 0.5800 - val_loss: 0.8396\n",
      "Epoch 47/100\n",
      "\u001b[1m47/47\u001b[0m \u001b[32m━━━━━━━━━━━━━━━━━━━━\u001b[0m\u001b[37m\u001b[0m \u001b[1m0s\u001b[0m 6ms/step - accuracy: 0.8556 - loss: 0.3690 - val_accuracy: 0.5860 - val_loss: 0.8365\n",
      "Epoch 48/100\n",
      "\u001b[1m47/47\u001b[0m \u001b[32m━━━━━━━━━━━━━━━━━━━━\u001b[0m\u001b[37m\u001b[0m \u001b[1m0s\u001b[0m 6ms/step - accuracy: 0.8592 - loss: 0.3679 - val_accuracy: 0.5840 - val_loss: 0.8436\n",
      "Epoch 49/100\n",
      "\u001b[1m47/47\u001b[0m \u001b[32m━━━━━━━━━━━━━━━━━━━━\u001b[0m\u001b[37m\u001b[0m \u001b[1m0s\u001b[0m 6ms/step - accuracy: 0.8669 - loss: 0.3513 - val_accuracy: 0.5860 - val_loss: 0.8510\n",
      "Epoch 50/100\n",
      "\u001b[1m47/47\u001b[0m \u001b[32m━━━━━━━━━━━━━━━━━━━━\u001b[0m\u001b[37m\u001b[0m \u001b[1m0s\u001b[0m 6ms/step - accuracy: 0.8641 - loss: 0.3598 - val_accuracy: 0.5820 - val_loss: 0.8636\n",
      "Epoch 51/100\n",
      "\u001b[1m47/47\u001b[0m \u001b[32m━━━━━━━━━━━━━━━━━━━━\u001b[0m\u001b[37m\u001b[0m \u001b[1m0s\u001b[0m 6ms/step - accuracy: 0.8592 - loss: 0.3533 - val_accuracy: 0.5780 - val_loss: 0.8541\n",
      "Epoch 52/100\n",
      "\u001b[1m47/47\u001b[0m \u001b[32m━━━━━━━━━━━━━━━━━━━━\u001b[0m\u001b[37m\u001b[0m \u001b[1m0s\u001b[0m 6ms/step - accuracy: 0.8719 - loss: 0.3421 - val_accuracy: 0.5800 - val_loss: 0.8648\n",
      "Epoch 53/100\n",
      "\u001b[1m47/47\u001b[0m \u001b[32m━━━━━━━━━━━━━━━━━━━━\u001b[0m\u001b[37m\u001b[0m \u001b[1m0s\u001b[0m 6ms/step - accuracy: 0.8719 - loss: 0.3458 - val_accuracy: 0.5860 - val_loss: 0.8655\n",
      "Epoch 54/100\n",
      "\u001b[1m47/47\u001b[0m \u001b[32m━━━━━━━━━━━━━━━━━━━━\u001b[0m\u001b[37m\u001b[0m \u001b[1m0s\u001b[0m 6ms/step - accuracy: 0.8781 - loss: 0.3310 - val_accuracy: 0.5860 - val_loss: 0.8679\n",
      "Epoch 55/100\n",
      "\u001b[1m47/47\u001b[0m \u001b[32m━━━━━━━━━━━━━━━━━━━━\u001b[0m\u001b[37m\u001b[0m \u001b[1m0s\u001b[0m 6ms/step - accuracy: 0.8628 - loss: 0.3427 - val_accuracy: 0.5840 - val_loss: 0.8824\n",
      "Epoch 56/100\n",
      "\u001b[1m47/47\u001b[0m \u001b[32m━━━━━━━━━━━━━━━━━━━━\u001b[0m\u001b[37m\u001b[0m \u001b[1m0s\u001b[0m 5ms/step - accuracy: 0.8668 - loss: 0.3375 - val_accuracy: 0.5880 - val_loss: 0.8815\n",
      "Epoch 57/100\n",
      "\u001b[1m47/47\u001b[0m \u001b[32m━━━━━━━━━━━━━━━━━━━━\u001b[0m\u001b[37m\u001b[0m \u001b[1m0s\u001b[0m 6ms/step - accuracy: 0.8876 - loss: 0.3084 - val_accuracy: 0.5880 - val_loss: 0.8816\n",
      "Epoch 58/100\n",
      "\u001b[1m47/47\u001b[0m \u001b[32m━━━━━━━━━━━━━━━━━━━━\u001b[0m\u001b[37m\u001b[0m \u001b[1m0s\u001b[0m 6ms/step - accuracy: 0.8698 - loss: 0.3295 - val_accuracy: 0.5840 - val_loss: 0.8870\n",
      "Epoch 59/100\n",
      "\u001b[1m47/47\u001b[0m \u001b[32m━━━━━━━━━━━━━━━━━━━━\u001b[0m\u001b[37m\u001b[0m \u001b[1m0s\u001b[0m 6ms/step - accuracy: 0.8911 - loss: 0.3074 - val_accuracy: 0.5880 - val_loss: 0.8902\n",
      "Epoch 60/100\n",
      "\u001b[1m47/47\u001b[0m \u001b[32m━━━━━━━━━━━━━━━━━━━━\u001b[0m\u001b[37m\u001b[0m \u001b[1m0s\u001b[0m 5ms/step - accuracy: 0.8837 - loss: 0.2968 - val_accuracy: 0.5860 - val_loss: 0.9071\n",
      "Epoch 61/100\n",
      "\u001b[1m47/47\u001b[0m \u001b[32m━━━━━━━━━━━━━━━━━━━━\u001b[0m\u001b[37m\u001b[0m \u001b[1m0s\u001b[0m 6ms/step - accuracy: 0.8907 - loss: 0.2911 - val_accuracy: 0.5840 - val_loss: 0.9112\n",
      "Epoch 62/100\n",
      "\u001b[1m47/47\u001b[0m \u001b[32m━━━━━━━━━━━━━━━━━━━━\u001b[0m\u001b[37m\u001b[0m \u001b[1m0s\u001b[0m 6ms/step - accuracy: 0.8735 - loss: 0.3061 - val_accuracy: 0.5840 - val_loss: 0.9178\n",
      "Epoch 63/100\n",
      "\u001b[1m47/47\u001b[0m \u001b[32m━━━━━━━━━━━━━━━━━━━━\u001b[0m\u001b[37m\u001b[0m \u001b[1m0s\u001b[0m 6ms/step - accuracy: 0.8941 - loss: 0.2912 - val_accuracy: 0.5900 - val_loss: 0.9102\n",
      "Epoch 64/100\n",
      "\u001b[1m47/47\u001b[0m \u001b[32m━━━━━━━━━━━━━━━━━━━━\u001b[0m\u001b[37m\u001b[0m \u001b[1m0s\u001b[0m 6ms/step - accuracy: 0.8954 - loss: 0.2928 - val_accuracy: 0.5860 - val_loss: 0.9239\n",
      "Epoch 65/100\n",
      "\u001b[1m47/47\u001b[0m \u001b[32m━━━━━━━━━━━━━━━━━━━━\u001b[0m\u001b[37m\u001b[0m \u001b[1m0s\u001b[0m 6ms/step - accuracy: 0.8785 - loss: 0.2955 - val_accuracy: 0.5860 - val_loss: 0.9355\n",
      "Epoch 66/100\n",
      "\u001b[1m47/47\u001b[0m \u001b[32m━━━━━━━━━━━━━━━━━━━━\u001b[0m\u001b[37m\u001b[0m \u001b[1m0s\u001b[0m 6ms/step - accuracy: 0.9045 - loss: 0.2754 - val_accuracy: 0.5860 - val_loss: 0.9376\n",
      "Epoch 67/100\n",
      "\u001b[1m47/47\u001b[0m \u001b[32m━━━━━━━━━━━━━━━━━━━━\u001b[0m\u001b[37m\u001b[0m \u001b[1m0s\u001b[0m 6ms/step - accuracy: 0.9055 - loss: 0.2703 - val_accuracy: 0.5900 - val_loss: 0.9347\n",
      "Epoch 68/100\n",
      "\u001b[1m47/47\u001b[0m \u001b[32m━━━━━━━━━━━━━━━━━━━━\u001b[0m\u001b[37m\u001b[0m \u001b[1m0s\u001b[0m 6ms/step - accuracy: 0.8999 - loss: 0.2708 - val_accuracy: 0.5860 - val_loss: 0.9482\n",
      "Epoch 69/100\n",
      "\u001b[1m47/47\u001b[0m \u001b[32m━━━━━━━━━━━━━━━━━━━━\u001b[0m\u001b[37m\u001b[0m \u001b[1m0s\u001b[0m 6ms/step - accuracy: 0.8978 - loss: 0.2804 - val_accuracy: 0.5860 - val_loss: 0.9547\n",
      "Epoch 70/100\n",
      "\u001b[1m47/47\u001b[0m \u001b[32m━━━━━━━━━━━━━━━━━━━━\u001b[0m\u001b[37m\u001b[0m \u001b[1m0s\u001b[0m 6ms/step - accuracy: 0.9037 - loss: 0.2597 - val_accuracy: 0.5900 - val_loss: 0.9619\n",
      "Epoch 71/100\n",
      "\u001b[1m47/47\u001b[0m \u001b[32m━━━━━━━━━━━━━━━━━━━━\u001b[0m\u001b[37m\u001b[0m \u001b[1m0s\u001b[0m 6ms/step - accuracy: 0.9055 - loss: 0.2651 - val_accuracy: 0.5920 - val_loss: 0.9651\n",
      "Epoch 72/100\n",
      "\u001b[1m47/47\u001b[0m \u001b[32m━━━━━━━━━━━━━━━━━━━━\u001b[0m\u001b[37m\u001b[0m \u001b[1m0s\u001b[0m 6ms/step - accuracy: 0.9043 - loss: 0.2629 - val_accuracy: 0.5860 - val_loss: 0.9683\n",
      "Epoch 73/100\n",
      "\u001b[1m47/47\u001b[0m \u001b[32m━━━━━━━━━━━━━━━━━━━━\u001b[0m\u001b[37m\u001b[0m \u001b[1m0s\u001b[0m 6ms/step - accuracy: 0.9147 - loss: 0.2503 - val_accuracy: 0.5840 - val_loss: 0.9853\n",
      "Epoch 74/100\n",
      "\u001b[1m47/47\u001b[0m \u001b[32m━━━━━━━━━━━━━━━━━━━━\u001b[0m\u001b[37m\u001b[0m \u001b[1m0s\u001b[0m 6ms/step - accuracy: 0.9199 - loss: 0.2528 - val_accuracy: 0.5920 - val_loss: 0.9834\n",
      "Epoch 75/100\n",
      "\u001b[1m47/47\u001b[0m \u001b[32m━━━━━━━━━━━━━━━━━━━━\u001b[0m\u001b[37m\u001b[0m \u001b[1m0s\u001b[0m 5ms/step - accuracy: 0.9246 - loss: 0.2358 - val_accuracy: 0.5900 - val_loss: 0.9822\n",
      "Epoch 76/100\n",
      "\u001b[1m47/47\u001b[0m \u001b[32m━━━━━━━━━━━━━━━━━━━━\u001b[0m\u001b[37m\u001b[0m \u001b[1m0s\u001b[0m 6ms/step - accuracy: 0.9106 - loss: 0.2577 - val_accuracy: 0.5940 - val_loss: 0.9905\n",
      "Epoch 77/100\n",
      "\u001b[1m47/47\u001b[0m \u001b[32m━━━━━━━━━━━━━━━━━━━━\u001b[0m\u001b[37m\u001b[0m \u001b[1m0s\u001b[0m 6ms/step - accuracy: 0.9173 - loss: 0.2412 - val_accuracy: 0.5880 - val_loss: 1.0065\n",
      "Epoch 78/100\n",
      "\u001b[1m47/47\u001b[0m \u001b[32m━━━━━━━━━━━━━━━━━━━━\u001b[0m\u001b[37m\u001b[0m \u001b[1m0s\u001b[0m 6ms/step - accuracy: 0.9105 - loss: 0.2403 - val_accuracy: 0.5920 - val_loss: 0.9993\n",
      "Epoch 79/100\n",
      "\u001b[1m47/47\u001b[0m \u001b[32m━━━━━━━━━━━━━━━━━━━━\u001b[0m\u001b[37m\u001b[0m \u001b[1m0s\u001b[0m 6ms/step - accuracy: 0.9181 - loss: 0.2444 - val_accuracy: 0.5880 - val_loss: 1.0245\n",
      "Epoch 80/100\n",
      "\u001b[1m47/47\u001b[0m \u001b[32m━━━━━━━━━━━━━━━━━━━━\u001b[0m\u001b[37m\u001b[0m \u001b[1m0s\u001b[0m 6ms/step - accuracy: 0.9073 - loss: 0.2483 - val_accuracy: 0.5920 - val_loss: 1.0253\n",
      "Epoch 81/100\n",
      "\u001b[1m47/47\u001b[0m \u001b[32m━━━━━━━━━━━━━━━━━━━━\u001b[0m\u001b[37m\u001b[0m \u001b[1m0s\u001b[0m 6ms/step - accuracy: 0.9219 - loss: 0.2334 - val_accuracy: 0.5880 - val_loss: 1.0185\n",
      "Epoch 82/100\n",
      "\u001b[1m47/47\u001b[0m \u001b[32m━━━━━━━━━━━━━━━━━━━━\u001b[0m\u001b[37m\u001b[0m \u001b[1m0s\u001b[0m 6ms/step - accuracy: 0.9211 - loss: 0.2290 - val_accuracy: 0.5920 - val_loss: 1.0448\n",
      "Epoch 83/100\n",
      "\u001b[1m47/47\u001b[0m \u001b[32m━━━━━━━━━━━━━━━━━━━━\u001b[0m\u001b[37m\u001b[0m \u001b[1m0s\u001b[0m 6ms/step - accuracy: 0.9278 - loss: 0.2134 - val_accuracy: 0.5860 - val_loss: 1.0393\n",
      "Epoch 84/100\n",
      "\u001b[1m47/47\u001b[0m \u001b[32m━━━━━━━━━━━━━━━━━━━━\u001b[0m\u001b[37m\u001b[0m \u001b[1m0s\u001b[0m 6ms/step - accuracy: 0.9289 - loss: 0.2130 - val_accuracy: 0.5860 - val_loss: 1.0345\n",
      "Epoch 85/100\n",
      "\u001b[1m47/47\u001b[0m \u001b[32m━━━━━━━━━━━━━━━━━━━━\u001b[0m\u001b[37m\u001b[0m \u001b[1m0s\u001b[0m 6ms/step - accuracy: 0.9435 - loss: 0.2077 - val_accuracy: 0.5880 - val_loss: 1.0463\n",
      "Epoch 86/100\n",
      "\u001b[1m47/47\u001b[0m \u001b[32m━━━━━━━━━━━━━━━━━━━━\u001b[0m\u001b[37m\u001b[0m \u001b[1m0s\u001b[0m 6ms/step - accuracy: 0.9294 - loss: 0.2089 - val_accuracy: 0.5880 - val_loss: 1.0634\n",
      "Epoch 87/100\n",
      "\u001b[1m47/47\u001b[0m \u001b[32m━━━━━━━━━━━━━━━━━━━━\u001b[0m\u001b[37m\u001b[0m \u001b[1m0s\u001b[0m 6ms/step - accuracy: 0.9201 - loss: 0.2165 - val_accuracy: 0.5880 - val_loss: 1.0711\n",
      "Epoch 88/100\n",
      "\u001b[1m47/47\u001b[0m \u001b[32m━━━━━━━━━━━━━━━━━━━━\u001b[0m\u001b[37m\u001b[0m \u001b[1m0s\u001b[0m 6ms/step - accuracy: 0.9339 - loss: 0.2063 - val_accuracy: 0.5900 - val_loss: 1.0739\n",
      "Epoch 89/100\n",
      "\u001b[1m47/47\u001b[0m \u001b[32m━━━━━━━━━━━━━━━━━━━━\u001b[0m\u001b[37m\u001b[0m \u001b[1m0s\u001b[0m 6ms/step - accuracy: 0.9372 - loss: 0.2012 - val_accuracy: 0.5940 - val_loss: 1.0630\n",
      "Epoch 90/100\n",
      "\u001b[1m47/47\u001b[0m \u001b[32m━━━━━━━━━━━━━━━━━━━━\u001b[0m\u001b[37m\u001b[0m \u001b[1m0s\u001b[0m 6ms/step - accuracy: 0.9266 - loss: 0.2019 - val_accuracy: 0.5900 - val_loss: 1.0867\n",
      "Epoch 91/100\n",
      "\u001b[1m47/47\u001b[0m \u001b[32m━━━━━━━━━━━━━━━━━━━━\u001b[0m\u001b[37m\u001b[0m \u001b[1m0s\u001b[0m 6ms/step - accuracy: 0.9469 - loss: 0.1828 - val_accuracy: 0.5880 - val_loss: 1.1074\n",
      "Epoch 92/100\n",
      "\u001b[1m47/47\u001b[0m \u001b[32m━━━━━━━━━━━━━━━━━━━━\u001b[0m\u001b[37m\u001b[0m \u001b[1m0s\u001b[0m 6ms/step - accuracy: 0.9304 - loss: 0.2012 - val_accuracy: 0.5900 - val_loss: 1.1046\n",
      "Epoch 93/100\n",
      "\u001b[1m47/47\u001b[0m \u001b[32m━━━━━━━━━━━━━━━━━━━━\u001b[0m\u001b[37m\u001b[0m \u001b[1m0s\u001b[0m 6ms/step - accuracy: 0.9323 - loss: 0.2044 - val_accuracy: 0.5900 - val_loss: 1.1013\n",
      "Epoch 94/100\n",
      "\u001b[1m47/47\u001b[0m \u001b[32m━━━━━━━━━━━━━━━━━━━━\u001b[0m\u001b[37m\u001b[0m \u001b[1m0s\u001b[0m 6ms/step - accuracy: 0.9352 - loss: 0.1960 - val_accuracy: 0.5920 - val_loss: 1.1219\n",
      "Epoch 95/100\n",
      "\u001b[1m47/47\u001b[0m \u001b[32m━━━━━━━━━━━━━━━━━━━━\u001b[0m\u001b[37m\u001b[0m \u001b[1m0s\u001b[0m 6ms/step - accuracy: 0.9311 - loss: 0.1931 - val_accuracy: 0.5920 - val_loss: 1.1099\n",
      "Epoch 96/100\n",
      "\u001b[1m47/47\u001b[0m \u001b[32m━━━━━━━━━━━━━━━━━━━━\u001b[0m\u001b[37m\u001b[0m \u001b[1m0s\u001b[0m 6ms/step - accuracy: 0.9501 - loss: 0.1741 - val_accuracy: 0.5900 - val_loss: 1.1228\n",
      "Epoch 97/100\n",
      "\u001b[1m47/47\u001b[0m \u001b[32m━━━━━━━━━━━━━━━━━━━━\u001b[0m\u001b[37m\u001b[0m \u001b[1m0s\u001b[0m 6ms/step - accuracy: 0.9386 - loss: 0.1859 - val_accuracy: 0.5920 - val_loss: 1.1390\n",
      "Epoch 98/100\n",
      "\u001b[1m47/47\u001b[0m \u001b[32m━━━━━━━━━━━━━━━━━━━━\u001b[0m\u001b[37m\u001b[0m \u001b[1m0s\u001b[0m 6ms/step - accuracy: 0.9298 - loss: 0.1937 - val_accuracy: 0.5900 - val_loss: 1.1491\n",
      "Epoch 99/100\n",
      "\u001b[1m47/47\u001b[0m \u001b[32m━━━━━━━━━━━━━━━━━━━━\u001b[0m\u001b[37m\u001b[0m \u001b[1m0s\u001b[0m 6ms/step - accuracy: 0.9532 - loss: 0.1739 - val_accuracy: 0.5920 - val_loss: 1.1494\n",
      "Epoch 100/100\n",
      "\u001b[1m47/47\u001b[0m \u001b[32m━━━━━━━━━━━━━━━━━━━━\u001b[0m\u001b[37m\u001b[0m \u001b[1m0s\u001b[0m 6ms/step - accuracy: 0.9494 - loss: 0.1664 - val_accuracy: 0.5920 - val_loss: 1.1563\n"
     ]
    },
    {
     "data": {
      "text/plain": [
       "<keras.src.callbacks.history.History at 0x7ccf02f3e740>"
      ]
     },
     "execution_count": 37,
     "metadata": {},
     "output_type": "execute_result"
    }
   ],
   "source": [
    "# Compile model\n",
    "model.compile(\n",
    "    loss='binary_crossentropy',\n",
    "    optimizer=Adam(learning_rate=0.0001),\n",
    "    metrics=['accuracy']\n",
    ")\n",
    "\n",
    "# Fit model with validation set. Notice loss decreasng\n",
    "model.fit(\n",
    "    X_train,\n",
    "    y_train,\n",
    "    validation_data=(X_val, y_val), # Validation data\n",
    "    epochs=100, # runs through training dataset\n",
    "    callbacks=[cp] # At end of every epoch, save the model if loss was lower than before\n",
    ")"
   ]
  },
  {
   "cell_type": "code",
   "execution_count": 38,
   "id": "9dd744d2",
   "metadata": {
    "execution": {
     "iopub.execute_input": "2024-06-05T09:59:59.069526Z",
     "iopub.status.busy": "2024-06-05T09:59:59.069086Z",
     "iopub.status.idle": "2024-06-05T09:59:59.077567Z",
     "shell.execute_reply": "2024-06-05T09:59:59.076419Z"
    },
    "papermill": {
     "duration": 0.090402,
     "end_time": "2024-06-05T09:59:59.080233",
     "exception": false,
     "start_time": "2024-06-05T09:59:58.989831",
     "status": "completed"
    },
    "tags": []
   },
   "outputs": [],
   "source": [
    "from sklearn.metrics import mean_squared_error as mse\n",
    "\n",
    "def plot_predictions(model, X, y, start=0, end=100):\n",
    "    \"\"\"Function to plot predictions vs actuals, trimmed to start and end indices\"\"\"\n",
    "    \n",
    "    preds = model.predict(X).flatten()\n",
    "    df = pd.DataFrame(data={\n",
    "        'Predictions': preds,\n",
    "        'Actuals': y\n",
    "    })\n",
    "    \n",
    "    plt.plot(df['Predictions'][start:end], label='Preds')\n",
    "    plt.plot(df['Actuals'][start:end], label='Actuals')\n",
    "    plt.legend()\n",
    "    plt.show()\n",
    "    \n",
    "    return df"
   ]
  },
  {
   "cell_type": "code",
   "execution_count": 39,
   "id": "c90bf4aa",
   "metadata": {
    "execution": {
     "iopub.execute_input": "2024-06-05T09:59:59.240400Z",
     "iopub.status.busy": "2024-06-05T09:59:59.239528Z",
     "iopub.status.idle": "2024-06-05T10:00:00.060316Z",
     "shell.execute_reply": "2024-06-05T10:00:00.058893Z"
    },
    "papermill": {
     "duration": 0.904968,
     "end_time": "2024-06-05T10:00:00.063036",
     "exception": false,
     "start_time": "2024-06-05T09:59:59.158068",
     "status": "completed"
    },
    "tags": []
   },
   "outputs": [
    {
     "name": "stdout",
     "output_type": "stream",
     "text": [
      "\u001b[1m22/22\u001b[0m \u001b[32m━━━━━━━━━━━━━━━━━━━━\u001b[0m\u001b[37m\u001b[0m \u001b[1m0s\u001b[0m 10ms/step\n"
     ]
    },
    {
     "data": {
      "image/png": "[encoded data removed]",
      "text/plain": [
       "<Figure size 640x480 with 1 Axes>"
      ]
     },
     "metadata": {},
     "output_type": "display_data"
    }
   ],
   "source": [
    "results = plot_predictions(model, X_test, y_test, start=0, end=100)"
   ]
  },
  {
   "cell_type": "code",
   "execution_count": 40,
   "id": "55bd49f1",
   "metadata": {
    "execution": {
     "iopub.execute_input": "2024-06-05T10:00:00.225677Z",
     "iopub.status.busy": "2024-06-05T10:00:00.225257Z",
     "iopub.status.idle": "2024-06-05T10:00:00.237866Z",
     "shell.execute_reply": "2024-06-05T10:00:00.236382Z"
    },
    "papermill": {
     "duration": 0.098015,
     "end_time": "2024-06-05T10:00:00.240658",
     "exception": false,
     "start_time": "2024-06-05T10:00:00.142643",
     "status": "completed"
    },
    "tags": []
   },
   "outputs": [
    {
     "data": {
      "text/plain": [
       "array([1, 1, 1, 1, 1, 1, 1, 1, 1, 1, 1, 1, 1, 1, 1, 1, 1, 1, 1, 1, 1, 1,\n",
       "       0, 0, 0, 0, 0, 1, 1, 1, 1, 1, 1, 1, 1, 1, 1, 1, 1, 1, 1, 1, 1, 1,\n",
       "       0, 0, 1, 1, 1, 1, 1, 1, 1, 1, 1, 1, 0, 0, 1, 1, 1, 1, 0, 0, 0, 0,\n",
       "       0, 0, 1, 1, 1, 1, 1, 1, 0, 0, 0, 0, 0, 0, 1, 1, 1, 1, 1, 1, 1, 1,\n",
       "       1, 1, 0, 0, 1, 1, 1, 1, 1, 1, 1, 1, 1, 1, 1, 1, 1, 1, 1, 1, 1, 1,\n",
       "       1, 1, 1, 1, 1, 1, 1, 1, 1, 1, 1, 1, 1, 1, 1, 1, 1, 0, 0, 1, 1, 1,\n",
       "       1, 1, 1, 1, 0, 0, 0, 0, 1, 1, 1, 1, 1, 1, 1, 1, 0, 0, 0, 0, 1, 1,\n",
       "       1, 1, 1, 1, 1, 0, 0, 0, 0, 0, 0, 0, 0, 0, 0, 0, 0, 0, 0, 0, 1, 1,\n",
       "       1, 1, 0, 0, 0, 0, 0, 0, 0, 0, 0, 0, 0, 0, 0, 0, 0, 0, 0, 0, 0, 0,\n",
       "       1, 0, 0, 0, 1, 1, 1, 1, 1, 1, 1, 1, 1, 1, 1, 1, 1, 1, 1, 1, 1, 1,\n",
       "       0, 0, 0, 0, 0, 0, 0, 0, 0, 0, 0, 1, 1, 1, 1, 1, 1, 1, 1, 0, 0, 0,\n",
       "       0, 1, 1, 0, 0, 1, 1, 1, 1, 1, 1, 1, 1, 1, 0, 1, 1, 1, 1, 1, 0, 0,\n",
       "       0, 0, 1, 1, 1, 1, 1, 1, 1, 1, 1, 1, 1, 1, 1, 1, 1, 0, 0, 0, 0, 1,\n",
       "       1, 1, 1, 0, 0, 0, 1, 1, 1, 1, 1, 1, 0, 0, 0, 0, 0, 0, 0, 0, 0, 0,\n",
       "       1, 1, 1, 1, 1, 1, 1, 1, 1, 1, 1, 0, 0, 0, 0, 0, 1, 0, 0, 0, 0, 0,\n",
       "       1, 1, 1, 1, 1, 1, 1, 1, 1, 0, 0, 1, 1, 1, 1, 1, 1, 1, 1, 1, 1, 1,\n",
       "       1, 1, 1, 0, 0, 0, 0, 0, 1, 1, 1, 1, 1, 1, 1, 1, 1, 1, 1, 1, 1, 1,\n",
       "       1, 0, 0, 0, 0, 0, 1, 0, 0, 0, 0, 1, 1, 1, 1, 0, 0, 0, 0, 0, 0, 0,\n",
       "       0, 1, 1, 1, 1, 1, 0, 0, 0, 0, 1, 1, 1, 1, 1, 1, 1, 1, 1, 1, 1, 1,\n",
       "       1, 1, 1, 1, 1, 1, 0, 0, 0, 0, 0, 1, 1, 1, 1, 1, 1, 1, 1, 1, 1, 1,\n",
       "       1, 1, 1, 1, 1, 1, 1, 1, 1, 1, 1, 1, 1, 1, 1, 1, 1, 1, 1, 1, 1, 1,\n",
       "       1, 1, 1, 1, 1, 1, 1, 1, 1, 1, 1, 1, 1, 1, 1, 1, 1, 1, 1, 1, 1, 1,\n",
       "       1, 1, 1, 1, 1, 1, 1, 1, 1, 1, 1, 1, 1, 1, 1, 1, 1, 1, 1, 1, 0, 1,\n",
       "       1, 1, 1, 1, 1, 1, 1, 1, 1, 1, 1, 1, 1, 1, 1, 0, 0, 0, 0, 0, 1, 1,\n",
       "       1, 1, 1, 1, 1, 1, 1, 1, 1, 1, 1, 1, 1, 1, 1, 1, 1, 1, 1, 1, 1, 1,\n",
       "       1, 1, 0, 1, 1, 1, 1, 1, 1, 1, 0, 1, 1, 1, 1, 1, 1, 1, 1, 1, 1, 1,\n",
       "       1, 1, 1, 1, 0, 0, 0, 0, 1, 1, 1, 1, 1, 1, 1, 1, 1, 1, 1, 1, 1, 1,\n",
       "       1, 1, 1, 1, 1, 1, 1, 1, 1, 1, 1, 1, 1, 1, 1, 1, 1, 1, 0, 0, 0, 1,\n",
       "       0, 0, 1, 0, 0, 1, 1, 0, 0, 1, 1, 1, 1, 1, 1, 1, 1, 0, 0, 0, 1, 1,\n",
       "       1, 1, 1, 1, 1, 1, 0, 0, 1, 1, 1, 0, 0, 1, 1, 1, 1, 1, 1, 1, 1, 1,\n",
       "       1, 1, 0, 0, 0, 0, 0, 0, 0, 0, 0, 0, 0, 0, 0, 1, 0, 0, 0, 0, 0, 0,\n",
       "       0, 0, 0, 0, 0, 0, 0, 0, 0, 0, 0, 0])"
      ]
     },
     "execution_count": 40,
     "metadata": {},
     "output_type": "execute_result"
    }
   ],
   "source": [
    "class_predictions = np.where(results['Predictions'] >= 0.5, 1, 0)\n",
    "class_predictions"
   ]
  },
  {
   "cell_type": "code",
   "execution_count": 41,
   "id": "d14a007c",
   "metadata": {
    "execution": {
     "iopub.execute_input": "2024-06-05T10:00:00.404625Z",
     "iopub.status.busy": "2024-06-05T10:00:00.404177Z",
     "iopub.status.idle": "2024-06-05T10:00:00.413389Z",
     "shell.execute_reply": "2024-06-05T10:00:00.412195Z"
    },
    "papermill": {
     "duration": 0.094148,
     "end_time": "2024-06-05T10:00:00.415874",
     "exception": false,
     "start_time": "2024-06-05T10:00:00.321726",
     "status": "completed"
    },
    "tags": []
   },
   "outputs": [
    {
     "data": {
      "text/plain": [
       "0.5590778097982709"
      ]
     },
     "execution_count": 41,
     "metadata": {},
     "output_type": "execute_result"
    }
   ],
   "source": [
    "accuracy_score(class_predictions, y_test)"
   ]
  },
  {
   "cell_type": "code",
   "execution_count": null,
   "id": "58fa3c0e",
   "metadata": {
    "papermill": {
     "duration": 0.080068,
     "end_time": "2024-06-05T10:00:00.575702",
     "exception": false,
     "start_time": "2024-06-05T10:00:00.495634",
     "status": "completed"
    },
    "tags": []
   },
   "outputs": [],
   "source": []
  }
 ],
 "metadata": {
  "kaggle": {
   "accelerator": "none",
   "dataSources": [
    {
     "sourceId": 181082692,
     "sourceType": "kernelVersion"
    }
   ],
   "dockerImageVersionId": 30715,
   "isGpuEnabled": false,
   "isInternetEnabled": true,
   "language": "python",
   "sourceType": "notebook"
  },
  "kernelspec": {
   "display_name": "Python 3",
   "language": "python",
   "name": "python3"
  },
  "language_info": {
   "codemirror_mode": {
    "name": "ipython",
    "version": 3
   },
   "file_extension": ".py",
   "mimetype": "text/x-python",
   "name": "python",
   "nbconvert_exporter": "python",
   "pygments_lexer": "ipython3",
   "version": "3.10.13"
  },
  "papermill": {
   "default_parameters": {},
   "duration": 112.207925,
   "end_time": "2024-06-05T10:00:03.230444",
   "environment_variables": {},
   "exception": null,
   "input_path": "__notebook__.ipynb",
   "output_path": "__notebook__.ipynb",
   "parameters": {},
   "start_time": "2024-06-05T09:58:11.022519",
   "version": "2.5.0"
  }
 },
 "nbformat": 4,
 "nbformat_minor": 5
}
