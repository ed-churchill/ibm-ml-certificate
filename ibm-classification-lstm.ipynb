{
 "cells": [
  {
   "cell_type": "markdown",
   "id": "f04c840d",
   "metadata": {
    "papermill": {
     "duration": 0.007326,
     "end_time": "2024-06-05T13:03:06.978275",
     "exception": false,
     "start_time": "2024-06-05T13:03:06.970949",
     "status": "completed"
    },
    "tags": []
   },
   "source": [
    "# Imports"
   ]
  },
  {
   "cell_type": "code",
   "execution_count": 1,
   "id": "e3077873",
   "metadata": {
    "_cell_guid": "b1076dfc-b9ad-4769-8c92-a6c4dae69d19",
    "_uuid": "8f2839f25d086af736a60e9eeb907d3b93b6e0e5",
    "execution": {
     "iopub.execute_input": "2024-06-05T13:03:06.994570Z",
     "iopub.status.busy": "2024-06-05T13:03:06.994014Z",
     "iopub.status.idle": "2024-06-05T13:03:24.194569Z",
     "shell.execute_reply": "2024-06-05T13:03:24.193158Z"
    },
    "papermill": {
     "duration": 17.212483,
     "end_time": "2024-06-05T13:03:24.197945",
     "exception": false,
     "start_time": "2024-06-05T13:03:06.985462",
     "status": "completed"
    },
    "tags": []
   },
   "outputs": [
    {
     "name": "stderr",
     "output_type": "stream",
     "text": [
      "2024-06-05 13:03:10.400216: E external/local_xla/xla/stream_executor/cuda/cuda_dnn.cc:9261] Unable to register cuDNN factory: Attempting to register factory for plugin cuDNN when one has already been registered\n",
      "2024-06-05 13:03:10.400442: E external/local_xla/xla/stream_executor/cuda/cuda_fft.cc:607] Unable to register cuFFT factory: Attempting to register factory for plugin cuFFT when one has already been registered\n",
      "2024-06-05 13:03:10.538766: E external/local_xla/xla/stream_executor/cuda/cuda_blas.cc:1515] Unable to register cuBLAS factory: Attempting to register factory for plugin cuBLAS when one has already been registered\n"
     ]
    }
   ],
   "source": [
    "import pandas as pd\n",
    "import numpy as np\n",
    "import tensorflow as tf"
   ]
  },
  {
   "cell_type": "markdown",
   "id": "91021581",
   "metadata": {
    "papermill": {
     "duration": 0.006424,
     "end_time": "2024-06-05T13:03:24.211696",
     "exception": false,
     "start_time": "2024-06-05T13:03:24.205272",
     "status": "completed"
    },
    "tags": []
   },
   "source": [
    "# Read Data"
   ]
  },
  {
   "cell_type": "code",
   "execution_count": 2,
   "id": "945324f0",
   "metadata": {
    "execution": {
     "iopub.execute_input": "2024-06-05T13:03:24.227917Z",
     "iopub.status.busy": "2024-06-05T13:03:24.227053Z",
     "iopub.status.idle": "2024-06-05T13:04:17.224424Z",
     "shell.execute_reply": "2024-06-05T13:04:17.222913Z"
    },
    "papermill": {
     "duration": 53.009514,
     "end_time": "2024-06-05T13:04:17.228004",
     "exception": false,
     "start_time": "2024-06-05T13:03:24.218490",
     "status": "completed"
    },
    "tags": []
   },
   "outputs": [],
   "source": [
    "X_train = pd.read_csv(\"/kaggle/input/ibm-classification-feature-selection/X_train_normalized.csv\", index_col=[0])\n",
    "X_test = pd.read_csv(\"/kaggle/input/ibm-classification-feature-selection/X_test_normalized.csv\", index_col=[0])\n",
    "y_train = pd.read_csv(\"/kaggle/input/ibm-classification-feature-selection/y_train.csv\", index_col=[0])\n",
    "y_test = pd.read_csv(\"/kaggle/input/ibm-classification-feature-selection/y_test.csv\", index_col=[0]).reset_index(drop=True)"
   ]
  },
  {
   "cell_type": "code",
   "execution_count": 3,
   "id": "3a08dd15",
   "metadata": {
    "execution": {
     "iopub.execute_input": "2024-06-05T13:04:17.244969Z",
     "iopub.status.busy": "2024-06-05T13:04:17.244459Z",
     "iopub.status.idle": "2024-06-05T13:04:17.283819Z",
     "shell.execute_reply": "2024-06-05T13:04:17.282550Z"
    },
    "papermill": {
     "duration": 0.051328,
     "end_time": "2024-06-05T13:04:17.286624",
     "exception": false,
     "start_time": "2024-06-05T13:04:17.235296",
     "status": "completed"
    },
    "tags": []
   },
   "outputs": [
    {
     "data": {
      "text/html": [
       "<div>\n",
       "<style scoped>\n",
       "    .dataframe tbody tr th:only-of-type {\n",
       "        vertical-align: middle;\n",
       "    }\n",
       "\n",
       "    .dataframe tbody tr th {\n",
       "        vertical-align: top;\n",
       "    }\n",
       "\n",
       "    .dataframe thead th {\n",
       "        text-align: right;\n",
       "    }\n",
       "</style>\n",
       "<table border=\"1\" class=\"dataframe\">\n",
       "  <thead>\n",
       "    <tr style=\"text-align: right;\">\n",
       "      <th></th>\n",
       "      <th>Symbol</th>\n",
       "      <th>Volume</th>\n",
       "      <th>Sector_Basic Materials</th>\n",
       "      <th>Sector_Communication Services</th>\n",
       "      <th>Sector_Consumer Cyclical</th>\n",
       "      <th>Sector_Consumer Defensive</th>\n",
       "      <th>Sector_Energy</th>\n",
       "      <th>Sector_Financial Services</th>\n",
       "      <th>Sector_Healthcare</th>\n",
       "      <th>Sector_Industrials</th>\n",
       "      <th>...</th>\n",
       "      <th>Adj Close 14-Day std Differenced</th>\n",
       "      <th>Adj Close 26-Day std Differenced</th>\n",
       "      <th>Adj Close 7-Day Upper Bollinger Band Differenced</th>\n",
       "      <th>Distance to Adj Close 7-Day Upper Bollinger Band Differenced</th>\n",
       "      <th>True Range Differenced</th>\n",
       "      <th>True Range 26-Day SMA Differenced</th>\n",
       "      <th>Adj Close Differenced</th>\n",
       "      <th>High Differenced</th>\n",
       "      <th>Low Differenced</th>\n",
       "      <th>Open Differenced</th>\n",
       "    </tr>\n",
       "  </thead>\n",
       "  <tbody>\n",
       "    <tr>\n",
       "      <th>0</th>\n",
       "      <td>-1.439324</td>\n",
       "      <td>-0.326871</td>\n",
       "      <td>-0.21136</td>\n",
       "      <td>-0.21136</td>\n",
       "      <td>-0.356345</td>\n",
       "      <td>-0.279992</td>\n",
       "      <td>-0.222173</td>\n",
       "      <td>-0.394553</td>\n",
       "      <td>-0.387284</td>\n",
       "      <td>-0.412467</td>\n",
       "      <td>...</td>\n",
       "      <td>0.041515</td>\n",
       "      <td>0.037984</td>\n",
       "      <td>-0.002604</td>\n",
       "      <td>-0.016884</td>\n",
       "      <td>-0.066039</td>\n",
       "      <td>0.104504</td>\n",
       "      <td>-0.020330</td>\n",
       "      <td>0.008943</td>\n",
       "      <td>0.015877</td>\n",
       "      <td>0.062622</td>\n",
       "    </tr>\n",
       "    <tr>\n",
       "      <th>1</th>\n",
       "      <td>-1.069061</td>\n",
       "      <td>-0.344648</td>\n",
       "      <td>-0.21136</td>\n",
       "      <td>-0.21136</td>\n",
       "      <td>-0.356345</td>\n",
       "      <td>-0.279992</td>\n",
       "      <td>-0.222173</td>\n",
       "      <td>-0.394553</td>\n",
       "      <td>2.582087</td>\n",
       "      <td>-0.412467</td>\n",
       "      <td>...</td>\n",
       "      <td>-0.410893</td>\n",
       "      <td>-0.015098</td>\n",
       "      <td>0.023690</td>\n",
       "      <td>-0.111938</td>\n",
       "      <td>-0.141182</td>\n",
       "      <td>-0.090630</td>\n",
       "      <td>-0.107768</td>\n",
       "      <td>0.032258</td>\n",
       "      <td>0.030478</td>\n",
       "      <td>0.096788</td>\n",
       "    </tr>\n",
       "    <tr>\n",
       "      <th>2</th>\n",
       "      <td>1.641263</td>\n",
       "      <td>-0.295005</td>\n",
       "      <td>-0.21136</td>\n",
       "      <td>-0.21136</td>\n",
       "      <td>-0.356345</td>\n",
       "      <td>-0.279992</td>\n",
       "      <td>-0.222173</td>\n",
       "      <td>-0.394553</td>\n",
       "      <td>-0.387284</td>\n",
       "      <td>-0.412467</td>\n",
       "      <td>...</td>\n",
       "      <td>0.081853</td>\n",
       "      <td>0.002250</td>\n",
       "      <td>0.188618</td>\n",
       "      <td>0.000862</td>\n",
       "      <td>-0.002066</td>\n",
       "      <td>0.105746</td>\n",
       "      <td>0.125379</td>\n",
       "      <td>0.102205</td>\n",
       "      <td>0.158246</td>\n",
       "      <td>0.137784</td>\n",
       "    </tr>\n",
       "    <tr>\n",
       "      <th>3</th>\n",
       "      <td>-0.343346</td>\n",
       "      <td>0.285874</td>\n",
       "      <td>-0.21136</td>\n",
       "      <td>-0.21136</td>\n",
       "      <td>-0.356345</td>\n",
       "      <td>-0.279992</td>\n",
       "      <td>-0.222173</td>\n",
       "      <td>-0.394553</td>\n",
       "      <td>2.582087</td>\n",
       "      <td>-0.412467</td>\n",
       "      <td>...</td>\n",
       "      <td>0.162828</td>\n",
       "      <td>-0.007191</td>\n",
       "      <td>0.102354</td>\n",
       "      <td>0.062595</td>\n",
       "      <td>0.043600</td>\n",
       "      <td>0.091515</td>\n",
       "      <td>0.136523</td>\n",
       "      <td>0.094434</td>\n",
       "      <td>0.004925</td>\n",
       "      <td>0.076288</td>\n",
       "    </tr>\n",
       "    <tr>\n",
       "      <th>4</th>\n",
       "      <td>1.256190</td>\n",
       "      <td>-0.328472</td>\n",
       "      <td>-0.21136</td>\n",
       "      <td>-0.21136</td>\n",
       "      <td>-0.356345</td>\n",
       "      <td>-0.279992</td>\n",
       "      <td>-0.222173</td>\n",
       "      <td>2.534516</td>\n",
       "      <td>-0.387284</td>\n",
       "      <td>-0.412467</td>\n",
       "      <td>...</td>\n",
       "      <td>1.195841</td>\n",
       "      <td>-0.202535</td>\n",
       "      <td>1.265493</td>\n",
       "      <td>-0.284640</td>\n",
       "      <td>-0.679202</td>\n",
       "      <td>-1.099516</td>\n",
       "      <td>0.521058</td>\n",
       "      <td>0.755054</td>\n",
       "      <td>0.866425</td>\n",
       "      <td>0.817676</td>\n",
       "    </tr>\n",
       "  </tbody>\n",
       "</table>\n",
       "<p>5 rows × 122 columns</p>\n",
       "</div>"
      ],
      "text/plain": [
       "     Symbol    Volume  Sector_Basic Materials  Sector_Communication Services  \\\n",
       "0 -1.439324 -0.326871                -0.21136                       -0.21136   \n",
       "1 -1.069061 -0.344648                -0.21136                       -0.21136   \n",
       "2  1.641263 -0.295005                -0.21136                       -0.21136   \n",
       "3 -0.343346  0.285874                -0.21136                       -0.21136   \n",
       "4  1.256190 -0.328472                -0.21136                       -0.21136   \n",
       "\n",
       "   Sector_Consumer Cyclical  Sector_Consumer Defensive  Sector_Energy  \\\n",
       "0                 -0.356345                  -0.279992      -0.222173   \n",
       "1                 -0.356345                  -0.279992      -0.222173   \n",
       "2                 -0.356345                  -0.279992      -0.222173   \n",
       "3                 -0.356345                  -0.279992      -0.222173   \n",
       "4                 -0.356345                  -0.279992      -0.222173   \n",
       "\n",
       "   Sector_Financial Services  Sector_Healthcare  Sector_Industrials  ...  \\\n",
       "0                  -0.394553          -0.387284           -0.412467  ...   \n",
       "1                  -0.394553           2.582087           -0.412467  ...   \n",
       "2                  -0.394553          -0.387284           -0.412467  ...   \n",
       "3                  -0.394553           2.582087           -0.412467  ...   \n",
       "4                   2.534516          -0.387284           -0.412467  ...   \n",
       "\n",
       "   Adj Close 14-Day std Differenced  Adj Close 26-Day std Differenced  \\\n",
       "0                          0.041515                          0.037984   \n",
       "1                         -0.410893                         -0.015098   \n",
       "2                          0.081853                          0.002250   \n",
       "3                          0.162828                         -0.007191   \n",
       "4                          1.195841                         -0.202535   \n",
       "\n",
       "   Adj Close 7-Day Upper Bollinger Band Differenced  \\\n",
       "0                                         -0.002604   \n",
       "1                                          0.023690   \n",
       "2                                          0.188618   \n",
       "3                                          0.102354   \n",
       "4                                          1.265493   \n",
       "\n",
       "   Distance to Adj Close 7-Day Upper Bollinger Band Differenced  \\\n",
       "0                                          -0.016884              \n",
       "1                                          -0.111938              \n",
       "2                                           0.000862              \n",
       "3                                           0.062595              \n",
       "4                                          -0.284640              \n",
       "\n",
       "   True Range Differenced  True Range 26-Day SMA Differenced  \\\n",
       "0               -0.066039                           0.104504   \n",
       "1               -0.141182                          -0.090630   \n",
       "2               -0.002066                           0.105746   \n",
       "3                0.043600                           0.091515   \n",
       "4               -0.679202                          -1.099516   \n",
       "\n",
       "   Adj Close Differenced  High Differenced  Low Differenced  Open Differenced  \n",
       "0              -0.020330          0.008943         0.015877          0.062622  \n",
       "1              -0.107768          0.032258         0.030478          0.096788  \n",
       "2               0.125379          0.102205         0.158246          0.137784  \n",
       "3               0.136523          0.094434         0.004925          0.076288  \n",
       "4               0.521058          0.755054         0.866425          0.817676  \n",
       "\n",
       "[5 rows x 122 columns]"
      ]
     },
     "execution_count": 3,
     "metadata": {},
     "output_type": "execute_result"
    }
   ],
   "source": [
    "X_train.head(5)"
   ]
  },
  {
   "cell_type": "code",
   "execution_count": 4,
   "id": "bf9c3f7f",
   "metadata": {
    "execution": {
     "iopub.execute_input": "2024-06-05T13:04:17.304570Z",
     "iopub.status.busy": "2024-06-05T13:04:17.303162Z",
     "iopub.status.idle": "2024-06-05T13:04:17.333950Z",
     "shell.execute_reply": "2024-06-05T13:04:17.332675Z"
    },
    "papermill": {
     "duration": 0.04281,
     "end_time": "2024-06-05T13:04:17.336910",
     "exception": false,
     "start_time": "2024-06-05T13:04:17.294100",
     "status": "completed"
    },
    "tags": []
   },
   "outputs": [
    {
     "data": {
      "text/html": [
       "<div>\n",
       "<style scoped>\n",
       "    .dataframe tbody tr th:only-of-type {\n",
       "        vertical-align: middle;\n",
       "    }\n",
       "\n",
       "    .dataframe tbody tr th {\n",
       "        vertical-align: top;\n",
       "    }\n",
       "\n",
       "    .dataframe thead th {\n",
       "        text-align: right;\n",
       "    }\n",
       "</style>\n",
       "<table border=\"1\" class=\"dataframe\">\n",
       "  <thead>\n",
       "    <tr style=\"text-align: right;\">\n",
       "      <th></th>\n",
       "      <th>Symbol</th>\n",
       "      <th>Volume</th>\n",
       "      <th>Sector_Basic Materials</th>\n",
       "      <th>Sector_Communication Services</th>\n",
       "      <th>Sector_Consumer Cyclical</th>\n",
       "      <th>Sector_Consumer Defensive</th>\n",
       "      <th>Sector_Energy</th>\n",
       "      <th>Sector_Financial Services</th>\n",
       "      <th>Sector_Healthcare</th>\n",
       "      <th>Sector_Industrials</th>\n",
       "      <th>...</th>\n",
       "      <th>Adj Close 14-Day std Differenced</th>\n",
       "      <th>Adj Close 26-Day std Differenced</th>\n",
       "      <th>Adj Close 7-Day Upper Bollinger Band Differenced</th>\n",
       "      <th>Distance to Adj Close 7-Day Upper Bollinger Band Differenced</th>\n",
       "      <th>True Range Differenced</th>\n",
       "      <th>True Range 26-Day SMA Differenced</th>\n",
       "      <th>Adj Close Differenced</th>\n",
       "      <th>High Differenced</th>\n",
       "      <th>Low Differenced</th>\n",
       "      <th>Open Differenced</th>\n",
       "    </tr>\n",
       "  </thead>\n",
       "  <tbody>\n",
       "    <tr>\n",
       "      <th>0</th>\n",
       "      <td>-1.054250</td>\n",
       "      <td>-0.283809</td>\n",
       "      <td>-0.21136</td>\n",
       "      <td>-0.21136</td>\n",
       "      <td>-0.356345</td>\n",
       "      <td>-0.279992</td>\n",
       "      <td>-0.222173</td>\n",
       "      <td>-0.394553</td>\n",
       "      <td>-0.387284</td>\n",
       "      <td>2.424439</td>\n",
       "      <td>...</td>\n",
       "      <td>0.244619</td>\n",
       "      <td>-0.054833</td>\n",
       "      <td>0.193442</td>\n",
       "      <td>-0.988178</td>\n",
       "      <td>-0.460024</td>\n",
       "      <td>-0.458573</td>\n",
       "      <td>-0.961706</td>\n",
       "      <td>-0.123181</td>\n",
       "      <td>-0.779922</td>\n",
       "      <td>0.216366</td>\n",
       "    </tr>\n",
       "    <tr>\n",
       "      <th>1</th>\n",
       "      <td>0.449017</td>\n",
       "      <td>-0.359859</td>\n",
       "      <td>-0.21136</td>\n",
       "      <td>-0.21136</td>\n",
       "      <td>-0.356345</td>\n",
       "      <td>-0.279992</td>\n",
       "      <td>-0.222173</td>\n",
       "      <td>2.534516</td>\n",
       "      <td>-0.387284</td>\n",
       "      <td>-0.412467</td>\n",
       "      <td>...</td>\n",
       "      <td>-1.623606</td>\n",
       "      <td>-1.598235</td>\n",
       "      <td>-0.116220</td>\n",
       "      <td>-0.549677</td>\n",
       "      <td>-0.673831</td>\n",
       "      <td>-0.614296</td>\n",
       "      <td>-0.682605</td>\n",
       "      <td>0.832754</td>\n",
       "      <td>-0.079040</td>\n",
       "      <td>1.432648</td>\n",
       "    </tr>\n",
       "    <tr>\n",
       "      <th>2</th>\n",
       "      <td>1.419105</td>\n",
       "      <td>-0.198809</td>\n",
       "      <td>-0.21136</td>\n",
       "      <td>-0.21136</td>\n",
       "      <td>-0.356345</td>\n",
       "      <td>-0.279992</td>\n",
       "      <td>-0.222173</td>\n",
       "      <td>-0.394553</td>\n",
       "      <td>-0.387284</td>\n",
       "      <td>-0.412467</td>\n",
       "      <td>...</td>\n",
       "      <td>-4.366291</td>\n",
       "      <td>-2.195166</td>\n",
       "      <td>0.093043</td>\n",
       "      <td>-4.112427</td>\n",
       "      <td>3.947181</td>\n",
       "      <td>1.902798</td>\n",
       "      <td>-4.471950</td>\n",
       "      <td>1.435083</td>\n",
       "      <td>-4.328154</td>\n",
       "      <td>1.015831</td>\n",
       "    </tr>\n",
       "    <tr>\n",
       "      <th>3</th>\n",
       "      <td>-1.261598</td>\n",
       "      <td>-0.272044</td>\n",
       "      <td>-0.21136</td>\n",
       "      <td>-0.21136</td>\n",
       "      <td>-0.356345</td>\n",
       "      <td>-0.279992</td>\n",
       "      <td>-0.222173</td>\n",
       "      <td>-0.394553</td>\n",
       "      <td>-0.387284</td>\n",
       "      <td>-0.412467</td>\n",
       "      <td>...</td>\n",
       "      <td>5.267571</td>\n",
       "      <td>4.461425</td>\n",
       "      <td>4.610485</td>\n",
       "      <td>-12.390394</td>\n",
       "      <td>14.154228</td>\n",
       "      <td>10.022441</td>\n",
       "      <td>-10.617055</td>\n",
       "      <td>-3.111471</td>\n",
       "      <td>-14.261016</td>\n",
       "      <td>-12.872375</td>\n",
       "    </tr>\n",
       "    <tr>\n",
       "      <th>4</th>\n",
       "      <td>-0.128593</td>\n",
       "      <td>-0.255868</td>\n",
       "      <td>-0.21136</td>\n",
       "      <td>-0.21136</td>\n",
       "      <td>2.806268</td>\n",
       "      <td>-0.279992</td>\n",
       "      <td>-0.222173</td>\n",
       "      <td>-0.394553</td>\n",
       "      <td>-0.387284</td>\n",
       "      <td>-0.412467</td>\n",
       "      <td>...</td>\n",
       "      <td>0.039264</td>\n",
       "      <td>0.059860</td>\n",
       "      <td>0.030323</td>\n",
       "      <td>-0.411204</td>\n",
       "      <td>0.082851</td>\n",
       "      <td>0.121352</td>\n",
       "      <td>-0.433286</td>\n",
       "      <td>-0.263072</td>\n",
       "      <td>-0.294412</td>\n",
       "      <td>0.025041</td>\n",
       "    </tr>\n",
       "  </tbody>\n",
       "</table>\n",
       "<p>5 rows × 122 columns</p>\n",
       "</div>"
      ],
      "text/plain": [
       "     Symbol    Volume  Sector_Basic Materials  Sector_Communication Services  \\\n",
       "0 -1.054250 -0.283809                -0.21136                       -0.21136   \n",
       "1  0.449017 -0.359859                -0.21136                       -0.21136   \n",
       "2  1.419105 -0.198809                -0.21136                       -0.21136   \n",
       "3 -1.261598 -0.272044                -0.21136                       -0.21136   \n",
       "4 -0.128593 -0.255868                -0.21136                       -0.21136   \n",
       "\n",
       "   Sector_Consumer Cyclical  Sector_Consumer Defensive  Sector_Energy  \\\n",
       "0                 -0.356345                  -0.279992      -0.222173   \n",
       "1                 -0.356345                  -0.279992      -0.222173   \n",
       "2                 -0.356345                  -0.279992      -0.222173   \n",
       "3                 -0.356345                  -0.279992      -0.222173   \n",
       "4                  2.806268                  -0.279992      -0.222173   \n",
       "\n",
       "   Sector_Financial Services  Sector_Healthcare  Sector_Industrials  ...  \\\n",
       "0                  -0.394553          -0.387284            2.424439  ...   \n",
       "1                   2.534516          -0.387284           -0.412467  ...   \n",
       "2                  -0.394553          -0.387284           -0.412467  ...   \n",
       "3                  -0.394553          -0.387284           -0.412467  ...   \n",
       "4                  -0.394553          -0.387284           -0.412467  ...   \n",
       "\n",
       "   Adj Close 14-Day std Differenced  Adj Close 26-Day std Differenced  \\\n",
       "0                          0.244619                         -0.054833   \n",
       "1                         -1.623606                         -1.598235   \n",
       "2                         -4.366291                         -2.195166   \n",
       "3                          5.267571                          4.461425   \n",
       "4                          0.039264                          0.059860   \n",
       "\n",
       "   Adj Close 7-Day Upper Bollinger Band Differenced  \\\n",
       "0                                          0.193442   \n",
       "1                                         -0.116220   \n",
       "2                                          0.093043   \n",
       "3                                          4.610485   \n",
       "4                                          0.030323   \n",
       "\n",
       "   Distance to Adj Close 7-Day Upper Bollinger Band Differenced  \\\n",
       "0                                          -0.988178              \n",
       "1                                          -0.549677              \n",
       "2                                          -4.112427              \n",
       "3                                         -12.390394              \n",
       "4                                          -0.411204              \n",
       "\n",
       "   True Range Differenced  True Range 26-Day SMA Differenced  \\\n",
       "0               -0.460024                          -0.458573   \n",
       "1               -0.673831                          -0.614296   \n",
       "2                3.947181                           1.902798   \n",
       "3               14.154228                          10.022441   \n",
       "4                0.082851                           0.121352   \n",
       "\n",
       "   Adj Close Differenced  High Differenced  Low Differenced  Open Differenced  \n",
       "0              -0.961706         -0.123181        -0.779922          0.216366  \n",
       "1              -0.682605          0.832754        -0.079040          1.432648  \n",
       "2              -4.471950          1.435083        -4.328154          1.015831  \n",
       "3             -10.617055         -3.111471       -14.261016        -12.872375  \n",
       "4              -0.433286         -0.263072        -0.294412          0.025041  \n",
       "\n",
       "[5 rows x 122 columns]"
      ]
     },
     "execution_count": 4,
     "metadata": {},
     "output_type": "execute_result"
    }
   ],
   "source": [
    "X_test.head(5)"
   ]
  },
  {
   "cell_type": "code",
   "execution_count": 5,
   "id": "106bc986",
   "metadata": {
    "execution": {
     "iopub.execute_input": "2024-06-05T13:04:17.355605Z",
     "iopub.status.busy": "2024-06-05T13:04:17.355095Z",
     "iopub.status.idle": "2024-06-05T13:04:17.368437Z",
     "shell.execute_reply": "2024-06-05T13:04:17.367218Z"
    },
    "papermill": {
     "duration": 0.02599,
     "end_time": "2024-06-05T13:04:17.371326",
     "exception": false,
     "start_time": "2024-06-05T13:04:17.345336",
     "status": "completed"
    },
    "tags": []
   },
   "outputs": [
    {
     "data": {
      "text/html": [
       "<div>\n",
       "<style scoped>\n",
       "    .dataframe tbody tr th:only-of-type {\n",
       "        vertical-align: middle;\n",
       "    }\n",
       "\n",
       "    .dataframe tbody tr th {\n",
       "        vertical-align: top;\n",
       "    }\n",
       "\n",
       "    .dataframe thead th {\n",
       "        text-align: right;\n",
       "    }\n",
       "</style>\n",
       "<table border=\"1\" class=\"dataframe\">\n",
       "  <thead>\n",
       "    <tr style=\"text-align: right;\">\n",
       "      <th></th>\n",
       "      <th>1-week Forward Return Sign</th>\n",
       "    </tr>\n",
       "  </thead>\n",
       "  <tbody>\n",
       "    <tr>\n",
       "      <th>0</th>\n",
       "      <td>0.0</td>\n",
       "    </tr>\n",
       "    <tr>\n",
       "      <th>1</th>\n",
       "      <td>0.0</td>\n",
       "    </tr>\n",
       "    <tr>\n",
       "      <th>2</th>\n",
       "      <td>0.0</td>\n",
       "    </tr>\n",
       "    <tr>\n",
       "      <th>3</th>\n",
       "      <td>0.0</td>\n",
       "    </tr>\n",
       "    <tr>\n",
       "      <th>4</th>\n",
       "      <td>1.0</td>\n",
       "    </tr>\n",
       "  </tbody>\n",
       "</table>\n",
       "</div>"
      ],
      "text/plain": [
       "   1-week Forward Return Sign\n",
       "0                         0.0\n",
       "1                         0.0\n",
       "2                         0.0\n",
       "3                         0.0\n",
       "4                         1.0"
      ]
     },
     "execution_count": 5,
     "metadata": {},
     "output_type": "execute_result"
    }
   ],
   "source": [
    "y_train.head(5)"
   ]
  },
  {
   "cell_type": "code",
   "execution_count": 6,
   "id": "f5f0ecf6",
   "metadata": {
    "execution": {
     "iopub.execute_input": "2024-06-05T13:04:17.390549Z",
     "iopub.status.busy": "2024-06-05T13:04:17.390001Z",
     "iopub.status.idle": "2024-06-05T13:04:17.403068Z",
     "shell.execute_reply": "2024-06-05T13:04:17.401749Z"
    },
    "papermill": {
     "duration": 0.026652,
     "end_time": "2024-06-05T13:04:17.406217",
     "exception": false,
     "start_time": "2024-06-05T13:04:17.379565",
     "status": "completed"
    },
    "tags": []
   },
   "outputs": [
    {
     "data": {
      "text/html": [
       "<div>\n",
       "<style scoped>\n",
       "    .dataframe tbody tr th:only-of-type {\n",
       "        vertical-align: middle;\n",
       "    }\n",
       "\n",
       "    .dataframe tbody tr th {\n",
       "        vertical-align: top;\n",
       "    }\n",
       "\n",
       "    .dataframe thead th {\n",
       "        text-align: right;\n",
       "    }\n",
       "</style>\n",
       "<table border=\"1\" class=\"dataframe\">\n",
       "  <thead>\n",
       "    <tr style=\"text-align: right;\">\n",
       "      <th></th>\n",
       "      <th>1-week Forward Return Sign</th>\n",
       "    </tr>\n",
       "  </thead>\n",
       "  <tbody>\n",
       "    <tr>\n",
       "      <th>0</th>\n",
       "      <td>1.0</td>\n",
       "    </tr>\n",
       "    <tr>\n",
       "      <th>1</th>\n",
       "      <td>1.0</td>\n",
       "    </tr>\n",
       "    <tr>\n",
       "      <th>2</th>\n",
       "      <td>1.0</td>\n",
       "    </tr>\n",
       "    <tr>\n",
       "      <th>3</th>\n",
       "      <td>1.0</td>\n",
       "    </tr>\n",
       "    <tr>\n",
       "      <th>4</th>\n",
       "      <td>1.0</td>\n",
       "    </tr>\n",
       "  </tbody>\n",
       "</table>\n",
       "</div>"
      ],
      "text/plain": [
       "   1-week Forward Return Sign\n",
       "0                         1.0\n",
       "1                         1.0\n",
       "2                         1.0\n",
       "3                         1.0\n",
       "4                         1.0"
      ]
     },
     "execution_count": 6,
     "metadata": {},
     "output_type": "execute_result"
    }
   ],
   "source": [
    "y_test.head(5)"
   ]
  },
  {
   "cell_type": "markdown",
   "id": "603590c0",
   "metadata": {
    "papermill": {
     "duration": 0.008097,
     "end_time": "2024-06-05T13:04:17.423173",
     "exception": false,
     "start_time": "2024-06-05T13:04:17.415076",
     "status": "completed"
    },
    "tags": []
   },
   "source": [
    "# Data Prep\n",
    "\n",
    "LSTMs requires the data to be structured differently to most ML models. The idea is to look at a 'window' of data (e.g. last 5 timesteps) and use it to predict the target at the next timestep. We can roll the window to look at the whole dataset but only looking at one window at a time. \n",
    "\n",
    "To do this, we convert our dataframe to a 3D array X and a 1D array y. The array X has shape (n_samples, window_size, num_features) and the array y simply contains the target for each sample. The structure of the array X is shown below for a window size of 2 (LHS) and the array y is shown on the RHS. Note we have filtered to one stock but in reality, we have all the stocks and the rows appear ordered by time, not stock, because otherwise we would encounter look-ahead bias when splitting the dataset into training and validation (because we would be using for example stock 2's data at time T+1 in the training set to predict stock 1's data at time T in the validation set)\n",
    "\n",
    "[Stock1Feature1(1), Stock1Feature2(1), ....., Stock1Featuren(1)], [Stock1Feature1(0), Stock1Feature2(0), ....., Stock1Featuren(0)]                                                                             [Stock1Target(2)]\n",
    "\n",
    "[Stock1Feature1(2), Stock1Feature2(2), ....., Stock1Featuren(2)], [Stock1Feature1(1), Stock1Feature2(1), ....., Stock1Featuren(1)]                                                                             [Stock1Target(3)]\n",
    "\n",
    "[Stock1Feature1(3), Stock1Feature2(3), ....., Stock1Featuren(3)], [Stock1Feature1(2), Stock1Feature2(2), ....., Stock1Featuren(2)]                                                                             [Stock1Target(4)]\n",
    "\n",
    "....\n",
    "\n",
    "\n",
    "\n"
   ]
  },
  {
   "cell_type": "code",
   "execution_count": 7,
   "id": "35372796",
   "metadata": {
    "execution": {
     "iopub.execute_input": "2024-06-05T13:04:17.441962Z",
     "iopub.status.busy": "2024-06-05T13:04:17.441472Z",
     "iopub.status.idle": "2024-06-05T13:04:17.450773Z",
     "shell.execute_reply": "2024-06-05T13:04:17.449497Z"
    },
    "papermill": {
     "duration": 0.021812,
     "end_time": "2024-06-05T13:04:17.453344",
     "exception": false,
     "start_time": "2024-06-05T13:04:17.431532",
     "status": "completed"
    },
    "tags": []
   },
   "outputs": [],
   "source": [
    "def prep_data_for_lstm(df, window):\n",
    "    \"\"\"function to put data in the correct format for LSTM. It assumes that the 'Target' is the last column of the dataframe.\"\"\"\n",
    "    \n",
    "    # Convert dataframe to numpy\n",
    "    df_as_np = df.to_numpy()\n",
    "\n",
    "    # Get unique stock ids\n",
    "    stock_ids = df['Symbol'].unique()\n",
    "\n",
    "    # Array to store X and y\n",
    "    X = []\n",
    "    y = []\n",
    "\n",
    "    # Loop through each index in the dataframe and get X and y\n",
    "    for i in range(len(df_as_np)-window):\n",
    "        # Get values in window and wrap each one in a list\n",
    "        row = df_as_np[i: i+window]\n",
    "        X.append(row)\n",
    "\n",
    "        # Get the label (first value after the window)\n",
    "        label = df_as_np[i + window][-1]\n",
    "        y.append(label)\n",
    "    \n",
    "    return np.array(X), np.array(y)"
   ]
  },
  {
   "cell_type": "code",
   "execution_count": 8,
   "id": "9207b4d7",
   "metadata": {
    "execution": {
     "iopub.execute_input": "2024-06-05T13:04:17.472476Z",
     "iopub.status.busy": "2024-06-05T13:04:17.471977Z",
     "iopub.status.idle": "2024-06-05T13:04:21.142333Z",
     "shell.execute_reply": "2024-06-05T13:04:21.140569Z"
    },
    "papermill": {
     "duration": 3.684002,
     "end_time": "2024-06-05T13:04:21.145837",
     "exception": false,
     "start_time": "2024-06-05T13:04:17.461835",
     "status": "completed"
    },
    "tags": []
   },
   "outputs": [
    {
     "name": "stdout",
     "output_type": "stream",
     "text": [
      "[[[-1.43932383 -0.32687053 -0.21135994 ...  0.01587707  0.06262152\n",
      "    0.        ]\n",
      "  [-1.06906097 -0.34464772 -0.21135994 ...  0.03047779  0.09678764\n",
      "    0.        ]]\n",
      "\n",
      " [[-1.06906097 -0.34464772 -0.21135994 ...  0.03047779  0.09678764\n",
      "    0.        ]\n",
      "  [ 1.64126314 -0.29500516 -0.21135994 ...  0.15824566  0.13778437\n",
      "    0.        ]]\n",
      "\n",
      " [[ 1.64126314 -0.29500516 -0.21135994 ...  0.15824566  0.13778437\n",
      "    0.        ]\n",
      "  [-0.34334577  0.28587356 -0.21135994 ...  0.00492478  0.07628797\n",
      "    0.        ]]\n",
      "\n",
      " ...\n",
      "\n",
      " [[ 0.81187434 -0.36048932 -0.21135994 ...  0.77152081  0.38719505\n",
      "    0.        ]\n",
      "  [ 0.197238   -0.29831467 -0.21135994 ... -0.01332578 -0.0501247\n",
      "    0.        ]]\n",
      "\n",
      " [[ 0.197238   -0.29831467 -0.21135994 ... -0.01332578 -0.0501247\n",
      "    0.        ]\n",
      "  [-0.9431716  -0.34905028 -0.21135994 ...  0.03048058 -0.31661518\n",
      "    1.        ]]\n",
      "\n",
      " [[-0.9431716  -0.34905028 -0.21135994 ...  0.03048058 -0.31661518\n",
      "    1.        ]\n",
      "  [-1.57261846 -0.35644353 -0.21135994 ...  0.12539019 -0.21753279\n",
      "    0.        ]]]\n",
      "[0. 0. 1. ... 1. 0. 0.]\n",
      "(632325, 2, 123)\n",
      "(632325,)\n"
     ]
    }
   ],
   "source": [
    "# Window size - use last n samples to predict next sample\n",
    "window = 2\n",
    "\n",
    "# Convert training data ready for LSTM\n",
    "df = pd.concat([X_train, y_train], axis=1)\n",
    "X, y = prep_data_for_lstm(\n",
    "    df=df,\n",
    "    window=window\n",
    ")\n",
    "print(X)\n",
    "print(y)\n",
    "print(X.shape)\n",
    "print(y.shape)"
   ]
  },
  {
   "cell_type": "code",
   "execution_count": 9,
   "id": "a7f2f8f6",
   "metadata": {
    "execution": {
     "iopub.execute_input": "2024-06-05T13:04:21.165608Z",
     "iopub.status.busy": "2024-06-05T13:04:21.165001Z",
     "iopub.status.idle": "2024-06-05T13:04:21.174659Z",
     "shell.execute_reply": "2024-06-05T13:04:21.173011Z"
    },
    "papermill": {
     "duration": 0.024968,
     "end_time": "2024-06-05T13:04:21.179556",
     "exception": false,
     "start_time": "2024-06-05T13:04:21.154588",
     "status": "completed"
    },
    "tags": []
   },
   "outputs": [
    {
     "name": "stdout",
     "output_type": "stream",
     "text": [
      "(505860, 2, 123) (505860,)\n",
      "(122465, 2, 123) (122465,)\n"
     ]
    }
   ],
   "source": [
    "# Split training data into a training set and validation set with small gap\n",
    "import math\n",
    "split = math.floor(0.8 * X.shape[0])\n",
    "X_train_lstm, y_train_lstm = X[:split], y[:split]\n",
    "X_val_lstm, y_val_lstm = X[split + 4000:], y[split + 4000:]\n",
    "print(X_train_lstm.shape, y_train_lstm.shape)\n",
    "print(X_val_lstm.shape, y_val_lstm.shape)"
   ]
  },
  {
   "cell_type": "markdown",
   "id": "3d43d8c6",
   "metadata": {
    "papermill": {
     "duration": 0.00872,
     "end_time": "2024-06-05T13:04:21.196966",
     "exception": false,
     "start_time": "2024-06-05T13:04:21.188246",
     "status": "completed"
    },
    "tags": []
   },
   "source": [
    "# Fit LSTM\n",
    "An explanation of the model's layers can be seen in the comments in the code."
   ]
  },
  {
   "cell_type": "code",
   "execution_count": 10,
   "id": "9d2c30e0",
   "metadata": {
    "execution": {
     "iopub.execute_input": "2024-06-05T13:04:21.217717Z",
     "iopub.status.busy": "2024-06-05T13:04:21.217240Z",
     "iopub.status.idle": "2024-06-05T13:04:21.229750Z",
     "shell.execute_reply": "2024-06-05T13:04:21.227980Z"
    },
    "papermill": {
     "duration": 0.026924,
     "end_time": "2024-06-05T13:04:21.233195",
     "exception": false,
     "start_time": "2024-06-05T13:04:21.206271",
     "status": "completed"
    },
    "tags": []
   },
   "outputs": [],
   "source": [
    "from keras.models import Sequential\n",
    "from keras.layers import InputLayer, Dense, LSTM\n",
    "from keras.callbacks import ModelCheckpoint, EarlyStopping\n",
    "from keras.metrics import AUC\n",
    "from keras.optimizers import Adam\n",
    "from keras.regularizers import l2"
   ]
  },
  {
   "cell_type": "code",
   "execution_count": 11,
   "id": "3eb2beb5",
   "metadata": {
    "execution": {
     "iopub.execute_input": "2024-06-05T13:04:21.255398Z",
     "iopub.status.busy": "2024-06-05T13:04:21.254601Z",
     "iopub.status.idle": "2024-06-05T13:04:21.470290Z",
     "shell.execute_reply": "2024-06-05T13:04:21.468891Z"
    },
    "papermill": {
     "duration": 0.230158,
     "end_time": "2024-06-05T13:04:21.472999",
     "exception": false,
     "start_time": "2024-06-05T13:04:21.242841",
     "status": "completed"
    },
    "tags": []
   },
   "outputs": [
    {
     "data": {
      "text/html": [
       "<pre style=\"white-space:pre;overflow-x:auto;line-height:normal;font-family:Menlo,'DejaVu Sans Mono',consolas,'Courier New',monospace\"><span style=\"font-weight: bold\">Model: \"sequential\"</span>\n",
       "</pre>\n"
      ],
      "text/plain": [
       "\u001b[1mModel: \"sequential\"\u001b[0m\n"
      ]
     },
     "metadata": {},
     "output_type": "display_data"
    },
    {
     "data": {
      "text/html": [
       "<pre style=\"white-space:pre;overflow-x:auto;line-height:normal;font-family:Menlo,'DejaVu Sans Mono',consolas,'Courier New',monospace\">┏━━━━━━━━━━━━━━━━━━━━━━━━━━━━━━━━━┳━━━━━━━━━━━━━━━━━━━━━━━━┳━━━━━━━━━━━━━━━┓\n",
       "┃<span style=\"font-weight: bold\"> Layer (type)                    </span>┃<span style=\"font-weight: bold\"> Output Shape           </span>┃<span style=\"font-weight: bold\">       Param # </span>┃\n",
       "┡━━━━━━━━━━━━━━━━━━━━━━━━━━━━━━━━━╇━━━━━━━━━━━━━━━━━━━━━━━━╇━━━━━━━━━━━━━━━┩\n",
       "│ lstm (<span style=\"color: #0087ff; text-decoration-color: #0087ff\">LSTM</span>)                     │ (<span style=\"color: #00d7ff; text-decoration-color: #00d7ff\">None</span>, <span style=\"color: #00af00; text-decoration-color: #00af00\">64</span>)             │        <span style=\"color: #00af00; text-decoration-color: #00af00\">48,128</span> │\n",
       "├─────────────────────────────────┼────────────────────────┼───────────────┤\n",
       "│ dense (<span style=\"color: #0087ff; text-decoration-color: #0087ff\">Dense</span>)                   │ (<span style=\"color: #00d7ff; text-decoration-color: #00d7ff\">None</span>, <span style=\"color: #00af00; text-decoration-color: #00af00\">8</span>)              │           <span style=\"color: #00af00; text-decoration-color: #00af00\">520</span> │\n",
       "├─────────────────────────────────┼────────────────────────┼───────────────┤\n",
       "│ dense_1 (<span style=\"color: #0087ff; text-decoration-color: #0087ff\">Dense</span>)                 │ (<span style=\"color: #00d7ff; text-decoration-color: #00d7ff\">None</span>, <span style=\"color: #00af00; text-decoration-color: #00af00\">1</span>)              │             <span style=\"color: #00af00; text-decoration-color: #00af00\">9</span> │\n",
       "└─────────────────────────────────┴────────────────────────┴───────────────┘\n",
       "</pre>\n"
      ],
      "text/plain": [
       "┏━━━━━━━━━━━━━━━━━━━━━━━━━━━━━━━━━┳━━━━━━━━━━━━━━━━━━━━━━━━┳━━━━━━━━━━━━━━━┓\n",
       "┃\u001b[1m \u001b[0m\u001b[1mLayer (type)                   \u001b[0m\u001b[1m \u001b[0m┃\u001b[1m \u001b[0m\u001b[1mOutput Shape          \u001b[0m\u001b[1m \u001b[0m┃\u001b[1m \u001b[0m\u001b[1m      Param #\u001b[0m\u001b[1m \u001b[0m┃\n",
       "┡━━━━━━━━━━━━━━━━━━━━━━━━━━━━━━━━━╇━━━━━━━━━━━━━━━━━━━━━━━━╇━━━━━━━━━━━━━━━┩\n",
       "│ lstm (\u001b[38;5;33mLSTM\u001b[0m)                     │ (\u001b[38;5;45mNone\u001b[0m, \u001b[38;5;34m64\u001b[0m)             │        \u001b[38;5;34m48,128\u001b[0m │\n",
       "├─────────────────────────────────┼────────────────────────┼───────────────┤\n",
       "│ dense (\u001b[38;5;33mDense\u001b[0m)                   │ (\u001b[38;5;45mNone\u001b[0m, \u001b[38;5;34m8\u001b[0m)              │           \u001b[38;5;34m520\u001b[0m │\n",
       "├─────────────────────────────────┼────────────────────────┼───────────────┤\n",
       "│ dense_1 (\u001b[38;5;33mDense\u001b[0m)                 │ (\u001b[38;5;45mNone\u001b[0m, \u001b[38;5;34m1\u001b[0m)              │             \u001b[38;5;34m9\u001b[0m │\n",
       "└─────────────────────────────────┴────────────────────────┴───────────────┘\n"
      ]
     },
     "metadata": {},
     "output_type": "display_data"
    },
    {
     "data": {
      "text/html": [
       "<pre style=\"white-space:pre;overflow-x:auto;line-height:normal;font-family:Menlo,'DejaVu Sans Mono',consolas,'Courier New',monospace\"><span style=\"font-weight: bold\"> Total params: </span><span style=\"color: #00af00; text-decoration-color: #00af00\">48,657</span> (190.07 KB)\n",
       "</pre>\n"
      ],
      "text/plain": [
       "\u001b[1m Total params: \u001b[0m\u001b[38;5;34m48,657\u001b[0m (190.07 KB)\n"
      ]
     },
     "metadata": {},
     "output_type": "display_data"
    },
    {
     "data": {
      "text/html": [
       "<pre style=\"white-space:pre;overflow-x:auto;line-height:normal;font-family:Menlo,'DejaVu Sans Mono',consolas,'Courier New',monospace\"><span style=\"font-weight: bold\"> Trainable params: </span><span style=\"color: #00af00; text-decoration-color: #00af00\">48,657</span> (190.07 KB)\n",
       "</pre>\n"
      ],
      "text/plain": [
       "\u001b[1m Trainable params: \u001b[0m\u001b[38;5;34m48,657\u001b[0m (190.07 KB)\n"
      ]
     },
     "metadata": {},
     "output_type": "display_data"
    },
    {
     "data": {
      "text/html": [
       "<pre style=\"white-space:pre;overflow-x:auto;line-height:normal;font-family:Menlo,'DejaVu Sans Mono',consolas,'Courier New',monospace\"><span style=\"font-weight: bold\"> Non-trainable params: </span><span style=\"color: #00af00; text-decoration-color: #00af00\">0</span> (0.00 B)\n",
       "</pre>\n"
      ],
      "text/plain": [
       "\u001b[1m Non-trainable params: \u001b[0m\u001b[38;5;34m0\u001b[0m (0.00 B)\n"
      ]
     },
     "metadata": {},
     "output_type": "display_data"
    }
   ],
   "source": [
    "# Initialize sequential model in keras. This is a model that expects a linear stack of layers, meaning that each layer has one input tensor and one output tensor. \n",
    "model = Sequential()\n",
    "\n",
    "# Add input layer. Each input tensor will be an element of X_train_lstm so the tensor will have shape (window, n_features)\n",
    "model.add(InputLayer((window, X_train_lstm.shape[2]))) # Window size and number of variables used to predict\n",
    "\n",
    "# Add LSTM layer. This is a recurrent layer that can learn long-term dependencies in sequences.\n",
    "model.add(\n",
    "    LSTM(\n",
    "        units=64,\n",
    "        dropout=0.2, # Randomly set fraction of non-recurrent LSTM units to 0 at each training time step to reduce relianc on units and prevent overfitting\n",
    "        recurrent_dropout=0.2 # Randomly set fraction of recurrent LSTM units to 0 at each training time step to reduce relianc on units and prevent overfitting\n",
    "    )\n",
    ")\n",
    "\n",
    "# Add hidden layer to take LSTM layer output and transform it to a higher-level feayire space.\n",
    "model.add(\n",
    "    Dense(\n",
    "        units=8, \n",
    "        activation='relu',  # relu activation function adds some non-linearity without being computatinally expensive\n",
    "        kernel_regularizer=l2(0.01) # Add l2 regularization on layer to reduce magnitude of weights reducing overfitting\n",
    "    )\n",
    ")\n",
    "\n",
    "# Add output layer with sigmoid activation function to output a value between 0 and 1 interpreted as probability of postiivre class\n",
    "model.add(Dense(1, 'sigmoid'))\n",
    "\n",
    "# Print summary of model\n",
    "model.summary()"
   ]
  },
  {
   "cell_type": "code",
   "execution_count": 12,
   "id": "fd5be65c",
   "metadata": {
    "execution": {
     "iopub.execute_input": "2024-06-05T13:04:21.495587Z",
     "iopub.status.busy": "2024-06-05T13:04:21.495132Z",
     "iopub.status.idle": "2024-06-05T13:04:21.502606Z",
     "shell.execute_reply": "2024-06-05T13:04:21.501238Z"
    },
    "papermill": {
     "duration": 0.022268,
     "end_time": "2024-06-05T13:04:21.505337",
     "exception": false,
     "start_time": "2024-06-05T13:04:21.483069",
     "status": "completed"
    },
    "tags": []
   },
   "outputs": [],
   "source": [
    "# Checpoint for saving model\n",
    "cp1 = ModelCheckpoint(\n",
    "    'lstm_model.keras',\n",
    "    save_best_only=True\n",
    ")\n",
    "\n",
    "# Early stopping rounds checkpint\n",
    "cp2 =  EarlyStopping(monitor='val_loss', patience=5, restore_best_weights=True)"
   ]
  },
  {
   "cell_type": "code",
   "execution_count": 13,
   "id": "83f4e501",
   "metadata": {
    "execution": {
     "iopub.execute_input": "2024-06-05T13:04:21.536413Z",
     "iopub.status.busy": "2024-06-05T13:04:21.534422Z",
     "iopub.status.idle": "2024-06-05T13:04:21.565932Z",
     "shell.execute_reply": "2024-06-05T13:04:21.564564Z"
    },
    "papermill": {
     "duration": 0.052279,
     "end_time": "2024-06-05T13:04:21.570447",
     "exception": false,
     "start_time": "2024-06-05T13:04:21.518168",
     "status": "completed"
    },
    "tags": []
   },
   "outputs": [],
   "source": [
    "# Compile model\n",
    "model.compile(\n",
    "    loss='binary_crossentropy',\n",
    "    optimizer=Adam(learning_rate=0.0001),\n",
    "    metrics=[AUC(name='auc')]\n",
    ")"
   ]
  },
  {
   "cell_type": "code",
   "execution_count": 14,
   "id": "5ee95141",
   "metadata": {
    "execution": {
     "iopub.execute_input": "2024-06-05T13:04:21.597209Z",
     "iopub.status.busy": "2024-06-05T13:04:21.596749Z",
     "iopub.status.idle": "2024-06-05T13:11:26.703193Z",
     "shell.execute_reply": "2024-06-05T13:11:26.701670Z"
    },
    "papermill": {
     "duration": 425.121222,
     "end_time": "2024-06-05T13:11:26.706150",
     "exception": false,
     "start_time": "2024-06-05T13:04:21.584928",
     "status": "completed"
    },
    "tags": []
   },
   "outputs": [
    {
     "name": "stdout",
     "output_type": "stream",
     "text": [
      "Epoch 1/100\n",
      "\u001b[1m15809/15809\u001b[0m \u001b[32m━━━━━━━━━━━━━━━━━━━━\u001b[0m\u001b[37m\u001b[0m \u001b[1m74s\u001b[0m 4ms/step - auc: 0.6048 - loss: 0.7210 - val_auc: 0.5913 - val_loss: 0.6767\n",
      "Epoch 2/100\n",
      "\u001b[1m15809/15809\u001b[0m \u001b[32m━━━━━━━━━━━━━━━━━━━━\u001b[0m\u001b[37m\u001b[0m \u001b[1m69s\u001b[0m 4ms/step - auc: 0.6693 - loss: 0.6503 - val_auc: 0.5719 - val_loss: 0.6834\n",
      "Epoch 3/100\n",
      "\u001b[1m15809/15809\u001b[0m \u001b[32m━━━━━━━━━━━━━━━━━━━━\u001b[0m\u001b[37m\u001b[0m \u001b[1m67s\u001b[0m 4ms/step - auc: 0.6825 - loss: 0.6415 - val_auc: 0.5709 - val_loss: 0.6826\n",
      "Epoch 4/100\n",
      "\u001b[1m15809/15809\u001b[0m \u001b[32m━━━━━━━━━━━━━━━━━━━━\u001b[0m\u001b[37m\u001b[0m \u001b[1m68s\u001b[0m 4ms/step - auc: 0.6904 - loss: 0.6361 - val_auc: 0.5547 - val_loss: 0.6889\n",
      "Epoch 5/100\n",
      "\u001b[1m15809/15809\u001b[0m \u001b[32m━━━━━━━━━━━━━━━━━━━━\u001b[0m\u001b[37m\u001b[0m \u001b[1m71s\u001b[0m 5ms/step - auc: 0.6969 - loss: 0.6315 - val_auc: 0.5602 - val_loss: 0.6886\n",
      "Epoch 6/100\n",
      "\u001b[1m15809/15809\u001b[0m \u001b[32m━━━━━━━━━━━━━━━━━━━━\u001b[0m\u001b[37m\u001b[0m \u001b[1m72s\u001b[0m 5ms/step - auc: 0.6991 - loss: 0.6297 - val_auc: 0.5488 - val_loss: 0.6919\n"
     ]
    },
    {
     "data": {
      "text/plain": [
       "<keras.src.callbacks.history.History at 0x78afb366b700>"
      ]
     },
     "execution_count": 14,
     "metadata": {},
     "output_type": "execute_result"
    }
   ],
   "source": [
    "# Adjust class weights inversely proportional to class frequencies\n",
    "from sklearn.utils import class_weight\n",
    "class_weights = class_weight.compute_class_weight(\n",
    "    class_weight='balanced', \n",
    "    classes=np.unique(y_train_lstm),\n",
    "    y=y_train_lstm\n",
    ")\n",
    "class_weight_dict = dict(enumerate(class_weights))\n",
    "\n",
    "# Fit model by measiromg AUC against validation set.\n",
    "model.fit(\n",
    "    X_train_lstm,\n",
    "    y_train_lstm,\n",
    "    validation_data=(X_val_lstm, y_val_lstm),\n",
    "    epochs=100, # Number of times to run through the data\n",
    "    callbacks=[cp1, cp2], # At end of every epoch, save the model if loss was lower than before. Also EarlyStoppingRounds\n",
    "    class_weight=class_weight_dict # Handle imbalance of classes\n",
    ")"
   ]
  }
 ],
 "metadata": {
  "kaggle": {
   "accelerator": "none",
   "dataSources": [
    {
     "sourceId": 181082692,
     "sourceType": "kernelVersion"
    }
   ],
   "dockerImageVersionId": 30715,
   "isGpuEnabled": false,
   "isInternetEnabled": true,
   "language": "python",
   "sourceType": "notebook"
  },
  "kernelspec": {
   "display_name": "Python 3",
   "language": "python",
   "name": "python3"
  },
  "language_info": {
   "codemirror_mode": {
    "name": "ipython",
    "version": 3
   },
   "file_extension": ".py",
   "mimetype": "text/x-python",
   "name": "python",
   "nbconvert_exporter": "python",
   "pygments_lexer": "ipython3",
   "version": "3.10.13"
  },
  "papermill": {
   "default_parameters": {},
   "duration": 506.850734,
   "end_time": "2024-06-05T13:11:30.227106",
   "environment_variables": {},
   "exception": null,
   "input_path": "__notebook__.ipynb",
   "output_path": "__notebook__.ipynb",
   "parameters": {},
   "start_time": "2024-06-05T13:03:03.376372",
   "version": "2.5.0"
  }
 },
 "nbformat": 4,
 "nbformat_minor": 5
}
