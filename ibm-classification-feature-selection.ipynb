{
 "cells": [
  {
   "cell_type": "markdown",
   "id": "7744dd52",
   "metadata": {
    "papermill": {
     "duration": 0.003558,
     "end_time": "2024-04-07T15:36:31.335363",
     "exception": false,
     "start_time": "2024-04-07T15:36:31.331805",
     "status": "completed"
    },
    "tags": []
   },
   "source": [
    "# Imports"
   ]
  },
  {
   "cell_type": "code",
   "execution_count": 1,
   "id": "6b84a65c",
   "metadata": {
    "_cell_guid": "b1076dfc-b9ad-4769-8c92-a6c4dae69d19",
    "_uuid": "8f2839f25d086af736a60e9eeb907d3b93b6e0e5",
    "execution": {
     "iopub.execute_input": "2024-04-07T15:36:31.344981Z",
     "iopub.status.busy": "2024-04-07T15:36:31.343459Z",
     "iopub.status.idle": "2024-04-07T15:36:32.410221Z",
     "shell.execute_reply": "2024-04-07T15:36:32.408941Z"
    },
    "papermill": {
     "duration": 1.074371,
     "end_time": "2024-04-07T15:36:32.413070",
     "exception": false,
     "start_time": "2024-04-07T15:36:31.338699",
     "status": "completed"
    },
    "tags": []
   },
   "outputs": [],
   "source": [
    "import pandas as pd"
   ]
  },
  {
   "cell_type": "markdown",
   "id": "2cebc4d3",
   "metadata": {
    "papermill": {
     "duration": 0.002816,
     "end_time": "2024-04-07T15:36:32.419204",
     "exception": false,
     "start_time": "2024-04-07T15:36:32.416388",
     "status": "completed"
    },
    "tags": []
   },
   "source": [
    "# Read data"
   ]
  },
  {
   "cell_type": "code",
   "execution_count": 2,
   "id": "e0ea4a66",
   "metadata": {
    "execution": {
     "iopub.execute_input": "2024-04-07T15:36:32.427611Z",
     "iopub.status.busy": "2024-04-07T15:36:32.427007Z",
     "iopub.status.idle": "2024-04-07T15:37:49.000284Z",
     "shell.execute_reply": "2024-04-07T15:37:48.998887Z"
    },
    "papermill": {
     "duration": 76.581668,
     "end_time": "2024-04-07T15:37:49.003934",
     "exception": false,
     "start_time": "2024-04-07T15:36:32.422266",
     "status": "completed"
    },
    "tags": []
   },
   "outputs": [],
   "source": [
    "df = pd.read_csv('/kaggle/input/ibm-classification-feature-engineering/all_data.csv')\n",
    "df.drop('Unnamed: 0', inplace=True, axis=1)"
   ]
  },
  {
   "cell_type": "code",
   "execution_count": 3,
   "id": "804d0a7c",
   "metadata": {
    "execution": {
     "iopub.execute_input": "2024-04-07T15:37:49.014661Z",
     "iopub.status.busy": "2024-04-07T15:37:49.014220Z",
     "iopub.status.idle": "2024-04-07T15:37:49.048633Z",
     "shell.execute_reply": "2024-04-07T15:37:49.047644Z"
    },
    "papermill": {
     "duration": 0.044595,
     "end_time": "2024-04-07T15:37:49.052868",
     "exception": false,
     "start_time": "2024-04-07T15:37:49.008273",
     "status": "completed"
    },
    "tags": []
   },
   "outputs": [
    {
     "data": {
      "text/html": [
       "<div>\n",
       "<style scoped>\n",
       "    .dataframe tbody tr th:only-of-type {\n",
       "        vertical-align: middle;\n",
       "    }\n",
       "\n",
       "    .dataframe tbody tr th {\n",
       "        vertical-align: top;\n",
       "    }\n",
       "\n",
       "    .dataframe thead th {\n",
       "        text-align: right;\n",
       "    }\n",
       "</style>\n",
       "<table border=\"1\" class=\"dataframe\">\n",
       "  <thead>\n",
       "    <tr style=\"text-align: right;\">\n",
       "      <th></th>\n",
       "      <th>Date</th>\n",
       "      <th>Symbol</th>\n",
       "      <th>Adj Close</th>\n",
       "      <th>Close</th>\n",
       "      <th>High</th>\n",
       "      <th>Low</th>\n",
       "      <th>Open</th>\n",
       "      <th>Volume</th>\n",
       "      <th>S&amp;P500</th>\n",
       "      <th>Exchange_BTS</th>\n",
       "      <th>...</th>\n",
       "      <th>9-day Backward Return</th>\n",
       "      <th>11-day Backward Return</th>\n",
       "      <th>13-day Backward Return</th>\n",
       "      <th>15-day Backward Return</th>\n",
       "      <th>17-day Backward Return</th>\n",
       "      <th>19-day Backward Return</th>\n",
       "      <th>21-day Backward Return</th>\n",
       "      <th>23-day Backward Return</th>\n",
       "      <th>25-day Backward Return</th>\n",
       "      <th>3-week Forward Excess Return Sign</th>\n",
       "    </tr>\n",
       "  </thead>\n",
       "  <tbody>\n",
       "    <tr>\n",
       "      <th>0</th>\n",
       "      <td>2014-04-03</td>\n",
       "      <td>190</td>\n",
       "      <td>86.457977</td>\n",
       "      <td>113.829430</td>\n",
       "      <td>114.707359</td>\n",
       "      <td>113.461540</td>\n",
       "      <td>113.896324</td>\n",
       "      <td>3200735.0</td>\n",
       "      <td>NaN</td>\n",
       "      <td>0</td>\n",
       "      <td>...</td>\n",
       "      <td>NaN</td>\n",
       "      <td>NaN</td>\n",
       "      <td>NaN</td>\n",
       "      <td>NaN</td>\n",
       "      <td>NaN</td>\n",
       "      <td>NaN</td>\n",
       "      <td>NaN</td>\n",
       "      <td>NaN</td>\n",
       "      <td>NaN</td>\n",
       "      <td>NaN</td>\n",
       "    </tr>\n",
       "    <tr>\n",
       "      <th>1</th>\n",
       "      <td>2014-04-03</td>\n",
       "      <td>378</td>\n",
       "      <td>58.657177</td>\n",
       "      <td>75.239998</td>\n",
       "      <td>75.339996</td>\n",
       "      <td>74.660004</td>\n",
       "      <td>74.750000</td>\n",
       "      <td>4342400.0</td>\n",
       "      <td>NaN</td>\n",
       "      <td>0</td>\n",
       "      <td>...</td>\n",
       "      <td>NaN</td>\n",
       "      <td>NaN</td>\n",
       "      <td>NaN</td>\n",
       "      <td>NaN</td>\n",
       "      <td>NaN</td>\n",
       "      <td>NaN</td>\n",
       "      <td>NaN</td>\n",
       "      <td>NaN</td>\n",
       "      <td>NaN</td>\n",
       "      <td>NaN</td>\n",
       "    </tr>\n",
       "    <tr>\n",
       "      <th>2</th>\n",
       "      <td>2014-04-03</td>\n",
       "      <td>35</td>\n",
       "      <td>50.121033</td>\n",
       "      <td>53.752499</td>\n",
       "      <td>54.070000</td>\n",
       "      <td>53.345001</td>\n",
       "      <td>53.947498</td>\n",
       "      <td>14210400.0</td>\n",
       "      <td>NaN</td>\n",
       "      <td>0</td>\n",
       "      <td>...</td>\n",
       "      <td>NaN</td>\n",
       "      <td>NaN</td>\n",
       "      <td>NaN</td>\n",
       "      <td>NaN</td>\n",
       "      <td>NaN</td>\n",
       "      <td>NaN</td>\n",
       "      <td>NaN</td>\n",
       "      <td>NaN</td>\n",
       "      <td>NaN</td>\n",
       "      <td>NaN</td>\n",
       "    </tr>\n",
       "    <tr>\n",
       "      <th>3</th>\n",
       "      <td>2014-04-03</td>\n",
       "      <td>455</td>\n",
       "      <td>78.549446</td>\n",
       "      <td>90.980003</td>\n",
       "      <td>91.199997</td>\n",
       "      <td>90.400002</td>\n",
       "      <td>90.669998</td>\n",
       "      <td>2483600.0</td>\n",
       "      <td>NaN</td>\n",
       "      <td>0</td>\n",
       "      <td>...</td>\n",
       "      <td>NaN</td>\n",
       "      <td>NaN</td>\n",
       "      <td>NaN</td>\n",
       "      <td>NaN</td>\n",
       "      <td>NaN</td>\n",
       "      <td>NaN</td>\n",
       "      <td>NaN</td>\n",
       "      <td>NaN</td>\n",
       "      <td>NaN</td>\n",
       "      <td>NaN</td>\n",
       "    </tr>\n",
       "    <tr>\n",
       "      <th>4</th>\n",
       "      <td>2014-04-03</td>\n",
       "      <td>198</td>\n",
       "      <td>34.275074</td>\n",
       "      <td>48.057041</td>\n",
       "      <td>48.146168</td>\n",
       "      <td>47.593582</td>\n",
       "      <td>47.843136</td>\n",
       "      <td>6235739.0</td>\n",
       "      <td>NaN</td>\n",
       "      <td>0</td>\n",
       "      <td>...</td>\n",
       "      <td>NaN</td>\n",
       "      <td>NaN</td>\n",
       "      <td>NaN</td>\n",
       "      <td>NaN</td>\n",
       "      <td>NaN</td>\n",
       "      <td>NaN</td>\n",
       "      <td>NaN</td>\n",
       "      <td>NaN</td>\n",
       "      <td>NaN</td>\n",
       "      <td>NaN</td>\n",
       "    </tr>\n",
       "  </tbody>\n",
       "</table>\n",
       "<p>5 rows × 260 columns</p>\n",
       "</div>"
      ],
      "text/plain": [
       "         Date  Symbol  Adj Close       Close        High         Low  \\\n",
       "0  2014-04-03     190  86.457977  113.829430  114.707359  113.461540   \n",
       "1  2014-04-03     378  58.657177   75.239998   75.339996   74.660004   \n",
       "2  2014-04-03      35  50.121033   53.752499   54.070000   53.345001   \n",
       "3  2014-04-03     455  78.549446   90.980003   91.199997   90.400002   \n",
       "4  2014-04-03     198  34.275074   48.057041   48.146168   47.593582   \n",
       "\n",
       "         Open      Volume  S&P500  Exchange_BTS  ...  9-day Backward Return  \\\n",
       "0  113.896324   3200735.0     NaN             0  ...                    NaN   \n",
       "1   74.750000   4342400.0     NaN             0  ...                    NaN   \n",
       "2   53.947498  14210400.0     NaN             0  ...                    NaN   \n",
       "3   90.669998   2483600.0     NaN             0  ...                    NaN   \n",
       "4   47.843136   6235739.0     NaN             0  ...                    NaN   \n",
       "\n",
       "   11-day Backward Return  13-day Backward Return  15-day Backward Return  \\\n",
       "0                     NaN                     NaN                     NaN   \n",
       "1                     NaN                     NaN                     NaN   \n",
       "2                     NaN                     NaN                     NaN   \n",
       "3                     NaN                     NaN                     NaN   \n",
       "4                     NaN                     NaN                     NaN   \n",
       "\n",
       "   17-day Backward Return  19-day Backward Return  21-day Backward Return  \\\n",
       "0                     NaN                     NaN                     NaN   \n",
       "1                     NaN                     NaN                     NaN   \n",
       "2                     NaN                     NaN                     NaN   \n",
       "3                     NaN                     NaN                     NaN   \n",
       "4                     NaN                     NaN                     NaN   \n",
       "\n",
       "   23-day Backward Return  25-day Backward Return  \\\n",
       "0                     NaN                     NaN   \n",
       "1                     NaN                     NaN   \n",
       "2                     NaN                     NaN   \n",
       "3                     NaN                     NaN   \n",
       "4                     NaN                     NaN   \n",
       "\n",
       "   3-week Forward Excess Return Sign  \n",
       "0                                NaN  \n",
       "1                                NaN  \n",
       "2                                NaN  \n",
       "3                                NaN  \n",
       "4                                NaN  \n",
       "\n",
       "[5 rows x 260 columns]"
      ]
     },
     "execution_count": 3,
     "metadata": {},
     "output_type": "execute_result"
    }
   ],
   "source": [
    "df.head(5)"
   ]
  },
  {
   "cell_type": "code",
   "execution_count": null,
   "id": "71a96e33",
   "metadata": {
    "papermill": {
     "duration": 0.004707,
     "end_time": "2024-04-07T15:37:49.063391",
     "exception": false,
     "start_time": "2024-04-07T15:37:49.058684",
     "status": "completed"
    },
    "tags": []
   },
   "outputs": [],
   "source": []
  }
 ],
 "metadata": {
  "kaggle": {
   "accelerator": "none",
   "dataSources": [
    {
     "sourceId": 170109948,
     "sourceType": "kernelVersion"
    }
   ],
   "dockerImageVersionId": 30673,
   "isGpuEnabled": false,
   "isInternetEnabled": true,
   "language": "python",
   "sourceType": "notebook"
  },
  "kernelspec": {
   "display_name": "Python 3",
   "language": "python",
   "name": "python3"
  },
  "language_info": {
   "codemirror_mode": {
    "name": "ipython",
    "version": 3
   },
   "file_extension": ".py",
   "mimetype": "text/x-python",
   "name": "python",
   "nbconvert_exporter": "python",
   "pygments_lexer": "ipython3",
   "version": "3.10.13"
  },
  "papermill": {
   "default_parameters": {},
   "duration": 81.900689,
   "end_time": "2024-04-07T15:37:49.897168",
   "environment_variables": {},
   "exception": null,
   "input_path": "__notebook__.ipynb",
   "output_path": "__notebook__.ipynb",
   "parameters": {},
   "start_time": "2024-04-07T15:36:27.996479",
   "version": "2.5.0"
  }
 },
 "nbformat": 4,
 "nbformat_minor": 5
}
