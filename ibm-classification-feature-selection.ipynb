{
 "cells": [
  {
   "cell_type": "markdown",
   "id": "88ce4db5",
   "metadata": {
    "papermill": {
     "duration": 0.004713,
     "end_time": "2024-04-07T16:39:53.748699",
     "exception": false,
     "start_time": "2024-04-07T16:39:53.743986",
     "status": "completed"
    },
    "tags": []
   },
   "source": [
    "# Imports"
   ]
  },
  {
   "cell_type": "code",
   "execution_count": 1,
   "id": "86b54089",
   "metadata": {
    "_cell_guid": "b1076dfc-b9ad-4769-8c92-a6c4dae69d19",
    "_uuid": "8f2839f25d086af736a60e9eeb907d3b93b6e0e5",
    "execution": {
     "iopub.execute_input": "2024-04-07T16:39:53.759897Z",
     "iopub.status.busy": "2024-04-07T16:39:53.759005Z",
     "iopub.status.idle": "2024-04-07T16:39:54.637942Z",
     "shell.execute_reply": "2024-04-07T16:39:54.636786Z"
    },
    "papermill": {
     "duration": 0.887751,
     "end_time": "2024-04-07T16:39:54.640899",
     "exception": false,
     "start_time": "2024-04-07T16:39:53.753148",
     "status": "completed"
    },
    "tags": []
   },
   "outputs": [],
   "source": [
    "import pandas as pd"
   ]
  },
  {
   "cell_type": "markdown",
   "id": "e7bd9def",
   "metadata": {
    "papermill": {
     "duration": 0.003986,
     "end_time": "2024-04-07T16:39:54.649290",
     "exception": false,
     "start_time": "2024-04-07T16:39:54.645304",
     "status": "completed"
    },
    "tags": []
   },
   "source": [
    "# Read data"
   ]
  },
  {
   "cell_type": "code",
   "execution_count": 2,
   "id": "8d70a4cf",
   "metadata": {
    "execution": {
     "iopub.execute_input": "2024-04-07T16:39:54.660394Z",
     "iopub.status.busy": "2024-04-07T16:39:54.659124Z",
     "iopub.status.idle": "2024-04-07T16:41:10.986767Z",
     "shell.execute_reply": "2024-04-07T16:41:10.985543Z"
    },
    "papermill": {
     "duration": 76.336075,
     "end_time": "2024-04-07T16:41:10.989515",
     "exception": false,
     "start_time": "2024-04-07T16:39:54.653440",
     "status": "completed"
    },
    "tags": []
   },
   "outputs": [],
   "source": [
    "df = pd.read_csv('/kaggle/input/ibm-classification-feature-engineering/all_data.csv')\n",
    "df.drop('Unnamed: 0', inplace=True, axis=1)"
   ]
  },
  {
   "cell_type": "code",
   "execution_count": 3,
   "id": "bf8a8eec",
   "metadata": {
    "execution": {
     "iopub.execute_input": "2024-04-07T16:41:11.000951Z",
     "iopub.status.busy": "2024-04-07T16:41:10.999909Z",
     "iopub.status.idle": "2024-04-07T16:41:11.036823Z",
     "shell.execute_reply": "2024-04-07T16:41:11.035550Z"
    },
    "papermill": {
     "duration": 0.045529,
     "end_time": "2024-04-07T16:41:11.039595",
     "exception": false,
     "start_time": "2024-04-07T16:41:10.994066",
     "status": "completed"
    },
    "tags": []
   },
   "outputs": [
    {
     "data": {
      "text/html": [
       "<div>\n",
       "<style scoped>\n",
       "    .dataframe tbody tr th:only-of-type {\n",
       "        vertical-align: middle;\n",
       "    }\n",
       "\n",
       "    .dataframe tbody tr th {\n",
       "        vertical-align: top;\n",
       "    }\n",
       "\n",
       "    .dataframe thead th {\n",
       "        text-align: right;\n",
       "    }\n",
       "</style>\n",
       "<table border=\"1\" class=\"dataframe\">\n",
       "  <thead>\n",
       "    <tr style=\"text-align: right;\">\n",
       "      <th></th>\n",
       "      <th>Date</th>\n",
       "      <th>Symbol</th>\n",
       "      <th>Adj Close</th>\n",
       "      <th>Close</th>\n",
       "      <th>High</th>\n",
       "      <th>Low</th>\n",
       "      <th>Open</th>\n",
       "      <th>Volume</th>\n",
       "      <th>S&amp;P500</th>\n",
       "      <th>Exchange_BTS</th>\n",
       "      <th>...</th>\n",
       "      <th>9-day Backward Return</th>\n",
       "      <th>11-day Backward Return</th>\n",
       "      <th>13-day Backward Return</th>\n",
       "      <th>15-day Backward Return</th>\n",
       "      <th>17-day Backward Return</th>\n",
       "      <th>19-day Backward Return</th>\n",
       "      <th>21-day Backward Return</th>\n",
       "      <th>23-day Backward Return</th>\n",
       "      <th>25-day Backward Return</th>\n",
       "      <th>3-week Forward Excess Return Sign</th>\n",
       "    </tr>\n",
       "  </thead>\n",
       "  <tbody>\n",
       "    <tr>\n",
       "      <th>0</th>\n",
       "      <td>1</td>\n",
       "      <td>190</td>\n",
       "      <td>85.352966</td>\n",
       "      <td>112.374580</td>\n",
       "      <td>113.921402</td>\n",
       "      <td>112.366219</td>\n",
       "      <td>113.553513</td>\n",
       "      <td>3357770.0</td>\n",
       "      <td>1845.04</td>\n",
       "      <td>0</td>\n",
       "      <td>...</td>\n",
       "      <td>NaN</td>\n",
       "      <td>NaN</td>\n",
       "      <td>NaN</td>\n",
       "      <td>NaN</td>\n",
       "      <td>NaN</td>\n",
       "      <td>NaN</td>\n",
       "      <td>NaN</td>\n",
       "      <td>NaN</td>\n",
       "      <td>NaN</td>\n",
       "      <td>1.0</td>\n",
       "    </tr>\n",
       "    <tr>\n",
       "      <th>1</th>\n",
       "      <td>1</td>\n",
       "      <td>261</td>\n",
       "      <td>140.460007</td>\n",
       "      <td>140.460007</td>\n",
       "      <td>144.199997</td>\n",
       "      <td>136.009995</td>\n",
       "      <td>141.339996</td>\n",
       "      <td>2618100.0</td>\n",
       "      <td>1845.04</td>\n",
       "      <td>0</td>\n",
       "      <td>...</td>\n",
       "      <td>NaN</td>\n",
       "      <td>NaN</td>\n",
       "      <td>NaN</td>\n",
       "      <td>NaN</td>\n",
       "      <td>NaN</td>\n",
       "      <td>NaN</td>\n",
       "      <td>NaN</td>\n",
       "      <td>NaN</td>\n",
       "      <td>NaN</td>\n",
       "      <td>-1.0</td>\n",
       "    </tr>\n",
       "    <tr>\n",
       "      <th>2</th>\n",
       "      <td>1</td>\n",
       "      <td>297</td>\n",
       "      <td>47.366394</td>\n",
       "      <td>51.546665</td>\n",
       "      <td>52.286667</td>\n",
       "      <td>51.459999</td>\n",
       "      <td>52.099998</td>\n",
       "      <td>961800.0</td>\n",
       "      <td>1845.04</td>\n",
       "      <td>0</td>\n",
       "      <td>...</td>\n",
       "      <td>NaN</td>\n",
       "      <td>NaN</td>\n",
       "      <td>NaN</td>\n",
       "      <td>NaN</td>\n",
       "      <td>NaN</td>\n",
       "      <td>NaN</td>\n",
       "      <td>NaN</td>\n",
       "      <td>NaN</td>\n",
       "      <td>NaN</td>\n",
       "      <td>1.0</td>\n",
       "    </tr>\n",
       "    <tr>\n",
       "      <th>3</th>\n",
       "      <td>1</td>\n",
       "      <td>235</td>\n",
       "      <td>NaN</td>\n",
       "      <td>NaN</td>\n",
       "      <td>NaN</td>\n",
       "      <td>NaN</td>\n",
       "      <td>NaN</td>\n",
       "      <td>NaN</td>\n",
       "      <td>1845.04</td>\n",
       "      <td>0</td>\n",
       "      <td>...</td>\n",
       "      <td>NaN</td>\n",
       "      <td>NaN</td>\n",
       "      <td>NaN</td>\n",
       "      <td>NaN</td>\n",
       "      <td>NaN</td>\n",
       "      <td>NaN</td>\n",
       "      <td>NaN</td>\n",
       "      <td>NaN</td>\n",
       "      <td>NaN</td>\n",
       "      <td>NaN</td>\n",
       "    </tr>\n",
       "    <tr>\n",
       "      <th>4</th>\n",
       "      <td>1</td>\n",
       "      <td>324</td>\n",
       "      <td>33.661797</td>\n",
       "      <td>48.000000</td>\n",
       "      <td>48.750000</td>\n",
       "      <td>47.889999</td>\n",
       "      <td>48.299999</td>\n",
       "      <td>1019600.0</td>\n",
       "      <td>1845.04</td>\n",
       "      <td>0</td>\n",
       "      <td>...</td>\n",
       "      <td>NaN</td>\n",
       "      <td>NaN</td>\n",
       "      <td>NaN</td>\n",
       "      <td>NaN</td>\n",
       "      <td>NaN</td>\n",
       "      <td>NaN</td>\n",
       "      <td>NaN</td>\n",
       "      <td>NaN</td>\n",
       "      <td>NaN</td>\n",
       "      <td>1.0</td>\n",
       "    </tr>\n",
       "  </tbody>\n",
       "</table>\n",
       "<p>5 rows × 260 columns</p>\n",
       "</div>"
      ],
      "text/plain": [
       "   Date  Symbol   Adj Close       Close        High         Low        Open  \\\n",
       "0     1     190   85.352966  112.374580  113.921402  112.366219  113.553513   \n",
       "1     1     261  140.460007  140.460007  144.199997  136.009995  141.339996   \n",
       "2     1     297   47.366394   51.546665   52.286667   51.459999   52.099998   \n",
       "3     1     235         NaN         NaN         NaN         NaN         NaN   \n",
       "4     1     324   33.661797   48.000000   48.750000   47.889999   48.299999   \n",
       "\n",
       "      Volume   S&P500  Exchange_BTS  ...  9-day Backward Return  \\\n",
       "0  3357770.0  1845.04             0  ...                    NaN   \n",
       "1  2618100.0  1845.04             0  ...                    NaN   \n",
       "2   961800.0  1845.04             0  ...                    NaN   \n",
       "3        NaN  1845.04             0  ...                    NaN   \n",
       "4  1019600.0  1845.04             0  ...                    NaN   \n",
       "\n",
       "   11-day Backward Return  13-day Backward Return  15-day Backward Return  \\\n",
       "0                     NaN                     NaN                     NaN   \n",
       "1                     NaN                     NaN                     NaN   \n",
       "2                     NaN                     NaN                     NaN   \n",
       "3                     NaN                     NaN                     NaN   \n",
       "4                     NaN                     NaN                     NaN   \n",
       "\n",
       "   17-day Backward Return  19-day Backward Return  21-day Backward Return  \\\n",
       "0                     NaN                     NaN                     NaN   \n",
       "1                     NaN                     NaN                     NaN   \n",
       "2                     NaN                     NaN                     NaN   \n",
       "3                     NaN                     NaN                     NaN   \n",
       "4                     NaN                     NaN                     NaN   \n",
       "\n",
       "   23-day Backward Return  25-day Backward Return  \\\n",
       "0                     NaN                     NaN   \n",
       "1                     NaN                     NaN   \n",
       "2                     NaN                     NaN   \n",
       "3                     NaN                     NaN   \n",
       "4                     NaN                     NaN   \n",
       "\n",
       "   3-week Forward Excess Return Sign  \n",
       "0                                1.0  \n",
       "1                               -1.0  \n",
       "2                                1.0  \n",
       "3                                NaN  \n",
       "4                                1.0  \n",
       "\n",
       "[5 rows x 260 columns]"
      ]
     },
     "execution_count": 3,
     "metadata": {},
     "output_type": "execute_result"
    }
   ],
   "source": [
    "df.head(5)"
   ]
  },
  {
   "cell_type": "markdown",
   "id": "64e3bcd6",
   "metadata": {
    "papermill": {
     "duration": 0.004556,
     "end_time": "2024-04-07T16:41:11.048985",
     "exception": false,
     "start_time": "2024-04-07T16:41:11.044429",
     "status": "completed"
    },
    "tags": []
   },
   "source": [
    "# Feature Selection"
   ]
  },
  {
   "cell_type": "markdown",
   "id": "0e654c95",
   "metadata": {
    "papermill": {
     "duration": 0.004518,
     "end_time": "2024-04-07T16:41:11.058270",
     "exception": false,
     "start_time": "2024-04-07T16:41:11.053752",
     "status": "completed"
    },
    "tags": []
   },
   "source": [
    "Throughout this notebook, we use this article on feature selection to help out https://www.kaggle.com/code/prashant111/comprehensive-guide-on-feature-selection"
   ]
  },
  {
   "cell_type": "markdown",
   "id": "6372a12b",
   "metadata": {
    "papermill": {
     "duration": 0.004486,
     "end_time": "2024-04-07T16:41:11.067663",
     "exception": false,
     "start_time": "2024-04-07T16:41:11.063177",
     "status": "completed"
    },
    "tags": []
   },
   "source": [
    "## Filter Methods"
   ]
  },
  {
   "cell_type": "markdown",
   "id": "df0f0ba2",
   "metadata": {
    "papermill": {
     "duration": 0.004487,
     "end_time": "2024-04-07T16:41:11.076889",
     "exception": false,
     "start_time": "2024-04-07T16:41:11.072402",
     "status": "completed"
    },
    "tags": []
   },
   "source": [
    "Filter methods are generally used as a preprocessing step. The selection of features is independent of any machine learning algorithms. Instead, features are selected on the basis of their scores in various statistical tests for their correlation with the outcome variable. For classification problems like this one, correlation-based filter methods tend to yield the best results and are less computationally expensive than training a model and doing some sort of recursive feature selection."
   ]
  },
  {
   "cell_type": "markdown",
   "id": "f5929280",
   "metadata": {
    "papermill": {
     "duration": 0.004436,
     "end_time": "2024-04-07T16:41:11.086081",
     "exception": false,
     "start_time": "2024-04-07T16:41:11.081645",
     "status": "completed"
    },
    "tags": []
   },
   "source": [
    "### Remove Constant Features"
   ]
  },
  {
   "cell_type": "markdown",
   "id": "6a49e129",
   "metadata": {
    "papermill": {
     "duration": 0.004902,
     "end_time": "2024-04-07T16:41:11.095849",
     "exception": false,
     "start_time": "2024-04-07T16:41:11.090947",
     "status": "completed"
    },
    "tags": []
   },
   "source": [
    "### Remove highly correlated features using correlation matrix"
   ]
  },
  {
   "cell_type": "markdown",
   "id": "f99a5328",
   "metadata": {
    "papermill": {
     "duration": 0.004463,
     "end_time": "2024-04-07T16:41:11.105154",
     "exception": false,
     "start_time": "2024-04-07T16:41:11.100691",
     "status": "completed"
    },
    "tags": []
   },
   "source": [
    "### ANOVA F-value"
   ]
  },
  {
   "cell_type": "code",
   "execution_count": null,
   "id": "0fa297b9",
   "metadata": {
    "papermill": {
     "duration": 0.004363,
     "end_time": "2024-04-07T16:41:11.114240",
     "exception": false,
     "start_time": "2024-04-07T16:41:11.109877",
     "status": "completed"
    },
    "tags": []
   },
   "outputs": [],
   "source": []
  }
 ],
 "metadata": {
  "kaggle": {
   "accelerator": "none",
   "dataSources": [
    {
     "sourceId": 170835231,
     "sourceType": "kernelVersion"
    }
   ],
   "dockerImageVersionId": 30673,
   "isGpuEnabled": false,
   "isInternetEnabled": true,
   "language": "python",
   "sourceType": "notebook"
  },
  "kernelspec": {
   "display_name": "Python 3",
   "language": "python",
   "name": "python3"
  },
  "language_info": {
   "codemirror_mode": {
    "name": "ipython",
    "version": 3
   },
   "file_extension": ".py",
   "mimetype": "text/x-python",
   "name": "python",
   "nbconvert_exporter": "python",
   "pygments_lexer": "ipython3",
   "version": "3.10.13"
  },
  "papermill": {
   "default_parameters": {},
   "duration": 81.518551,
   "end_time": "2024-04-07T16:41:11.840597",
   "environment_variables": {},
   "exception": null,
   "input_path": "__notebook__.ipynb",
   "output_path": "__notebook__.ipynb",
   "parameters": {},
   "start_time": "2024-04-07T16:39:50.322046",
   "version": "2.5.0"
  }
 },
 "nbformat": 4,
 "nbformat_minor": 5
}
